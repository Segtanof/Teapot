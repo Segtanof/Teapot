{
 "cells": [
  {
   "cell_type": "code",
   "execution_count": 2,
   "metadata": {},
   "outputs": [],
   "source": [
    "import pandas as pd\n",
    "import numpy as np\n",
    "import matplotlib.pyplot as plt\n",
    "import os\n",
    "from datetime import datetime\n",
    "import json"
   ]
  },
  {
   "cell_type": "code",
   "execution_count": 33,
   "metadata": {},
   "outputs": [],
   "source": [
    "#load previous result\n",
    "folder_name = \"results/job_match_0303_1550\"\n",
    "\n",
    "with open(folder_name + '/test_dict.json') as f:\n",
    "    test_dict = json.load(f)\n",
    "\n",
    "#get related occupation, filtered by primary-short (most relevant)\n",
    "related = pd.read_excel('datasets/related_occupations.xlsx').astype(str)\n",
    "related.columns = related.columns.str.lower().str.replace(\" \",\"_\").str.replace(\"o*net-soc_\", \"\")\n",
    "related = related[related[\"relatedness_tier\"] == \"Primary-Short\"]\n",
    "\n",
    "\n",
    "def get_result(code):\n",
    "    with open(folder_name + '/' + code + '.json') as f:\n",
    "        career = pd.read_json(f)\n",
    "\n",
    "    return career\n",
    "\n",
    "#match suggested career to the related career\n",
    "def match(code, career):\n",
    "    #check if direct match\n",
    "    career = career[career[\"fit\"] == \"Best\"]\n",
    "    if len(career[career[\"code\"] == code]) == 1: #direct match\n",
    "        return 1\n",
    "    else: #check related match\n",
    "        related_oc = related[related[\"code\"] == code].drop(labels=[\"code\", \"title\", \"relatedness_tier\", \"index\"], axis=1)\n",
    "        related_oc.columns = related_oc.columns.str.replace(\"related_\", \"\")\n",
    "        merged_df = related_oc.merge(right=career, on=\"code\")\n",
    "        related_match = len(merged_df) / 5\n",
    "        return related_match"
   ]
  },
  {
   "cell_type": "code",
   "execution_count": 34,
   "metadata": {},
   "outputs": [
    {
     "data": {
      "text/plain": [
       "0.44000000000000006"
      ]
     },
     "execution_count": 34,
     "metadata": {},
     "output_type": "execute_result"
    }
   ],
   "source": [
    "score = 0\n",
    "for code in test_dict.values():\n",
    "    score += match(code, get_result(code))\n",
    "score / len(test_dict)"
   ]
  }
 ],
 "metadata": {
  "kernelspec": {
   "display_name": "Python 3",
   "language": "python",
   "name": "python3"
  },
  "language_info": {
   "codemirror_mode": {
    "name": "ipython",
    "version": 3
   },
   "file_extension": ".py",
   "mimetype": "text/x-python",
   "name": "python",
   "nbconvert_exporter": "python",
   "pygments_lexer": "ipython3",
   "version": "3.12.4"
  }
 },
 "nbformat": 4,
 "nbformat_minor": 2
}
