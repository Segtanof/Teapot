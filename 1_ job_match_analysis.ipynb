{
 "cells": [
  {
   "cell_type": "code",
   "execution_count": 31,
   "metadata": {},
   "outputs": [],
   "source": [
    "import pandas as pd\n",
    "import numpy as np\n",
    "import matplotlib.pyplot as plt\n",
    "import os\n",
    "from datetime import datetime\n",
    "import json\n",
    "import seaborn as sns"
   ]
  },
  {
   "cell_type": "code",
   "execution_count": 2,
   "metadata": {},
   "outputs": [],
   "source": [
    "#load previous result\n",
    "folder_name = \"results/job_match_0303_1550\"\n",
    "\n",
    "with open(folder_name + '/test_dict.json') as f:\n",
    "    test_dict = json.load(f)\n",
    "\n",
    "#get related occupation, filtered by primary-short (most relevant)\n",
    "related = pd.read_excel('datasets/related_occupations.xlsx').astype(str)\n",
    "related.columns = related.columns.str.lower().str.replace(\" \",\"_\").str.replace(\"o*net-soc_\", \"\")\n",
    "related = related[related[\"relatedness_tier\"] == \"Primary-Short\"]\n",
    "\n",
    "\n",
    "def get_result(code):\n",
    "    with open(folder_name + '/' + code + '.json') as f:\n",
    "        career = pd.read_json(f)\n",
    "\n",
    "    return career\n",
    "\n",
    "#match suggested career to the related career\n",
    "def match(code, career):\n",
    "    #check if direct match\n",
    "    career = career[career[\"fit\"] == \"Best\"]\n",
    "    if len(career[career[\"code\"] == code]) == 1: #direct match\n",
    "        return 1\n",
    "    else: #check related match\n",
    "        related_oc = related[related[\"code\"] == code].drop(labels=[\"code\", \"title\", \"relatedness_tier\", \"index\"], axis=1)\n",
    "        related_oc.columns = related_oc.columns.str.replace(\"related_\", \"\")\n",
    "        merged_df = related_oc.merge(right=career, on=\"code\")\n",
    "        related_match = len(merged_df) / 5\n",
    "        return related_match"
   ]
  },
  {
   "cell_type": "code",
   "execution_count": 75,
   "metadata": {},
   "outputs": [
    {
     "data": {
      "text/html": [
       "<div>\n",
       "<style scoped>\n",
       "    .dataframe tbody tr th:only-of-type {\n",
       "        vertical-align: middle;\n",
       "    }\n",
       "\n",
       "    .dataframe tbody tr th {\n",
       "        vertical-align: top;\n",
       "    }\n",
       "\n",
       "    .dataframe thead th {\n",
       "        text-align: right;\n",
       "    }\n",
       "</style>\n",
       "<table border=\"1\" class=\"dataframe\">\n",
       "  <thead>\n",
       "    <tr style=\"text-align: right;\">\n",
       "      <th></th>\n",
       "      <th>code</th>\n",
       "      <th>title</th>\n",
       "      <th>description</th>\n",
       "      <th>ind</th>\n",
       "    </tr>\n",
       "  </thead>\n",
       "  <tbody>\n",
       "    <tr>\n",
       "      <th>0</th>\n",
       "      <td>33-1012.00</td>\n",
       "      <td>First-Line Supervisors of Police and Detectives</td>\n",
       "      <td>Directly supervise and coordinate activities o...</td>\n",
       "      <td>33</td>\n",
       "    </tr>\n",
       "    <tr>\n",
       "      <th>1</th>\n",
       "      <td>29-2011.02</td>\n",
       "      <td>Cytotechnologists</td>\n",
       "      <td>Stain, mount, and study cells to detect eviden...</td>\n",
       "      <td>29</td>\n",
       "    </tr>\n",
       "    <tr>\n",
       "      <th>2</th>\n",
       "      <td>51-3021.00</td>\n",
       "      <td>Butchers and Meat Cutters</td>\n",
       "      <td>Cut, trim, or prepare consumer-sized portions ...</td>\n",
       "      <td>51</td>\n",
       "    </tr>\n",
       "    <tr>\n",
       "      <th>3</th>\n",
       "      <td>47-4021.00</td>\n",
       "      <td>Elevator and Escalator Installers and Repairers</td>\n",
       "      <td>Assemble, install, repair, or maintain electri...</td>\n",
       "      <td>47</td>\n",
       "    </tr>\n",
       "    <tr>\n",
       "      <th>4</th>\n",
       "      <td>11-9161.00</td>\n",
       "      <td>Emergency Management Directors</td>\n",
       "      <td>Plan and direct disaster response or crisis ma...</td>\n",
       "      <td>11</td>\n",
       "    </tr>\n",
       "  </tbody>\n",
       "</table>\n",
       "</div>"
      ],
      "text/plain": [
       "         code                                            title  \\\n",
       "0  33-1012.00  First-Line Supervisors of Police and Detectives   \n",
       "1  29-2011.02                                Cytotechnologists   \n",
       "2  51-3021.00                        Butchers and Meat Cutters   \n",
       "3  47-4021.00  Elevator and Escalator Installers and Repairers   \n",
       "4  11-9161.00                   Emergency Management Directors   \n",
       "\n",
       "                                         description  ind  \n",
       "0  Directly supervise and coordinate activities o...   33  \n",
       "1  Stain, mount, and study cells to detect eviden...   29  \n",
       "2  Cut, trim, or prepare consumer-sized portions ...   51  \n",
       "3  Assemble, install, repair, or maintain electri...   47  \n",
       "4  Plan and direct disaster response or crisis ma...   11  "
      ]
     },
     "execution_count": 75,
     "metadata": {},
     "output_type": "execute_result"
    }
   ],
   "source": [
    "#load the test samples to df\n",
    "test = pd.read_json('results/job_match_0503_1058/test_sample.json')\n",
    "test"
   ]
  },
  {
   "cell_type": "code",
   "execution_count": 76,
   "metadata": {},
   "outputs": [
    {
     "data": {
      "text/html": [
       "<div>\n",
       "<style scoped>\n",
       "    .dataframe tbody tr th:only-of-type {\n",
       "        vertical-align: middle;\n",
       "    }\n",
       "\n",
       "    .dataframe tbody tr th {\n",
       "        vertical-align: top;\n",
       "    }\n",
       "\n",
       "    .dataframe thead th {\n",
       "        text-align: right;\n",
       "    }\n",
       "</style>\n",
       "<table border=\"1\" class=\"dataframe\">\n",
       "  <thead>\n",
       "    <tr style=\"text-align: right;\">\n",
       "      <th></th>\n",
       "      <th>code</th>\n",
       "      <th>title_x</th>\n",
       "      <th>description</th>\n",
       "      <th>ind</th>\n",
       "      <th>zone</th>\n",
       "      <th>match</th>\n",
       "    </tr>\n",
       "  </thead>\n",
       "  <tbody>\n",
       "    <tr>\n",
       "      <th>0</th>\n",
       "      <td>33-1012.00</td>\n",
       "      <td>First-Line Supervisors of Police and Detectives</td>\n",
       "      <td>Directly supervise and coordinate activities o...</td>\n",
       "      <td>33</td>\n",
       "      <td>2</td>\n",
       "      <td>0.2</td>\n",
       "    </tr>\n",
       "    <tr>\n",
       "      <th>1</th>\n",
       "      <td>29-2011.02</td>\n",
       "      <td>Cytotechnologists</td>\n",
       "      <td>Stain, mount, and study cells to detect eviden...</td>\n",
       "      <td>29</td>\n",
       "      <td>5</td>\n",
       "      <td>1.0</td>\n",
       "    </tr>\n",
       "    <tr>\n",
       "      <th>2</th>\n",
       "      <td>51-3021.00</td>\n",
       "      <td>Butchers and Meat Cutters</td>\n",
       "      <td>Cut, trim, or prepare consumer-sized portions ...</td>\n",
       "      <td>51</td>\n",
       "      <td>2</td>\n",
       "      <td>0.0</td>\n",
       "    </tr>\n",
       "    <tr>\n",
       "      <th>3</th>\n",
       "      <td>47-4021.00</td>\n",
       "      <td>Elevator and Escalator Installers and Repairers</td>\n",
       "      <td>Assemble, install, repair, or maintain electri...</td>\n",
       "      <td>47</td>\n",
       "      <td>3</td>\n",
       "      <td>1.0</td>\n",
       "    </tr>\n",
       "    <tr>\n",
       "      <th>4</th>\n",
       "      <td>11-9161.00</td>\n",
       "      <td>Emergency Management Directors</td>\n",
       "      <td>Plan and direct disaster response or crisis ma...</td>\n",
       "      <td>11</td>\n",
       "      <td>4</td>\n",
       "      <td>0.0</td>\n",
       "    </tr>\n",
       "  </tbody>\n",
       "</table>\n",
       "</div>"
      ],
      "text/plain": [
       "         code                                          title_x  \\\n",
       "0  33-1012.00  First-Line Supervisors of Police and Detectives   \n",
       "1  29-2011.02                                Cytotechnologists   \n",
       "2  51-3021.00                        Butchers and Meat Cutters   \n",
       "3  47-4021.00  Elevator and Escalator Installers and Repairers   \n",
       "4  11-9161.00                   Emergency Management Directors   \n",
       "\n",
       "                                         description  ind  zone  match  \n",
       "0  Directly supervise and coordinate activities o...   33     2    0.2  \n",
       "1  Stain, mount, and study cells to detect eviden...   29     5    1.0  \n",
       "2  Cut, trim, or prepare consumer-sized portions ...   51     2    0.0  \n",
       "3  Assemble, install, repair, or maintain electri...   47     3    1.0  \n",
       "4  Plan and direct disaster response or crisis ma...   11     4    0.0  "
      ]
     },
     "execution_count": 76,
     "metadata": {},
     "output_type": "execute_result"
    }
   ],
   "source": [
    "#get jobzone df\n",
    "jz = pd.read_excel('datasets/job_zone.xlsx')\n",
    "jz.columns = jz.columns.str.lower().str.replace(\" \",\"_\")\n",
    "jz = jz.drop(labels=['date', 'domain_source'], axis=1)   \n",
    "jz = jz.rename(columns={'o*net-soc_code':'code', 'job_zone':'zone'})\n",
    "\n",
    "#merge with test, only keep the zone column, drop the rest\n",
    "test = test.merge(right=jz, on='code')\n",
    "test = test.drop(labels=['title_y'], axis=1)\n",
    "test\n",
    "\n",
    "#use apply to calculate the match score\n",
    "test['match'] = test['code'].apply(lambda x: match(x, get_result(x)))\n",
    "test"
   ]
  },
  {
   "cell_type": "code",
   "execution_count": 79,
   "metadata": {},
   "outputs": [
    {
     "data": {
      "image/png": "[encoded data removed]",
      "text/plain": [
       "<Figure size 640x480 with 1 Axes>"
      ]
     },
     "metadata": {},
     "output_type": "display_data"
    }
   ],
   "source": [
    "#plot the match score by job zone\n",
    "sns.boxplot(x='zone', y='match', data=test)\n",
    "#add a constant line for the average match score\n",
    "plt.axhline(y=score / len(test_dict), color='r', linestyle='-')\n",
    "#add title\n",
    "plt.title('Match score by job zone')\n",
    "plt.show()"
   ]
  },
  {
   "cell_type": "code",
   "execution_count": 81,
   "metadata": {},
   "outputs": [
    {
     "data": {
      "image/png": "[encoded data removed]",
      "text/plain": [
       "<Figure size 640x480 with 1 Axes>"
      ]
     },
     "metadata": {},
     "output_type": "display_data"
    }
   ],
   "source": [
    "#plot the match score by ind\n",
    "sns.boxplot(x='ind', y='match', data=test)\n",
    "plt.axhline(y=score / len(test_dict), color='r', linestyle='-')\n",
    "plt.title('Match score by industry')\n",
    "plt.show()"
   ]
  }
 ],
 "metadata": {
  "kernelspec": {
   "display_name": "Python 3",
   "language": "python",
   "name": "python3"
  },
  "language_info": {
   "codemirror_mode": {
    "name": "ipython",
    "version": 3
   },
   "file_extension": ".py",
   "mimetype": "text/x-python",
   "name": "python",
   "nbconvert_exporter": "python",
   "pygments_lexer": "ipython3",
   "version": "3.12.4"
  }
 },
 "nbformat": 4,
 "nbformat_minor": 2
}
