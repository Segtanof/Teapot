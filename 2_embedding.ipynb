#use ThreadPoolExecutor to batch prcess embeddings
from concurrent.futures import ThreadPoolExecutor
import numpy as np
import pandas as pd
from sentence_transformers import SentenceTransformer
from tqdm import tqdm
import time

# %%
