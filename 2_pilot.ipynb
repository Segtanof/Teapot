{
 "cells": [
  {
   "cell_type": "code",
   "execution_count": 4,
   "metadata": {},
   "outputs": [
    {
     "name": "stdout",
     "output_type": "stream",
     "text": [
      "No Prompt: [0.54967142 0.48617357 0.56476885 0.65230299 0.47658466]\n",
      "Prompt 1: [0.5765863  0.75792128 0.67674347 0.55305256 0.654256  ]\n",
      "Prompt 2: [0.65365823 0.65342702 0.72419623 0.50867198 0.52750822]\n",
      "Prompt 3: [0.69377125 0.64871689 0.78142473 0.65919759 0.60876963]\n"
     ]
    }
   ],
   "source": [
    "import numpy as np\n",
    "from statsmodels.stats.power import FTestAnovaPower\n",
    "\n",
    "np.random.seed(42)  # For reproducibility\n",
    "n_runs = 5\n",
    "sd = 0.1\n",
    "\n",
    "no_prompt = np.random.normal(loc=0.5, scale=sd, size=n_runs).clip(0, 1)\n",
    "prompt1 = np.random.normal(loc=0.6, scale=sd, size=n_runs).clip(0, 1)\n",
    "prompt2 = np.random.normal(loc=0.7, scale=sd, size=n_runs).clip(0, 1)\n",
    "prompt3 = np.random.normal(loc=0.75, scale=sd, size=n_runs).clip(0, 1)\n",
    "\n",
    "print(\"No Prompt:\", no_prompt)\n",
    "print(\"Prompt 1:\", prompt1)\n",
    "print(\"Prompt 2:\", prompt2)\n",
    "print(\"Prompt 3:\", prompt3)"
   ]
  },
  {
   "cell_type": "code",
   "execution_count": 10,
   "metadata": {},
   "outputs": [
    {
     "name": "stdout",
     "output_type": "stream",
     "text": [
      "Means: [0.5459002974325087, 0.6437119249072426, 0.6134923349602497, 0.6783760181232674]\n",
      "SDs: [0.07082322188687894, 0.08211426041162091, 0.09198370331800733, 0.06509334847919003]\n",
      "Effect size (f): 0.312\n",
      "Runs per prompt (pooled): 116\n"
     ]
    }
   ],
   "source": [
    "# Calculate means and SD\n",
    "data = [no_prompt, prompt1, prompt2, prompt3]\n",
    "means = [np.mean(group) for group in data]\n",
    "sds = [np.std(group, ddof=1) for group in data]\n",
    "\n",
    "print(\"Means:\", means)\n",
    "print(\"SDs:\", sds)\n",
    "\n",
    "# Effect size (f)\n",
    "grand_mean = np.mean(means)\n",
    "pooled_sd = np.sqrt(np.mean([sd**2 for sd in sds]))\n",
    "f = np.sqrt(np.mean([(m - grand_mean)**2 for m in means]) / len(means)) / pooled_sd # Cohen’s f\n",
    "print(f\"Effect size (f): {f:.3f}\")  # e.g., 6.25 (huge due to low SD)\n",
    "\n",
    "# Power analysis\n",
    "sample_size = FTestAnovaPower().solve_power(effect_size=f, alpha=0.05, power=0.8, k_groups=4)\n",
    "print(f\"Runs per prompt (pooled): {sample_size:.0f}\")\n"
   ]
  }
 ],
 "metadata": {
  "kernelspec": {
   "display_name": "Python 3",
   "language": "python",
   "name": "python3"
  },
  "language_info": {
   "codemirror_mode": {
    "name": "ipython",
    "version": 3
   },
   "file_extension": ".py",
   "mimetype": "text/x-python",
   "name": "python",
   "nbconvert_exporter": "python",
   "pygments_lexer": "ipython3",
   "version": "3.12.4"
  }
 },
 "nbformat": 4,
 "nbformat_minor": 2
}
