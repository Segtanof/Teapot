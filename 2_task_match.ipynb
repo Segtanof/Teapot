{
 "cells": [
  {
   "cell_type": "code",
   "execution_count": 3,
   "metadata": {},
   "outputs": [],
   "source": [
    "#for loading data\n",
    "import pandas as pd\n",
    "import json\n",
    "\n",
    "#for llm\n",
    "from langchain_ollama import ChatOllama\n",
    "from langchain_core.prompts import ChatPromptTemplate\n",
    "from pydantic import BaseModel\n",
    "\n",
    "#similarity\n",
    "import regex as re\n",
    "from sentence_transformers import SentenceTransformer\n",
    "from scipy.optimize import linear_sum_assignment\n",
    "\n",
    "#visualization\n",
    "#plot matrix\n",
    "import numpy as np\n",
    "import matplotlib.pyplot as plt\n",
    "import seaborn as sns"
   ]
  },
  {
   "cell_type": "markdown",
   "metadata": {},
   "source": [
    "### Preprocess data and sampling"
   ]
  },
  {
   "cell_type": "code",
   "execution_count": 5,
   "metadata": {},
   "outputs": [],
   "source": [
    "job_statements = pd.read_excel(\"datasets/task_statements.xlsx\")\n",
    "job_statements.columns = job_statements.columns.str.lower()\n",
    "job_statements = job_statements.drop(labels=[\"incumbents responding\",\"date\",\"domain source\"], axis=1).rename(columns={\"o*net-soc code\":\"code\", \"task type\":\"type\", \"task id\": \"id\", \"task\":\"ref_task\"})\n",
    "job_statements = job_statements[~job_statements[\"type\"].str.contains(\"Supplemental\", case=False, na=True)]\n",
    "job_statements[\"ind\"] = job_statements[\"code\"].str[:2]\n",
    "job_statements = job_statements.groupby(\"title\").agg({\"ref_task\":list, \"ind\": \"first\"}).reset_index().sort_values(\"ind\")\n",
    "sampled_occupation = job_statements.groupby('ind', group_keys=False).sample(frac=0.05, random_state=1) #43 samples\n"
   ]
  },
  {
   "cell_type": "markdown",
   "metadata": {},
   "source": [
    "### or we filter by occupations with core tasks only"
   ]
  },
  {
   "cell_type": "code",
   "execution_count": null,
   "metadata": {},
   "outputs": [],
   "source": [
    "#load dataset task statement file\n",
    "ts = pd.read_excel('datasets/task_statements.xlsx')\n",
    "ts.columns = ts.columns.str.lower().str.replace(\" \",\"_\")\n",
    "ts = ts.drop(labels=['date', 'domain_source', 'incumbents_responding'], axis=1)\n",
    "ts = ts.rename(columns={'o*net-soc_code':'code', 'task':'statement'})\n",
    "print(ts[\"code\"].nunique())\n",
    "#filter out task_type is empty\n",
    "cts = ts[ts[\"task_type\"].notnull()]\n",
    "\n",
    "#filter out supplemental task in tasktype\n",
    "cts = cts[cts[\"task_type\"] != \"Supplemental\"]\n",
    "cts[\"code\"].nunique()\n"
   ]
  },
  {
   "cell_type": "code",
   "execution_count": 23,
   "metadata": {},
   "outputs": [
    {
     "data": {
      "text/plain": [
       "['Customs Brokers',\n",
       " 'Training and Development Managers',\n",
       " 'Cooks, Institution and Cafeteria',\n",
       " 'Painting, Coating, and Decorating Workers',\n",
       " 'Graphic Designers']"
      ]
     },
     "execution_count": 23,
     "metadata": {},
     "output_type": "execute_result"
    }
   ],
   "source": [
    "#for trial\n",
    "trial_df = sampled_occupation.sample(5, random_state= 1)\n",
    "test_sample_list =[trial_df.iloc[x][\"title\"] for x in range(5)]\n",
    "test_sample_list"
   ]
  },
  {
   "cell_type": "markdown",
   "metadata": {},
   "source": [
    "### Set up functions"
   ]
  },
  {
   "cell_type": "code",
   "execution_count": 6,
   "metadata": {},
   "outputs": [],
   "source": [
    "#get reference description\n",
    "def get_des (title):\n",
    "    task_list = sampled_occupation.query(\"title == @title\")[\"ref_task\"].iloc[0]\n",
    "    return task_list"
   ]
  },
  {
   "cell_type": "code",
   "execution_count": null,
   "metadata": {},
   "outputs": [],
   "source": [
    "def task_gen(title,model, system = None, structure = False):\n",
    "    class occupation(BaseModel):\n",
    "        occupation: str\n",
    "        tasks: list[str]\n",
    "\n",
    "    #initialize model\n",
    "\n",
    "    query = \"Generate \"+str(len(get_des(title)))+\" task statements that \"+ title +\" would perform at work.\"\n",
    "\n",
    "    if system == None:\n",
    "        prompt_template = ChatPromptTemplate([\n",
    "            (\"human\",\"{input}\")\n",
    "            ]\n",
    "        )\n",
    "    else:\n",
    "        prompt_template = ChatPromptTemplate([\n",
    "            (\"system\", system),\n",
    "            (\"human\",\"{input}\")\n",
    "            ]\n",
    "        )\n",
    "\n",
    "    if structure == False:\n",
    "        llm = model\n",
    "\n",
    "    if structure == True:\n",
    "        llm = model.with_structured_output(schema=occupation, method=\"json_schema\")\n",
    "\n",
    "    prompt = prompt_template.invoke({\"input\": query, \"title\": title})\n",
    "    # keep running until the number of parsed tasks is equal to the number of reference tasks\n",
    "    while True:\n",
    "        response = llm.invoke(prompt)\n",
    "        #parse response\n",
    "        try:\n",
    "            parsed = json.loads(response[\"tasks\"])\n",
    "        except:\n",
    "            print('not json')\n",
    "            try:\n",
    "               parsed = response[\"tasks\"]\n",
    "            except:\n",
    "                print('not string')\n",
    "                continue\n",
    "        try:\n",
    "            if len(parsed) == len(get_des(title)):\n",
    "                return parsed\n",
    "            else:\n",
    "                print('not equal, parsed:', len(parsed), 'ref:', len(get_des(title)))\n",
    "        except Exception as e:\n",
    "            print(e)\n",
    "            continue\n",
    "        \n",
    "    "
   ]
  },
  {
   "cell_type": "code",
   "execution_count": 10,
   "metadata": {},
   "outputs": [],
   "source": [
    "#pre process text\n",
    "def preProcessText(text=list):\n",
    "\tprocessed = []\n",
    "\tfor doc in text:\n",
    "\t\tdoc = re.sub(r\"\\\\n\", \"\", doc)\n",
    "\t\tdoc = re.sub(r\"\\W\", \" \", doc) #remove non words char\n",
    "\t\tdoc = re.sub(r\"\\d\",\" \", doc) #remove digits char\n",
    "\t\tdoc = re.sub(r'\\s+[a-z]\\s+', \" \", doc) # remove a single char\n",
    "\t\tdoc = re.sub(r'^[a-z]\\s+', \"\", doc) #remove a single character at the start of a document\n",
    "\t\tdoc = re.sub(r'\\s+', \" \", doc)  #replace an extra space with a single space\n",
    "\t\tdoc = re.sub(r'^\\s', \"\", doc) # remove space at the start of a doc\n",
    "\t\tdoc = re.sub(r'\\s$', \"\", doc) # remove space at the end of a document\n",
    "\t\tprocessed.append(doc.lower())\n",
    "\treturn processed"
   ]
  },
  {
   "cell_type": "code",
   "execution_count": 11,
   "metadata": {},
   "outputs": [],
   "source": [
    "#get similarity score\n",
    "def sbert(ref, gen):\n",
    "    sim_model = SentenceTransformer(\"all-mpnet-base-v2\", similarity_fn_name=\"cosine\")\n",
    "\n",
    "    # Compute embeddings for both lists\n",
    "    embeddings_ref = sim_model.encode(ref)\n",
    "    embeddings_gen = sim_model.encode(gen)\n",
    "\n",
    "\n",
    "    # Compute cosine similarities\n",
    "    similarities = sim_model.similarity(embeddings_ref, embeddings_gen).numpy()\n",
    "    return similarities"
   ]
  },
  {
   "cell_type": "code",
   "execution_count": 12,
   "metadata": {},
   "outputs": [],
   "source": [
    "#plot graph\n",
    "def plot(similarities):\n",
    "    x_label = [x+1 for x in range(len(similarities))]\n",
    "    y_label = [chr(num + 96) for num in x_label]\n",
    "    plt.figure(figsize=(12, 12))\n",
    "    sns.heatmap(similarities, annot=True, fmt=\".3f\", cmap=\"crest\", xticklabels=x_label, yticklabels=y_label)\n",
    "    plt.title(\"Sentence Cosine Similarity for \"+ test_occ)\n",
    "    plt.xlabel(\"O*NET Data\")\n",
    "    plt.ylabel(\"Generated Sentence\")\n",
    "    plt.savefig(\"results/\"+test_occ+\".png\")\n",
    "    plt.show()\n",
    "    return plt"
   ]
  },
  {
   "cell_type": "code",
   "execution_count": 13,
   "metadata": {},
   "outputs": [],
   "source": [
    "def match(ref, gen):\n",
    "    try:\n",
    "        ref_clean = preProcessText(ref)\n",
    "        gen_clean = preProcessText(gen)\n",
    "        matrix = sbert(ref_clean, gen_clean)\n",
    "        row_ind, col_ind = linear_sum_assignment(1 - matrix)  # Minimize cost (1 - similarity)\n",
    "        assigned_similarities = matrix[row_ind, col_ind]\n",
    "        return np.mean(assigned_similarities), matrix, row_ind.tolist(), col_ind.tolist()\n",
    "    except:\n",
    "        return np.nan"
   ]
  },
  {
   "cell_type": "markdown",
   "metadata": {},
   "source": [
    "### packaging things for repeated excution"
   ]
  },
  {
   "cell_type": "code",
   "execution_count": 22,
   "metadata": {},
   "outputs": [],
   "source": [
    "model = ChatOllama(model=\"llama3.1\", temperature=1)"
   ]
  },
  {
   "cell_type": "code",
   "execution_count": 15,
   "metadata": {},
   "outputs": [
    {
     "data": {
      "text/html": [
       "<div>\n",
       "<style scoped>\n",
       "    .dataframe tbody tr th:only-of-type {\n",
       "        vertical-align: middle;\n",
       "    }\n",
       "\n",
       "    .dataframe tbody tr th {\n",
       "        vertical-align: top;\n",
       "    }\n",
       "\n",
       "    .dataframe thead th {\n",
       "        text-align: right;\n",
       "    }\n",
       "</style>\n",
       "<table border=\"1\" class=\"dataframe\">\n",
       "  <thead>\n",
       "    <tr style=\"text-align: right;\">\n",
       "      <th></th>\n",
       "      <th>title</th>\n",
       "      <th>ref_task</th>\n",
       "      <th>ind</th>\n",
       "      <th>gen_task</th>\n",
       "    </tr>\n",
       "  </thead>\n",
       "  <tbody>\n",
       "    <tr>\n",
       "      <th>203</th>\n",
       "      <td>Customs Brokers</td>\n",
       "      <td>[Prepare and process import and export documen...</td>\n",
       "      <td>13</td>\n",
       "      <td>{'occupation': 'Customs Broker', 'tasks': '[\"C...</td>\n",
       "    </tr>\n",
       "    <tr>\n",
       "      <th>833</th>\n",
       "      <td>Training and Development Managers</td>\n",
       "      <td>[Analyze training needs to develop new trainin...</td>\n",
       "      <td>11</td>\n",
       "      <td>{'occupation': 'Training and Development Manag...</td>\n",
       "    </tr>\n",
       "    <tr>\n",
       "      <th>178</th>\n",
       "      <td>Cooks, Institution and Cafeteria</td>\n",
       "      <td>[Monitor and record food temperatures to ensur...</td>\n",
       "      <td>35</td>\n",
       "      <td>{'occupation': 'Cook', 'tasks': '[\"Prepare ing...</td>\n",
       "    </tr>\n",
       "    <tr>\n",
       "      <th>607</th>\n",
       "      <td>Painting, Coating, and Decorating Workers</td>\n",
       "      <td>[Apply coatings, such as paint, ink, or lacque...</td>\n",
       "      <td>51</td>\n",
       "      <td>{'occupation': 'Painting', 'tasks': '[\"Applyin...</td>\n",
       "    </tr>\n",
       "    <tr>\n",
       "      <th>388</th>\n",
       "      <td>Graphic Designers</td>\n",
       "      <td>[Key information into computer equipment to cr...</td>\n",
       "      <td>27</td>\n",
       "      <td>{'occupation': 'Graphic Designer', 'tasks': '[...</td>\n",
       "    </tr>\n",
       "  </tbody>\n",
       "</table>\n",
       "</div>"
      ],
      "text/plain": [
       "                                         title  \\\n",
       "203                            Customs Brokers   \n",
       "833          Training and Development Managers   \n",
       "178           Cooks, Institution and Cafeteria   \n",
       "607  Painting, Coating, and Decorating Workers   \n",
       "388                          Graphic Designers   \n",
       "\n",
       "                                              ref_task ind  \\\n",
       "203  [Prepare and process import and export documen...  13   \n",
       "833  [Analyze training needs to develop new trainin...  11   \n",
       "178  [Monitor and record food temperatures to ensur...  35   \n",
       "607  [Apply coatings, such as paint, ink, or lacque...  51   \n",
       "388  [Key information into computer equipment to cr...  27   \n",
       "\n",
       "                                              gen_task  \n",
       "203  {'occupation': 'Customs Broker', 'tasks': '[\"C...  \n",
       "833  {'occupation': 'Training and Development Manag...  \n",
       "178  {'occupation': 'Cook', 'tasks': '[\"Prepare ing...  \n",
       "607  {'occupation': 'Painting', 'tasks': '[\"Applyin...  \n",
       "388  {'occupation': 'Graphic Designer', 'tasks': '[...  "
      ]
     },
     "execution_count": 15,
     "metadata": {},
     "output_type": "execute_result"
    }
   ],
   "source": [
    "for title in test_sample_list:\n",
    "    generated_statements = task_gen(title, model)\n",
    "    trial_df.loc[trial_df[\"title\"] == title, \"gen_task\"] = [generated_statements]\n",
    "\n",
    "trial_df"
   ]
  },
  {
   "cell_type": "code",
   "execution_count": 16,
   "metadata": {},
   "outputs": [
    {
     "data": {
      "text/html": [
       "<div>\n",
       "<style scoped>\n",
       "    .dataframe tbody tr th:only-of-type {\n",
       "        vertical-align: middle;\n",
       "    }\n",
       "\n",
       "    .dataframe tbody tr th {\n",
       "        vertical-align: top;\n",
       "    }\n",
       "\n",
       "    .dataframe thead th {\n",
       "        text-align: right;\n",
       "    }\n",
       "</style>\n",
       "<table border=\"1\" class=\"dataframe\">\n",
       "  <thead>\n",
       "    <tr style=\"text-align: right;\">\n",
       "      <th></th>\n",
       "      <th>title</th>\n",
       "      <th>ref_task</th>\n",
       "      <th>ind</th>\n",
       "      <th>gen_task</th>\n",
       "      <th>parsed_response</th>\n",
       "    </tr>\n",
       "  </thead>\n",
       "  <tbody>\n",
       "    <tr>\n",
       "      <th>0</th>\n",
       "      <td>Customs Brokers</td>\n",
       "      <td>[Prepare and process import and export documen...</td>\n",
       "      <td>13</td>\n",
       "      <td>{'occupation': 'Customs Broker', 'tasks': '[\"C...</td>\n",
       "      <td>[Clearing shipments of imported goods, Ensurin...</td>\n",
       "    </tr>\n",
       "    <tr>\n",
       "      <th>1</th>\n",
       "      <td>Training and Development Managers</td>\n",
       "      <td>[Analyze training needs to develop new trainin...</td>\n",
       "      <td>11</td>\n",
       "      <td>{'occupation': 'Training and Development Manag...</td>\n",
       "      <td>[Developing employee training programs, Creati...</td>\n",
       "    </tr>\n",
       "    <tr>\n",
       "      <th>2</th>\n",
       "      <td>Cooks, Institution and Cafeteria</td>\n",
       "      <td>[Monitor and record food temperatures to ensur...</td>\n",
       "      <td>35</td>\n",
       "      <td>{'occupation': 'Cook', 'tasks': '[\"Prepare ing...</td>\n",
       "      <td>[Prepare ingredients, Cook meals, Clean kitchen]</td>\n",
       "    </tr>\n",
       "    <tr>\n",
       "      <th>3</th>\n",
       "      <td>Painting, Coating, and Decorating Workers</td>\n",
       "      <td>[Apply coatings, such as paint, ink, or lacque...</td>\n",
       "      <td>51</td>\n",
       "      <td>{'occupation': 'Painting', 'tasks': '[\"Applyin...</td>\n",
       "      <td>[Applying paint to walls, Applying paint to ce...</td>\n",
       "    </tr>\n",
       "    <tr>\n",
       "      <th>4</th>\n",
       "      <td>Graphic Designers</td>\n",
       "      <td>[Key information into computer equipment to cr...</td>\n",
       "      <td>27</td>\n",
       "      <td>{'occupation': 'Graphic Designer', 'tasks': '[...</td>\n",
       "      <td>[Create visual elements for designs, Develop a...</td>\n",
       "    </tr>\n",
       "  </tbody>\n",
       "</table>\n",
       "</div>"
      ],
      "text/plain": [
       "                                       title  \\\n",
       "0                            Customs Brokers   \n",
       "1          Training and Development Managers   \n",
       "2           Cooks, Institution and Cafeteria   \n",
       "3  Painting, Coating, and Decorating Workers   \n",
       "4                          Graphic Designers   \n",
       "\n",
       "                                            ref_task ind  \\\n",
       "0  [Prepare and process import and export documen...  13   \n",
       "1  [Analyze training needs to develop new trainin...  11   \n",
       "2  [Monitor and record food temperatures to ensur...  35   \n",
       "3  [Apply coatings, such as paint, ink, or lacque...  51   \n",
       "4  [Key information into computer equipment to cr...  27   \n",
       "\n",
       "                                            gen_task  \\\n",
       "0  {'occupation': 'Customs Broker', 'tasks': '[\"C...   \n",
       "1  {'occupation': 'Training and Development Manag...   \n",
       "2  {'occupation': 'Cook', 'tasks': '[\"Prepare ing...   \n",
       "3  {'occupation': 'Painting', 'tasks': '[\"Applyin...   \n",
       "4  {'occupation': 'Graphic Designer', 'tasks': '[...   \n",
       "\n",
       "                                     parsed_response  \n",
       "0  [Clearing shipments of imported goods, Ensurin...  \n",
       "1  [Developing employee training programs, Creati...  \n",
       "2   [Prepare ingredients, Cook meals, Clean kitchen]  \n",
       "3  [Applying paint to walls, Applying paint to ce...  \n",
       "4  [Create visual elements for designs, Develop a...  "
      ]
     },
     "execution_count": 16,
     "metadata": {},
     "output_type": "execute_result"
    }
   ],
   "source": [
    "result_df = trial_df.reset_index(drop=True)\n",
    "result_df[\"parsed_response\"] = result_df[\"gen_task\"].apply(parse_response)\n",
    "result_df = result_df.dropna()\n",
    "result_df"
   ]
  },
  {
   "cell_type": "code",
   "execution_count": 17,
   "metadata": {},
   "outputs": [
    {
     "data": {
      "text/html": [
       "<div>\n",
       "<style scoped>\n",
       "    .dataframe tbody tr th:only-of-type {\n",
       "        vertical-align: middle;\n",
       "    }\n",
       "\n",
       "    .dataframe tbody tr th {\n",
       "        vertical-align: top;\n",
       "    }\n",
       "\n",
       "    .dataframe thead th {\n",
       "        text-align: right;\n",
       "    }\n",
       "</style>\n",
       "<table border=\"1\" class=\"dataframe\">\n",
       "  <thead>\n",
       "    <tr style=\"text-align: right;\">\n",
       "      <th></th>\n",
       "      <th>title</th>\n",
       "      <th>ref_task</th>\n",
       "      <th>ind</th>\n",
       "      <th>gen_task</th>\n",
       "      <th>parsed_response</th>\n",
       "      <th>score</th>\n",
       "      <th>matrix</th>\n",
       "      <th>ref_order</th>\n",
       "      <th>gen_order</th>\n",
       "    </tr>\n",
       "  </thead>\n",
       "  <tbody>\n",
       "    <tr>\n",
       "      <th>0</th>\n",
       "      <td>Customs Brokers</td>\n",
       "      <td>[Prepare and process import and export documen...</td>\n",
       "      <td>13</td>\n",
       "      <td>{'occupation': 'Customs Broker', 'tasks': '[\"C...</td>\n",
       "      <td>[Clearing shipments of imported goods, Ensurin...</td>\n",
       "      <td>0.437229</td>\n",
       "      <td>[[0.5195479, 0.7806119, 0.49435085, 0.29045552...</td>\n",
       "      <td>[0, 1, 2, 4, 6, 7, 8, 9, 11, 12, 13, 14, 15, 1...</td>\n",
       "      <td>[1, 14, 10, 2, 16, 17, 11, 7, 0, 3, 15, 13, 8,...</td>\n",
       "    </tr>\n",
       "    <tr>\n",
       "      <th>1</th>\n",
       "      <td>Training and Development Managers</td>\n",
       "      <td>[Analyze training needs to develop new trainin...</td>\n",
       "      <td>11</td>\n",
       "      <td>{'occupation': 'Training and Development Manag...</td>\n",
       "      <td>[Developing employee training programs, Creati...</td>\n",
       "      <td>0.501708</td>\n",
       "      <td>[[0.69682044, 0.3042237, 0.3240591, 0.39522266...</td>\n",
       "      <td>[0, 1, 2, 3, 4, 5, 6, 7, 8, 9, 10]</td>\n",
       "      <td>[8, 10, 0, 9, 4, 5, 1, 3, 7, 2, 6]</td>\n",
       "    </tr>\n",
       "    <tr>\n",
       "      <th>2</th>\n",
       "      <td>Cooks, Institution and Cafeteria</td>\n",
       "      <td>[Monitor and record food temperatures to ensur...</td>\n",
       "      <td>35</td>\n",
       "      <td>{'occupation': 'Cook', 'tasks': '[\"Prepare ing...</td>\n",
       "      <td>[Prepare ingredients, Cook meals, Clean kitchen]</td>\n",
       "      <td>0.548620</td>\n",
       "      <td>[[0.32628417, 0.39149806, 0.23261246], [0.4852...</td>\n",
       "      <td>[1, 3, 5]</td>\n",
       "      <td>[1, 0, 2]</td>\n",
       "    </tr>\n",
       "    <tr>\n",
       "      <th>3</th>\n",
       "      <td>Painting, Coating, and Decorating Workers</td>\n",
       "      <td>[Apply coatings, such as paint, ink, or lacque...</td>\n",
       "      <td>51</td>\n",
       "      <td>{'occupation': 'Painting', 'tasks': '[\"Applyin...</td>\n",
       "      <td>[Applying paint to walls, Applying paint to ce...</td>\n",
       "      <td>0.312866</td>\n",
       "      <td>[[0.458075, 0.44365197], [0.09448831, 0.123445...</td>\n",
       "      <td>[0, 2]</td>\n",
       "      <td>[0, 1]</td>\n",
       "    </tr>\n",
       "    <tr>\n",
       "      <th>4</th>\n",
       "      <td>Graphic Designers</td>\n",
       "      <td>[Key information into computer equipment to cr...</td>\n",
       "      <td>27</td>\n",
       "      <td>{'occupation': 'Graphic Designer', 'tasks': '[...</td>\n",
       "      <td>[Create visual elements for designs, Develop a...</td>\n",
       "      <td>0.431067</td>\n",
       "      <td>[[0.465727, 0.17119342, 0.43691003, 0.3306257,...</td>\n",
       "      <td>[0, 1, 2, 3, 4, 7, 8, 9, 10, 11, 12, 13, 14, 1...</td>\n",
       "      <td>[12, 13, 0, 1, 4, 7, 5, 3, 8, 10, 11, 2, 14, 9...</td>\n",
       "    </tr>\n",
       "  </tbody>\n",
       "</table>\n",
       "</div>"
      ],
      "text/plain": [
       "                                       title  \\\n",
       "0                            Customs Brokers   \n",
       "1          Training and Development Managers   \n",
       "2           Cooks, Institution and Cafeteria   \n",
       "3  Painting, Coating, and Decorating Workers   \n",
       "4                          Graphic Designers   \n",
       "\n",
       "                                            ref_task ind  \\\n",
       "0  [Prepare and process import and export documen...  13   \n",
       "1  [Analyze training needs to develop new trainin...  11   \n",
       "2  [Monitor and record food temperatures to ensur...  35   \n",
       "3  [Apply coatings, such as paint, ink, or lacque...  51   \n",
       "4  [Key information into computer equipment to cr...  27   \n",
       "\n",
       "                                            gen_task  \\\n",
       "0  {'occupation': 'Customs Broker', 'tasks': '[\"C...   \n",
       "1  {'occupation': 'Training and Development Manag...   \n",
       "2  {'occupation': 'Cook', 'tasks': '[\"Prepare ing...   \n",
       "3  {'occupation': 'Painting', 'tasks': '[\"Applyin...   \n",
       "4  {'occupation': 'Graphic Designer', 'tasks': '[...   \n",
       "\n",
       "                                     parsed_response     score  \\\n",
       "0  [Clearing shipments of imported goods, Ensurin...  0.437229   \n",
       "1  [Developing employee training programs, Creati...  0.501708   \n",
       "2   [Prepare ingredients, Cook meals, Clean kitchen]  0.548620   \n",
       "3  [Applying paint to walls, Applying paint to ce...  0.312866   \n",
       "4  [Create visual elements for designs, Develop a...  0.431067   \n",
       "\n",
       "                                              matrix  \\\n",
       "0  [[0.5195479, 0.7806119, 0.49435085, 0.29045552...   \n",
       "1  [[0.69682044, 0.3042237, 0.3240591, 0.39522266...   \n",
       "2  [[0.32628417, 0.39149806, 0.23261246], [0.4852...   \n",
       "3  [[0.458075, 0.44365197], [0.09448831, 0.123445...   \n",
       "4  [[0.465727, 0.17119342, 0.43691003, 0.3306257,...   \n",
       "\n",
       "                                           ref_order  \\\n",
       "0  [0, 1, 2, 4, 6, 7, 8, 9, 11, 12, 13, 14, 15, 1...   \n",
       "1                 [0, 1, 2, 3, 4, 5, 6, 7, 8, 9, 10]   \n",
       "2                                          [1, 3, 5]   \n",
       "3                                             [0, 2]   \n",
       "4  [0, 1, 2, 3, 4, 7, 8, 9, 10, 11, 12, 13, 14, 1...   \n",
       "\n",
       "                                           gen_order  \n",
       "0  [1, 14, 10, 2, 16, 17, 11, 7, 0, 3, 15, 13, 8,...  \n",
       "1                 [8, 10, 0, 9, 4, 5, 1, 3, 7, 2, 6]  \n",
       "2                                          [1, 0, 2]  \n",
       "3                                             [0, 1]  \n",
       "4  [12, 13, 0, 1, 4, 7, 5, 3, 8, 10, 11, 2, 14, 9...  "
      ]
     },
     "execution_count": 17,
     "metadata": {},
     "output_type": "execute_result"
    }
   ],
   "source": [
    "result_df[[\"score\", \"matrix\", \"ref_order\", \"gen_order\"]] = result_df.apply(lambda row: match(row[\"ref_task\"], row[\"parsed_response\"]), axis=1).apply(pd.Series)\n",
    "result_df"
   ]
  },
  {
   "cell_type": "code",
   "execution_count": 47,
   "metadata": {},
   "outputs": [],
   "source": [
    "with open('result.json', 'w') as f:\n",
    "    f.write(result_df.to_json(index=True))"
   ]
  },
  {
   "cell_type": "code",
   "execution_count": 51,
   "metadata": {},
   "outputs": [
    {
     "data": {
      "text/html": [
       "<div>\n",
       "<style scoped>\n",
       "    .dataframe tbody tr th:only-of-type {\n",
       "        vertical-align: middle;\n",
       "    }\n",
       "\n",
       "    .dataframe tbody tr th {\n",
       "        vertical-align: top;\n",
       "    }\n",
       "\n",
       "    .dataframe thead th {\n",
       "        text-align: right;\n",
       "    }\n",
       "</style>\n",
       "<table border=\"1\" class=\"dataframe\">\n",
       "  <thead>\n",
       "    <tr style=\"text-align: right;\">\n",
       "      <th></th>\n",
       "      <th>count</th>\n",
       "      <th>mean</th>\n",
       "      <th>std</th>\n",
       "      <th>min</th>\n",
       "      <th>25%</th>\n",
       "      <th>50%</th>\n",
       "      <th>75%</th>\n",
       "      <th>max</th>\n",
       "      <th>max_title</th>\n",
       "      <th>min_title</th>\n",
       "    </tr>\n",
       "  </thead>\n",
       "  <tbody>\n",
       "    <tr>\n",
       "      <th>score</th>\n",
       "      <td>5.0</td>\n",
       "      <td>0.516068</td>\n",
       "      <td>0.083808</td>\n",
       "      <td>0.376314</td>\n",
       "      <td>0.520146</td>\n",
       "      <td>0.534684</td>\n",
       "      <td>0.54862</td>\n",
       "      <td>0.600575</td>\n",
       "      <td>Training and Development Managers</td>\n",
       "      <td>Painting, Coating, and Decorating Workers</td>\n",
       "    </tr>\n",
       "  </tbody>\n",
       "</table>\n",
       "</div>"
      ],
      "text/plain": [
       "       count      mean       std       min       25%       50%      75%  \\\n",
       "score    5.0  0.516068  0.083808  0.376314  0.520146  0.534684  0.54862   \n",
       "\n",
       "            max                          max_title  \\\n",
       "score  0.600575  Training and Development Managers   \n",
       "\n",
       "                                       min_title  \n",
       "score  Painting, Coating, and Decorating Workers  "
      ]
     },
     "execution_count": 51,
     "metadata": {},
     "output_type": "execute_result"
    }
   ],
   "source": [
    "analysis = result_df.describe().T\n",
    "analysis[\"max_title\"] = result_df.loc[result_df[\"score\"].idxmax(), \"title\"]\n",
    "analysis[\"min_title\"] = result_df.loc[result_df[\"score\"].idxmin(), \"title\"]\n",
    "analysis"
   ]
  },
  {
   "cell_type": "code",
   "execution_count": 4,
   "metadata": {},
   "outputs": [],
   "source": [
    "def test_gen(title,model, system = None, structure = False):\n",
    "    class occupation(BaseModel):\n",
    "        occupation: str\n",
    "        tasks: list[str]\n",
    "\n",
    "    #initialize model\n",
    "\n",
    "    query = \"Generate \"+str(len(get_des(title)))+\" task statements that \"+ title +\" would perform at work.\"\n",
    "\n",
    "    if system == None:\n",
    "        prompt_template = ChatPromptTemplate([\n",
    "            (\"human\",\"{input}\")\n",
    "            ]\n",
    "        )\n",
    "    else:\n",
    "        prompt_template = ChatPromptTemplate([\n",
    "            (\"system\", system),\n",
    "            (\"human\",\"{input}\")\n",
    "            ]\n",
    "        )\n",
    "\n",
    "    if structure == False:\n",
    "        llm = model\n",
    "\n",
    "    if structure == True:\n",
    "        llm = model.with_structured_output(schema=occupation, method=\"json_schema\")\n",
    "\n",
    "    prompt = prompt_template.invoke({\"input\": query, \"title\": title})\n",
    "    response = llm.invoke(prompt)\n",
    "    return response"
   ]
  },
  {
   "cell_type": "code",
   "execution_count": null,
   "metadata": {},
   "outputs": [],
   "source": [
    "model = ChatOllama(model=\"llama3.2\", temperature=1)"
   ]
  },
  {
   "cell_type": "code",
   "execution_count": 11,
   "metadata": {},
   "outputs": [
    {
     "data": {
      "text/plain": [
       "AIMessage(content=\"Here are 21 task statements that a Spa Manager might perform at work:\\n\\n1. Develop and implement spa membership programs to increase customer loyalty and retention.\\n2. Collaborate with the sales team to create effective marketing campaigns to attract new clients.\\n3. Manage spa staff scheduling, including holiday scheduling, shifts, and overtime.\\n4. Conduct regular staff performance reviews to identify areas for improvement and provide feedback.\\n5. Implement and enforce a customer service policy to ensure high standards of hospitality are met.\\n6. Plan and execute special events such as bridal showers, birthday parties, and corporate retreats.\\n7. Manage the spa's budget, including forecasting income, managing expenses, and tracking financial reports.\\n8. Research and stay up-to-date on industry trends, products, and services to maintain a competitive edge.\\n9. Develop and maintain relationships with suppliers, including product vendors and service providers.\\n10. Conduct regular guest satisfaction surveys to identify areas for improvement and track customer feedback.\\n11. Coordinate spa operations during peak periods, such as holidays or special events.\\n12. Implement a system for tracking and managing spa inventory, including products and supplies.\\n13. Develop and lead training programs for spa staff on product knowledge, customer service skills, and wellness education.\\n14. Manage the spa's online presence, including social media and review platforms.\\n15. Conduct health and safety audits to ensure compliance with regulatory standards and industry best practices.\\n16. Coordinate spa services, such as massage therapy, facials, and body treatments.\\n17. Develop and implement a loyalty program for repeat clients.\\n18. Plan and execute spa retreats, workshops, and classes on wellness topics.\\n19. Manage spa equipment maintenance and repair, including massage chairs and other machinery.\\n20. Conduct market research to identify new business opportunities and trends in the industry.\\n21. Coordinate with medical professionals to provide medical-grade treatments, such as pain management or skin conditions.\\n\\nThese task statements cover a range of responsibilities, from managing staff and operations to marketing and customer service.\", additional_kwargs={}, response_metadata={'model': 'llama3.2', 'created_at': '2025-03-12T13:37:41.7538929Z', 'done': True, 'done_reason': 'stop', 'total_duration': 10840978400, 'load_duration': 13196900, 'prompt_eval_count': 38, 'prompt_eval_duration': 80000000, 'eval_count': 402, 'eval_duration': 10744000000, 'message': Message(role='assistant', content='', images=None, tool_calls=None)}, id='run-abe93f4c-77c4-48b8-8298-f51b23078b60-0', usage_metadata={'input_tokens': 38, 'output_tokens': 402, 'total_tokens': 440})"
      ]
     },
     "execution_count": 11,
     "metadata": {},
     "output_type": "execute_result"
    }
   ],
   "source": [
    "test = test_gen(model=model, title=\"Spa Managers\", structure=False)\n",
    "test"
   ]
  },
  {
   "cell_type": "code",
   "execution_count": 12,
   "metadata": {},
   "outputs": [
    {
     "data": {
      "text/plain": [
       "\"Here are 21 task statements that a Spa Manager might perform at work:\\n\\n1. Develop and implement spa membership programs to increase customer loyalty and retention.\\n2. Collaborate with the sales team to create effective marketing campaigns to attract new clients.\\n3. Manage spa staff scheduling, including holiday scheduling, shifts, and overtime.\\n4. Conduct regular staff performance reviews to identify areas for improvement and provide feedback.\\n5. Implement and enforce a customer service policy to ensure high standards of hospitality are met.\\n6. Plan and execute special events such as bridal showers, birthday parties, and corporate retreats.\\n7. Manage the spa's budget, including forecasting income, managing expenses, and tracking financial reports.\\n8. Research and stay up-to-date on industry trends, products, and services to maintain a competitive edge.\\n9. Develop and maintain relationships with suppliers, including product vendors and service providers.\\n10. Conduct regular guest satisfaction surveys to identify areas for improvement and track customer feedback.\\n11. Coordinate spa operations during peak periods, such as holidays or special events.\\n12. Implement a system for tracking and managing spa inventory, including products and supplies.\\n13. Develop and lead training programs for spa staff on product knowledge, customer service skills, and wellness education.\\n14. Manage the spa's online presence, including social media and review platforms.\\n15. Conduct health and safety audits to ensure compliance with regulatory standards and industry best practices.\\n16. Coordinate spa services, such as massage therapy, facials, and body treatments.\\n17. Develop and implement a loyalty program for repeat clients.\\n18. Plan and execute spa retreats, workshops, and classes on wellness topics.\\n19. Manage spa equipment maintenance and repair, including massage chairs and other machinery.\\n20. Conduct market research to identify new business opportunities and trends in the industry.\\n21. Coordinate with medical professionals to provide medical-grade treatments, such as pain management or skin conditions.\\n\\nThese task statements cover a range of responsibilities, from managing staff and operations to marketing and customer service.\""
      ]
     },
     "execution_count": 12,
     "metadata": {},
     "output_type": "execute_result"
    }
   ],
   "source": [
    "test.content"
   ]
  },
  {
   "cell_type": "code",
   "execution_count": 20,
   "metadata": {},
   "outputs": [
    {
     "data": {
      "text/plain": [
       "AIMessage(content=' Here is an example JSON response based on task 7:\\n\\n```\\n{\\n  \"task\": 7,\\n  \"description\": \"Manage spa budget\",\\n  \"tasks\": [\\n    {\\n      \"task_id\": 1,\\n      \"description\": \"Forecast income\"\\n    },\\n    {\\n      \"task_id\": 2,\\n      \"description\": \"Manage expenses\"\\n    },\\n    {\\n      \"task_id\": 3,\\n      \"description\": \"Track financial reports\"\\n    }\\n  ],\\n  \"status\": null\\n}\\n```\\n\\nIn this example, the JSON response includes a summary of task 7 (managing spa budget), as well as two subtasks that are part of managing that budget. The `status` field is blank because it hasn\\'t been completed yet.\\n\\nPlease let me know if you want me to generate anything else!', additional_kwargs={}, response_metadata={'model': 'llama3.2', 'created_at': '2025-03-12T13:54:39.782009Z', 'done': True, 'done_reason': 'stop', 'total_duration': 5048475200, 'load_duration': 22388300, 'prompt_eval_count': 437, 'prompt_eval_duration': 263000000, 'eval_count': 171, 'eval_duration': 4760000000, 'message': Message(role='assistant', content='', images=None, tool_calls=None)}, id='run-2a568276-60b0-4914-af4e-e57412cb858e-0', usage_metadata={'input_tokens': 437, 'output_tokens': 171, 'total_tokens': 608})"
      ]
     },
     "execution_count": 20,
     "metadata": {},
     "output_type": "execute_result"
    }
   ],
   "source": [
    "prompt_template = ChatPromptTemplate([\n",
    "            (\"human\",\"can you make the response in a structured json format\"),\n",
    "            (\"ai\", \" {input} \")\n",
    "            ]\n",
    "        )\n",
    "\n",
    "class occupation(BaseModel):\n",
    "        occupation: str\n",
    "        tasks: list[str]\n",
    "llm = model\n",
    "# llm = model.with_structured_output(schema=occupation, method=\"json_schema\")\n",
    "prompt = prompt_template.invoke({\"input\": test.content})\n",
    "answer = llm.invoke(prompt)\n",
    "answer"
   ]
  },
  {
   "cell_type": "code",
   "execution_count": 1,
   "metadata": {},
   "outputs": [],
   "source": [
    "# create a function to create json schema depend on the number of sentences needed\n",
    "def create_json_schema(num_sentences):\n",
    "    json_schema = {\n",
    "        \"type\": \"object\",\n",
    "        \"properties\": {\n",
    "            \"occupation\": {\n",
    "                \"type\": \"string\"\n",
    "            },\n",
    "            \"tasks\": {\n",
    "                \"type\": \"array\",\n",
    "                \"items\": {\n",
    "                    \"type\": \"string\"\n",
    "                },\n",
    "                \"minItems\": num_sentences,\n",
    "                \"maxItems\": num_sentences\n",
    "            }\n",
    "        },\n",
    "        \"required\": [\"occupation\", \"tasks\"]\n",
    "    }\n",
    "    return json_schema\n"
   ]
  },
  {
   "cell_type": "code",
   "execution_count": 2,
   "metadata": {},
   "outputs": [
    {
     "data": {
      "text/plain": [
       "{'type': 'object',\n",
       " 'properties': {'occupation': {'type': 'string'},\n",
       "  'tasks': {'type': 'array',\n",
       "   'items': {'type': 'string'},\n",
       "   'minItems': 5,\n",
       "   'maxItems': 5}},\n",
       " 'required': ['occupation', 'tasks']}"
      ]
     },
     "execution_count": 2,
     "metadata": {},
     "output_type": "execute_result"
    }
   ],
   "source": [
    "create_json_schema(5)"
   ]
  },
  {
   "cell_type": "code",
   "execution_count": 14,
   "metadata": {},
   "outputs": [],
   "source": [
    "def test_gen(title, system = None, structure = False):\n",
    "    jsc = create_json_schema(len(get_des(title)))\n",
    "\n",
    "    model = ChatOllama(model=\"llama3.2\", temperature=1)\n",
    "\n",
    "    #initialize model\n",
    "\n",
    "    query = \"Generate \"+str(len(get_des(title)))+\" task statements that \"+ title +\" would perform at work.\"\n",
    "\n",
    "    if system == None:\n",
    "        prompt_template = ChatPromptTemplate([\n",
    "            (\"human\",\"{input}\")\n",
    "            ]\n",
    "        )\n",
    "    else:\n",
    "        prompt_template = ChatPromptTemplate([\n",
    "            (\"system\", system),\n",
    "            (\"human\",\"{input}\")\n",
    "            ]\n",
    "        )\n",
    "\n",
    "    if structure == False:\n",
    "        llm = model\n",
    "\n",
    "    if structure == True:\n",
    "        llm = model.with_structured_output(schema=jsc, method=\"json_schema\")\n",
    "\n",
    "    prompt = prompt_template.invoke({\"input\": query, \"title\": title})\n",
    "    response = llm.invoke(prompt)\n",
    "    return response"
   ]
  },
  {
   "cell_type": "code",
   "execution_count": 17,
   "metadata": {},
   "outputs": [],
   "source": [
    "t = test_gen(\"Conservation Scientists\", structure=True)"
   ]
  },
  {
   "cell_type": "code",
   "execution_count": 18,
   "metadata": {},
   "outputs": [
    {
     "data": {
      "text/plain": [
       "{'occupation': 'Conservation Scientist',\n",
       " 'tasks': ['1. Develop and implement habitat restoration plans to enhance biodiversity in degraded ecosystems.',\n",
       "  '2. Collaborate with stakeholders to identify conservation priorities and develop strategic plans for species reintroduction programs.',\n",
       "  '3. Conduct field surveys to monitor population trends, behavior, and habitat use of target species.',\n",
       "  '4. Analyze and interpret data from remote sensing, GIS, and other technologies to assess ecosystem health and track changes over time.',\n",
       "  '5. Develop and implement invertebrate conservation strategies, including insect sampling protocols and habitat management plans.',\n",
       "  '6. Work with landowners, farmers, and policymakers to promote sustainable agriculture practices and reduce pesticide use.',\n",
       "  '7. Design and conduct experiments to test the effectiveness of conservation techniques, such as species removal or relocation programs.',\n",
       "  '8. Develop and maintain spatial models of ecosystem processes and dynamics to inform conservation decisions.',\n",
       "  '9. Provide technical assistance and training to local communities on environmental monitoring and management techniques.',\n",
       "  '10. Develop and implement education and outreach programs to promote conservation awareness and engage the public in conservation efforts.',\n",
       "  '11. Participate in collaborative research projects with other institutions and scientists to advance our understanding of ecological systems.',\n",
       "  '12. Conduct risk assessments and develop mitigation strategies for potential impacts from human activities, such as habitat fragmentation or invasive species invasions.',\n",
       "  '13. Develop and maintain databases and data management protocols for conservation efforts, including data visualization and communication tools.',\n",
       "  '14. Participate in policy development and advocacy efforts to advance conservation priorities and protect ecosystems.',\n",
       "  '15. Conduct fieldwork to monitor wildlife populations and develop effective monitoring programs for tracking population trends and health.',\n",
       "  '16. Collaborate with urban planners and policymakers to incorporate ecosystem services into urban planning and design.',\n",
       "  '17. Develop and implement bioindication protocols to assess ecosystem health and detect changes in water or soil quality.',\n",
       "  '18. Provide expertise and support for policy development, legislation, and regulatory frameworks related to conservation and environmental management.',\n",
       "  '19. Design and conduct research studies on the ecological impacts of climate change, including sea level rise and shifting species distributions.',\n",
       "  '20. Collaborate with other professionals to develop and implement integrated pest management (IPM) strategies that minimize harm to non-target species.',\n",
       "  '21. Develop and maintain lists of endangered species and provide conservation status updates to stakeholders.',\n",
       "  '22. Conduct scoping studies on emerging issues, such as climate change impacts on ecosystems or invasive species management.',\n",
       "  '23. Collaborate with engineers and planners to design sustainable infrastructure projects that minimize environmental impact.',\n",
       "  '24. Analyze data from various sources to estimate carbon sequestration potential in different ecosystems.',\n",
       "  '25. Develop educational materials and training programs for professionals working in conservation fields, such as habitat restoration or wildlife management.',\n",
       "  '26. Provide scientific advice and guidance on land-use planning, forestry, and agriculture policies.',\n",
       "  '27. Collaborate with NGOs and community groups to develop effective community-based conservation strategies.',\n",
       "  '28. Develop and implement monitoring programs for invasive species, including early detection methods and control protocols.',\n",
       "  '29. Participate in international collaborations and capacity-building initiatives to share knowledge, skills, and best practices in conservation management.']}"
      ]
     },
     "execution_count": 18,
     "metadata": {},
     "output_type": "execute_result"
    }
   ],
   "source": [
    "t"
   ]
  }
 ],
 "metadata": {
  "kernelspec": {
   "display_name": "Python 3",
   "language": "python",
   "name": "python3"
  },
  "language_info": {
   "codemirror_mode": {
    "name": "ipython",
    "version": 3
   },
   "file_extension": ".py",
   "mimetype": "text/x-python",
   "name": "python",
   "nbconvert_exporter": "python",
   "pygments_lexer": "ipython3",
   "version": "3.12.4"
  }
 },
 "nbformat": 4,
 "nbformat_minor": 2
}
