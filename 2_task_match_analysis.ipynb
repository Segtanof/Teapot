{
 "cells": [
  {
   "cell_type": "code",
   "execution_count": 1,
   "metadata": {},
   "outputs": [],
   "source": [
    "#import data analysis packages\n",
    "import pandas as pd\n",
    "import numpy as np\n",
    "import matplotlib.pyplot as plt\n",
    "import seaborn as sns"
   ]
  },
  {
   "cell_type": "code",
   "execution_count": 2,
   "metadata": {},
   "outputs": [],
   "source": [
    "# Generate the folder name with current date and time\n",
    "#folder_name = 'results/task_match_0603_2238/'\n",
    "folder_name = 'results/task_match_0803_1532'"
   ]
  },
  {
   "cell_type": "code",
   "execution_count": 3,
   "metadata": {},
   "outputs": [
    {
     "data": {
      "text/html": [
       "<div>\n",
       "<style scoped>\n",
       "    .dataframe tbody tr th:only-of-type {\n",
       "        vertical-align: middle;\n",
       "    }\n",
       "\n",
       "    .dataframe tbody tr th {\n",
       "        vertical-align: top;\n",
       "    }\n",
       "\n",
       "    .dataframe thead th {\n",
       "        text-align: right;\n",
       "    }\n",
       "</style>\n",
       "<table border=\"1\" class=\"dataframe\">\n",
       "  <thead>\n",
       "    <tr style=\"text-align: right;\">\n",
       "      <th></th>\n",
       "      <th>title</th>\n",
       "      <th>ref_task</th>\n",
       "      <th>ind</th>\n",
       "      <th>gen_task</th>\n",
       "      <th>score</th>\n",
       "      <th>matrix</th>\n",
       "      <th>ref_order</th>\n",
       "      <th>gen_order</th>\n",
       "    </tr>\n",
       "  </thead>\n",
       "  <tbody>\n",
       "    <tr>\n",
       "      <th>0</th>\n",
       "      <td>Lodging Managers</td>\n",
       "      <td>[Answer inquiries pertaining to hotel policies...</td>\n",
       "      <td>11</td>\n",
       "      <td>[Oversee daily operations of hotel staff and d...</td>\n",
       "      <td>0.506096</td>\n",
       "      <td>[[0.7160055637, 0.5102865696000001, 0.49521067...</td>\n",
       "      <td>[0, 2, 3, 4, 5, 6, 7, 8, 9, 10, 12, 13, 14, 15...</td>\n",
       "      <td>[11, 1, 14, 16, 2, 3, 18, 13, 6, 15, 9, 5, 4, ...</td>\n",
       "    </tr>\n",
       "    <tr>\n",
       "      <th>1</th>\n",
       "      <td>Nanosystems Engineers</td>\n",
       "      <td>[Provide scientific or technical guidance or e...</td>\n",
       "      <td>17</td>\n",
       "      <td>[Design nanoscale devices, Develop materials w...</td>\n",
       "      <td>0.579940</td>\n",
       "      <td>[[0.375482142, 0.2953431904, 0.3431423008, 0.3...</td>\n",
       "      <td>[0, 1, 2, 3, 4, 5, 6, 8, 9, 10, 11, 12, 13, 14...</td>\n",
       "      <td>[6, 7, 2, 5, 12, 14, 9, 8, 15, 11, 10, 4, 13, ...</td>\n",
       "    </tr>\n",
       "    <tr>\n",
       "      <th>2</th>\n",
       "      <td>Conservation Scientists</td>\n",
       "      <td>[Apply principles of specialized fields of sci...</td>\n",
       "      <td>19</td>\n",
       "      <td>[Monitoring wildlife populations, Conducting r...</td>\n",
       "      <td>0.491694</td>\n",
       "      <td>[[0.3371816874, 0.5201646090000001, 0.65123611...</td>\n",
       "      <td>[0, 1, 2, 3, 4, 5, 6, 7, 8, 9, 10, 11, 12, 13,...</td>\n",
       "      <td>[24, 2, 21, 7, 25, 13, 3, 19, 17, 12, 16, 27, ...</td>\n",
       "    </tr>\n",
       "    <tr>\n",
       "      <th>3</th>\n",
       "      <td>Farm and Home Management Educators</td>\n",
       "      <td>[Advise farmers and demonstrate techniques in ...</td>\n",
       "      <td>25</td>\n",
       "      <td>[Developing educational programs for farmers a...</td>\n",
       "      <td>0.486222</td>\n",
       "      <td>[[0.6298267841, 0.5968769193, 0.4857193232, 0....</td>\n",
       "      <td>[0, 1, 2, 3, 4, 5, 6, 7, 8, 9, 10, 11]</td>\n",
       "      <td>[5, 8, 11, 10, 4, 3, 1, 2, 7, 9, 6, 0]</td>\n",
       "    </tr>\n",
       "    <tr>\n",
       "      <th>4</th>\n",
       "      <td>Medical and Clinical Laboratory Technicians</td>\n",
       "      <td>[Conduct chemical analyses of body fluids, suc...</td>\n",
       "      <td>29</td>\n",
       "      <td>[Perform blood tests, Conduct DNA analysis, Ex...</td>\n",
       "      <td>0.542772</td>\n",
       "      <td>[[0.5053529739, 0.5535107255, 0.63985103370000...</td>\n",
       "      <td>[0, 1, 2, 3, 4, 5]</td>\n",
       "      <td>[2, 4, 3, 1, 0, 5]</td>\n",
       "    </tr>\n",
       "    <tr>\n",
       "      <th>5</th>\n",
       "      <td>Office Clerks, General</td>\n",
       "      <td>[Operate office machines, such as photocopiers...</td>\n",
       "      <td>43</td>\n",
       "      <td>[file organization, data entry, office supplie...</td>\n",
       "      <td>0.437339</td>\n",
       "      <td>[[0.0751385391, 0.3463429213, 0.4340895712, 0....</td>\n",
       "      <td>[0, 1, 2, 3, 4, 5, 6, 7, 8, 9, 10, 11]</td>\n",
       "      <td>[8, 4, 11, 1, 0, 6, 7, 9, 3, 5, 2, 10]</td>\n",
       "    </tr>\n",
       "    <tr>\n",
       "      <th>6</th>\n",
       "      <td>Elevator and Escalator Installers and Repairers</td>\n",
       "      <td>[Inspect wiring connections, control panel hoo...</td>\n",
       "      <td>47</td>\n",
       "      <td>[Install new elevators and escalators in build...</td>\n",
       "      <td>0.484159</td>\n",
       "      <td>[[0.2610115409, 0.3832697868, 0.567276895, 0.4...</td>\n",
       "      <td>[0, 1, 2, 3, 4, 5, 6, 7, 8, 9, 10, 11, 12, 13,...</td>\n",
       "      <td>[9, 12, 1, 13, 14, 6, 15, 7, 3, 4, 8, 10, 2, 1...</td>\n",
       "    </tr>\n",
       "    <tr>\n",
       "      <th>7</th>\n",
       "      <td>Model Makers, Metal and Plastic</td>\n",
       "      <td>[Study blueprints, drawings, and sketches to d...</td>\n",
       "      <td>51</td>\n",
       "      <td>[Create detailed metal prototypes, Design plas...</td>\n",
       "      <td>0.474785</td>\n",
       "      <td>[[0.4137884378, 0.4837269187, 0.40668565030000...</td>\n",
       "      <td>[0, 1, 2, 3, 4, 5, 6, 7, 8, 9, 10, 11, 12, 13]</td>\n",
       "      <td>[13, 9, 8, 4, 2, 12, 5, 3, 10, 0, 11, 1, 6, 7]</td>\n",
       "    </tr>\n",
       "  </tbody>\n",
       "</table>\n",
       "</div>"
      ],
      "text/plain": [
       "                                             title  \\\n",
       "0                                 Lodging Managers   \n",
       "1                            Nanosystems Engineers   \n",
       "2                          Conservation Scientists   \n",
       "3               Farm and Home Management Educators   \n",
       "4      Medical and Clinical Laboratory Technicians   \n",
       "5                           Office Clerks, General   \n",
       "6  Elevator and Escalator Installers and Repairers   \n",
       "7                  Model Makers, Metal and Plastic   \n",
       "\n",
       "                                            ref_task  ind  \\\n",
       "0  [Answer inquiries pertaining to hotel policies...   11   \n",
       "1  [Provide scientific or technical guidance or e...   17   \n",
       "2  [Apply principles of specialized fields of sci...   19   \n",
       "3  [Advise farmers and demonstrate techniques in ...   25   \n",
       "4  [Conduct chemical analyses of body fluids, suc...   29   \n",
       "5  [Operate office machines, such as photocopiers...   43   \n",
       "6  [Inspect wiring connections, control panel hoo...   47   \n",
       "7  [Study blueprints, drawings, and sketches to d...   51   \n",
       "\n",
       "                                            gen_task     score  \\\n",
       "0  [Oversee daily operations of hotel staff and d...  0.506096   \n",
       "1  [Design nanoscale devices, Develop materials w...  0.579940   \n",
       "2  [Monitoring wildlife populations, Conducting r...  0.491694   \n",
       "3  [Developing educational programs for farmers a...  0.486222   \n",
       "4  [Perform blood tests, Conduct DNA analysis, Ex...  0.542772   \n",
       "5  [file organization, data entry, office supplie...  0.437339   \n",
       "6  [Install new elevators and escalators in build...  0.484159   \n",
       "7  [Create detailed metal prototypes, Design plas...  0.474785   \n",
       "\n",
       "                                              matrix  \\\n",
       "0  [[0.7160055637, 0.5102865696000001, 0.49521067...   \n",
       "1  [[0.375482142, 0.2953431904, 0.3431423008, 0.3...   \n",
       "2  [[0.3371816874, 0.5201646090000001, 0.65123611...   \n",
       "3  [[0.6298267841, 0.5968769193, 0.4857193232, 0....   \n",
       "4  [[0.5053529739, 0.5535107255, 0.63985103370000...   \n",
       "5  [[0.0751385391, 0.3463429213, 0.4340895712, 0....   \n",
       "6  [[0.2610115409, 0.3832697868, 0.567276895, 0.4...   \n",
       "7  [[0.4137884378, 0.4837269187, 0.40668565030000...   \n",
       "\n",
       "                                           ref_order  \\\n",
       "0  [0, 2, 3, 4, 5, 6, 7, 8, 9, 10, 12, 13, 14, 15...   \n",
       "1  [0, 1, 2, 3, 4, 5, 6, 8, 9, 10, 11, 12, 13, 14...   \n",
       "2  [0, 1, 2, 3, 4, 5, 6, 7, 8, 9, 10, 11, 12, 13,...   \n",
       "3             [0, 1, 2, 3, 4, 5, 6, 7, 8, 9, 10, 11]   \n",
       "4                                 [0, 1, 2, 3, 4, 5]   \n",
       "5             [0, 1, 2, 3, 4, 5, 6, 7, 8, 9, 10, 11]   \n",
       "6  [0, 1, 2, 3, 4, 5, 6, 7, 8, 9, 10, 11, 12, 13,...   \n",
       "7     [0, 1, 2, 3, 4, 5, 6, 7, 8, 9, 10, 11, 12, 13]   \n",
       "\n",
       "                                           gen_order  \n",
       "0  [11, 1, 14, 16, 2, 3, 18, 13, 6, 15, 9, 5, 4, ...  \n",
       "1  [6, 7, 2, 5, 12, 14, 9, 8, 15, 11, 10, 4, 13, ...  \n",
       "2  [24, 2, 21, 7, 25, 13, 3, 19, 17, 12, 16, 27, ...  \n",
       "3             [5, 8, 11, 10, 4, 3, 1, 2, 7, 9, 6, 0]  \n",
       "4                                 [2, 4, 3, 1, 0, 5]  \n",
       "5             [8, 4, 11, 1, 0, 6, 7, 9, 3, 5, 2, 10]  \n",
       "6  [9, 12, 1, 13, 14, 6, 15, 7, 3, 4, 8, 10, 2, 1...  \n",
       "7     [13, 9, 8, 4, 2, 12, 5, 3, 10, 0, 11, 1, 6, 7]  "
      ]
     },
     "execution_count": 3,
     "metadata": {},
     "output_type": "execute_result"
    }
   ],
   "source": [
    "#open json file as dataframe\n",
    "df = pd.read_json(folder_name + \"/sys_prompt1.json\").dropna()\n",
    "df"
   ]
  },
  {
   "cell_type": "code",
   "execution_count": 57,
   "metadata": {},
   "outputs": [
    {
     "data": {
      "text/html": [
       "<div>\n",
       "<style scoped>\n",
       "    .dataframe tbody tr th:only-of-type {\n",
       "        vertical-align: middle;\n",
       "    }\n",
       "\n",
       "    .dataframe tbody tr th {\n",
       "        vertical-align: top;\n",
       "    }\n",
       "\n",
       "    .dataframe thead th {\n",
       "        text-align: right;\n",
       "    }\n",
       "</style>\n",
       "<table border=\"1\" class=\"dataframe\">\n",
       "  <thead>\n",
       "    <tr style=\"text-align: right;\">\n",
       "      <th></th>\n",
       "      <th>title</th>\n",
       "      <th>ref_task</th>\n",
       "      <th>ind</th>\n",
       "      <th>gen_task</th>\n",
       "      <th>score</th>\n",
       "      <th>matrix</th>\n",
       "      <th>ref_order</th>\n",
       "      <th>gen_order</th>\n",
       "      <th>code</th>\n",
       "      <th>zone</th>\n",
       "    </tr>\n",
       "  </thead>\n",
       "  <tbody>\n",
       "    <tr>\n",
       "      <th>0</th>\n",
       "      <td>Lodging Managers</td>\n",
       "      <td>[Answer inquiries pertaining to hotel policies...</td>\n",
       "      <td>11</td>\n",
       "      <td>[Oversee daily operations of hotel staff and d...</td>\n",
       "      <td>0.506096</td>\n",
       "      <td>[[0.7160055637, 0.5102865696000001, 0.49521067...</td>\n",
       "      <td>[0, 2, 3, 4, 5, 6, 7, 8, 9, 10, 12, 13, 14, 15...</td>\n",
       "      <td>[11, 1, 14, 16, 2, 3, 18, 13, 6, 15, 9, 5, 4, ...</td>\n",
       "      <td>11-9081.00</td>\n",
       "      <td>4</td>\n",
       "    </tr>\n",
       "    <tr>\n",
       "      <th>1</th>\n",
       "      <td>Nanosystems Engineers</td>\n",
       "      <td>[Provide scientific or technical guidance or e...</td>\n",
       "      <td>17</td>\n",
       "      <td>[Design nanoscale devices, Develop materials w...</td>\n",
       "      <td>0.579940</td>\n",
       "      <td>[[0.375482142, 0.2953431904, 0.3431423008, 0.3...</td>\n",
       "      <td>[0, 1, 2, 3, 4, 5, 6, 8, 9, 10, 11, 12, 13, 14...</td>\n",
       "      <td>[6, 7, 2, 5, 12, 14, 9, 8, 15, 11, 10, 4, 13, ...</td>\n",
       "      <td>17-2199.09</td>\n",
       "      <td>5</td>\n",
       "    </tr>\n",
       "    <tr>\n",
       "      <th>2</th>\n",
       "      <td>Conservation Scientists</td>\n",
       "      <td>[Apply principles of specialized fields of sci...</td>\n",
       "      <td>19</td>\n",
       "      <td>[Monitoring wildlife populations, Conducting r...</td>\n",
       "      <td>0.491694</td>\n",
       "      <td>[[0.3371816874, 0.5201646090000001, 0.65123611...</td>\n",
       "      <td>[0, 1, 2, 3, 4, 5, 6, 7, 8, 9, 10, 11, 12, 13,...</td>\n",
       "      <td>[24, 2, 21, 7, 25, 13, 3, 19, 17, 12, 16, 27, ...</td>\n",
       "      <td>19-1031.00</td>\n",
       "      <td>4</td>\n",
       "    </tr>\n",
       "    <tr>\n",
       "      <th>3</th>\n",
       "      <td>Farm and Home Management Educators</td>\n",
       "      <td>[Advise farmers and demonstrate techniques in ...</td>\n",
       "      <td>25</td>\n",
       "      <td>[Developing educational programs for farmers a...</td>\n",
       "      <td>0.486222</td>\n",
       "      <td>[[0.6298267841, 0.5968769193, 0.4857193232, 0....</td>\n",
       "      <td>[0, 1, 2, 3, 4, 5, 6, 7, 8, 9, 10, 11]</td>\n",
       "      <td>[5, 8, 11, 10, 4, 3, 1, 2, 7, 9, 6, 0]</td>\n",
       "      <td>25-9021.00</td>\n",
       "      <td>5</td>\n",
       "    </tr>\n",
       "    <tr>\n",
       "      <th>4</th>\n",
       "      <td>Medical and Clinical Laboratory Technicians</td>\n",
       "      <td>[Conduct chemical analyses of body fluids, suc...</td>\n",
       "      <td>29</td>\n",
       "      <td>[Perform blood tests, Conduct DNA analysis, Ex...</td>\n",
       "      <td>0.542772</td>\n",
       "      <td>[[0.5053529739, 0.5535107255, 0.63985103370000...</td>\n",
       "      <td>[0, 1, 2, 3, 4, 5]</td>\n",
       "      <td>[2, 4, 3, 1, 0, 5]</td>\n",
       "      <td>29-2012.00</td>\n",
       "      <td>3</td>\n",
       "    </tr>\n",
       "    <tr>\n",
       "      <th>5</th>\n",
       "      <td>Office Clerks, General</td>\n",
       "      <td>[Operate office machines, such as photocopiers...</td>\n",
       "      <td>43</td>\n",
       "      <td>[file organization, data entry, office supplie...</td>\n",
       "      <td>0.437339</td>\n",
       "      <td>[[0.0751385391, 0.3463429213, 0.4340895712, 0....</td>\n",
       "      <td>[0, 1, 2, 3, 4, 5, 6, 7, 8, 9, 10, 11]</td>\n",
       "      <td>[8, 4, 11, 1, 0, 6, 7, 9, 3, 5, 2, 10]</td>\n",
       "      <td>43-9061.00</td>\n",
       "      <td>2</td>\n",
       "    </tr>\n",
       "    <tr>\n",
       "      <th>6</th>\n",
       "      <td>Elevator and Escalator Installers and Repairers</td>\n",
       "      <td>[Inspect wiring connections, control panel hoo...</td>\n",
       "      <td>47</td>\n",
       "      <td>[Install new elevators and escalators in build...</td>\n",
       "      <td>0.484159</td>\n",
       "      <td>[[0.2610115409, 0.3832697868, 0.567276895, 0.4...</td>\n",
       "      <td>[0, 1, 2, 3, 4, 5, 6, 7, 8, 9, 10, 11, 12, 13,...</td>\n",
       "      <td>[9, 12, 1, 13, 14, 6, 15, 7, 3, 4, 8, 10, 2, 1...</td>\n",
       "      <td>47-4021.00</td>\n",
       "      <td>3</td>\n",
       "    </tr>\n",
       "    <tr>\n",
       "      <th>7</th>\n",
       "      <td>Model Makers, Metal and Plastic</td>\n",
       "      <td>[Study blueprints, drawings, and sketches to d...</td>\n",
       "      <td>51</td>\n",
       "      <td>[Create detailed metal prototypes, Design plas...</td>\n",
       "      <td>0.474785</td>\n",
       "      <td>[[0.4137884378, 0.4837269187, 0.40668565030000...</td>\n",
       "      <td>[0, 1, 2, 3, 4, 5, 6, 7, 8, 9, 10, 11, 12, 13]</td>\n",
       "      <td>[13, 9, 8, 4, 2, 12, 5, 3, 10, 0, 11, 1, 6, 7]</td>\n",
       "      <td>51-4061.00</td>\n",
       "      <td>3</td>\n",
       "    </tr>\n",
       "  </tbody>\n",
       "</table>\n",
       "</div>"
      ],
      "text/plain": [
       "                                             title  \\\n",
       "0                                 Lodging Managers   \n",
       "1                            Nanosystems Engineers   \n",
       "2                          Conservation Scientists   \n",
       "3               Farm and Home Management Educators   \n",
       "4      Medical and Clinical Laboratory Technicians   \n",
       "5                           Office Clerks, General   \n",
       "6  Elevator and Escalator Installers and Repairers   \n",
       "7                  Model Makers, Metal and Plastic   \n",
       "\n",
       "                                            ref_task  ind  \\\n",
       "0  [Answer inquiries pertaining to hotel policies...   11   \n",
       "1  [Provide scientific or technical guidance or e...   17   \n",
       "2  [Apply principles of specialized fields of sci...   19   \n",
       "3  [Advise farmers and demonstrate techniques in ...   25   \n",
       "4  [Conduct chemical analyses of body fluids, suc...   29   \n",
       "5  [Operate office machines, such as photocopiers...   43   \n",
       "6  [Inspect wiring connections, control panel hoo...   47   \n",
       "7  [Study blueprints, drawings, and sketches to d...   51   \n",
       "\n",
       "                                            gen_task     score  \\\n",
       "0  [Oversee daily operations of hotel staff and d...  0.506096   \n",
       "1  [Design nanoscale devices, Develop materials w...  0.579940   \n",
       "2  [Monitoring wildlife populations, Conducting r...  0.491694   \n",
       "3  [Developing educational programs for farmers a...  0.486222   \n",
       "4  [Perform blood tests, Conduct DNA analysis, Ex...  0.542772   \n",
       "5  [file organization, data entry, office supplie...  0.437339   \n",
       "6  [Install new elevators and escalators in build...  0.484159   \n",
       "7  [Create detailed metal prototypes, Design plas...  0.474785   \n",
       "\n",
       "                                              matrix  \\\n",
       "0  [[0.7160055637, 0.5102865696000001, 0.49521067...   \n",
       "1  [[0.375482142, 0.2953431904, 0.3431423008, 0.3...   \n",
       "2  [[0.3371816874, 0.5201646090000001, 0.65123611...   \n",
       "3  [[0.6298267841, 0.5968769193, 0.4857193232, 0....   \n",
       "4  [[0.5053529739, 0.5535107255, 0.63985103370000...   \n",
       "5  [[0.0751385391, 0.3463429213, 0.4340895712, 0....   \n",
       "6  [[0.2610115409, 0.3832697868, 0.567276895, 0.4...   \n",
       "7  [[0.4137884378, 0.4837269187, 0.40668565030000...   \n",
       "\n",
       "                                           ref_order  \\\n",
       "0  [0, 2, 3, 4, 5, 6, 7, 8, 9, 10, 12, 13, 14, 15...   \n",
       "1  [0, 1, 2, 3, 4, 5, 6, 8, 9, 10, 11, 12, 13, 14...   \n",
       "2  [0, 1, 2, 3, 4, 5, 6, 7, 8, 9, 10, 11, 12, 13,...   \n",
       "3             [0, 1, 2, 3, 4, 5, 6, 7, 8, 9, 10, 11]   \n",
       "4                                 [0, 1, 2, 3, 4, 5]   \n",
       "5             [0, 1, 2, 3, 4, 5, 6, 7, 8, 9, 10, 11]   \n",
       "6  [0, 1, 2, 3, 4, 5, 6, 7, 8, 9, 10, 11, 12, 13,...   \n",
       "7     [0, 1, 2, 3, 4, 5, 6, 7, 8, 9, 10, 11, 12, 13]   \n",
       "\n",
       "                                           gen_order        code  zone  \n",
       "0  [11, 1, 14, 16, 2, 3, 18, 13, 6, 15, 9, 5, 4, ...  11-9081.00     4  \n",
       "1  [6, 7, 2, 5, 12, 14, 9, 8, 15, 11, 10, 4, 13, ...  17-2199.09     5  \n",
       "2  [24, 2, 21, 7, 25, 13, 3, 19, 17, 12, 16, 27, ...  19-1031.00     4  \n",
       "3             [5, 8, 11, 10, 4, 3, 1, 2, 7, 9, 6, 0]  25-9021.00     5  \n",
       "4                                 [2, 4, 3, 1, 0, 5]  29-2012.00     3  \n",
       "5             [8, 4, 11, 1, 0, 6, 7, 9, 3, 5, 2, 10]  43-9061.00     2  \n",
       "6  [9, 12, 1, 13, 14, 6, 15, 7, 3, 4, 8, 10, 2, 1...  47-4021.00     3  \n",
       "7     [13, 9, 8, 4, 2, 12, 5, 3, 10, 0, 11, 1, 6, 7]  51-4061.00     3  "
      ]
     },
     "execution_count": 57,
     "metadata": {},
     "output_type": "execute_result"
    }
   ],
   "source": [
    "#get jobzone df\n",
    "jz = pd.read_excel('datasets/job_zone.xlsx')\n",
    "jz.columns = jz.columns.str.lower().str.replace(\" \",\"_\")\n",
    "jz = jz.drop(labels=['date', 'domain_source'], axis=1)   \n",
    "jz = jz.rename(columns={'o*net-soc_code':'code', 'job_zone':'zone'})\n",
    "\n",
    "#merge the two dataframes on title\n",
    "df = pd.merge(df, jz, on='title', how='left')\n",
    "df"
   ]
  },
  {
   "cell_type": "code",
   "execution_count": 58,
   "metadata": {},
   "outputs": [
    {
     "data": {
      "text/plain": [
       "Text(0.5, 1.0, 'mean similarity score by industry')"
      ]
     },
     "execution_count": 58,
     "metadata": {},
     "output_type": "execute_result"
    },
    {
     "data": {
      "image/png": "[encoded data removed]",
      "text/plain": [
       "<Figure size 640x480 with 1 Axes>"
      ]
     },
     "metadata": {},
     "output_type": "display_data"
    }
   ],
   "source": [
    "# get mean similarity score base on industry\n",
    "mean_score = df.groupby(\"ind\")[\"score\"].mean()\n",
    "#add a average line\n",
    "\n",
    "\n",
    "#plot the series using column chat\n",
    "sns.barplot(mean_score, order=mean_score.sort_values().index)\n",
    "#add a average line\n",
    "plt.axhline(y=mean_score.mean(), color='r', linestyle='--')\n",
    "\n",
    "plt.title(\"mean similarity score by industry\")"
   ]
  },
  {
   "cell_type": "code",
   "execution_count": 59,
   "metadata": {},
   "outputs": [
    {
     "data": {
      "text/plain": [
       "Text(0.5, 1.0, 'mean similarity score by job zone')"
      ]
     },
     "execution_count": 59,
     "metadata": {},
     "output_type": "execute_result"
    },
    {
     "data": {
      "image/png": "[encoded data removed]",
      "text/plain": [
       "<Figure size 640x480 with 1 Axes>"
      ]
     },
     "metadata": {},
     "output_type": "display_data"
    }
   ],
   "source": [
    "#plot similarity score by job zone\n",
    "mean_score = df.groupby(\"zone\")[\"score\"].mean()\n",
    "sns.barplot(mean_score, order=mean_score.sort_values().index)\n",
    "plt.title(\"mean similarity score by job zone\")"
   ]
  },
  {
   "cell_type": "code",
   "execution_count": 60,
   "metadata": {},
   "outputs": [
    {
     "data": {
      "text/html": [
       "<div>\n",
       "<style scoped>\n",
       "    .dataframe tbody tr th:only-of-type {\n",
       "        vertical-align: middle;\n",
       "    }\n",
       "\n",
       "    .dataframe tbody tr th {\n",
       "        vertical-align: top;\n",
       "    }\n",
       "\n",
       "    .dataframe thead th {\n",
       "        text-align: right;\n",
       "    }\n",
       "</style>\n",
       "<table border=\"1\" class=\"dataframe\">\n",
       "  <thead>\n",
       "    <tr style=\"text-align: right;\">\n",
       "      <th></th>\n",
       "      <th>title</th>\n",
       "      <th>ref_task</th>\n",
       "      <th>ind</th>\n",
       "      <th>gen_task</th>\n",
       "      <th>score</th>\n",
       "      <th>matrix</th>\n",
       "      <th>ref_order</th>\n",
       "      <th>gen_order</th>\n",
       "      <th>code</th>\n",
       "      <th>zone</th>\n",
       "    </tr>\n",
       "  </thead>\n",
       "  <tbody>\n",
       "    <tr>\n",
       "      <th>1</th>\n",
       "      <td>Nanosystems Engineers</td>\n",
       "      <td>[Provide scientific or technical guidance or e...</td>\n",
       "      <td>17</td>\n",
       "      <td>[Design nanoscale devices, Develop materials w...</td>\n",
       "      <td>0.57994</td>\n",
       "      <td>[[0.375482142, 0.2953431904, 0.3431423008, 0.3...</td>\n",
       "      <td>[0, 1, 2, 3, 4, 5, 6, 8, 9, 10, 11, 12, 13, 14...</td>\n",
       "      <td>[6, 7, 2, 5, 12, 14, 9, 8, 15, 11, 10, 4, 13, ...</td>\n",
       "      <td>17-2199.09</td>\n",
       "      <td>5</td>\n",
       "    </tr>\n",
       "  </tbody>\n",
       "</table>\n",
       "</div>"
      ],
      "text/plain": [
       "                   title                                           ref_task  \\\n",
       "1  Nanosystems Engineers  [Provide scientific or technical guidance or e...   \n",
       "\n",
       "   ind                                           gen_task    score  \\\n",
       "1   17  [Design nanoscale devices, Develop materials w...  0.57994   \n",
       "\n",
       "                                              matrix  \\\n",
       "1  [[0.375482142, 0.2953431904, 0.3431423008, 0.3...   \n",
       "\n",
       "                                           ref_order  \\\n",
       "1  [0, 1, 2, 3, 4, 5, 6, 8, 9, 10, 11, 12, 13, 14...   \n",
       "\n",
       "                                           gen_order        code  zone  \n",
       "1  [6, 7, 2, 5, 12, 14, 9, 8, 15, 11, 10, 4, 13, ...  17-2199.09     5  "
      ]
     },
     "execution_count": 60,
     "metadata": {},
     "output_type": "execute_result"
    }
   ],
   "source": [
    "max_similarity = df[df[\"score\"] == df[\"score\"].max()]\n",
    "max_similarity"
   ]
  },
  {
   "cell_type": "code",
   "execution_count": 61,
   "metadata": {},
   "outputs": [
    {
     "data": {
      "text/plain": [
       "Text(0.5, 1.0, 'similarity matrix of Nanosystems Engineers')"
      ]
     },
     "execution_count": 61,
     "metadata": {},
     "output_type": "execute_result"
    },
    {
     "data": {
      "image/png": "[encoded data removed]",
      "text/plain": [
       "<Figure size 640x480 with 2 Axes>"
      ]
     },
     "metadata": {},
     "output_type": "display_data"
    }
   ],
   "source": [
    "x = max_similarity.index.values[0]\n",
    "matrix = np.array(df[\"matrix\"][x])\n",
    "order = df[\"gen_order\"][x]\n",
    "\n",
    "rearranged_matrix = matrix[:, order]\n",
    "sns.heatmap(rearranged_matrix, cmap=\"rocket\")\n",
    "plt.xlabel(\"generated task\")\n",
    "plt.ylabel(\"reference task\")\n",
    "plt.title(\"similarity matrix of \" + df[\"title\"][x])"
   ]
  },
  {
   "cell_type": "code",
   "execution_count": 62,
   "metadata": {},
   "outputs": [
    {
     "data": {
      "text/html": [
       "<div>\n",
       "<style scoped>\n",
       "    .dataframe tbody tr th:only-of-type {\n",
       "        vertical-align: middle;\n",
       "    }\n",
       "\n",
       "    .dataframe tbody tr th {\n",
       "        vertical-align: top;\n",
       "    }\n",
       "\n",
       "    .dataframe thead th {\n",
       "        text-align: right;\n",
       "    }\n",
       "</style>\n",
       "<table border=\"1\" class=\"dataframe\">\n",
       "  <thead>\n",
       "    <tr style=\"text-align: right;\">\n",
       "      <th></th>\n",
       "      <th>title</th>\n",
       "      <th>ref_task</th>\n",
       "      <th>ind</th>\n",
       "      <th>gen_task</th>\n",
       "      <th>score</th>\n",
       "      <th>matrix</th>\n",
       "      <th>ref_order</th>\n",
       "      <th>gen_order</th>\n",
       "      <th>code</th>\n",
       "      <th>zone</th>\n",
       "    </tr>\n",
       "  </thead>\n",
       "  <tbody>\n",
       "    <tr>\n",
       "      <th>5</th>\n",
       "      <td>Office Clerks, General</td>\n",
       "      <td>[Operate office machines, such as photocopiers...</td>\n",
       "      <td>43</td>\n",
       "      <td>[file organization, data entry, office supplie...</td>\n",
       "      <td>0.437339</td>\n",
       "      <td>[[0.0751385391, 0.3463429213, 0.4340895712, 0....</td>\n",
       "      <td>[0, 1, 2, 3, 4, 5, 6, 7, 8, 9, 10, 11]</td>\n",
       "      <td>[8, 4, 11, 1, 0, 6, 7, 9, 3, 5, 2, 10]</td>\n",
       "      <td>43-9061.00</td>\n",
       "      <td>2</td>\n",
       "    </tr>\n",
       "  </tbody>\n",
       "</table>\n",
       "</div>"
      ],
      "text/plain": [
       "                    title                                           ref_task  \\\n",
       "5  Office Clerks, General  [Operate office machines, such as photocopiers...   \n",
       "\n",
       "   ind                                           gen_task     score  \\\n",
       "5   43  [file organization, data entry, office supplie...  0.437339   \n",
       "\n",
       "                                              matrix  \\\n",
       "5  [[0.0751385391, 0.3463429213, 0.4340895712, 0....   \n",
       "\n",
       "                                ref_order  \\\n",
       "5  [0, 1, 2, 3, 4, 5, 6, 7, 8, 9, 10, 11]   \n",
       "\n",
       "                                gen_order        code  zone  \n",
       "5  [8, 4, 11, 1, 0, 6, 7, 9, 3, 5, 2, 10]  43-9061.00     2  "
      ]
     },
     "execution_count": 62,
     "metadata": {},
     "output_type": "execute_result"
    }
   ],
   "source": [
    "min_similarity = df[df[\"score\"] == df[\"score\"].min()]\n",
    "min_similarity"
   ]
  },
  {
   "cell_type": "code",
   "execution_count": 63,
   "metadata": {},
   "outputs": [
    {
     "data": {
      "text/plain": [
       "Text(0.5, 1.0, 'similarity matrix of Office Clerks, General')"
      ]
     },
     "execution_count": 63,
     "metadata": {},
     "output_type": "execute_result"
    },
    {
     "data": {
      "image/png": "[encoded data removed]",
      "text/plain": [
       "<Figure size 640x480 with 2 Axes>"
      ]
     },
     "metadata": {},
     "output_type": "display_data"
    }
   ],
   "source": [
    "x = min_similarity.index.values[0]\n",
    "matrix = np.array(df[\"matrix\"][x])\n",
    "order = df[\"gen_order\"][x]\n",
    "\n",
    "rearranged_matrix = matrix[:, order]\n",
    "sns.heatmap(rearranged_matrix, cmap=\"rocket\")\n",
    "plt.xlabel(\"generated task\")\n",
    "plt.ylabel(\"reference task\")\n",
    "plt.title(\"similarity matrix of \" + df[\"title\"][x])"
   ]
  },
  {
   "cell_type": "code",
   "execution_count": 64,
   "metadata": {},
   "outputs": [
    {
     "name": "stderr",
     "output_type": "stream",
     "text": [
      "C:\\Users\\godfr\\AppData\\Local\\Temp\\ipykernel_34192\\730366682.py:7: SettingWithCopyWarning: \n",
      "A value is trying to be set on a copy of a slice from a DataFrame.\n",
      "Try using .loc[row_indexer,col_indexer] = value instead\n",
      "\n",
      "See the caveats in the documentation: https://pandas.pydata.org/pandas-docs/stable/user_guide/indexing.html#returning-a-view-versus-a-copy\n",
      "  df_test[\"rearranged_matrix\"] = df_test.apply(lambda x : rearrange_matrix(np.array(x[\"matrix\"]), x[\"gen_order\"]), axis=1)\n"
     ]
    }
   ],
   "source": [
    "#create a df dropping the rows with matrix shape not equal to (x, x)\n",
    "df_test = df[df[\"matrix\"].apply(lambda x : np.shape(x)[0] == np.shape(x)[1])]\n",
    "#define a function to rearrange matrix based on gen_order\n",
    "def rearrange_matrix(matrix, order):\n",
    "    return matrix[:, order]\n",
    "#apply the function to the matrix column\n",
    "df_test[\"rearranged_matrix\"] = df_test.apply(lambda x : rearrange_matrix(np.array(x[\"matrix\"]), x[\"gen_order\"]), axis=1)\n",
    "\n"
   ]
  },
  {
   "cell_type": "code",
   "execution_count": 65,
   "metadata": {},
   "outputs": [],
   "source": [
    "# find the best rearranged matrix\n",
    "def is_diagonally_dominant(rearranged_matrix):\n",
    "    D = np.abs(np.diag(rearranged_matrix))\n",
    "    S = np.sum(np.abs(rearranged_matrix), axis=1) - D\n",
    "    return np.all(D >= S)\n",
    "\n",
    "def calculate_score(rearranged_matrix):\n",
    "    score = 0\n",
    "    for i in range(np.shape(rearranged_matrix)[0]):\n",
    "        max_off_diagonal = max(abs(rearranged_matrix[i][j]) for j in range(np.shape(rearranged_matrix)[1]) if j != i)\n",
    "        score += abs(rearranged_matrix[i][i]) - max_off_diagonal\n",
    "    return score\n",
    "\n",
    "def find_best_rearranged_matrix(df):\n",
    "    best_score = -float('inf')\n",
    "    best_index = None\n",
    "    for index, row in df.iterrows():\n",
    "        rearranged_matrix = row['rearranged_matrix']\n",
    "        if is_diagonally_dominant(rearranged_matrix):\n",
    "            score = calculate_score(rearranged_matrix)\n",
    "            if score > best_score:\n",
    "                best_score = score\n",
    "                best_index = index\n",
    "    if best_index is not None:\n",
    "        return best_index, best_score\n",
    "    else:\n",
    "        # If no diagonally dominant rearranged_matrix found, consider all with highest score\n",
    "        for index, row in df.iterrows():\n",
    "            rearranged_matrix = row['rearranged_matrix']\n",
    "            score = calculate_score(rearranged_matrix)\n",
    "            if score > best_score:\n",
    "                best_score = score\n",
    "                best_index = index\n",
    "        return best_index, best_score"
   ]
  },
  {
   "cell_type": "code",
   "execution_count": 66,
   "metadata": {},
   "outputs": [
    {
     "name": "stdout",
     "output_type": "stream",
     "text": [
      "The best rearranged_matrix is at index 5 with score 0.4876396656\n"
     ]
    }
   ],
   "source": [
    "# Example usage\n",
    "index, score = find_best_rearranged_matrix(df_test)\n",
    "if index is not None:\n",
    "    print(f\"The best rearranged_matrix is at index {index} with score {score}\")\n",
    "else:\n",
    "    print(\"No suitable rearranged_matrix found.\")"
   ]
  },
  {
   "cell_type": "code",
   "execution_count": 67,
   "metadata": {},
   "outputs": [
    {
     "data": {
      "image/png": "[encoded data removed]",
      "text/plain": [
       "<Figure size 640x480 with 2 Axes>"
      ]
     },
     "metadata": {},
     "output_type": "display_data"
    }
   ],
   "source": [
    "x = index\n",
    "matrix = np.array(df[\"matrix\"][x])\n",
    "order = df[\"gen_order\"][x]\n",
    "\n",
    "rearranged_matrix = matrix[:, order]\n",
    "sns.heatmap(rearranged_matrix, cmap=\"rocket\")\n",
    "plt.xlabel(\"generated task\")\n",
    "plt.ylabel(\"reference task\")\n",
    "plt.title(\"similarity matrix of \" + df[\"title\"][x])\n",
    "#save the plot under the folder name results\n",
    "plt.savefig(\"results/similarity_matrix\"+ df[\"title\"][x] + \".png\")"
   ]
  },
  {
   "cell_type": "code",
   "execution_count": 6,
   "metadata": {},
   "outputs": [],
   "source": [
    "mean = df[\"score\"].mean()\n",
    "np.save(folder_name + \"/score.npy\", mean)"
   ]
  }
 ],
 "metadata": {
  "kernelspec": {
   "display_name": "Python 3",
   "language": "python",
   "name": "python3"
  },
  "language_info": {
   "codemirror_mode": {
    "name": "ipython",
    "version": 3
   },
   "file_extension": ".py",
   "mimetype": "text/x-python",
   "name": "python",
   "nbconvert_exporter": "python",
   "pygments_lexer": "ipython3",
   "version": "3.12.4"
  }
 },
 "nbformat": 4,
 "nbformat_minor": 2
}
