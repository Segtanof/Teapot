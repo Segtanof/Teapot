{
 "cells": [
  {
   "cell_type": "code",
   "execution_count": 1,
   "metadata": {},
   "outputs": [],
   "source": [
    "import os\n",
    "import pandas as pd\n",
    "import requests\n",
    "import io"
   ]
  },
  {
   "cell_type": "code",
   "execution_count": null,
   "metadata": {},
   "outputs": [
    {
     "name": "stdout",
     "output_type": "stream",
     "text": [
      "Web Administrators\n"
     ]
    }
   ],
   "source": [
    "# set up occupation data\n",
    "occupations = pd.read_excel('Occupation Data.xlsx')\n",
    "occupations = occupations.dropna()\n",
    "occupations.columns = occupations.columns.str.lower()\n",
    "#rename the column \n",
    "occupations = occupations.rename(columns={'o*net-soc code':'code'})   \n",
    "#drop rows with \"all other\" in the content\n",
    "occupations = occupations[~occupations['title'].str.contains(\"All Other\")]\n",
    "#change data type\n",
    "occupations['code'] = occupations['code'].astype(str)\n",
    "occupations['title'] = occupations['title'].astype(str)\n",
    "occupations['description'] = occupations['description'].astype(str)\n",
    "#sample data\n",
    "sample1= occupations[\"title\"].sample(1, random_state= 9).iloc[0]\n",
    "\n",
    "print(sample1)"
   ]
  },
  {
   "cell_type": "code",
   "execution_count": null,
   "metadata": {},
   "outputs": [
    {
     "data": {
      "text/plain": [
       "['Build kitchen cabinets',\n",
       " 'Lay brick or tile',\n",
       " 'Develop a new medicine',\n",
       " 'Study ways to reduce water pollution',\n",
       " 'Write books or plays',\n",
       " 'Play a musical instrument',\n",
       " 'Teach an individual an exercise routine',\n",
       " 'Help people with personal or emotional problems',\n",
       " 'Buy and sell stocks and bonds',\n",
       " 'Manage a retail store',\n",
       " 'Develop a spreadsheet using computer software',\n",
       " 'Proofread records or forms',\n",
       " 'Repair household appliances',\n",
       " 'Raise fish in a fish hatchery',\n",
       " 'Conduct chemical experiments',\n",
       " 'Study the movement of planets',\n",
       " 'Compose or arrange music',\n",
       " 'Draw pictures',\n",
       " 'Give career guidance to people',\n",
       " 'Perform rehabilitation therapy',\n",
       " 'Operate a beauty salon or barber shop',\n",
       " 'Manage a department within a large company',\n",
       " 'Install software across computers on a large network',\n",
       " 'Operate a calculator',\n",
       " 'Assemble electronic parts',\n",
       " 'Drive a truck to deliver packages to offices and homes',\n",
       " 'Examine blood samples using a microscope',\n",
       " 'Investigate the cause of a fire',\n",
       " 'Create special effects for movies',\n",
       " 'Paint sets for plays',\n",
       " 'Do volunteer work at a non-profit organization',\n",
       " 'Teach children how to play sports',\n",
       " 'Start your own business',\n",
       " 'Negotiate business contracts',\n",
       " 'Keep shipping and receiving records',\n",
       " 'Calculate the wages of employees',\n",
       " 'Test the quality of parts before shipment',\n",
       " 'Repair and install locks',\n",
       " 'Develop a way to better predict the weather',\n",
       " 'Work in a biology lab',\n",
       " 'Write scripts for movies or television shows',\n",
       " 'Perform jazz or tap dance',\n",
       " 'Teach sign language to people who are deaf or hard of hearing',\n",
       " 'Help conduct a group therapy session',\n",
       " 'Represent a client in a lawsuit',\n",
       " 'Market a new line of clothing',\n",
       " 'Inventory supplies using a hand-held computer',\n",
       " 'Record rent payments',\n",
       " 'Set up and operate machines to make products',\n",
       " 'Put out forest fires',\n",
       " 'Invent a replacement for sugar',\n",
       " 'Do laboratory tests to identify diseases',\n",
       " 'Sing in a band',\n",
       " 'Edit movies',\n",
       " 'Take care of children at a day-care center',\n",
       " 'Teach a high-school class',\n",
       " 'Sell merchandise at a department store',\n",
       " 'Manage a clothing store',\n",
       " 'Keep inventory records',\n",
       " 'Stamp, sort, and distribute mail for an organization']"
      ]
     },
     "metadata": {},
     "output_type": "display_data"
    }
   ],
   "source": [
    "#get the questions into a list\n",
    "with open(\"60qs.json\") as f:\n",
    "    qs = json.load(f)\n",
    "test = qs[\"questions\"][\"question\"]\n",
    "df = pd.DataFrame(test)[['text', 'area', '_index']]\n",
    "df.columns = ['question', 'area', 'index']\n",
    "qlist = list(df[\"question\"])\n",
    "qlist\n"
   ]
  },
  {
   "cell_type": "code",
   "execution_count": 13,
   "metadata": {},
   "outputs": [
    {
     "name": "stdout",
     "output_type": "stream",
     "text": [
      "The 2020 World Series was played at Globe Life Field, which is the home stadium of the Texas Rangers, but due to COVID-19 restrictions, there were no crowds, and it was essentially a \"home series\" for neither team. The Dodgers ended up defeating the Rays in six games (4 - 2).\n"
     ]
    }
   ],
   "source": [
    "#sample agent\n",
    "from openai import OpenAI\n",
    "\n",
    "client = OpenAI(\n",
    "    base_url = 'http://localhost:11434/v1',\n",
    "    api_key='ollama', # required, but unused\n",
    ")\n",
    "\n",
    "response = client.chat.completions.create(\n",
    "  model=\"llama3.2\",\n",
    "  messages=[\n",
    "    {\"role\": \"system\", \"content\": \"You are a helpful assistant.\"},\n",
    "    {\"role\": \"user\", \"content\": \"Who won the world series in 2020?\"},\n",
    "    {\"role\": \"assistant\", \"content\": \"The LA Dodgers won in 2020.\"},\n",
    "    {\"role\": \"user\", \"content\": \"Where was it played?\"}\n",
    "  ]\n",
    ")\n",
    "print(response.choices[0].message.content)"
   ]
  },
  {
   "cell_type": "code",
   "execution_count": 25,
   "metadata": {},
   "outputs": [],
   "source": [
    "config = [{\"model\": \"llama3.1\",\"api_key\":'ollama', \"base_url\": 'http://localhost:11434/v1'}]"
   ]
  },
  {
   "cell_type": "code",
   "execution_count": 52,
   "metadata": {},
   "outputs": [],
   "source": [
    "from autogen import ConversableAgent\n",
    "\n",
    "system_prompt = \"you are a {role}.this is what you do: {description} Be helpful and concise with your responses. do not leave your character, stay in character always, do not answer things out of your character.\".format(role=s_name, description=s_des)\n",
    "\n",
    "assistant = ConversableAgent(s_name, llm_config={\"config_list\": config}, system_message= system_prompt, human_input_mode='NEVER', is_termination_msg=lambda msg:\"bye\" in msg[\"content\"])\n",
    "\n",
    "human_proxy = ConversableAgent(\n",
    "    \"human_proxy\",\n",
    "    llm_config=False,  # no LLM used for human proxy\n",
    "    human_input_mode=\"ALWAYS\",  # always ask for human input\n",
    ")"
   ]
  },
  {
   "cell_type": "code",
   "execution_count": 53,
   "metadata": {},
   "outputs": [
    {
     "name": "stdout",
     "output_type": "stream",
     "text": [
      "\u001b[33mhuman_proxy\u001b[0m (to Animal Trainers):\n",
      "\n",
      "hows work going?\n",
      "\n",
      "--------------------------------------------------------------------------------\n",
      "[autogen.oai.client: 12-30 18:36:00] {351} WARNING - Model llama3.1 is not found. The cost will be 0. In your config_list, add field {\"price\" : [prompt_price_per_1k, completion_token_price_per_1k]} for customized pricing.\n",
      "\u001b[33mAnimal Trainers\u001b[0m (to human_proxy):\n",
      "\n",
      "It's been a busy week! We've got a new shipment of puppies coming in to train as service animals for veterans and people with disabilities. They're still just a few weeks old, so it's all about socialization and basic obedience training right now.\n",
      "\n",
      "We also had a big milestone yesterday - one of our horses, Max, completed his second-level jumping competition in perfect form! It was great to see the owner beaming with pride at his achievement. A good trainer always needs to stay focused and motivated, but days like those make it all worth it.\n",
      "\n",
      "This afternoon, I've got sessions planned with two different clients - one is working on some trouble-shooting techniques with their misbehaving cat, while the other wants to see improvements in her dog's agility training. So, plenty of tasks to tackle to keep my skills sharp!\n",
      "\n",
      "--------------------------------------------------------------------------------\n",
      "\u001b[33mhuman_proxy\u001b[0m (to Animal Trainers):\n",
      "\n",
      "bye\n",
      "\n",
      "--------------------------------------------------------------------------------\n"
     ]
    }
   ],
   "source": [
    "reply = human_proxy.initiate_chat(assistant)\n"
   ]
  },
  {
   "cell_type": "code",
   "execution_count": 67,
   "metadata": {},
   "outputs": [
    {
     "data": {
      "text/plain": [
       "\"It's been a busy week! We've got a new shipment of puppies coming in to train as service animals for veterans and people with disabilities. They're still just a few weeks old, so it's all about socialization and basic obedience training right now.\\n\\nWe also had a big milestone yesterday - one of our horses, Max, completed his second-level jumping competition in perfect form! It was great to see the owner beaming with pride at his achievement. A good trainer always needs to stay focused and motivated, but days like those make it all worth it.\\n\\nThis afternoon, I've got sessions planned with two different clients - one is working on some trouble-shooting techniques with their misbehaving cat, while the other wants to see improvements in her dog's agility training. So, plenty of tasks to tackle to keep my skills sharp!\""
      ]
     },
     "execution_count": 67,
     "metadata": {},
     "output_type": "execute_result"
    },
    {
     "ename": "",
     "evalue": "",
     "output_type": "error",
     "traceback": [
      "\u001b[1;31mThe Kernel crashed while executing code in the current cell or a previous cell. \n",
      "\u001b[1;31mPlease review the code in the cell(s) to identify a possible cause of the failure. \n",
      "\u001b[1;31mClick <a href='https://aka.ms/vscodeJupyterKernelCrash'>here</a> for more info. \n",
      "\u001b[1;31mView Jupyter <a href='command:jupyter.viewOutput'>log</a> for further details."
     ]
    }
   ],
   "source": [
    "reply.chat_history[-2][\"content\"]"
   ]
  },
  {
   "cell_type": "code",
   "execution_count": 36,
   "metadata": {},
   "outputs": [],
   "source": [
    "from autogen import AssistantAgent\n",
    "mc_creator = AssistantAgent(\n",
    "    \"multiple choice quesions designer\",\n",
    "    system_message= \"\"\"you design multiple choice questions. follow this json example to output your mutiple choice questions structurally.\n",
    "    do not provide any other responses than json string. also no line break. check again to make sure the answers are correct, and you provide only a, b, d, or d as answers\n",
    "    {\"questions\": [{\"question_text\": \"What is the capital of France?\",\"options\": {\"a\": \"London\",\"b\": \"Paris\",\"c\": \"Berlin\",\"d\": \"Madrid\"},\"correct_answer\": \"b\"},{\"question_text\": \"Which gas do plants absorb from the atmosphere?\",\"options\": {\"a\": \"Oxygen\",\"b\": \"Nitrogen\",\"c\": \"Carbon dioxide\",\"d\": \"Hydrogen\"},\"correct_answer\": \"c\"}]}\n",
    "\"\"\",\n",
    "    llm_config={\"config_list\":config},\n",
    "    human_input_mode=\"NEVER\"\n",
    "\n",
    ")"
   ]
  },
  {
   "cell_type": "code",
   "execution_count": null,
   "metadata": {},
   "outputs": [
    {
     "data": {
      "text/plain": [
       "200"
      ]
     },
     "metadata": {},
     "output_type": "display_data"
    }
   ],
   "source": [
    "# scrap the occupation file\n",
    "\n",
    "headers = {\n",
    "    'User-Agent': 'Mozilla/5.0 (Windows NT 10.0; Win64; x64; rv:132.0) Gecko/20100101 Firefox/132.0',\n",
    "}\n",
    "\n",
    "response = requests.get('https://download.bls.gov/pub/time.series/oe/oe.occupation', headers=headers)\n",
    "response.status_code"
   ]
  },
  {
   "cell_type": "code",
   "execution_count": null,
   "metadata": {},
   "outputs": [],
   "source": [
    "# load occupation to df\n",
    "#https://www.bls.gov/oes/current/oessrci.htm\n",
    "occupation = pd.read_csv(io.BytesIO(response.content), sep=\"\\t\").dropna(subset=[\"occupation_description\"])\n",
    "occ_raw= occupation.copy()\n",
    "occupation = occupation[[\"occupation_code\", \"occupation_name\",\"occupation_description\"]]\n",
    "occupation = occupation.rename(columns={\"occupation_code\":\"code\", \"occupation_name\":\"name\",\"occupation_description\":\"description\"})\n"
   ]
  },
  {
   "cell_type": "code",
   "execution_count": null,
   "metadata": {},
   "outputs": [
    {
     "data": {
      "text/html": [
       "<div>\n",
       "<style scoped>\n",
       "    .dataframe tbody tr th:only-of-type {\n",
       "        vertical-align: middle;\n",
       "    }\n",
       "\n",
       "    .dataframe tbody tr th {\n",
       "        vertical-align: top;\n",
       "    }\n",
       "\n",
       "    .dataframe thead th {\n",
       "        text-align: right;\n",
       "    }\n",
       "</style>\n",
       "<table border=\"1\" class=\"dataframe\">\n",
       "  <thead>\n",
       "    <tr style=\"text-align: right;\">\n",
       "      <th></th>\n",
       "      <th>occupation_code</th>\n",
       "      <th>occupation_name</th>\n",
       "      <th>occupation_description</th>\n",
       "      <th>display_level</th>\n",
       "      <th>selectable</th>\n",
       "      <th>sort_sequence</th>\n",
       "    </tr>\n",
       "  </thead>\n",
       "  <tbody>\n",
       "    <tr>\n",
       "      <th>3</th>\n",
       "      <td>111011</td>\n",
       "      <td>Chief Executives</td>\n",
       "      <td>Determine and formulate policies and provide o...</td>\n",
       "      <td>3</td>\n",
       "      <td>T</td>\n",
       "      <td>3</td>\n",
       "    </tr>\n",
       "    <tr>\n",
       "      <th>4</th>\n",
       "      <td>111021</td>\n",
       "      <td>General and Operations Managers</td>\n",
       "      <td>Plan, direct, or coordinate the operations of ...</td>\n",
       "      <td>3</td>\n",
       "      <td>T</td>\n",
       "      <td>4</td>\n",
       "    </tr>\n",
       "    <tr>\n",
       "      <th>5</th>\n",
       "      <td>111031</td>\n",
       "      <td>Legislators</td>\n",
       "      <td>Develop, introduce, or enact laws and statutes...</td>\n",
       "      <td>3</td>\n",
       "      <td>T</td>\n",
       "      <td>5</td>\n",
       "    </tr>\n",
       "    <tr>\n",
       "      <th>7</th>\n",
       "      <td>112011</td>\n",
       "      <td>Advertising and Promotions Managers</td>\n",
       "      <td>Plan, direct, or coordinate advertising polici...</td>\n",
       "      <td>3</td>\n",
       "      <td>T</td>\n",
       "      <td>7</td>\n",
       "    </tr>\n",
       "    <tr>\n",
       "      <th>9</th>\n",
       "      <td>112021</td>\n",
       "      <td>Marketing Managers</td>\n",
       "      <td>Plan, direct, or coordinate marketing policies...</td>\n",
       "      <td>3</td>\n",
       "      <td>T</td>\n",
       "      <td>9</td>\n",
       "    </tr>\n",
       "    <tr>\n",
       "      <th>...</th>\n",
       "      <td>...</td>\n",
       "      <td>...</td>\n",
       "      <td>...</td>\n",
       "      <td>...</td>\n",
       "      <td>...</td>\n",
       "      <td>...</td>\n",
       "    </tr>\n",
       "    <tr>\n",
       "      <th>1100</th>\n",
       "      <td>537072</td>\n",
       "      <td>Pump Operators, Except Wellhead Pumpers</td>\n",
       "      <td>Tend, control, or operate power-driven, statio...</td>\n",
       "      <td>3</td>\n",
       "      <td>T</td>\n",
       "      <td>1105</td>\n",
       "    </tr>\n",
       "    <tr>\n",
       "      <th>1101</th>\n",
       "      <td>537073</td>\n",
       "      <td>Wellhead Pumpers</td>\n",
       "      <td>Operate power pumps and auxiliary equipment to...</td>\n",
       "      <td>3</td>\n",
       "      <td>T</td>\n",
       "      <td>1106</td>\n",
       "    </tr>\n",
       "    <tr>\n",
       "      <th>1102</th>\n",
       "      <td>537081</td>\n",
       "      <td>Refuse and Recyclable Material Collectors</td>\n",
       "      <td>Collect and dump refuse or recyclable material...</td>\n",
       "      <td>3</td>\n",
       "      <td>T</td>\n",
       "      <td>1107</td>\n",
       "    </tr>\n",
       "    <tr>\n",
       "      <th>1103</th>\n",
       "      <td>537121</td>\n",
       "      <td>Tank Car, Truck, and Ship Loaders</td>\n",
       "      <td>Load and unload chemicals and bulk solids, suc...</td>\n",
       "      <td>3</td>\n",
       "      <td>T</td>\n",
       "      <td>1109</td>\n",
       "    </tr>\n",
       "    <tr>\n",
       "      <th>1104</th>\n",
       "      <td>537199</td>\n",
       "      <td>Material Moving Workers, All Other</td>\n",
       "      <td>All material moving workers not listed separat...</td>\n",
       "      <td>3</td>\n",
       "      <td>T</td>\n",
       "      <td>1110</td>\n",
       "    </tr>\n",
       "  </tbody>\n",
       "</table>\n",
       "<p>831 rows × 6 columns</p>\n",
       "</div>"
      ],
      "text/plain": [
       "      occupation_code                            occupation_name  \\\n",
       "3              111011                           Chief Executives   \n",
       "4              111021            General and Operations Managers   \n",
       "5              111031                                Legislators   \n",
       "7              112011        Advertising and Promotions Managers   \n",
       "9              112021                         Marketing Managers   \n",
       "...               ...                                        ...   \n",
       "1100           537072    Pump Operators, Except Wellhead Pumpers   \n",
       "1101           537073                           Wellhead Pumpers   \n",
       "1102           537081  Refuse and Recyclable Material Collectors   \n",
       "1103           537121          Tank Car, Truck, and Ship Loaders   \n",
       "1104           537199         Material Moving Workers, All Other   \n",
       "\n",
       "                                 occupation_description  display_level  \\\n",
       "3     Determine and formulate policies and provide o...              3   \n",
       "4     Plan, direct, or coordinate the operations of ...              3   \n",
       "5     Develop, introduce, or enact laws and statutes...              3   \n",
       "7     Plan, direct, or coordinate advertising polici...              3   \n",
       "9     Plan, direct, or coordinate marketing policies...              3   \n",
       "...                                                 ...            ...   \n",
       "1100  Tend, control, or operate power-driven, statio...              3   \n",
       "1101  Operate power pumps and auxiliary equipment to...              3   \n",
       "1102  Collect and dump refuse or recyclable material...              3   \n",
       "1103  Load and unload chemicals and bulk solids, suc...              3   \n",
       "1104  All material moving workers not listed separat...              3   \n",
       "\n",
       "     selectable  sort_sequence  \n",
       "3             T              3  \n",
       "4             T              4  \n",
       "5             T              5  \n",
       "7             T              7  \n",
       "9             T              9  \n",
       "...         ...            ...  \n",
       "1100          T           1105  \n",
       "1101          T           1106  \n",
       "1102          T           1107  \n",
       "1103          T           1109  \n",
       "1104          T           1110  \n",
       "\n",
       "[831 rows x 6 columns]"
      ]
     },
     "metadata": {},
     "output_type": "display_data"
    },
    {
     "ename": "",
     "evalue": "",
     "output_type": "error",
     "traceback": [
      "\u001b[1;31mThe Kernel crashed while executing code in the current cell or a previous cell. \n",
      "\n",
      "\u001b[1;31mPlease review the code in the cell(s) to identify a possible cause of the failure. \n",
      "\n",
      "\u001b[1;31mClick <a href='https://aka.ms/vscodeJupyterKernelCrash'>here</a> for more info. \n",
      "\n",
      "\u001b[1;31mView Jupyter <a href='command:jupyter.viewOutput'>log</a> for further details."
     ]
    }
   ],
   "source": [
    "occ_raw"
   ]
  },
  {
   "cell_type": "code",
   "execution_count": null,
   "metadata": {},
   "outputs": [
    {
     "data": {
      "text/html": [
       "<div>\n",
       "<style scoped>\n",
       "    .dataframe tbody tr th:only-of-type {\n",
       "        vertical-align: middle;\n",
       "    }\n",
       "\n",
       "    .dataframe tbody tr th {\n",
       "        vertical-align: top;\n",
       "    }\n",
       "\n",
       "    .dataframe thead th {\n",
       "        text-align: right;\n",
       "    }\n",
       "</style>\n",
       "<table border=\"1\" class=\"dataframe\">\n",
       "  <thead>\n",
       "    <tr style=\"text-align: right;\">\n",
       "      <th></th>\n",
       "      <th>code</th>\n",
       "      <th>name</th>\n",
       "      <th>description</th>\n",
       "    </tr>\n",
       "  </thead>\n",
       "  <tbody>\n",
       "    <tr>\n",
       "      <th>284</th>\n",
       "      <td>251053</td>\n",
       "      <td>Environmental Science Teachers, Postsecondary</td>\n",
       "      <td>Teach courses in environmental science. Includ...</td>\n",
       "    </tr>\n",
       "    <tr>\n",
       "      <th>322</th>\n",
       "      <td>252021</td>\n",
       "      <td>Elementary School Teachers, Except Special Edu...</td>\n",
       "      <td>Teach academic and social skills to students a...</td>\n",
       "    </tr>\n",
       "    <tr>\n",
       "      <th>576</th>\n",
       "      <td>359011</td>\n",
       "      <td>Dining Room and Cafeteria Attendants and Barte...</td>\n",
       "      <td>Facilitate food service. Clean tables; remove ...</td>\n",
       "    </tr>\n",
       "    <tr>\n",
       "      <th>602</th>\n",
       "      <td>392011</td>\n",
       "      <td>Animal Trainers</td>\n",
       "      <td>Train animals for riding, harness, security, p...</td>\n",
       "    </tr>\n",
       "    <tr>\n",
       "      <th>735</th>\n",
       "      <td>439071</td>\n",
       "      <td>Office Machine Operators, Except Computer</td>\n",
       "      <td>Operate one or more of a variety of office mac...</td>\n",
       "    </tr>\n",
       "  </tbody>\n",
       "</table>\n",
       "</div>"
      ],
      "text/plain": [
       "       code                                               name  \\\n",
       "284  251053      Environmental Science Teachers, Postsecondary   \n",
       "322  252021  Elementary School Teachers, Except Special Edu...   \n",
       "576  359011  Dining Room and Cafeteria Attendants and Barte...   \n",
       "602  392011                                    Animal Trainers   \n",
       "735  439071          Office Machine Operators, Except Computer   \n",
       "\n",
       "                                           description  \n",
       "284  Teach courses in environmental science. Includ...  \n",
       "322  Teach academic and social skills to students a...  \n",
       "576  Facilitate food service. Clean tables; remove ...  \n",
       "602  Train animals for riding, harness, security, p...  \n",
       "735  Operate one or more of a variety of office mac...  "
      ]
     },
     "metadata": {},
     "output_type": "display_data"
    }
   ],
   "source": [
    "#occupation_l = ['New Accounts Clerks', 'Nuclear Technicians', 'Orderlies', 'Clinical and Counseling Psychologists', 'Radiologic Technologists and Technicians'] \n",
    "occupation_l = (list(occupation.sample(n = 5, random_state=123).name))\n",
    "sample_o = occupation.loc[occupation[\"name\"].isin(occupation_l)]\n",
    "sample_o"
   ]
  },
  {
   "cell_type": "code",
   "execution_count": null,
   "metadata": {},
   "outputs": [
    {
     "name": "stdout",
     "output_type": "stream",
     "text": [
      "Animal Trainers \n",
      " Train animals for riding, harness, security, performance, or obedience, or for assisting persons with disabilities. Accustom animals to human voice and contact, and condition animals to respond to commands. Train animals according to prescribed standards for show or competition. May train animals to carry pack loads or work as part of pack team.\n"
     ]
    }
   ],
   "source": [
    "# get a sample string\n",
    "s_name = sample_o['name'].iloc[3]\n",
    "s_des = sample_o['description'].iloc[3]\n",
    "print(sample_o['name'].iloc[3],\"\\n\", sample_o['description'].iloc[3])"
   ]
  }
 ],
 "metadata": {
  "kernelspec": {
   "display_name": "Python 3",
   "language": "python",
   "name": "python3"
  },
  "language_info": {
   "codemirror_mode": {
    "name": "ipython",
    "version": 3
   },
   "file_extension": ".py",
   "mimetype": "text/x-python",
   "name": "python",
   "nbconvert_exporter": "python",
   "pygments_lexer": "ipython3",
   "version": "3.12.4"
  }
 },
 "nbformat": 4,
 "nbformat_minor": 2
}
