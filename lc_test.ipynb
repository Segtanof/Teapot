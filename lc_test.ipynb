{
 "cells": [
  {
   "cell_type": "code",
   "execution_count": 1,
   "metadata": {},
   "outputs": [],
   "source": [
    "apikey = \"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\""
   ]
  },
  {
   "cell_type": "code",
   "execution_count": 2,
   "metadata": {},
   "outputs": [],
   "source": [
    "import json\n",
    "import getpass\n",
    "import os\n",
    "import pandas as pd\n",
    "import requests\n",
    "import io\n",
    "from langchain_core.prompts import ChatPromptTemplate, MessagesPlaceholder\n",
    "from langchain_core.messages import HumanMessage, SystemMessage, BaseMessage\n",
    "#add memory\n",
    "from langgraph.checkpoint.memory import MemorySaver\n",
    "from langgraph.graph import START, MessagesState, StateGraph\n",
    "from langgraph.graph.message import add_messages\n",
    "from typing_extensions import Annotated, TypedDict\n",
    "from typing import Sequence"
   ]
  },
  {
   "cell_type": "code",
   "execution_count": 3,
   "metadata": {},
   "outputs": [],
   "source": [
    "# define langchain requirements and set the model\n",
    "\n",
    "os.environ[\"LANGCHAIN_TRACING_V2\"] = \"true\"\n",
    "os.environ[\"LANGCHAIN_API_KEY\"] = apikey\n",
    "os.environ[\"LANGCHAIN_ENDPOINT\"]=\"https://api.smith.langchain.com\"\n",
    "os.environ[\"LANGCHAIN_PROJECT\"]=\"pr-abandoned-estrogen-14\"\n",
    "\n",
    "from langchain_ollama import ChatOllama\n",
    "\n",
    "model= ChatOllama(model=\"llama3.2\", temperature=1)"
   ]
  },
  {
   "cell_type": "code",
   "execution_count": 4,
   "metadata": {},
   "outputs": [
    {
     "data": {
      "text/plain": [
       "200"
      ]
     },
     "execution_count": 4,
     "metadata": {},
     "output_type": "execute_result"
    }
   ],
   "source": [
    "# scrap the occupation file\n",
    "\n",
    "headers = {\n",
    "    'User-Agent': 'Mozilla/5.0 (Windows NT 10.0; Win64; x64; rv:132.0) Gecko/20100101 Firefox/132.0',\n",
    "}\n",
    "\n",
    "response = requests.get('https://download.bls.gov/pub/time.series/oe/oe.occupation', headers=headers)\n",
    "response.status_code"
   ]
  },
  {
   "cell_type": "code",
   "execution_count": 5,
   "metadata": {},
   "outputs": [],
   "source": [
    "# load occupation to df\n",
    "#https://www.bls.gov/oes/current/oessrci.htm\n",
    "occupation = pd.read_csv(io.BytesIO(response.content), sep=\"\\t\").dropna(subset=[\"occupation_description\"])\n",
    "occupation = occupation[[\"occupation_code\", \"occupation_name\",\"occupation_description\"]]\n",
    "occupation = occupation.rename(columns={\"occupation_code\":\"code\", \"occupation_name\":\"name\",\"occupation_description\":\"description\"})\n"
   ]
  },
  {
   "cell_type": "code",
   "execution_count": 6,
   "metadata": {},
   "outputs": [
    {
     "data": {
      "text/html": [
       "<div>\n",
       "<style scoped>\n",
       "    .dataframe tbody tr th:only-of-type {\n",
       "        vertical-align: middle;\n",
       "    }\n",
       "\n",
       "    .dataframe tbody tr th {\n",
       "        vertical-align: top;\n",
       "    }\n",
       "\n",
       "    .dataframe thead th {\n",
       "        text-align: right;\n",
       "    }\n",
       "</style>\n",
       "<table border=\"1\" class=\"dataframe\">\n",
       "  <thead>\n",
       "    <tr style=\"text-align: right;\">\n",
       "      <th></th>\n",
       "      <th>code</th>\n",
       "      <th>name</th>\n",
       "      <th>description</th>\n",
       "    </tr>\n",
       "  </thead>\n",
       "  <tbody>\n",
       "    <tr>\n",
       "      <th>284</th>\n",
       "      <td>251053</td>\n",
       "      <td>Environmental Science Teachers, Postsecondary</td>\n",
       "      <td>Teach courses in environmental science. Includ...</td>\n",
       "    </tr>\n",
       "    <tr>\n",
       "      <th>322</th>\n",
       "      <td>252021</td>\n",
       "      <td>Elementary School Teachers, Except Special Edu...</td>\n",
       "      <td>Teach academic and social skills to students a...</td>\n",
       "    </tr>\n",
       "    <tr>\n",
       "      <th>576</th>\n",
       "      <td>359011</td>\n",
       "      <td>Dining Room and Cafeteria Attendants and Barte...</td>\n",
       "      <td>Facilitate food service. Clean tables; remove ...</td>\n",
       "    </tr>\n",
       "    <tr>\n",
       "      <th>602</th>\n",
       "      <td>392011</td>\n",
       "      <td>Animal Trainers</td>\n",
       "      <td>Train animals for riding, harness, security, p...</td>\n",
       "    </tr>\n",
       "    <tr>\n",
       "      <th>735</th>\n",
       "      <td>439071</td>\n",
       "      <td>Office Machine Operators, Except Computer</td>\n",
       "      <td>Operate one or more of a variety of office mac...</td>\n",
       "    </tr>\n",
       "  </tbody>\n",
       "</table>\n",
       "</div>"
      ],
      "text/plain": [
       "       code                                               name  \\\n",
       "284  251053      Environmental Science Teachers, Postsecondary   \n",
       "322  252021  Elementary School Teachers, Except Special Edu...   \n",
       "576  359011  Dining Room and Cafeteria Attendants and Barte...   \n",
       "602  392011                                    Animal Trainers   \n",
       "735  439071          Office Machine Operators, Except Computer   \n",
       "\n",
       "                                           description  \n",
       "284  Teach courses in environmental science. Includ...  \n",
       "322  Teach academic and social skills to students a...  \n",
       "576  Facilitate food service. Clean tables; remove ...  \n",
       "602  Train animals for riding, harness, security, p...  \n",
       "735  Operate one or more of a variety of office mac...  "
      ]
     },
     "execution_count": 6,
     "metadata": {},
     "output_type": "execute_result"
    }
   ],
   "source": [
    "#occupation_l = ['New Accounts Clerks', 'Nuclear Technicians', 'Orderlies', 'Clinical and Counseling Psychologists', 'Radiologic Technologists and Technicians'] \n",
    "occupation_l = (list(occupation.sample(n = 5, random_state=123).name))\n",
    "sample_o = occupation.loc[occupation[\"name\"].isin(occupation_l)]\n",
    "sample_o"
   ]
  },
  {
   "cell_type": "code",
   "execution_count": 8,
   "metadata": {},
   "outputs": [],
   "source": [
    "#creating prompt from jd and name.\n",
    "\n",
    "prompt_template = ChatPromptTemplate.from_messages(\n",
    "    [\n",
    "        (\n",
    "            \"system\",\n",
    "            \"You are a {name}. Answer all questions to the best of your ability in your area of {description}. Do not respond to prompts out of your domain.\",\n",
    "        ),\n",
    "        MessagesPlaceholder(variable_name=\"messages\"),\n",
    "    ]\n",
    ")"
   ]
  },
  {
   "cell_type": "code",
   "execution_count": 7,
   "metadata": {},
   "outputs": [],
   "source": [
    "# Define a new graph\n",
    "\n",
    "class State(TypedDict):\n",
    "    messages: Annotated[Sequence[BaseMessage], add_messages]\n",
    "    name: str\n",
    "    description: str\n",
    "\n",
    "\n",
    "workflow = StateGraph(state_schema=State)\n",
    "\n",
    "\n",
    "# Define the function that calls the model\n",
    "def call_model(state: State):\n",
    "    prompt = prompt_template.invoke(state)\n",
    "    response = model.invoke(prompt)\n",
    "    return {\"messages\": response}\n",
    "\n",
    "\n",
    "# Define the (single) node in the graph\n",
    "workflow.add_edge(START, \"model\")\n",
    "workflow.add_node(\"model\", call_model)\n",
    "\n",
    "# Add memory\n",
    "memory = MemorySaver()\n",
    "app = workflow.compile(checkpointer=memory)\n"
   ]
  },
  {
   "cell_type": "code",
   "execution_count": 10,
   "metadata": {},
   "outputs": [
    {
     "name": "stdout",
     "output_type": "stream",
     "text": [
      "Rachel Carson {'configurable': {'thread_id': '000'}}\n",
      "Good morning! I'm already getting started for the day. I have a fun lesson planned with my third-grade class today. We're going to be learning about fractions in math, and I want to make sure they understand it in a way that's relatable and easy to grasp. They'll be working in small groups to create their own fraction models using different materials like blocks and fruit. Wish me luck! How can I help you today? {'configurable': {'thread_id': '111'}}\n",
      "*yawn* Okay, boss! Time to get to work. I'll go start prepping for the lunch rush in the dining room and cafeteria. That means I'll clean the tables, wipe down surfaces, and make sure everything is spotless for our customers. *heads off to start tasks*\n",
      "\n",
      "Just a minute, I need to grab my cleaning cart and get out some disinfectant wipes before I get started. *heads back* Alright, ready to roll! How many tables do we need to clean today? {'configurable': {'thread_id': '222'}}\n",
      "Good morning! I've got a busy day ahead with our training session for the upcoming obedience competition. Our star pupil, a 3-year-old Dutch Warmblood named Apollo, needs to learn his recall in a distracting environment. I'll be using positive reinforcement techniques, such as treats and praise, to help him focus on me.\n",
      "\n",
      "Before we start, let's do a quick review of our last session. Apollo learned the \"figure-eights\" course, but he's been having trouble with the tight turns. We need to work on his agility and trust in my guidance.\n",
      "\n",
      "I'll be using a high-value treat, such as a piece of apple, to lure him into the turn. As soon as he completes the course without hesitation, I'll give him plenty of praise and rewards. With consistent practice, I'm confident we can get Apollo performing flawlessly.\n",
      "\n",
      "Shall we get started? {'configurable': {'thread_id': '333'}}\n",
      "*yawn* Alright, alright... time to get to work! First things first, let me get the coffee machine fired up and brewing a fresh pot for everyone in the office. After that, I'll head over to the copier room and start prepping for the day's printing jobs. Got a big meeting coming up with lots of materials that need duplicating, so I want to make sure everything is spotless and ready to go. What can I do for you today? {'configurable': {'thread_id': '444'}}\n"
     ]
    }
   ],
   "source": [
    "# setting up agents\n",
    "\n",
    "for x in range(len(sample_o)):\n",
    "    name=sample_o.iloc[x][\"name\"]\n",
    "    description=sample_o.iloc[x][\"description\"]\n",
    "    query = \"hey, wake up and get to work.\"\n",
    "    config = {\"configurable\": {\"thread_id\": str(x)*3}}\n",
    "    input_messages = [HumanMessage(query)]\n",
    "    output = app.invoke({\"messages\": input_messages, \"description\": description, \"name\" : name}, config)\n",
    "    print(output[\"messages\"][-1].content, config)  # output contains all messages in state"
   ]
  },
  {
   "cell_type": "code",
   "execution_count": 12,
   "metadata": {},
   "outputs": [],
   "source": [
    "# set up function to use the agents\n",
    "\n",
    "def useagent1(query, idnum):\n",
    "\n",
    "    config = {\"configurable\": {\"thread_id\": idnum}}\n",
    "    input_messages = [HumanMessage(query)]\n",
    "    output = app.invoke({\"messages\": input_messages}, config)\n",
    "    return output[\"messages\"][-1].content  # output contains all messages in state, "
   ]
  },
  {
   "cell_type": "code",
   "execution_count": 13,
   "metadata": {},
   "outputs": [
    {
     "name": "stdout",
     "output_type": "stream",
     "text": [
      "We talked about the pioneer in my field (Environmental Science) which I mentioned as Rachel Carson.\n",
      "We just started our conversation, so we haven't discussed anything yet. You woke me up with a gentle reminder to get to work, and now we're starting fresh! What would you like to talk about?\n",
      "We talked about me starting work for the lunch rush in the dining room and cafeteria. I was getting everything cleaned and prepped so we could serve our customers efficiently. That's my usual routine as a Dining Room and Cafeteria Attendant!\n",
      "We didn't have a previous conversation to draw from, but we started discussing training an animal for obedience, specifically working on the \"figure-eights\" course with a horse named Apollo. Would you like to continue the conversation or start something new?\n",
      "We just had a brief morning chat. I woke up, got the coffee brewing, and then started getting ready for the day's work by prepping the copier room. That's about it so far! Just another typical day in the office machine operator's life, making sure everything runs smoothly and efficiently.\n"
     ]
    }
   ],
   "source": [
    "# check they are running\n",
    "for x in range(len(sample_o)):\n",
    "    print(useagent1(\"what did we talk about?\", idnum=str(x)*3))"
   ]
  },
  {
   "cell_type": "code",
   "execution_count": 15,
   "metadata": {},
   "outputs": [
    {
     "ename": "TypeError",
     "evalue": "'CompiledStateGraph' object is not iterable",
     "output_type": "error",
     "traceback": [
      "\u001b[1;31m---------------------------------------------------------------------------\u001b[0m",
      "\u001b[1;31mTypeError\u001b[0m                                 Traceback (most recent call last)",
      "Cell \u001b[1;32mIn[15], line 1\u001b[0m\n\u001b[1;32m----> 1\u001b[0m \u001b[38;5;28;43mlist\u001b[39;49m\u001b[43m(\u001b[49m\u001b[43mapp\u001b[49m\u001b[43m)\u001b[49m\n",
      "\u001b[1;31mTypeError\u001b[0m: 'CompiledStateGraph' object is not iterable"
     ]
    }
   ],
   "source": [
    "mc_system_prompt = \"\"\"\"You are an expert question designer tasked with creating high-quality certification questions to identify true professionals.\n",
    "        Your goal is to create 10 multiple choice questions that:\n",
    "        Test Practical Expertise: Focus on real-world scenarios, tools, and challenges specific to the domain.\n",
    "        Assess Depth of Knowledge: Ensure questions range from fundamental concepts to advanced problem-solving, covering both theory and application.\n",
    "        Differentiate Skill Levels: Include nuances that distinguish seasoned professionals from novices, such as best practices, edge-case scenarios, or optimized solutions.\n",
    "        Simulate Professional Situations: Incorporate case studies or situational judgment problems that mimic day-to-day challenges professionals face.\n",
    "        Reflect Industry Trends: Include questions that are relevant to current tools, techniques, and standards in the field.\n",
    "        Each question should have a brief context or scenario.\n",
    "        Structure questions only on advanced levels of difficulty\"\"\"\n",
    "\n",
    "mc_prompt_template = ChatPromptTemplate.from_messages(\n",
    "    [\n",
    "        (\n",
    "            \"system\",\n",
    "            mc_system_prompt,\n",
    "        ),\n",
    "        (\"user\", \"create 10 multiple choice questions about {name} with description {description}.\")\n",
    "        MessagesPlaceholder(variable_name=\"messages\"),\n",
    "    ]\n",
    ")"
   ]
  }
 ],
 "metadata": {
  "kernelspec": {
   "display_name": "Python 3",
   "language": "python",
   "name": "python3"
  },
  "language_info": {
   "codemirror_mode": {
    "name": "ipython",
    "version": 3
   },
   "file_extension": ".py",
   "mimetype": "text/x-python",
   "name": "python",
   "nbconvert_exporter": "python",
   "pygments_lexer": "ipython3",
   "version": "3.12.4"
  }
 },
 "nbformat": 4,
 "nbformat_minor": 2
}
