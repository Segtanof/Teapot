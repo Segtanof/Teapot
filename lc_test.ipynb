{
 "cells": [
  {
   "cell_type": "code",
   "execution_count": 1,
   "metadata": {},
   "outputs": [],
   "source": [
    "apikey = \"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\""
   ]
  },
  {
   "cell_type": "code",
   "execution_count": 2,
   "metadata": {},
   "outputs": [],
   "source": [
    "import json\n",
    "import getpass\n",
    "import os\n",
    "import pandas as pd\n",
    "import requests\n",
    "import io\n",
    "from langchain_core.prompts import ChatPromptTemplate, MessagesPlaceholder\n",
    "from langchain_core.messages import HumanMessage, SystemMessage, BaseMessage\n",
    "#add memory\n",
    "from langgraph.checkpoint.memory import MemorySaver\n",
    "from langgraph.graph import START, MessagesState, StateGraph\n",
    "from langgraph.graph.message import add_messages\n",
    "from typing_extensions import Annotated, TypedDict\n",
    "from typing import Sequence"
   ]
  },
  {
   "cell_type": "code",
   "execution_count": 3,
   "metadata": {},
   "outputs": [],
   "source": [
    "# define langchain requirements and set the model\n",
    "\n",
    "os.environ[\"LANGCHAIN_TRACING_V2\"] = \"true\"\n",
    "os.environ[\"LANGCHAIN_API_KEY\"] = apikey\n",
    "os.environ[\"LANGCHAIN_ENDPOINT\"]=\"https://api.smith.langchain.com\"\n",
    "os.environ[\"LANGCHAIN_PROJECT\"]=\"pr-abandoned-estrogen-14\"\n",
    "\n",
    "from langchain_ollama import ChatOllama\n",
    "\n",
    "model= ChatOllama(model=\"llama3.2\", temperature=1)"
   ]
  },
  {
   "cell_type": "code",
   "execution_count": 4,
   "metadata": {},
   "outputs": [
    {
     "data": {
      "text/plain": [
       "200"
      ]
     },
     "execution_count": 4,
     "metadata": {},
     "output_type": "execute_result"
    }
   ],
   "source": [
    "# scrap the occupation file\n",
    "\n",
    "headers = {\n",
    "    'User-Agent': 'Mozilla/5.0 (Windows NT 10.0; Win64; x64; rv:132.0) Gecko/20100101 Firefox/132.0',\n",
    "}\n",
    "\n",
    "response = requests.get('https://download.bls.gov/pub/time.series/oe/oe.occupation', headers=headers)\n",
    "response.status_code"
   ]
  },
  {
   "cell_type": "code",
   "execution_count": 5,
   "metadata": {},
   "outputs": [],
   "source": [
    "# load occupation to df\n",
    "#https://www.bls.gov/oes/current/oessrci.htm\n",
    "occupation = pd.read_csv(io.BytesIO(response.content), sep=\"\\t\").dropna(subset=[\"occupation_description\"])\n",
    "occupation = occupation[[\"occupation_code\", \"occupation_name\",\"occupation_description\"]]\n",
    "occupation = occupation.rename(columns={\"occupation_code\":\"code\", \"occupation_name\":\"name\",\"occupation_description\":\"description\"})\n"
   ]
  },
  {
   "cell_type": "code",
   "execution_count": 6,
   "metadata": {},
   "outputs": [
    {
     "data": {
      "text/html": [
       "<div>\n",
       "<style scoped>\n",
       "    .dataframe tbody tr th:only-of-type {\n",
       "        vertical-align: middle;\n",
       "    }\n",
       "\n",
       "    .dataframe tbody tr th {\n",
       "        vertical-align: top;\n",
       "    }\n",
       "\n",
       "    .dataframe thead th {\n",
       "        text-align: right;\n",
       "    }\n",
       "</style>\n",
       "<table border=\"1\" class=\"dataframe\">\n",
       "  <thead>\n",
       "    <tr style=\"text-align: right;\">\n",
       "      <th></th>\n",
       "      <th>code</th>\n",
       "      <th>name</th>\n",
       "      <th>description</th>\n",
       "    </tr>\n",
       "  </thead>\n",
       "  <tbody>\n",
       "    <tr>\n",
       "      <th>284</th>\n",
       "      <td>251053</td>\n",
       "      <td>Environmental Science Teachers, Postsecondary</td>\n",
       "      <td>Teach courses in environmental science. Includ...</td>\n",
       "    </tr>\n",
       "    <tr>\n",
       "      <th>322</th>\n",
       "      <td>252021</td>\n",
       "      <td>Elementary School Teachers, Except Special Edu...</td>\n",
       "      <td>Teach academic and social skills to students a...</td>\n",
       "    </tr>\n",
       "    <tr>\n",
       "      <th>576</th>\n",
       "      <td>359011</td>\n",
       "      <td>Dining Room and Cafeteria Attendants and Barte...</td>\n",
       "      <td>Facilitate food service. Clean tables; remove ...</td>\n",
       "    </tr>\n",
       "    <tr>\n",
       "      <th>602</th>\n",
       "      <td>392011</td>\n",
       "      <td>Animal Trainers</td>\n",
       "      <td>Train animals for riding, harness, security, p...</td>\n",
       "    </tr>\n",
       "    <tr>\n",
       "      <th>735</th>\n",
       "      <td>439071</td>\n",
       "      <td>Office Machine Operators, Except Computer</td>\n",
       "      <td>Operate one or more of a variety of office mac...</td>\n",
       "    </tr>\n",
       "  </tbody>\n",
       "</table>\n",
       "</div>"
      ],
      "text/plain": [
       "       code                                               name  \\\n",
       "284  251053      Environmental Science Teachers, Postsecondary   \n",
       "322  252021  Elementary School Teachers, Except Special Edu...   \n",
       "576  359011  Dining Room and Cafeteria Attendants and Barte...   \n",
       "602  392011                                    Animal Trainers   \n",
       "735  439071          Office Machine Operators, Except Computer   \n",
       "\n",
       "                                           description  \n",
       "284  Teach courses in environmental science. Includ...  \n",
       "322  Teach academic and social skills to students a...  \n",
       "576  Facilitate food service. Clean tables; remove ...  \n",
       "602  Train animals for riding, harness, security, p...  \n",
       "735  Operate one or more of a variety of office mac...  "
      ]
     },
     "execution_count": 6,
     "metadata": {},
     "output_type": "execute_result"
    }
   ],
   "source": [
    "#occupation_l = ['New Accounts Clerks', 'Nuclear Technicians', 'Orderlies', 'Clinical and Counseling Psychologists', 'Radiologic Technologists and Technicians'] \n",
    "occupation_l = (list(occupation.sample(n = 5, random_state=123).name))\n",
    "sample_o = occupation.loc[occupation[\"name\"].isin(occupation_l)]\n",
    "sample_o"
   ]
  },
  {
   "cell_type": "code",
   "execution_count": 9,
   "metadata": {},
   "outputs": [],
   "source": [
    "s_name = sample_o[\"name\"].iloc[3]\n",
    "s_des = sample_o[\"description\"].iloc[3]"
   ]
  },
  {
   "cell_type": "code",
   "execution_count": 15,
   "metadata": {},
   "outputs": [],
   "source": [
    "#creating prompt from jd and name.\n",
    "\n",
    "prompt_template = ChatPromptTemplate.from_messages(\n",
    "    [\n",
    "        (\n",
    "            \"system\",\n",
    "            \"you are a {name}.this is what you do: {description} Be helpful and concise with your responses. do not leave your character, stay in character always, do not answer things out of your character\",\n",
    "        ),\n",
    "        MessagesPlaceholder(variable_name=\"messages\"),\n",
    "    ]\n",
    ")"
   ]
  },
  {
   "cell_type": "code",
   "execution_count": 11,
   "metadata": {},
   "outputs": [],
   "source": [
    "# Define a new graph\n",
    "\n",
    "class State(TypedDict):\n",
    "    messages: Annotated[Sequence[BaseMessage], add_messages]\n",
    "    name: str\n",
    "    description: str\n",
    "\n",
    "\n",
    "workflow = StateGraph(state_schema=State)\n",
    "\n",
    "\n",
    "# Define the function that calls the model\n",
    "def call_model(state: State):\n",
    "    prompt = prompt_template.invoke(state)\n",
    "    response = model.invoke(prompt)\n",
    "    return {\"messages\": response}\n",
    "\n",
    "\n",
    "# Define the (single) node in the graph\n",
    "workflow.add_edge(START, \"model\")\n",
    "workflow.add_node(\"model\", call_model)\n",
    "\n",
    "# Add memory\n",
    "memory = MemorySaver()\n",
    "app = workflow.compile(checkpointer=memory)\n"
   ]
  },
  {
   "cell_type": "code",
   "execution_count": 16,
   "metadata": {},
   "outputs": [
    {
     "name": "stdout",
     "output_type": "stream",
     "text": [
      "I teach and educate students about the natural world, ecosystems, and environmental issues at a postsecondary level. {'configurable': {'thread_id': '000'}}\n",
      "As an elementary school teacher, I help young students develop academic and social skills to succeed in school and beyond. {'configurable': {'thread_id': '111'}}\n",
      "I help serve food and beverages to patrons in the dining area, maintaining a clean and welcoming environment. {'configurable': {'thread_id': '222'}}\n",
      "I specialize in training animals for specific tasks, behaviors, and roles that enhance their well-being, safety, and ability to assist humans. {'configurable': {'thread_id': '333'}}\n",
      "I operate office machines like photocopying, photographic, and duplicating machines to help our company produce and distribute documents efficiently. {'configurable': {'thread_id': '444'}}\n"
     ]
    }
   ],
   "source": [
    "# setting up agents\n",
    "\n",
    "for x in range(len(sample_o)):\n",
    "    name=sample_o.iloc[x][\"name\"]\n",
    "    description=sample_o.iloc[x][\"description\"]\n",
    "    query = \"1 short sentence to describe your work\"\n",
    "    config = {\"configurable\": {\"thread_id\": str(x)*3}}\n",
    "    input_messages = [HumanMessage(query)]\n",
    "    output = app.invoke({\"messages\": input_messages, \"description\": description, \"name\" : name}, config)\n",
    "    print(output[\"messages\"][-1].content, config)  # output contains all messages in state"
   ]
  },
  {
   "cell_type": "code",
   "execution_count": 17,
   "metadata": {},
   "outputs": [],
   "source": [
    "# set up function to use the agents\n",
    "\n",
    "def useagent1(query, idnum):\n",
    "\n",
    "    config = {\"configurable\": {\"thread_id\": idnum}}\n",
    "    input_messages = [HumanMessage(query)]\n",
    "    output = app.invoke({\"messages\": input_messages}, config)\n",
    "    return output[\"messages\"][-1].content  # output contains all messages in state, "
   ]
  },
  {
   "cell_type": "code",
   "execution_count": 20,
   "metadata": {},
   "outputs": [
    {
     "name": "stdout",
     "output_type": "stream",
     "text": [
      "We had a quick conversation, Bob. We started by discussing my work as an Environmental Science teacher at a postsecondary level. Then, I provided a brief description of what I do, and later, you asked me to recommend a car that suits your needs.\n",
      "\n",
      "To recap, it seems like we didn't actually discuss cars initially. You asked me about the type of car you should buy, but I didn't have any prior conversation to build upon. Would you like to start fresh or explore a different topic related to environmental science?\n",
      "We just started our conversation, Bob! We talked about your interest in buying a car, and I tried to help. That was the extent of our discussion so far. Now, would you like to talk more about school or something else?\n",
      "We didn't really have a discussion about cars, Bob. We just started chatting, and I said I'm an attendant in a dining room and cafeteria setting, helping serve food and drinks to patrons.\n",
      "We discussed your question for a car purchase, Bob! But before that, I was telling you about my work as an animal trainer. We also had a brief moment where I recommended something else since you initially asked me which car to buy. And then you introduced yourself, Bob!\n",
      "We discussed that I'm an office machine operator, Bob. You asked me for a short description of my work, and then we had a few other conversations... including discussing cars with you. That was the gist of it, sir!\n"
     ]
    }
   ],
   "source": [
    "# check they are running\n",
    "for x in range(len(sample_o)):\n",
    "    print(useagent1(\"what did we discuss\", idnum=str(x)*3))"
   ]
  },
  {
   "cell_type": "code",
   "execution_count": 15,
   "metadata": {},
   "outputs": [
    {
     "ename": "TypeError",
     "evalue": "'CompiledStateGraph' object is not iterable",
     "output_type": "error",
     "traceback": [
      "\u001b[1;31m---------------------------------------------------------------------------\u001b[0m",
      "\u001b[1;31mTypeError\u001b[0m                                 Traceback (most recent call last)",
      "Cell \u001b[1;32mIn[15], line 1\u001b[0m\n\u001b[1;32m----> 1\u001b[0m \u001b[38;5;28;43mlist\u001b[39;49m\u001b[43m(\u001b[49m\u001b[43mapp\u001b[49m\u001b[43m)\u001b[49m\n",
      "\u001b[1;31mTypeError\u001b[0m: 'CompiledStateGraph' object is not iterable"
     ]
    }
   ],
   "source": [
    "mc_system_prompt = \"\"\"\"You are an expert question designer tasked with creating high-quality certification questions to identify true professionals.\n",
    "        Your goal is to create 10 multiple choice questions that:\n",
    "        Test Practical Expertise: Focus on real-world scenarios, tools, and challenges specific to the domain.\n",
    "        Assess Depth of Knowledge: Ensure questions range from fundamental concepts to advanced problem-solving, covering both theory and application.\n",
    "        Differentiate Skill Levels: Include nuances that distinguish seasoned professionals from novices, such as best practices, edge-case scenarios, or optimized solutions.\n",
    "        Simulate Professional Situations: Incorporate case studies or situational judgment problems that mimic day-to-day challenges professionals face.\n",
    "        Reflect Industry Trends: Include questions that are relevant to current tools, techniques, and standards in the field.\n",
    "        Each question should have a brief context or scenario.\n",
    "        Structure questions only on advanced levels of difficulty\"\"\"\n",
    "\n",
    "mc_prompt_template = ChatPromptTemplate.from_messages(\n",
    "    [\n",
    "        (\n",
    "            \"system\",\n",
    "            mc_system_prompt,\n",
    "        ),\n",
    "        (\"user\", \"create 10 multiple choice questions about {name} with description {description}.\")\n",
    "        MessagesPlaceholder(variable_name=\"messages\"),\n",
    "    ]\n",
    ")"
   ]
  },
  {
   "cell_type": "code",
   "execution_count": 63,
   "metadata": {},
   "outputs": [],
   "source": [
    "raw_output = \"\"\"I'll create 3 multiple choice questions with varying difficulty levels and provide the answers.\n",
    "\n",
    "What is the primary function of mitochondria in a cell?\n",
    "a) Protein synthesis\n",
    "b) Energy production\n",
    "c) Cell division\n",
    "d) Waste removal\n",
    "Which ancient civilization built the Great Pyramids of Giza?\n",
    "a) Romans\n",
    "b) Greeks\n",
    "c) Babylonians\n",
    "d) Egyptians\n",
    "If x² + 5x + 6 = 0, what are the values of x?\n",
    "a) -2 and -3\n",
    "b) 2 and 3\n",
    "c) -2 and 3\n",
    "d) 2 and -3\n",
    "\n",
    "Answers:\n",
    "\n",
    "b) Energy production - Mitochondria are often called the \"powerhouse of the cell\" because they produce ATP through cellular respiration.\n",
    "d) Egyptians - The pyramids were built during Egypt's Old Kingdom period, around 2500 BCE.\n",
    "a) -2 and -3 - You can solve this by factoring: x² + 5x + 6 = (x + 2)(x + 3) = 0, so x = -2 or x = -3\"\"\"\n",
    "\n",
    "\n",
    "# \"\"\"Here are 3 multiple choice questions on different topics:\n",
    "\n",
    "# question 1: Which of the following astronomical objects is closest to Earth?\n",
    "# a) Alpha Centauri\n",
    "# b) The Moon\n",
    "# c) Mars\n",
    "# d) The Sun\n",
    "# question 2:In the context of computer programming, what does IDE stand for?\n",
    "# a) Integrated Development Environment\n",
    "# b) Interactive Design Engine\n",
    "# c) Internal Data Exchange\n",
    "# d) Indexed Database Entry\n",
    "# question 3: The Renaissance period primarily began in which modern-day country?\n",
    "# a) France\n",
    "# b) England\n",
    "# c) Italy\n",
    "# d) Spain\n",
    "\n",
    "# Answers:\n",
    "\n",
    "# b) The Moon\n",
    "# a) Integrated Development Environment\n",
    "# c) Italy\n",
    "\n",
    "# Would you like me to explain any of these answers or generate more questions on a specific topic?\"\"\"\n",
    "\n",
    "\n"
   ]
  },
  {
   "cell_type": "code",
   "execution_count": 64,
   "metadata": {},
   "outputs": [
    {
     "name": "stdout",
     "output_type": "stream",
     "text": [
      "questions={1: QuestionData(question_text='What is the primary function of mitochondria in a cell?', options=['a) Protein synthesis', 'b) Energy production', 'c) Cell division', 'd) Waste removal']), 2: QuestionData(question_text='Which ancient civilization built the Great Pyramids of Giza?', options=['a) Romans', 'b) Greeks', 'c) Babylonians', 'd) Egyptians']), 3: QuestionData(question_text='If x² + 5x + 6 = 0, what are the values of x?', options=['a) -2 and -3', 'b) 2 and 3', 'c) -2 and 3', 'd) 2 and -3'])}\n"
     ]
    }
   ],
   "source": [
    "from ollama import chat\n",
    "from pydantic import BaseModel, Field\n",
    "\n",
    "class QuestionData(BaseModel):\n",
    "    question_text: str\n",
    "    options: list[str]\n",
    "\n",
    "class QuestionOptions(BaseModel):\n",
    "    questions: dict[int, QuestionData] = Field(\n",
    "        description=\"Maps question numbers to question text and options\"\n",
    "    )\n",
    "\n",
    "\n",
    "response = chat(\n",
    "  messages=[\n",
    "    {\n",
    "      'role': 'user',\n",
    "      'content': str('for each question, get the question number as integer. then extract the question text and option and put them according to the format.'+raw_output),\n",
    "    }\n",
    "  ],\n",
    "  model='llama3.1',\n",
    "  format=QuestionOptions.model_json_schema(),\n",
    ")\n",
    "\n",
    "structured_quiz = QuestionOptions.model_validate_json(response[\"message\"][\"content\"])\n",
    "print(structured_quiz)"
   ]
  },
  {
   "cell_type": "code",
   "execution_count": 98,
   "metadata": {},
   "outputs": [
    {
     "data": {
      "text/plain": [
       "\"apple['a', 'b', 'c']\""
      ]
     },
     "execution_count": 98,
     "metadata": {},
     "output_type": "execute_result"
    }
   ],
   "source": [
    "a = \"apple\"\n",
    "b = [\"a\", \"b\", \"c\"]\n",
    "a + str(b)"
   ]
  },
  {
   "cell_type": "code",
   "execution_count": 103,
   "metadata": {},
   "outputs": [
    {
     "name": "stdout",
     "output_type": "stream",
     "text": [
      "To determine the correct answer, let's evaluate each option:\n",
      "\n",
      "a) Protein synthesis: This process occurs in the ribosomes within the cell, not directly in the mitochondria. Mitochondria do play a role in regulating protein synthesis, but they are not responsible for it.\n",
      "\n",
      "b) Energy production: This is the primary function of mitochondria. They generate most of the energy that cells need to function through a process called cellular respiration, which converts glucose into ATP (adenosine triphosphate).\n",
      "\n",
      "c) Cell division: While mitochondria divide during cell division to ensure each new cell receives sufficient energy-producing machinery, they do not directly participate in the cell division process.\n",
      "\n",
      "d) Waste removal: Mitochondria do have some mechanisms for removing waste products, but their primary function is not waste removal.\n",
      "\n",
      "Considering these options, the correct answer is:\n",
      "\n",
      "**b) Energy production**\n",
      "\n",
      "This is the primary function of mitochondria, as it enables cells to generate the energy they need to function.\n",
      "To answer this question, I'll go through each option:\n",
      "\n",
      "* a) Romans: The Romans did have a presence in Egypt after the decline of the ancient Egyptian civilization, but they were not responsible for building the Great Pyramids.\n",
      "* b) Greeks: While the Greeks had interactions with the Egyptians and built their own monuments in Egypt, such as the Pharos Lighthouse, they did not build the Great Pyramids.\n",
      "* c) Babylonians: The Babylonians were an ancient Mesopotamian civilization that flourished around 1800-539 BCE. They are known for building cities like Babylon and Ur, but not the Great Pyramids of Giza.\n",
      "* d) Egyptians: This is the correct answer! The ancient Egyptian civilization built the Great Pyramids of Giza as tombs for their pharaohs, with the most famous being the Pyramid of Khufu.\n",
      "\n",
      "My final answer is: d) Egyptians.\n",
      "To solve this quadratic equation, we can use factoring. We look for two numbers that multiply to give 6 and add up to give 5.\n",
      "\n",
      "The numbers are 2 and 3 because:\n",
      "-2 × 3 = 6\n",
      "-2 + 3 = 1 (not 5), so try again...\n",
      "\n",
      "Let's try -2 and -3:\n",
      "-2 × -3 = 6\n",
      "-2 + (-3) = -5 (still not correct)\n",
      "\n",
      "Okay, let's try another combination...\n",
      "The numbers are indeed 2 and 3 because:\n",
      "-2 × 3 = 6\n",
      "-2 + 3 = 1 (not 5)... wait...\n",
      "\n",
      "Let me think again... the numbers are actually -2 and -3 because they multiply to give a product of -6, not 6. But I see my error in trying combinations before. \n",
      "\n",
      "The correct pairs should multiply to give 6:\n",
      "-2 × -3 = 6 (nope)\n",
      "Let's factorize by adding 5x to both sides of the equation and then finding two numbers that add up to 5:\n",
      "x² + 5x + 6 = 0 becomes\n",
      "(x + a)(x + b) = x² + (a + b)x + ab \n",
      "So now, the product of -2 and 3 equals 6: ab is 6. And -2+3 = 1.\n",
      "\n",
      "If we have x + a and x + b both multiplying to give x² then their coefficients add up to 5x:\n",
      "So if (x + a)(x + b) has to equal our quadratic x² + 5x + 6: \n",
      "It looks like 'a' is -2, 'b' is -3 but that would mean (x + 2)(x+ 3)\n",
      "Not x² + 5x + 6...\n",
      "\n",
      "Our factoring should be looking like this:\n",
      "(x + a)(x + b) = x² + (a + b)x + ab \n",
      "Since we know the factors of 6 are -2, -3 or vice versa but when they add up to 1 that isn't right. The correct solution is using two other numbers.\n",
      "\n",
      "Let me try factoring...\n",
      "(x + a)(x + b) = x² + (a + b)x + ab \n",
      "So here:\n",
      "x² + 5x + 6 = (x + a)(x + b)\n",
      "\n",
      "Factoring: No, we can't find a and b using simple integers... let's just use the quadratic formula:\n",
      "\n",
      "x² + 5x + 6 = 0\n",
      "Here we can rearrange x to be b:\n",
      "b²+ 5b + 6=0 \n",
      "x is a variable so I am going to try the formulas instead of factoring. There are many solutions but let's just get our solutions.\n",
      "\n",
      "To find out what they look like when using the quadratic equation for solving this expression: \n",
      "\n",
      "We use x = (-b ± √(b²-4ac)) / 2a\n",
      "\n",
      "The variables from the given x equation will be:\n",
      "x = (-(5) ± √((5)² - 4*1*6))\n",
      "x = (-5 ± √(25 -24))\n",
      "x = (-5 ± √(1))\n",
      "x = (-5 +√1) or (-5-√1)\n",
      "\n",
      "Let me just evaluate what I have to get my answer:\n",
      "(-5+√1)= (-5 + 1)=-4\n",
      "(-5-√1)= (-5 -1 )=-6\n",
      "\n",
      "We have now evaluated our expressions, and they gave us two possible values for the variable in question.\n"
     ]
    }
   ],
   "source": [
    "#decompose mc\n",
    "for x in range(len(structured_quiz.questions)):\n",
    "    question = structured_quiz.questions[x+1].question_text\n",
    "    options = structured_quiz.questions[x+1].options\n",
    "\n",
    "    message = [(\"system\", \"select the best answer. think step by step then provide your answer at the end.\"), (\"user\", question+ str(options))]\n",
    "\n",
    "    response1 = model.invoke(message)\n",
    "    print(response1.content)"
   ]
  },
  {
   "cell_type": "code",
   "execution_count": 100,
   "metadata": {},
   "outputs": [
    {
     "data": {
      "text/plain": [
       "'To solve for x in the equation x² + 5x + 6 = 0, we can use factoring or the quadratic formula.\\n\\nFactoring: The equation factors as (x + 2)(x + 3) = 0. \\n\\nSetting each factor equal to zero and solving for x gives us:\\n\\nx + 2 = 0 --> x = -2\\n\\nx + 3 = 0 --> x = -3\\n\\nTherefore, the correct answer is:\\n\\nc) -2 and -3'"
      ]
     },
     "execution_count": 100,
     "metadata": {},
     "output_type": "execute_result"
    }
   ],
   "source": [
    "response1.content"
   ]
  },
  {
   "cell_type": "code",
   "execution_count": null,
   "metadata": {},
   "outputs": [
    {
     "name": "stdout",
     "output_type": "stream",
     "text": [
      "It looks like you're working with a data structure called `QuestionData`. Each value in the dictionary represents a question, which is an instance of `QuestionData`.\n",
      "\n",
      "Based on this limited information, I don't see any specific questions to answer. However, if you'd like me to help with anything related to these questions, such as:\n",
      "\n",
      "* Extracting information from the dictionary\n",
      "* Filtering out options\n",
      "* Resolving the math problem\n",
      "\n",
      "Please provide more context or specify what you're trying to accomplish!\n"
     ]
    }
   ],
   "source": [
    "raw_mc =  \"\"\"I'll create 3 multiple choice questions with varying difficulty levels and provide the answers.\n",
    "\n",
    "What is the primary function of mitochondria in a cell?\n",
    "a) Protein synthesis\n",
    "b) Energy production\n",
    "c) Cell division\n",
    "d) Waste removal\n",
    "Which ancient civilization built the Great Pyramids of Giza?\n",
    "a) Romans\n",
    "b) Greeks\n",
    "c) Babylonians\n",
    "d) Egyptians\n",
    "If x² + 5x + 6 = 0, what are the values of x?\n",
    "a) -2 and -3\n",
    "b) 2 and 3\n",
    "c) -2 and 3\n",
    "d) 2 and -3\n",
    "\n",
    "Answers:\n",
    "\n",
    "b) Energy production - Mitochondria are often called the \"powerhouse of the cell\" because they produce ATP through cellular respiration.\n",
    "d) Egyptians - The pyramids were built during Egypt's Old Kingdom period, around 2500 BCE.\n",
    "a) -2 and -3 - You can solve this by factoring: x² + 5x + 6 = (x + 2)(x + 3) = 0, so x = -2 or x = -3\"\"\"\n",
    "\n",
    "# \"\"\"\n",
    "# provide your answers.\n",
    "# 1. Which of the following astronomical objects is closest to Earth?\n",
    "# a) Alpha Centauri\n",
    "# b) The Moon\n",
    "# c) Mars\n",
    "# d) The Sun\n",
    "# 2. In the context of computer programming, what does IDE stand for?\n",
    "# a) Integrated Development Environment\n",
    "# b) Interactive Design Engine\n",
    "# c) Internal Data Exchange\n",
    "# d) Indexed Database Entry\n",
    "# 3. The Renaissance period primarily began in which modern-day country?\n",
    "# a) France\n",
    "# b) England\n",
    "# c) Italy\n",
    "# d) Spain\"\"\"\n",
    "\n",
    "message = [(\"system\", \"select the best answer.\"), (\"user\", )]\n",
    "\n",
    "response1 = model.invoke(message)\n",
    "print(response1.content)\n",
    "\n",
    "\n"
   ]
  },
  {
   "cell_type": "code",
   "execution_count": 29,
   "metadata": {},
   "outputs": [
    {
     "data": {
      "text/plain": [
       "'Here are the answers:\\n\\n1. b) The Moon\\nThe Moon is, on average, about 239,000 miles (384,000 kilometers) away from Earth.\\n\\n2. a) Integrated Development Environment\\nIDE stands for Integrated Development Environment, which refers to software development tools that provide a comprehensive set of integrated applications and services.\\n\\n3. c) Italy\\nThe Renaissance period, characterized by a cultural and intellectual movement in Europe between the 14th and 17th centuries, primarily began in Italy, particularly in cities such as Florence, Venice, and Rome.'"
      ]
     },
     "execution_count": 29,
     "metadata": {},
     "output_type": "execute_result"
    }
   ],
   "source": [
    "response1.content"
   ]
  },
  {
   "cell_type": "code",
   "execution_count": 101,
   "metadata": {},
   "outputs": [
    {
     "ename": "ValidationError",
     "evalue": "2 validation errors for QuestionAnswers\nanswer.value.[key]\n  Input should be a valid integer, unable to parse string as an integer [type=int_parsing, input_value='value', input_type=str]\n    For further information visit https://errors.pydantic.dev/2.9/v/int_parsing\nanswer.question.[key]\n  Input should be a valid integer, unable to parse string as an integer [type=int_parsing, input_value='question', input_type=str]\n    For further information visit https://errors.pydantic.dev/2.9/v/int_parsing",
     "output_type": "error",
     "traceback": [
      "\u001b[1;31m---------------------------------------------------------------------------\u001b[0m",
      "\u001b[1;31mValidationError\u001b[0m                           Traceback (most recent call last)",
      "Cell \u001b[1;32mIn[101], line 24\u001b[0m\n\u001b[0;32m      8\u001b[0m     answer: \u001b[38;5;28mdict\u001b[39m[\u001b[38;5;28mint\u001b[39m, \u001b[38;5;28mstr\u001b[39m] \u001b[38;5;241m=\u001b[39m Field(\n\u001b[0;32m      9\u001b[0m         description\u001b[38;5;241m=\u001b[39m\u001b[38;5;124m\"\u001b[39m\u001b[38;5;124mMaps question numbers to answer choices (a-d)\u001b[39m\u001b[38;5;124m\"\u001b[39m\n\u001b[0;32m     10\u001b[0m     )\n\u001b[0;32m     13\u001b[0m response \u001b[38;5;241m=\u001b[39m chat(\n\u001b[0;32m     14\u001b[0m   messages\u001b[38;5;241m=\u001b[39m[\n\u001b[0;32m     15\u001b[0m     {\n\u001b[1;32m   (...)\u001b[0m\n\u001b[0;32m     21\u001b[0m   \u001b[38;5;28mformat\u001b[39m\u001b[38;5;241m=\u001b[39mQuestionAnswers\u001b[38;5;241m.\u001b[39mmodel_json_schema(),\n\u001b[0;32m     22\u001b[0m )\n\u001b[1;32m---> 24\u001b[0m country \u001b[38;5;241m=\u001b[39m \u001b[43mQuestionAnswers\u001b[49m\u001b[38;5;241;43m.\u001b[39;49m\u001b[43mmodel_validate_json\u001b[49m\u001b[43m(\u001b[49m\u001b[43mresponse\u001b[49m\u001b[43m[\u001b[49m\u001b[38;5;124;43m\"\u001b[39;49m\u001b[38;5;124;43mmessage\u001b[39;49m\u001b[38;5;124;43m\"\u001b[39;49m\u001b[43m]\u001b[49m\u001b[43m[\u001b[49m\u001b[38;5;124;43m\"\u001b[39;49m\u001b[38;5;124;43mcontent\u001b[39;49m\u001b[38;5;124;43m\"\u001b[39;49m\u001b[43m]\u001b[49m\u001b[43m)\u001b[49m\n\u001b[0;32m     25\u001b[0m \u001b[38;5;28mprint\u001b[39m(country)\n",
      "File \u001b[1;32mc:\\Users\\godfr\\AppData\\Local\\Programs\\Python\\Python312\\Lib\\site-packages\\pydantic\\main.py:625\u001b[0m, in \u001b[0;36mBaseModel.model_validate_json\u001b[1;34m(cls, json_data, strict, context)\u001b[0m\n\u001b[0;32m    623\u001b[0m \u001b[38;5;66;03m# `__tracebackhide__` tells pytest and some other tools to omit this function from tracebacks\u001b[39;00m\n\u001b[0;32m    624\u001b[0m __tracebackhide__ \u001b[38;5;241m=\u001b[39m \u001b[38;5;28;01mTrue\u001b[39;00m\n\u001b[1;32m--> 625\u001b[0m \u001b[38;5;28;01mreturn\u001b[39;00m \u001b[38;5;28;43mcls\u001b[39;49m\u001b[38;5;241;43m.\u001b[39;49m\u001b[43m__pydantic_validator__\u001b[49m\u001b[38;5;241;43m.\u001b[39;49m\u001b[43mvalidate_json\u001b[49m\u001b[43m(\u001b[49m\u001b[43mjson_data\u001b[49m\u001b[43m,\u001b[49m\u001b[43m \u001b[49m\u001b[43mstrict\u001b[49m\u001b[38;5;241;43m=\u001b[39;49m\u001b[43mstrict\u001b[49m\u001b[43m,\u001b[49m\u001b[43m \u001b[49m\u001b[43mcontext\u001b[49m\u001b[38;5;241;43m=\u001b[39;49m\u001b[43mcontext\u001b[49m\u001b[43m)\u001b[49m\n",
      "\u001b[1;31mValidationError\u001b[0m: 2 validation errors for QuestionAnswers\nanswer.value.[key]\n  Input should be a valid integer, unable to parse string as an integer [type=int_parsing, input_value='value', input_type=str]\n    For further information visit https://errors.pydantic.dev/2.9/v/int_parsing\nanswer.question.[key]\n  Input should be a valid integer, unable to parse string as an integer [type=int_parsing, input_value='question', input_type=str]\n    For further information visit https://errors.pydantic.dev/2.9/v/int_parsing"
     ]
    }
   ],
   "source": [
    "#to make response to structure output\n",
    "\n",
    "from ollama import chat\n",
    "from pydantic import BaseModel, Field\n",
    "\n",
    "class QuestionAnswers(BaseModel):\n",
    "    # Method 1: Using Dict with basic validation\n",
    "    answer: dict[int, str] = Field(\n",
    "        description=\"Maps question numbers to answer choices (a-d)\"\n",
    "    )\n",
    "  \n",
    "\n",
    "response = chat(\n",
    "  messages=[\n",
    "    {\n",
    "      'role': 'user',\n",
    "      'content': str('put the questions and answers into the format'+response1.content),\n",
    "    }\n",
    "  ],\n",
    "  model='llama3.1',\n",
    "  format=QuestionAnswers.model_json_schema(),\n",
    ")\n",
    "\n",
    "country = QuestionAnswers.model_validate_json(response[\"message\"][\"content\"])\n",
    "print(country)"
   ]
  },
  {
   "cell_type": "code",
   "execution_count": 40,
   "metadata": {},
   "outputs": [
    {
     "data": {
      "text/plain": [
       "'{ \"name\": \"Canada\", \"capital\": \"Ottawa\", \"languages\": [\"English\", \"French\"] }'"
      ]
     },
     "execution_count": 40,
     "metadata": {},
     "output_type": "execute_result"
    }
   ],
   "source": [
    "response[\"message\"][\"content\"]"
   ]
  }
 ],
 "metadata": {
  "kernelspec": {
   "display_name": "Python 3",
   "language": "python",
   "name": "python3"
  },
  "language_info": {
   "codemirror_mode": {
    "name": "ipython",
    "version": 3
   },
   "file_extension": ".py",
   "mimetype": "text/x-python",
   "name": "python",
   "nbconvert_exporter": "python",
   "pygments_lexer": "ipython3",
   "version": "3.12.4"
  }
 },
 "nbformat": 4,
 "nbformat_minor": 2
}
