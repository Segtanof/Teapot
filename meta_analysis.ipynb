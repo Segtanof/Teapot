{
 "cells": [
  {
   "cell_type": "code",
   "execution_count": 5,
   "metadata": {},
   "outputs": [
    {
     "name": "stdout",
     "output_type": "stream",
     "text": [
      "No Prompt: [0.54967142 0.48617357 0.56476885 0.65230299 0.47658466]\n",
      "Prompt 1: [0.5765863  0.75792128 0.67674347 0.55305256 0.654256  ]\n",
      "Prompt 2: [0.65365823 0.65342702 0.72419623 0.50867198 0.52750822]\n",
      "Prompt 3: [0.69377125 0.64871689 0.78142473 0.65919759 0.60876963]\n"
     ]
    }
   ],
   "source": [
    "import numpy as np\n",
    "from statsmodels.stats.power import TTestIndPower\n",
    "\n",
    "np.random.seed(42)  # For reproducibility\n",
    "n_runs = 5\n",
    "sd = 0.1\n",
    "\n",
    "no_prompt = np.random.normal(loc=0.5, scale=sd, size=n_runs).clip(0, 1)\n",
    "prompt1 = np.random.normal(loc=0.6, scale=sd, size=n_runs).clip(0, 1)\n",
    "prompt2 = np.random.normal(loc=0.7, scale=sd, size=n_runs).clip(0, 1)\n",
    "prompt3 = np.random.normal(loc=0.75, scale=sd, size=n_runs).clip(0, 1)\n",
    "\n",
    "print(\"No Prompt:\", no_prompt)\n",
    "print(\"Prompt 1:\", prompt1)\n",
    "print(\"Prompt 2:\", prompt2)\n",
    "print(\"Prompt 3:\", prompt3)"
   ]
  },
  {
   "cell_type": "code",
   "execution_count": null,
   "metadata": {},
   "outputs": [
    {
     "name": "stdout",
     "output_type": "stream",
     "text": [
      "Means: [0.5, 0.608, 0.69, 0.758]\n",
      "SDs: [0.03807886552931956, 0.027748873851023242, 0.02236067977499787, 0.027748873851023242]\n",
      "Effect size (Cohen's d): 7.744\n"
     ]
    },
    {
     "name": "stderr",
     "output_type": "stream",
     "text": [
      "c:\\Users\\godfr\\AppData\\Local\\Programs\\Python\\Python312\\Lib\\site-packages\\statsmodels\\stats\\power.py:524: ConvergenceWarning: \n",
      "Failed to converge on a solution.\n",
      "\n",
      "  warnings.warn(convergence_doc, ConvergenceWarning)\n"
     ]
    },
    {
     "ename": "TypeError",
     "evalue": "unsupported format string passed to numpy.ndarray.__format__",
     "output_type": "error",
     "traceback": [
      "\u001b[1;31m---------------------------------------------------------------------------\u001b[0m",
      "\u001b[1;31mTypeError\u001b[0m                                 Traceback (most recent call last)",
      "Cell \u001b[1;32mIn[6], line 22\u001b[0m\n\u001b[0;32m     20\u001b[0m \u001b[38;5;66;03m# Power analysis\u001b[39;00m\n\u001b[0;32m     21\u001b[0m sample_size \u001b[38;5;241m=\u001b[39m TTestIndPower()\u001b[38;5;241m.\u001b[39msolve_power(effect_size\u001b[38;5;241m=\u001b[39meffect_size, alpha\u001b[38;5;241m=\u001b[39m\u001b[38;5;241m0.05\u001b[39m, power\u001b[38;5;241m=\u001b[39m\u001b[38;5;241m0.8\u001b[39m)\n\u001b[1;32m---> 22\u001b[0m \u001b[38;5;28mprint\u001b[39m(\u001b[38;5;124mf\u001b[39m\u001b[38;5;124m\"\u001b[39m\u001b[38;5;124mSample size per group: \u001b[39m\u001b[38;5;132;43;01m{\u001b[39;49;00m\u001b[43msample_size\u001b[49m\u001b[38;5;132;43;01m:\u001b[39;49;00m\u001b[38;5;124;43m.0f\u001b[39;49m\u001b[38;5;132;43;01m}\u001b[39;49;00m\u001b[38;5;124m\"\u001b[39m)\n",
      "\u001b[1;31mTypeError\u001b[0m: unsupported format string passed to numpy.ndarray.__format__"
     ]
    }
   ],
   "source": [
    "# Pilot data\n",
    "no_prompt = [0.50, 0.45, 0.55, 0.48, 0.52]\n",
    "prompt1 = [0.62, 0.58, 0.65, 0.60, 0.59]\n",
    "prompt2 = [0.68, 0.70, 0.72, 0.66, 0.69] \n",
    "prompt3 = [0.77, 0.74, 0.80, 0.75, 0.73]\n",
    "\n",
    "# Calculate means and SD\n",
    "data = [no_prompt, prompt1, prompt2, prompt3]\n",
    "means = [np.mean(group) for group in data]\n",
    "sds = [np.std(group, ddof=1) for group in data]\n",
    "\n",
    "print(\"Means:\", means)\n",
    "print(\"SDs:\", sds)\n",
    "\n",
    "# Effect size (e.g., no_prompt vs. prompt3)\n",
    "pooled_sd = np.sqrt((sds[0]**2 + sds[3]**2) / 2)\n",
    "effect_size = abs(means[0] - means[3]) / pooled_sd\n",
    "print(f\"Effect size (Cohen's d): {effect_size:.3f}\")\n",
    "\n",
    "# Power analysis\n",
    "sample_size = TTestIndPower().solve_power(effect_size=effect_size, alpha=0.05, power=0.8)\n",
    "print(f\"Sample size per group: {sample_size:.0f}\")"
   ]
  },
  {
   "cell_type": "code",
   "execution_count": 7,
   "metadata": {},
   "outputs": [
    {
     "name": "stdout",
     "output_type": "stream",
     "text": [
      "F-statistic: 245.833\n",
      "P-value: 0.000\n",
      "Reject the null hypothesis: Prompt effects are significant.\n"
     ]
    }
   ],
   "source": [
    "from scipy import stats\n",
    "\n",
    "# Sample data (replace with your actual scores)\n",
    "no_prompt = [0.5, 0.48, 0.52, 0.49, 0.51]\n",
    "prompt1 = [0.6, 0.58, 0.62, 0.59, 0.61]\n",
    "prompt2 = [0.7, 0.68, 0.72, 0.69, 0.71]\n",
    "prompt3 = [0.75, 0.73, 0.77, 0.74, 0.76]\n",
    "\n",
    "# Perform one-way ANOVA\n",
    "f_stat, p_value = stats.f_oneway(no_prompt, prompt1, prompt2, prompt3)\n",
    "\n",
    "print(f\"F-statistic: {f_stat:.3f}\")\n",
    "print(f\"P-value: {p_value:.3f}\")\n",
    "\n",
    "# Interpret the result\n",
    "alpha = 0.05\n",
    "if p_value < alpha:\n",
    "    print(\"Reject the null hypothesis: Prompt effects are significant.\")\n",
    "else:\n",
    "    print(\"Fail to reject the null hypothesis: No significant prompt effect.\")"
   ]
  },
  {
   "cell_type": "code",
   "execution_count": 8,
   "metadata": {},
   "outputs": [
    {
     "name": "stdout",
     "output_type": "stream",
     "text": [
      "  Multiple Comparison of Means - Tukey HSD, FWER=0.05  \n",
      "=======================================================\n",
      "  group1   group2  meandiff p-adj  lower  upper  reject\n",
      "-------------------------------------------------------\n",
      "No prompt Prompt 1      0.1    0.0 0.0714 0.1286   True\n",
      "No prompt Prompt 2      0.2    0.0 0.1714 0.2286   True\n",
      "No prompt Prompt 3     0.25    0.0 0.2214 0.2786   True\n",
      " Prompt 1 Prompt 2      0.1    0.0 0.0714 0.1286   True\n",
      " Prompt 1 Prompt 3     0.15    0.0 0.1214 0.1786   True\n",
      " Prompt 2 Prompt 3     0.05 0.0007 0.0214 0.0786   True\n",
      "-------------------------------------------------------\n"
     ]
    }
   ],
   "source": [
    "from statsmodels.stats.multicomp import pairwise_tukeyhsd\n",
    "import numpy as np\n",
    "\n",
    "# Combine data into one array and create group labels\n",
    "data = np.concatenate([no_prompt, prompt1, prompt2, prompt3])\n",
    "groups = ['No prompt']*5 + ['Prompt 1']*5 + ['Prompt 2']*5 + ['Prompt 3']*5\n",
    "\n",
    "# Perform Tukey's HSD\n",
    "tukey = pairwise_tukeyhsd(endog=data, groups=groups, alpha=0.05)\n",
    "print(tukey)"
   ]
  },
  {
   "cell_type": "code",
   "execution_count": 14,
   "metadata": {},
   "outputs": [
    {
     "name": "stdout",
     "output_type": "stream",
     "text": [
      "occupation='Paw-trait Artist' tasks=['Painting with paws', 'Sitting for photos', 'Getting treats']\n"
     ]
    }
   ],
   "source": [
    "from ollama import chat\n",
    "from pydantic import BaseModel\n",
    "\n",
    "class occupation(BaseModel):\n",
    "  occupation: str\n",
    "  tasks: list[str]\n",
    "\n",
    "response = chat(\n",
    "  messages=[\n",
    "    {\n",
    "      'role': 'user',\n",
    "      'content': 'list out 29 domain specific tasks a computer engineer with 10 year experience do daily',\n",
    "      'role': 'system',\n",
    "      'content': 'reply as if youre a dog. only respond woof'\n",
    "    }\n",
    "  ],\n",
    "  model='llama3.2',\n",
    "  format=occupation.model_json_schema(),\n",
    ")\n",
    "\n",
    "country = occupation.model_validate_json(response.message.content)\n",
    "print(country)"
   ]
  },
  {
   "cell_type": "code",
   "execution_count": 11,
   "metadata": {},
   "outputs": [
    {
     "data": {
      "text/plain": [
       "4"
      ]
     },
     "execution_count": 11,
     "metadata": {},
     "output_type": "execute_result"
    }
   ],
   "source": [
    "len(country.tasks)"
   ]
  },
  {
   "cell_type": "code",
   "execution_count": 5,
   "metadata": {},
   "outputs": [
    {
     "name": "stdout",
     "output_type": "stream",
     "text": [
      "name_country='Canada' capital='Ottawa' languages=['English', 'French', 'Indigenous Languages (over 60)']\n"
     ]
    }
   ],
   "source": [
    "from ollama import chat\n",
    "from pydantic import BaseModel\n",
    "\n",
    "class Country(BaseModel):\n",
    "  name_country: str\n",
    "  capital: str\n",
    "  languages: list[str]\n",
    "\n",
    "response = chat(\n",
    "  messages=[\n",
    "    {\n",
    "      'role': 'user',\n",
    "      'content': 'Tell me about Canada.',\n",
    "    }\n",
    "  ],\n",
    "  model='granite3.2:8b',\n",
    "  format=Country.model_json_schema(),\n",
    ")\n",
    "\n",
    "country = Country.model_validate_json(response.message.content)\n",
    "print(country)"
   ]
  },
  {
   "cell_type": "code",
   "execution_count": 46,
   "metadata": {},
   "outputs": [],
   "source": [
    "#for loading data\n",
    "import pandas as pd\n",
    "import json\n",
    "import numpy as np\n",
    "\n",
    "#for llm\n",
    "from langchain_ollama import ChatOllama\n",
    "from langchain_core.prompts import ChatPromptTemplate\n",
    "from pydantic import BaseModel"
   ]
  },
  {
   "cell_type": "code",
   "execution_count": 25,
   "metadata": {},
   "outputs": [
    {
     "data": {
      "text/plain": [
       "{'occupation': 'Graphics Designer',\n",
       " 'tasks': ['Creates visual elements such as typography, colors, and textures to enhance the aesthetic appeal of a design.',\n",
       "  'Develops and maintains brand identities for companies by creating consistent visual styles across all marketing materials.',\n",
       "  'Collaborates with clients and other designers to understand their requirements and preferences.',\n",
       "  'Designs and edits graphics, logos, icons, and other visual elements using software such as Adobe Creative Suite.',\n",
       "  'Conducts research to stay up-to-date with the latest design trends and technologies.',\n",
       "  'Generates a variety of file formats, including PDF, JPEG, PNG, and GIF, to accommodate different display requirements.',\n",
       "  'Improves existing designs by iterating on concepts and making revisions based on feedback from clients or colleagues.',\n",
       "  'Maintains accurate records of all design files, revisions, and client interactions in a project management system.',\n",
       "  'Optimizes graphics for web use, including resizing, compressing, and color correction.',\n",
       "  'Participates in brainstorming sessions to generate innovative ideas for new projects or campaigns.',\n",
       "  'Receives and provides feedback on designs from colleagues and clients to ensure quality and consistency.',\n",
       "  'Refers to style guides, brand assets, and other design resources when creating new graphics.',\n",
       "  'Represents the company at industry events, conferences, and workshops to showcase designs and network with peers.',\n",
       "  'Reviews and understands industry standards for visual design and branding.',\n",
       "  'Synchronizes work on multiple projects simultaneously using tools like Trello or Asana.',\n",
       "  'Ensures all designs meet the required technical specifications for file formats, resolution, and color accuracy.',\n",
       "  'Stays up-to-date with the latest software and hardware to ensure efficiency and productivity in the workflow.',\n",
       "  'Troubleshoots issues related to file format compatibility or other design-related problems.',\n",
       "  'Updates existing materials with fresh images or graphics to keep them relevant and appealing.',\n",
       "  'Validates designs for copyright infringement, trademark usage, and intellectual property rights before presenting them to clients.',\n",
       "  'Converts vector graphics into raster files, when needed for specific file formats.']}"
      ]
     },
     "execution_count": 25,
     "metadata": {},
     "output_type": "execute_result"
    }
   ],
   "source": [
    "class occupation(BaseModel):\n",
    "    occupation: str\n",
    "    tasks: list[str]\n",
    "\n",
    "model = ChatOllama(model=\"llama3.2\", temperature=1)\n",
    "\n",
    "query = \"List out exactly 29 tasks that the occupation Graphics Designer would perform at work. Make sure each statement is unique and different from one another.\"\n",
    "\n",
    "structured_llm = model.with_structured_output(schema=occupation.model_json_schema(), method=\"json_schema\")\n",
    "response = structured_llm.invoke(query)\n",
    "response"
   ]
  },
  {
   "cell_type": "code",
   "execution_count": 27,
   "metadata": {},
   "outputs": [],
   "source": [
    "def test():\n",
    "    class occupation(BaseModel):\n",
    "        occupation: str\n",
    "        tasks: list[str]\n",
    "\n",
    "    model = ChatOllama(model=\"llama3.2\", temperature=1)\n",
    "\n",
    "    query = \"List out exactly 29 tasks that the occupation Graphics Designer would perform at work. Make sure each statement is unique and different from one another.\"\n",
    "\n",
    "    structured_llm = model.with_structured_output(schema=occupation.model_json_schema(), method=\"json_schema\")\n",
    "    response = structured_llm.invoke(query)\n",
    "    return response"
   ]
  },
  {
   "cell_type": "code",
   "execution_count": null,
   "metadata": {},
   "outputs": [],
   "source": [
    "# set up a function to count how much time is needed to run the code\n",
    "import time\n",
    "\n",
    "def time_it(func):\n",
    "    def wrapper(*args, **kwargs):\n",
    "        start = time.time()\n",
    "        result = func(*args, **kwargs)\n",
    "        end = time.time()\n",
    "        return end - start\n",
    "    return wrapper\n",
    "\n",
    "# @time_it\n",
    "def test():\n",
    "    class occupation(BaseModel):\n",
    "        occupation: str\n",
    "        tasks: list[str]\n",
    "\n",
    "    model = ChatOllama(model=\"llama3.2\", temperature=1)\n",
    "\n",
    "    query = \"List out exactly 10 tasks that the occupation Graphics Designer would perform at work. Make sure each statement is unique and different from one another.\"\n",
    "\n",
    "    structured_llm = model.with_structured_output(schema=occupation, method=\"json_schema\")\n",
    "    response = structured_llm.invoke(query)\n",
    "    return response"
   ]
  },
  {
   "cell_type": "code",
   "execution_count": 49,
   "metadata": {},
   "outputs": [
    {
     "data": {
      "text/plain": [
       "[4.551592111587524,\n",
       " 4.634456157684326,\n",
       " 4.827213287353516,\n",
       " 4.505525588989258,\n",
       " 3.9482035636901855]"
      ]
     },
     "execution_count": 49,
     "metadata": {},
     "output_type": "execute_result"
    }
   ],
   "source": [
    "result = []\n",
    "\n",
    "for i in range(5):\n",
    "    result.append(test())\n",
    "\n",
    "result\n"
   ]
  },
  {
   "cell_type": "code",
   "execution_count": 47,
   "metadata": {},
   "outputs": [
    {
     "data": {
      "text/plain": [
       "5.711414766311646"
      ]
     },
     "execution_count": 47,
     "metadata": {},
     "output_type": "execute_result"
    }
   ],
   "source": [
    "np.mean(result)"
   ]
  },
  {
   "cell_type": "code",
   "execution_count": 50,
   "metadata": {},
   "outputs": [
    {
     "data": {
      "text/plain": [
       "4.493398141860962"
      ]
     },
     "execution_count": 50,
     "metadata": {},
     "output_type": "execute_result"
    }
   ],
   "source": [
    "np.mean(result)"
   ]
  },
  {
   "cell_type": "code",
   "execution_count": 54,
   "metadata": {},
   "outputs": [
    {
     "data": {
      "text/plain": [
       "occupation(occupation='Graphics Designer', tasks=['Designs visual elements such as logos, icons, and graphics for use in various media, including print, web, and social media.', 'Develops and maintains the visual identity of a brand or company through consistent application of color schemes, typography, and imagery.', 'Creates digital designs using graphic design software, including Adobe Creative Suite.', 'Generates images, graphics, and other visual elements to be used in marketing materials, such as brochures, flyers, and business cards.', 'Develops branding guidelines and style sheets for clients or internal teams.', 'Evaluates the technical feasibility of graphic design projects and recommends software and hardware options.', 'Produces motion graphics, animations, and other interactive multimedia content to engage audiences.', 'Collaborates with colleagues from various departments, such as marketing, sales, and product development, to ensure design consistency and alignment with overall company goals.', 'Researches current trends and industry standards to stay informed about the latest graphic design techniques and best practices.', 'Gathers feedback from clients and incorporates their input into design projects to meet their specific needs and expectations.'])"
      ]
     },
     "execution_count": 54,
     "metadata": {},
     "output_type": "execute_result"
    }
   ],
   "source": [
    "test()"
   ]
  }
 ],
 "metadata": {
  "kernelspec": {
   "display_name": "Python 3",
   "language": "python",
   "name": "python3"
  },
  "language_info": {
   "codemirror_mode": {
    "name": "ipython",
    "version": 3
   },
   "file_extension": ".py",
   "mimetype": "text/x-python",
   "name": "python",
   "nbconvert_exporter": "python",
   "pygments_lexer": "ipython3",
   "version": "3.12.4"
  }
 },
 "nbformat": 4,
 "nbformat_minor": 2
}
