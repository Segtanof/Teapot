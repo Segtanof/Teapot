{
 "cells": [
  {
   "cell_type": "code",
   "execution_count": null,
   "metadata": {},
   "outputs": [],
   "source": [
    "#\tPrompt LLMs to be expert\n",
    "#       they can now respond to question and provide structured response\n",
    "#\tGenerate domain-specific multiple choice questions\n",
    "#       on the way\n",
    "#\tGrade the result of LLM and find out correlations\n",
    "#       with strcuture output, should be easy\n"
   ]
  },
  {
   "cell_type": "code",
   "execution_count": 1,
   "metadata": {},
   "outputs": [],
   "source": [
    "import json\n",
    "import io\n",
    "import pandas as pd\n",
    "from phi.agent import Agent, RunResponse\n",
    "from phi.model.ollama import Ollama\n",
    "from phi.storage.agent.sqlite import SqlAgentStorage\n",
    "import requests"
   ]
  },
  {
   "cell_type": "code",
   "execution_count": 2,
   "metadata": {},
   "outputs": [
    {
     "data": {
      "text/plain": [
       "200"
      ]
     },
     "execution_count": 2,
     "metadata": {},
     "output_type": "execute_result"
    }
   ],
   "source": [
    "# scrap the occupation file\n",
    "\n",
    "headers = {\n",
    "    'User-Agent': 'Mozilla/5.0 (Windows NT 10.0; Win64; x64; rv:132.0) Gecko/20100101 Firefox/132.0',\n",
    "}\n",
    "\n",
    "response = requests.get('https://download.bls.gov/pub/time.series/oe/oe.occupation', headers=headers)\n",
    "response.status_code"
   ]
  },
  {
   "cell_type": "code",
   "execution_count": 3,
   "metadata": {},
   "outputs": [],
   "source": [
    "# global variables\n",
    "model_id = \"llama3.1\"\n",
    "#qwen2.5-coder, llama3.1, llama3.2\n"
   ]
  },
  {
   "cell_type": "code",
   "execution_count": 4,
   "metadata": {},
   "outputs": [],
   "source": [
    "# gload occupation to df\n",
    "#https://www.bls.gov/oes/current/oessrci.htm\n",
    "occupation = pd.read_csv(io.BytesIO(response.content), sep=\"\\t\").dropna(subset=[\"occupation_description\"])\n",
    "occupation = occupation[[\"occupation_code\", \"occupation_name\",\"occupation_description\"]]\n",
    "occupation = occupation.rename(columns={\"occupation_code\":\"code\", \"occupation_name\":\"name\",\"occupation_description\":\"description\"})\n"
   ]
  },
  {
   "cell_type": "code",
   "execution_count": 5,
   "metadata": {},
   "outputs": [
    {
     "data": {
      "text/html": [
       "<div>\n",
       "<style scoped>\n",
       "    .dataframe tbody tr th:only-of-type {\n",
       "        vertical-align: middle;\n",
       "    }\n",
       "\n",
       "    .dataframe tbody tr th {\n",
       "        vertical-align: top;\n",
       "    }\n",
       "\n",
       "    .dataframe thead th {\n",
       "        text-align: right;\n",
       "    }\n",
       "</style>\n",
       "<table border=\"1\" class=\"dataframe\">\n",
       "  <thead>\n",
       "    <tr style=\"text-align: right;\">\n",
       "      <th></th>\n",
       "      <th>code</th>\n",
       "      <th>name</th>\n",
       "      <th>description</th>\n",
       "    </tr>\n",
       "  </thead>\n",
       "  <tbody>\n",
       "    <tr>\n",
       "      <th>310</th>\n",
       "      <td>251125</td>\n",
       "      <td>History Teachers, Postsecondary</td>\n",
       "      <td>Teach courses in human history and historiogra...</td>\n",
       "    </tr>\n",
       "    <tr>\n",
       "      <th>351</th>\n",
       "      <td>259044</td>\n",
       "      <td>Teaching Assistants, Postsecondary</td>\n",
       "      <td>Assist faculty or other instructional staff in...</td>\n",
       "    </tr>\n",
       "    <tr>\n",
       "      <th>712</th>\n",
       "      <td>435031</td>\n",
       "      <td>Public Safety Telecommunicators</td>\n",
       "      <td>Operate telephone, radio, or other communicati...</td>\n",
       "    </tr>\n",
       "    <tr>\n",
       "      <th>779</th>\n",
       "      <td>472081</td>\n",
       "      <td>Drywall and Ceiling Tile Installers</td>\n",
       "      <td>Apply plasterboard or other wallboard to ceili...</td>\n",
       "    </tr>\n",
       "    <tr>\n",
       "      <th>1075</th>\n",
       "      <td>535031</td>\n",
       "      <td>Ship Engineers</td>\n",
       "      <td>Supervise and coordinate activities of crew en...</td>\n",
       "    </tr>\n",
       "  </tbody>\n",
       "</table>\n",
       "</div>"
      ],
      "text/plain": [
       "        code                                 name  \\\n",
       "310   251125      History Teachers, Postsecondary   \n",
       "351   259044   Teaching Assistants, Postsecondary   \n",
       "712   435031      Public Safety Telecommunicators   \n",
       "779   472081  Drywall and Ceiling Tile Installers   \n",
       "1075  535031                       Ship Engineers   \n",
       "\n",
       "                                            description  \n",
       "310   Teach courses in human history and historiogra...  \n",
       "351   Assist faculty or other instructional staff in...  \n",
       "712   Operate telephone, radio, or other communicati...  \n",
       "779   Apply plasterboard or other wallboard to ceili...  \n",
       "1075  Supervise and coordinate activities of crew en...  "
      ]
     },
     "execution_count": 5,
     "metadata": {},
     "output_type": "execute_result"
    }
   ],
   "source": [
    "#occupation_l = ['New Accounts Clerks', 'Nuclear Technicians', 'Orderlies', 'Clinical and Counseling Psychologists', 'Radiologic Technologists and Technicians'] \n",
    "occupation_l = (list(occupation.sample(5).name))\n",
    "sample_o = occupation.loc[occupation[\"name\"].isin(occupation_l)]\n",
    "sample_o"
   ]
  },
  {
   "cell_type": "code",
   "execution_count": 6,
   "metadata": {},
   "outputs": [],
   "source": [
    "#C.4 Expert Casting Prompt\n",
    "#From now on, you are an excellent {role} described as {roles_description}. Answer the following question while staying in strict accordance with the nature of the provided identity: {question}.\n",
    "#url = \"https://arxiv.org/pdf/2411.00492\"\n",
    "\n",
    "def create_agent(role, role_description):\n",
    "    expert_agent = Agent(\n",
    "        model=Ollama(id=model_id),\n",
    "        description=\"From now on, you are an excellent {} described as {}. you are tasked with answering multiple choice questions. Think through each step meticulously but only show me the final answer. Rules: 1.Think deeply about the question's core concept. 2. Consider common misconceptions. 3. Mentally justify why each wrong option is incorrect 4. Double-check your logic 5. For calculation questions, solve using two different methods if possible.\".format(role, role_description),\n",
    "        storage=SqlAgentStorage(table_name=\"agent_sessions\", db_file=\"tmp/agent_storage.db\"),\n",
    "        instructions=[\"-you are helpful and you think step by step.\"],\n",
    "        add_history_to_messages=True,\n",
    "        num_history_responses=3    \n",
    "    )\n",
    "    return expert_agent.run(\"use 1 short sentence to say who you are.\").content, expert_agent.session_id"
   ]
  },
  {
   "cell_type": "code",
   "execution_count": 7,
   "metadata": {},
   "outputs": [
    {
     "data": {
      "text/plain": [
       "{'History Teachers, Postsecondary': ['a2d9f86a-c1c8-4fe7-90c5-accd2e4b782c',\n",
       "  'Teach courses in human history and historiography. Includes both teachers primarily engaged in teaching and those who do a combination of teaching and research.'],\n",
       " 'Teaching Assistants, Postsecondary': ['ab2e8b2d-3414-4364-95ba-f39852a740f4',\n",
       "  'Assist faculty or other instructional staff in postsecondary institutions by performing instructional support activities, such as developing teaching materials, leading discussion groups, preparing and giving examinations, and grading examinations or papers. Graduate students who teach one or more full courses should be classified in the 25-1000 minor group.'],\n",
       " 'Public Safety Telecommunicators': ['747eaa5f-c777-4f2f-9af2-8e0031325f12',\n",
       "  'Operate telephone, radio, or other communication systems to receive and communicate requests for emergency assistance at 9-1-1 public safety answering points and emergency operations centers. Take information from the public and other sources regarding crimes, threats, disturbances, acts of terrorism, fires, medical emergencies, and other public safety matters. May coordinate and provide information to law enforcement and emergency response personnel. May access sensitive databases and other information sources as needed. May provide additional instructions to callers based on knowledge of and certification in law enforcement, fire, or emergency medical procedures.'],\n",
       " 'Drywall and Ceiling Tile Installers': ['bd5dae98-0e49-4527-9040-47bf07a2fdfa',\n",
       "  'Apply plasterboard or other wallboard to ceilings or interior walls of buildings. Apply or mount acoustical tiles or blocks, strips, or sheets of shock-absorbing materials to ceilings and walls of buildings to reduce or reflect sound. Materials may be of decorative quality. Includes lathers who fasten wooden, metal, or rockboard lath to walls, ceilings, or partitions of buildings to provide support base for plaster, fireproofing, or acoustical material. Excludes \"Carpenters\" (47-2031), \"Carpet Installers\" (47-2041), and \"Tile and Stone Setters\" (47-2044).'],\n",
       " 'Ship Engineers': ['16675b83-3d56-4f14-abb4-e4443178b582',\n",
       "  'Supervise and coordinate activities of crew engaged in operating and maintaining engines, boilers, deck machinery, and electrical, sanitary, and refrigeration equipment aboard ship. Excludes \"Engineers\" (17-2000).']}"
      ]
     },
     "execution_count": 7,
     "metadata": {},
     "output_type": "execute_result"
    }
   ],
   "source": [
    "agents_in_action = {}\n",
    "for role in range(len(sample_o)):\n",
    "    agents_in_action[sample_o[\"name\"].iloc[role]] = [create_agent(sample_o[\"name\"].iloc[role], sample_o[\"description\"].iloc[role])[1], sample_o[\"description\"].iloc[role]]\n",
    "agents_in_action"
   ]
  },
  {
   "cell_type": "code",
   "execution_count": 14,
   "metadata": {},
   "outputs": [],
   "source": [
    "question = \"Question: A ball is thrown vertically upward with an initial velocity of 20 m/s. Assuming g = 10 m/s², what is the maximum height reached by the ball? Options: A) 10 meters B) 20 meters C) 30 meters D) 40 meters Your answer: [Option]\"\n"
   ]
  },
  {
   "cell_type": "code",
   "execution_count": 8,
   "metadata": {},
   "outputs": [],
   "source": [
    "# ask agents questions\n",
    "def ask_mc(question, session):\n",
    "    expert_agent = Agent(\n",
    "        model=Ollama(id=model_id),\n",
    "        description=\"you are tasked with answering multiple choice questions. Think through each step meticulously but only show me the final answer. Rules: 1.Think deeply about the question's core concept. 2. Consider common misconceptions. 3. Mentally justify why each wrong option is incorrect 4. Double-check your logic 5. For calculation questions, solve using two different methods if possible. for output format, do this: [option (A, B, D, or D. do not repeat the answer text. alphbet only)]\",\n",
    "        storage=SqlAgentStorage(table_name=\"agent_sessions\", db_file=\"tmp/agent_storage.db\"),\n",
    "        instructions=[\"\"\"-you think step by step. -do not provide explanations. -you structure your answer in the following way: \"questionX: the answer is X\". \"\"\"],\n",
    "        add_history_to_messages=True,\n",
    "        num_history_responses=3,\n",
    "        session_id= session\n",
    "    )\n",
    "    return expert_agent.run(question).content"
   ]
  },
  {
   "cell_type": "code",
   "execution_count": null,
   "metadata": {},
   "outputs": [
    {
     "name": "stdout",
     "output_type": "stream",
     "text": [
      "('The answer is D) Yellow.', '39f281cb-5653-4c53-aa71-93693110ec63')\n",
      "('qustion1: the answer is C', '80b2d652-2772-4d44-8c28-1775e7f8cfc4')\n",
      "('qustion1: the answer is C', 'f40c78f5-3a71-40af-b3c9-db9be14cdd06')\n",
      "('C) Green', 'd652f109-ddf6-4c34-ba9d-6034885217e0')\n",
      "('qustion1: the answer is C', 'bbd0b655-5515-4ce8-8f8c-1f83977178d8')\n"
     ]
    }
   ],
   "source": [
    "# for agent in agents_in_action:\n",
    "#     print(ask_mc(question, agents_in_action[agent]))"
   ]
  },
  {
   "cell_type": "code",
   "execution_count": null,
   "metadata": {},
   "outputs": [],
   "source": [
    "# question = \"\"\"Answer this multiple choice question. Think through each step meticulously but only show me the final answer.\n",
    "\n",
    "# Question: In a population of 200 students, 60% are female. How many male students are in the population?\n",
    "\n",
    "# Options:\n",
    "# A) 80 students\n",
    "# B) 120 students\n",
    "# C) 140 students\n",
    "# D) 160 students\"\"\""
   ]
  },
  {
   "cell_type": "code",
   "execution_count": null,
   "metadata": {},
   "outputs": [],
   "source": [
    "# question = \"\"\"Question: Which of the following is NOT a primary color in traditional color theory?\n",
    "\n",
    "# Options:\n",
    "# A) Red\n",
    "# B) Blue\n",
    "# C) Green\n",
    "# D) Yellow\"\"\""
   ]
  },
  {
   "cell_type": "code",
   "execution_count": null,
   "metadata": {},
   "outputs": [
    {
     "name": "stdout",
     "output_type": "stream",
     "text": [
      "When positioning a patient for a chest X-ray, which adjustment ensures the clavicles are out of the lung field? ['Angle the X-ray tube cephalad.', 'Position the patient in a prone position.', 'Align the X-ray beam perpendicular to the sternum.', 'Ask the patient to roll their shoulders forward.']\n",
      "What is the recommended protocol when imaging a pediatric patient who cannot remain still? ['Use sedation to keep the patient immobile.', 'Use the shortest possible exposure time and immobilization devices.', 'Allow a parent to hold the child during the procedure without protective gear.', 'Perform the imaging procedure despite movement for efficiency.']\n",
      "A fluoroscopy exam shows unusually high patient skin dose readings. What should you do? ['Stop the procedure immediately and report the incident.', 'Continue the procedure but decrease the fluoroscopy time.', 'Confirm equipment calibration and assess for overexposure risks.', 'Lower the table to reduce the distance between the X-ray source and the patient.']\n",
      "A physician requests an X-ray on a pregnant patient. What is your first step? ['Perform the procedure as ordered while avoiding pelvic exposure.', 'Decline the request and suggest an ultrasound instead.', 'Discuss the potential risks with the physician and patient before proceeding.', 'Use the maximum lead shielding available and proceed.']\n",
      "A lateral lumbar spine X-ray appears underexposed despite correct technique settings. What is the most likely cause? ['Excessive focal spot size.', 'Incorrect positioning of the patient.', 'High tissue density in the area.', 'Miscalibration of the exposure timer.']\n",
      "What is the primary purpose of using a grid in radiography? ['Protect the patient from scattered radiation.', 'Enhance image sharpness by reducing scatter radiation.', 'Minimize motion artifacts during exposure.', 'Reduce the dose needed for adequate imaging.']\n",
      "During a CT scan, a patient reports feeling warm and flushed after receiving contrast. What should you do? ['Reassure the patient and continue the scan.', 'Stop the procedure immediately and call for emergency assistance.', 'Monitor for additional symptoms and prepare to manage an allergic reaction.', 'Offer the patient water to counteract the sensation.']\n",
      "Which regulatory standard mandates regular testing of radiologic equipment? ['American Registry of Radiologic Technologists (ARRT) standards.', 'Occupational Safety and Health Administration (OSHA) guidelines.', 'The Joint Commission accreditation requirements.', 'Federal regulations under the Mammography Quality Standards Act (MQSA).']\n",
      "A colleague forgets to wear their dosimeter during a procedure. What is the best course of action? ['Report the incident to your supervisor immediately.', 'Share your dosimeter with them for the rest of the procedure.', 'Advise them to record an estimated exposure level post-procedure.', 'Remind them to wear it next time and proceed.']\n",
      "What is the maximum permissible dose of radiation for occupational exposure per year according to international standards? ['1 millisievert (mSv)', '5 mSv', '20 mSv', '50 mSv']\n"
     ]
    },
    {
     "data": {
      "text/plain": [
       "[['When positioning a patient for a chest X-ray, which adjustment ensures the clavicles are out of the lung field?',\n",
       "  ['Angle the X-ray tube cephalad.',\n",
       "   'Position the patient in a prone position.',\n",
       "   'Align the X-ray beam perpendicular to the sternum.',\n",
       "   'Ask the patient to roll their shoulders forward.']],\n",
       " ['What is the recommended protocol when imaging a pediatric patient who cannot remain still?',\n",
       "  ['Use sedation to keep the patient immobile.',\n",
       "   'Use the shortest possible exposure time and immobilization devices.',\n",
       "   'Allow a parent to hold the child during the procedure without protective gear.',\n",
       "   'Perform the imaging procedure despite movement for efficiency.']],\n",
       " ['A fluoroscopy exam shows unusually high patient skin dose readings. What should you do?',\n",
       "  ['Stop the procedure immediately and report the incident.',\n",
       "   'Continue the procedure but decrease the fluoroscopy time.',\n",
       "   'Confirm equipment calibration and assess for overexposure risks.',\n",
       "   'Lower the table to reduce the distance between the X-ray source and the patient.']],\n",
       " ['A physician requests an X-ray on a pregnant patient. What is your first step?',\n",
       "  ['Perform the procedure as ordered while avoiding pelvic exposure.',\n",
       "   'Decline the request and suggest an ultrasound instead.',\n",
       "   'Discuss the potential risks with the physician and patient before proceeding.',\n",
       "   'Use the maximum lead shielding available and proceed.']],\n",
       " ['A lateral lumbar spine X-ray appears underexposed despite correct technique settings. What is the most likely cause?',\n",
       "  ['Excessive focal spot size.',\n",
       "   'Incorrect positioning of the patient.',\n",
       "   'High tissue density in the area.',\n",
       "   'Miscalibration of the exposure timer.']],\n",
       " ['What is the primary purpose of using a grid in radiography?',\n",
       "  ['Protect the patient from scattered radiation.',\n",
       "   'Enhance image sharpness by reducing scatter radiation.',\n",
       "   'Minimize motion artifacts during exposure.',\n",
       "   'Reduce the dose needed for adequate imaging.']],\n",
       " ['During a CT scan, a patient reports feeling warm and flushed after receiving contrast. What should you do?',\n",
       "  ['Reassure the patient and continue the scan.',\n",
       "   'Stop the procedure immediately and call for emergency assistance.',\n",
       "   'Monitor for additional symptoms and prepare to manage an allergic reaction.',\n",
       "   'Offer the patient water to counteract the sensation.']],\n",
       " ['Which regulatory standard mandates regular testing of radiologic equipment?',\n",
       "  ['American Registry of Radiologic Technologists (ARRT) standards.',\n",
       "   'Occupational Safety and Health Administration (OSHA) guidelines.',\n",
       "   'The Joint Commission accreditation requirements.',\n",
       "   'Federal regulations under the Mammography Quality Standards Act (MQSA).']],\n",
       " ['A colleague forgets to wear their dosimeter during a procedure. What is the best course of action?',\n",
       "  ['Report the incident to your supervisor immediately.',\n",
       "   'Share your dosimeter with them for the rest of the procedure.',\n",
       "   'Advise them to record an estimated exposure level post-procedure.',\n",
       "   'Remind them to wear it next time and proceed.']],\n",
       " ['What is the maximum permissible dose of radiation for occupational exposure per year according to international standards?',\n",
       "  ['1 millisievert (mSv)', '5 mSv', '20 mSv', '50 mSv']]]"
      ]
     },
     "execution_count": 185,
     "metadata": {},
     "output_type": "execute_result"
    }
   ],
   "source": [
    "# with open(\"questions.json\", \"r\") as file:\n",
    "#     qb = json.load(file)\n",
    "\n",
    "# for q in range(len(qb)):\n",
    "#     print(qb[q][\"question\"],qb[q][\"options\"] )\n",
    "\n",
    "# questions = [[qb[q][\"question\"],qb[q][\"options\"]] for q in range(len(qb))]\n",
    "# answers = [qb[q][\"answer\"] for q in range(len(qb))]\n",
    "# questions"
   ]
  },
  {
   "cell_type": "code",
   "execution_count": null,
   "metadata": {},
   "outputs": [],
   "source": [
    "prompt = \"\"\"please design 10 multiple choice questions for this occupation. some thoughts before you repond: \n",
    "1. be highly domain specific. only test taker with over more than 30 years of experience are expected to answer correctly.\n",
    "2. create nuance. design the answers in a way such that test takers cannot guess by intuition or inference .\n",
    "3. do not limit yourself with only factual question. be creative.\n",
    "strictly follow this example Json Output Structure:{\"questions\":[{\"question\":\"[Insert question here]\",\"answer_options\":{\"A\":\"[Option 1]\",\"B\":\"[Option 2]\",\"C\":\"[Option 3]\",\"D\":\"[Option 4]\"},\"correct_answer\":\"A\",\"explanation\":\"[This question tests specific skill/knowledge because of reason.]\"}]}\n",
    "\"\"\""
   ]
  },
  {
   "cell_type": "code",
   "execution_count": 81,
   "metadata": {},
   "outputs": [],
   "source": [
    "# ask agent to create mc\n",
    "def mc_magician(role, role_des):\n",
    "    prompt = \"\"\"please design 10 multiple choice questions for {}. The job description is as follow: {}. Some thoughts before you repond: \n",
    "    1. be highly domain specific. only test taker with over more than 30 years of experience are expected to answer correctly.\n",
    "    2. create nuance. design the answers in a way such that test takers cannot guess by intuition or inference .\n",
    "    3. do not limit yourself with only factual question. be creative.\n",
    "    4. do not response anything other than structed json output.\"\"\".format(role, role_des)\n",
    "\n",
    "    mc_agent = Agent(\n",
    "        model=Ollama(id=model_id),\n",
    "        description=\"\"\"\"You are an expert question designer tasked with creating high-quality certification questions to identify true professionals.\n",
    "        Your goal is to create 10 questions that:\n",
    "        Test Practical Expertise: Focus on real-world scenarios, tools, and challenges specific to the domain.\n",
    "        Assess Depth of Knowledge: Ensure questions range from fundamental concepts to advanced problem-solving, covering both theory and application.\n",
    "        Differentiate Skill Levels: Include nuances that distinguish seasoned professionals from novices, such as best practices, edge-case scenarios, or optimized solutions.\n",
    "        Simulate Professional Situations: Incorporate case studies or situational judgment problems that mimic day-to-day challenges professionals face.\n",
    "        Reflect Industry Trends: Include questions that are relevant to current tools, techniques, and standards in the field.\n",
    "        Each question should have a brief context or scenario.\n",
    "        Structure questions only on advanced levels of difficulty\n",
    "        output your questions in valid json format where new line is strictly prohitbited. only produce it in compact format. Strictly follow this example Json Output Structure:[{\"question\":\"[Insert question here]\",\"options\":[\"[Option 1]\",\"[Option 2]\",\"[Option 3]\",\"[Option 4]\"],\"answer\":\"[a/b/c/d]\",\"reason\":\"[Explanation for the correct answer.]\"},{\"question\":\"[Insert question here]\",\"options\":[\"[Option 1]\",\"[Option 2]\",\"[Option 3]\",\"[Option 4]\"],\"answer\":\"[a/b/c/d]\",\"reason\":\"[Explanation for the correct answer.]\"}]\n",
    "        only output the required json. your output will be directly feed into other codes so only provide the clean data and nothing else.\"\"\",\n",
    "        storage=SqlAgentStorage(table_name=\"agent_sessions\", db_file=\"tmp/agent_storage.db\"),\n",
    "        instructions=[\"you only output what is reuqired and never provide explanation or additional information.\"],\n",
    "        add_history_to_messages=True,\n",
    "        num_history_responses=3,\n",
    "        \n",
    "    )\n",
    "    return mc_agent.run(prompt).content, mc_agent.session_id"
   ]
  },
  {
   "cell_type": "code",
   "execution_count": null,
   "metadata": {},
   "outputs": [
    {
     "name": "stderr",
     "output_type": "stream",
     "text": [
      "  0%|          | 0/5 [00:00<?, ?it/s]"
     ]
    }
   ],
   "source": [
    "# ask mc magician to create mc sets for each occupation\n",
    "# manual effort for now\n",
    "result_list = []\n",
    "for i in trange(len(list(agents_in_action.items()))):\n",
    "    result = mc_magician(list(agents_in_action.items())[i][0], list(agents_in_action.items())[0][1][1])\n",
    "    result_list.append(result)\n",
    "result_list"
   ]
  },
  {
   "cell_type": "code",
   "execution_count": 74,
   "metadata": {},
   "outputs": [
    {
     "name": "stdout",
     "output_type": "stream",
     "text": [
      "Teaching Assistants, Postsecondary\n",
      "Assist faculty or other instructional staff in postsecondary institutions by performing instructional support activities, such as developing teaching materials, leading discussion groups, preparing and giving examinations, and grading examinations or papers. Graduate students who teach one or more full courses should be classified in the 25-1000 minor group.\n"
     ]
    },
    {
     "data": {
      "text/plain": [
       "'16675b83-3d56-4f14-abb4-e4443178b582'"
      ]
     },
     "execution_count": 74,
     "metadata": {},
     "output_type": "execute_result"
    }
   ],
   "source": [
    "agent_list = list(agents_in_action.items())\n",
    "print(agent_list[1][0])\n",
    "print(agent_list[1][1][1])\n",
    "agents_in_action[agent][0]"
   ]
  },
  {
   "cell_type": "code",
   "execution_count": 80,
   "metadata": {},
   "outputs": [
    {
     "data": {
      "text/plain": [
       "dict_keys(['History Teachers, Postsecondary', 'Teaching Assistants, Postsecondary', 'Public Safety Telecommunicators', 'Drywall and Ceiling Tile Installers', 'Ship Engineers'])"
      ]
     },
     "execution_count": 80,
     "metadata": {},
     "output_type": "execute_result"
    }
   ],
   "source": [
    "agents_in_action.keys()"
   ]
  },
  {
   "cell_type": "code",
   "execution_count": 82,
   "metadata": {},
   "outputs": [
    {
     "data": {
      "text/plain": [
       "('[{\"question\":\"A dispatcher receives a call from an intoxicated individual claiming to have been attacked by a large animal in the woods. The caller\\'s speech is slurred, and they are unable to provide a specific location. Which action should the dispatcher take next?\",\"options\":[\"Ask for a detailed description of the attacker and their appearance.\",\"Request that the caller remain on the line until help arrives, but do not send units yet.\",\"Send a unit with basic life support training to assist the caller.\",\"Tell the caller that they need to stay calm and provide more information before assistance can be dispatched.\"],\"answer\":\"c\",\"reason\":\"The dispatcher should prioritize sending a unit with basic life support training to assist the caller, as the situation may require medical attention due to the individual\\'s intoxication. Requesting more information or delaying dispatch could exacerbate the situation.\"},{\"question\":\"A 9-1-1 call is received from a residence where a family member has been shot. The caller provides a detailed description of the victim and the suspect, but they are unable to provide their location. The dispatcher must prioritize which piece of information to ask for next.\",\"options\":[\"Request that the caller remain on the line until help arrives.\",\"Ask for a description of the room or building where the incident occurred.\",\"Ask for any other family members who may be present or injured.\",\"Tell the caller that they need to stay calm and provide more details about the suspect.\"],\"answer\":\"a\",\"reason\":\"The dispatcher should prioritize keeping the caller on the line, as their information is critical in assisting responders. Releasing the call could result in loss of vital information or miscommunication with responding units.\"},{\"question\":\"A public safety telecommunicator receives a report of a potentially hazardous situation involving a tanker truck carrying a flammable liquid. The driver has been involved in an accident and is unable to safely exit the vehicle. Which action should the dispatcher take next?\",\"options\":[\"Advise the caller to keep a safe distance from the scene.\",\"Notify the fire department and request they respond with HAZMAT units.\",\"Send a police unit to assist the driver, prioritizing their safety above all else.\",\"Have the caller remain on the line until the situation can be resolved.\"],\"answer\":\"b\",\"reason\":\"Notifying the fire department and requesting they respond with HAZMAT units is the most appropriate course of action in this scenario, as the flammable liquid poses a significant risk to responders and bystanders alike. This response also acknowledges the driver\\'s safety concerns.\"},{\"question\":\"A 9-1-1 call is received from an elderly individual who claims to have been robbed at gunpoint in their home. The caller provides a detailed description of the perpetrator but seems overly cooperative with the dispatcher\\'s questions. Which red flag should the dispatcher be aware of?\",\"options\":[\"The caller appears anxious or agitated.\",\"The caller provides a conflicting account of the events.\",\"The caller seems overly cooperative and provides unnecessary details.\",\"The caller repeatedly asks about their loved one\\'s safety.\"],\"answer\":\"c\",\"reason\":\"The caller\\'s excessive cooperation may indicate that they are not providing accurate information, possibly due to being coerced or intimidated by the perpetrator. This requires the dispatcher to exercise caution when gathering information and potentially involve additional units for support.\"},{\"question\":\"A public safety telecommunicator receives a call from a concerned citizen who reports seeing someone attempting to break into their neighbor\\'s residence. The caller provides a detailed description of the suspect but seems uncertain about their location. Which action should the dispatcher take next?\",\"options\":[\"Tell the caller that they need to stay calm and provide more information before assistance can be dispatched.\",\"Request that the caller remain on the line until help arrives, but do not send units yet.\",\"Send a unit with patrol car lights activated to canvass the area for the suspect.\",\"Advise the caller to keep a safe distance from the scene and wait for further instructions.\"],\"answer\":\"d\",\"reason\":\"The dispatcher should advise the caller to keep a safe distance from the scene while waiting for further instructions, as this allows them to maintain their safety without influencing the situation or compromising the integrity of the investigation.\"},{\"question\":\"A 9-1-1 call is received from a resident who claims to have been threatened by an acquaintance. The caller provides a detailed description of the perpetrator and mentions that they possess a firearm. Which action should the dispatcher take next?\",\"options\":[\"Notify law enforcement and request they respond with firearms units.\",\"Send a unit with basic life support training to assist the caller, prioritizing their safety above all else.\",\"Tell the caller that you believe them and are going to send help right away.\",\"Request additional information from the caller about their location and any other relevant details.\"],\"answer\":\"c\",\"reason\":\"Telling the caller that they believe them and are going to send help right away can have unintended consequences, such as causing undue panic or excitement. Instead, the dispatcher should focus on gathering more information before dispatching assistance.\"},{\"question\":\"A public safety telecommunicator receives a call from an individual who claims to have witnessed a possible abduction in progress. The caller provides a detailed description of the vehicle and its occupants but seems uncertain about their location. Which action should the dispatcher take next?\",\"options\":[\"Tell the caller that you believe them and are going to send help right away.\",\"Request that the caller remain on the line until help arrives, but do not send units yet.\",\"Send a unit with basic life support training to assist the caller, prioritizing their safety above all else.\",\"Have the caller follow the vehicle at a safe distance while waiting for further instructions.\"],\"answer\":\"c\",\"reason\":\"The dispatcher should prioritize sending a unit with basic life support training to assist the caller, as this acknowledges their safety and prioritizes it above all else. Releasing the call or advising the caller to pursue the vehicle could result in unintended consequences.\"},{\"question\":\"A 9-1-1 call is received from an individual who claims to have been exposed to a chemical spill while responding to another emergency. The caller provides a detailed description of their symptoms but seems uncertain about their location. Which action should the dispatcher take next?\",\"options\":[\"Request that the caller remain on the line until help arrives, but do not send units yet.\",\"Send a unit with basic life support training to assist the caller, prioritizing their safety above all else.\",\"Tell the caller that you believe them and are going to send help right away.\",\"Notify the fire department and request they respond with HAZMAT units.\"],\"answer\":\"d\",\"reason\":\"Notifying the fire department and requesting they respond with HAZMAT units is the most appropriate course of action in this scenario, as the chemical spill poses a significant risk to the caller\\'s health. This response prioritizes their safety above all else.\"},{\"question\":\"A public safety telecommunicator receives a call from an individual who claims to have been threatened by someone using social media. The caller provides a detailed description of the perpetrator and mentions that they are experiencing emotional distress due to the incident. Which action should the dispatcher take next?\",\"options\":[\"Notify law enforcement and request they respond with cybercrime units.\",\"Tell the caller that you believe them and are going to send help right away.\",\"Send a unit with basic life support training to assist the caller, prioritizing their safety above all else.\",\"Request additional information from the caller about their location and any other relevant details.\"],\"answer\":\"c\",\"reason\":\"The dispatcher should prioritize sending a unit with basic life support training to assist the caller, as this acknowledges their emotional distress and prioritizes their safety above all else. Releasing the call or advising the caller that they are going to send help right away could result in unintended consequences.\"},{\"question\":\"A 9-1-1 call is received from an elderly individual who claims to have been robbed at gunpoint in their home. The caller provides a detailed description of the perpetrator but seems overly cooperative with the dispatcher\\'s questions. Which red flag should the dispatcher be aware of?\",\"options\":[\"The caller appears anxious or agitated.\",\"The caller provides a conflicting account of the events.\",\"The caller seems overly cooperative and provides unnecessary details.\",\"The caller repeatedly asks about their loved one\\'s safety.\"],\"answer\":\"c\",\"reason\":\"The caller\\'s excessive cooperation may indicate that they are not providing accurate information, possibly due to being coerced or intimidated by the perpetrator. This requires the dispatcher to exercise caution when gathering information and potentially involve additional units for support.\"}]',\n",
       " '6102163c-2f3a-46a5-8230-c053bf4f199e')"
      ]
     },
     "execution_count": 82,
     "metadata": {},
     "output_type": "execute_result"
    }
   ],
   "source": [
    "result = mc_magician(role = agent_list[2][0], role_des=agent_list[2][1][1])\n",
    "result"
   ]
  },
  {
   "cell_type": "code",
   "execution_count": 83,
   "metadata": {},
   "outputs": [
    {
     "name": "stdout",
     "output_type": "stream",
     "text": [
      "A dispatcher receives a call from an intoxicated individual claiming to have been attacked by a large animal in the woods. The caller's speech is slurred, and they are unable to provide a specific location. Which action should the dispatcher take next? ['Ask for a detailed description of the attacker and their appearance.', 'Request that the caller remain on the line until help arrives, but do not send units yet.', 'Send a unit with basic life support training to assist the caller.', 'Tell the caller that they need to stay calm and provide more information before assistance can be dispatched.']\n",
      "A 9-1-1 call is received from a residence where a family member has been shot. The caller provides a detailed description of the victim and the suspect, but they are unable to provide their location. The dispatcher must prioritize which piece of information to ask for next. ['Request that the caller remain on the line until help arrives.', 'Ask for a description of the room or building where the incident occurred.', 'Ask for any other family members who may be present or injured.', 'Tell the caller that they need to stay calm and provide more details about the suspect.']\n",
      "A public safety telecommunicator receives a report of a potentially hazardous situation involving a tanker truck carrying a flammable liquid. The driver has been involved in an accident and is unable to safely exit the vehicle. Which action should the dispatcher take next? ['Advise the caller to keep a safe distance from the scene.', 'Notify the fire department and request they respond with HAZMAT units.', 'Send a police unit to assist the driver, prioritizing their safety above all else.', 'Have the caller remain on the line until the situation can be resolved.']\n",
      "A 9-1-1 call is received from an elderly individual who claims to have been robbed at gunpoint in their home. The caller provides a detailed description of the perpetrator but seems overly cooperative with the dispatcher's questions. Which red flag should the dispatcher be aware of? ['The caller appears anxious or agitated.', 'The caller provides a conflicting account of the events.', 'The caller seems overly cooperative and provides unnecessary details.', \"The caller repeatedly asks about their loved one's safety.\"]\n",
      "A public safety telecommunicator receives a call from a concerned citizen who reports seeing someone attempting to break into their neighbor's residence. The caller provides a detailed description of the suspect but seems uncertain about their location. Which action should the dispatcher take next? ['Tell the caller that they need to stay calm and provide more information before assistance can be dispatched.', 'Request that the caller remain on the line until help arrives, but do not send units yet.', 'Send a unit with patrol car lights activated to canvass the area for the suspect.', 'Advise the caller to keep a safe distance from the scene and wait for further instructions.']\n",
      "A 9-1-1 call is received from a resident who claims to have been threatened by an acquaintance. The caller provides a detailed description of the perpetrator and mentions that they possess a firearm. Which action should the dispatcher take next? ['Notify law enforcement and request they respond with firearms units.', 'Send a unit with basic life support training to assist the caller, prioritizing their safety above all else.', 'Tell the caller that you believe them and are going to send help right away.', 'Request additional information from the caller about their location and any other relevant details.']\n",
      "A public safety telecommunicator receives a call from an individual who claims to have witnessed a possible abduction in progress. The caller provides a detailed description of the vehicle and its occupants but seems uncertain about their location. Which action should the dispatcher take next? ['Tell the caller that you believe them and are going to send help right away.', 'Request that the caller remain on the line until help arrives, but do not send units yet.', 'Send a unit with basic life support training to assist the caller, prioritizing their safety above all else.', 'Have the caller follow the vehicle at a safe distance while waiting for further instructions.']\n",
      "A 9-1-1 call is received from an individual who claims to have been exposed to a chemical spill while responding to another emergency. The caller provides a detailed description of their symptoms but seems uncertain about their location. Which action should the dispatcher take next? ['Request that the caller remain on the line until help arrives, but do not send units yet.', 'Send a unit with basic life support training to assist the caller, prioritizing their safety above all else.', 'Tell the caller that you believe them and are going to send help right away.', 'Notify the fire department and request they respond with HAZMAT units.']\n",
      "A public safety telecommunicator receives a call from an individual who claims to have been threatened by someone using social media. The caller provides a detailed description of the perpetrator and mentions that they are experiencing emotional distress due to the incident. Which action should the dispatcher take next? ['Notify law enforcement and request they respond with cybercrime units.', 'Tell the caller that you believe them and are going to send help right away.', 'Send a unit with basic life support training to assist the caller, prioritizing their safety above all else.', 'Request additional information from the caller about their location and any other relevant details.']\n",
      "A 9-1-1 call is received from an elderly individual who claims to have been robbed at gunpoint in their home. The caller provides a detailed description of the perpetrator but seems overly cooperative with the dispatcher's questions. Which red flag should the dispatcher be aware of? ['The caller appears anxious or agitated.', 'The caller provides a conflicting account of the events.', 'The caller seems overly cooperative and provides unnecessary details.', \"The caller repeatedly asks about their loved one's safety.\"]\n"
     ]
    }
   ],
   "source": [
    "qb = json.loads(result[0])\n",
    "for q in range(len(qb)):\n",
    "    print(qb[q][\"question\"],qb[q][\"options\"] )\n",
    "\n",
    "questions = [[qb[q][\"question\"],qb[q][\"options\"]] for q in range(len(qb))]\n",
    "answers = [qb[q][\"answer\"] for q in range(len(qb))]"
   ]
  },
  {
   "cell_type": "code",
   "execution_count": 84,
   "metadata": {},
   "outputs": [
    {
     "name": "stdout",
     "output_type": "stream",
     "text": [
      "[[\"A dispatcher receives a call from an intoxicated individual claiming to have been attacked by a large animal in the woods. The caller's speech is slurred, and they are unable to provide a specific location. Which action should the dispatcher take next?\", ['Ask for a detailed description of the attacker and their appearance.', 'Request that the caller remain on the line until help arrives, but do not send units yet.', 'Send a unit with basic life support training to assist the caller.', 'Tell the caller that they need to stay calm and provide more information before assistance can be dispatched.']], ['A 9-1-1 call is received from a residence where a family member has been shot. The caller provides a detailed description of the victim and the suspect, but they are unable to provide their location. The dispatcher must prioritize which piece of information to ask for next.', ['Request that the caller remain on the line until help arrives.', 'Ask for a description of the room or building where the incident occurred.', 'Ask for any other family members who may be present or injured.', 'Tell the caller that they need to stay calm and provide more details about the suspect.']], ['A public safety telecommunicator receives a report of a potentially hazardous situation involving a tanker truck carrying a flammable liquid. The driver has been involved in an accident and is unable to safely exit the vehicle. Which action should the dispatcher take next?', ['Advise the caller to keep a safe distance from the scene.', 'Notify the fire department and request they respond with HAZMAT units.', 'Send a police unit to assist the driver, prioritizing their safety above all else.', 'Have the caller remain on the line until the situation can be resolved.']], [\"A 9-1-1 call is received from an elderly individual who claims to have been robbed at gunpoint in their home. The caller provides a detailed description of the perpetrator but seems overly cooperative with the dispatcher's questions. Which red flag should the dispatcher be aware of?\", ['The caller appears anxious or agitated.', 'The caller provides a conflicting account of the events.', 'The caller seems overly cooperative and provides unnecessary details.', \"The caller repeatedly asks about their loved one's safety.\"]], [\"A public safety telecommunicator receives a call from a concerned citizen who reports seeing someone attempting to break into their neighbor's residence. The caller provides a detailed description of the suspect but seems uncertain about their location. Which action should the dispatcher take next?\", ['Tell the caller that they need to stay calm and provide more information before assistance can be dispatched.', 'Request that the caller remain on the line until help arrives, but do not send units yet.', 'Send a unit with patrol car lights activated to canvass the area for the suspect.', 'Advise the caller to keep a safe distance from the scene and wait for further instructions.']], ['A 9-1-1 call is received from a resident who claims to have been threatened by an acquaintance. The caller provides a detailed description of the perpetrator and mentions that they possess a firearm. Which action should the dispatcher take next?', ['Notify law enforcement and request they respond with firearms units.', 'Send a unit with basic life support training to assist the caller, prioritizing their safety above all else.', 'Tell the caller that you believe them and are going to send help right away.', 'Request additional information from the caller about their location and any other relevant details.']], ['A public safety telecommunicator receives a call from an individual who claims to have witnessed a possible abduction in progress. The caller provides a detailed description of the vehicle and its occupants but seems uncertain about their location. Which action should the dispatcher take next?', ['Tell the caller that you believe them and are going to send help right away.', 'Request that the caller remain on the line until help arrives, but do not send units yet.', 'Send a unit with basic life support training to assist the caller, prioritizing their safety above all else.', 'Have the caller follow the vehicle at a safe distance while waiting for further instructions.']], ['A 9-1-1 call is received from an individual who claims to have been exposed to a chemical spill while responding to another emergency. The caller provides a detailed description of their symptoms but seems uncertain about their location. Which action should the dispatcher take next?', ['Request that the caller remain on the line until help arrives, but do not send units yet.', 'Send a unit with basic life support training to assist the caller, prioritizing their safety above all else.', 'Tell the caller that you believe them and are going to send help right away.', 'Notify the fire department and request they respond with HAZMAT units.']], ['A public safety telecommunicator receives a call from an individual who claims to have been threatened by someone using social media. The caller provides a detailed description of the perpetrator and mentions that they are experiencing emotional distress due to the incident. Which action should the dispatcher take next?', ['Notify law enforcement and request they respond with cybercrime units.', 'Tell the caller that you believe them and are going to send help right away.', 'Send a unit with basic life support training to assist the caller, prioritizing their safety above all else.', 'Request additional information from the caller about their location and any other relevant details.']], [\"A 9-1-1 call is received from an elderly individual who claims to have been robbed at gunpoint in their home. The caller provides a detailed description of the perpetrator but seems overly cooperative with the dispatcher's questions. Which red flag should the dispatcher be aware of?\", ['The caller appears anxious or agitated.', 'The caller provides a conflicting account of the events.', 'The caller seems overly cooperative and provides unnecessary details.', \"The caller repeatedly asks about their loved one's safety.\"]]]\n",
      "['c', 'a', 'b', 'c', 'd', 'c', 'c', 'd', 'c', 'c']\n"
     ]
    }
   ],
   "source": [
    "print(questions)\n",
    "print(answers)"
   ]
  },
  {
   "cell_type": "code",
   "execution_count": 33,
   "metadata": {},
   "outputs": [],
   "source": [
    "def answer_cleaner(input):\n",
    "    clean_agent = Agent(\n",
    "        model=Ollama(id=model_id),\n",
    "        description=\"you are a profession computer programmer with 20 years of experience. you are good at cleaning data and cextract answer to be a list of strings. you will receive input, and please extract answer from it. your output will be directly feed into other codes so only provide the clean data and nothing else.example: ['x','x','x','x','x','x'] where 'x' is either D, B, C, or A\",\n",
    "        storage=SqlAgentStorage(table_name=\"agent_sessions\", db_file=\"tmp/agent_storage.db\"),\n",
    "        instructions=[\"you only output what is reuqired and never provide explanation or additional information\"],\n",
    "        add_history_to_messages=True,\n",
    "        num_history_responses=3,\n",
    "        \n",
    "    )\n",
    "    return clean_agent.run(input).content"
   ]
  },
  {
   "cell_type": "code",
   "execution_count": 85,
   "metadata": {},
   "outputs": [
    {
     "name": "stdout",
     "output_type": "stream",
     "text": [
      "question24: C\n",
      "question25: B\n",
      "question26: A\n",
      "question27: C\n",
      "question28: D\n",
      "question29: D\n",
      "question30: D\n",
      "question31: D\n",
      "question32: D\n",
      "question33: C\n",
      "question24: option C\n",
      "question25: option B\n",
      "question26: option A\n",
      "question27: option C\n",
      "question28: option D\n",
      "question29: option D\n",
      "question30: option D\n",
      "question31: option D\n",
      "question32: option D\n",
      "question33: option C\n",
      "Question24: The answer is C.\n",
      "Question25: The answer is B\n",
      "Question26: The answer is A\n",
      "Question27: The answer is C\n",
      "Question28: The answer is D\n",
      "Question29: The answer is D\n",
      "Question30: The answer is D\n",
      "Question31: The answer is D\n",
      "Question32: The answer is D\n",
      "Question33: The answer is C\n",
      "Question24: The answer is D.\n",
      "Question25: The answer is B.\n",
      "Question26: The answer is A.\n",
      "Question27: The answer is C.\n",
      "Question28: The answer is D.\n",
      "Question29: The answer is D.\n",
      "Question30: The answer is D.\n",
      "Question31: The answer is D.\n",
      "Question32: The answer is D.\n",
      "Question33: The answer is C.\n",
      "question24: option D)\n",
      "question25: option B)\n",
      "question26: option A)\n",
      "question27: option C)\n",
      "question28: option D)\n",
      "question29: option D)\n",
      "question30: option D)\n",
      "question31: option D)\n",
      "question32: option D)\n",
      "question33: option C)\n"
     ]
    }
   ],
   "source": [
    "# ask the expert agents to answer the mc\n",
    "for agent in agents_in_action:\n",
    "    for q in range(len(questions)):\n",
    "        print(ask_mc(\"\"\"format is very important. remember to structure your result. no need to provide reaons. here is the question:\"\"\"+ str(questions[q]), agents_in_action[agent][0]))\n"
   ]
  },
  {
   "cell_type": "code",
   "execution_count": null,
   "metadata": {},
   "outputs": [
    {
     "name": "stdout",
     "output_type": "stream",
     "text": [
      "Financial Managers\n",
      "Medical and Health Services Managers\n",
      "Surgical Technologists\n",
      "Hearing Aid Specialists\n",
      "Agricultural Inspectors\n"
     ]
    }
   ],
   "source": [
    "c,b,a,c,d,d,d,d,d,c,\n",
    "c,b,a,c,d,d,d,d,d,c,\n",
    "c,b,a,c,d,d,d,d,d,c,\n",
    "d,b,a,c,d,d,d,d,d,c,\n",
    "d,b,a,c,d,d,d,d,d,c,"
   ]
  },
  {
   "cell_type": "code",
   "execution_count": 81,
   "metadata": {},
   "outputs": [
    {
     "name": "stdout",
     "output_type": "stream",
     "text": [
      "b a c c d c d d c c\n"
     ]
    }
   ],
   "source": [
    "print('b', 'a', 'c', 'c', 'd', 'c', 'd', 'd', 'c', 'c')"
   ]
  },
  {
   "cell_type": "code",
   "execution_count": 1,
   "metadata": {},
   "outputs": [],
   "source": [
    "messydata = \"\"\"('qustion:1, answer:A', '39f281cb-5653-4c53-aa71-93693110ec63')\n",
    "('qustion:2, answer:B', '39f281cb-5653-4c53-aa71-93693110ec63')\n",
    "('qustion:3, answer:C', '39f281cb-5653-4c53-aa71-93693110ec63')\n",
    "('qustion:4, answer:C', '39f281cb-5653-4c53-aa71-93693110ec63')\n",
    "('qustion:5, answer:C', '39f281cb-5653-4c53-aa71-93693110ec63')\n",
    "('qustion:6, answer:B', '39f281cb-5653-4c53-aa71-93693110ec63')\n",
    "('qustion:7, answer:C', '39f281cb-5653-4c53-aa71-93693110ec63')\n",
    "('qustion:8, answer:D', '39f281cb-5653-4c53-aa71-93693110ec63')\n",
    "('qustion:9, answer:A', '39f281cb-5653-4c53-aa71-93693110ec63')\n",
    "('qustion:10, answer:B', '39f281cb-5653-4c53-aa71-93693110ec63')\"\"\""
   ]
  },
  {
   "cell_type": "code",
   "execution_count": null,
   "metadata": {},
   "outputs": [
    {
     "data": {
      "text/plain": [
       "['A', 'B', 'C', 'C', 'C', 'C', 'B', 'C', 'D', 'A', 'B']"
      ]
     },
     "execution_count": 121,
     "metadata": {},
     "output_type": "execute_result"
    }
   ],
   "source": [
    "eval(answer_cleaner(messydata)[0])\n",
    "#use json.loads"
   ]
  }
 ],
 "metadata": {
  "kernelspec": {
   "display_name": "Python 3",
   "language": "python",
   "name": "python3"
  },
  "language_info": {
   "codemirror_mode": {
    "name": "ipython",
    "version": 3
   },
   "file_extension": ".py",
   "mimetype": "text/x-python",
   "name": "python",
   "nbconvert_exporter": "python",
   "pygments_lexer": "ipython3",
   "version": "3.12.4"
  }
 },
 "nbformat": 4,
 "nbformat_minor": 2
}
