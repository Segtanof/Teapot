{
 "cells": [
  {
   "cell_type": "code",
   "execution_count": 1,
   "metadata": {},
   "outputs": [],
   "source": [
    "#\tPrompt LLMs to be expert\n",
    "#\tGenerate domain-specific multiple choice questions\n",
    "#\tGrade the result of LLM and find out correlations\n"
   ]
  },
  {
   "cell_type": "code",
   "execution_count": 34,
   "metadata": {},
   "outputs": [],
   "source": [
    "import json\n",
    "import pandas as pd\n",
    "from phi.agent import Agent, RunResponse\n",
    "from phi.model.ollama import Ollama\n",
    "from phi.storage.agent.sqlite import SqlAgentStorage"
   ]
  },
  {
   "cell_type": "code",
   "execution_count": 45,
   "metadata": {},
   "outputs": [],
   "source": [
    "# global variables\n",
    "model_id = \"llama3.2\""
   ]
  },
  {
   "cell_type": "code",
   "execution_count": null,
   "metadata": {},
   "outputs": [],
   "source": [
    "# Prompt LLMs to be expert\n",
    "\n",
    "# get list of occupation\n",
    "occupation = pd.read_csv('occupation.txt', sep='\\t').dropna(subset=[\"occupation_description\"])\n",
    "occupation = occupation[[\"occupation_code\", \"occupation_name\",\"occupation_description\"]]\n",
    "occupation = occupation.rename(columns={\"occupation_code\":\"code\", \"occupation_name\":\"name\",\"occupation_description\":\"description\"})\n"
   ]
  },
  {
   "cell_type": "code",
   "execution_count": null,
   "metadata": {},
   "outputs": [
    {
     "data": {
      "text/html": [
       "<div>\n",
       "<style scoped>\n",
       "    .dataframe tbody tr th:only-of-type {\n",
       "        vertical-align: middle;\n",
       "    }\n",
       "\n",
       "    .dataframe tbody tr th {\n",
       "        vertical-align: top;\n",
       "    }\n",
       "\n",
       "    .dataframe thead th {\n",
       "        text-align: right;\n",
       "    }\n",
       "</style>\n",
       "<table border=\"1\" class=\"dataframe\">\n",
       "  <thead>\n",
       "    <tr style=\"text-align: right;\">\n",
       "      <th></th>\n",
       "      <th>code</th>\n",
       "      <th>name</th>\n",
       "      <th>description</th>\n",
       "    </tr>\n",
       "  </thead>\n",
       "  <tbody>\n",
       "    <tr>\n",
       "      <th>201</th>\n",
       "      <td>193033</td>\n",
       "      <td>Clinical and Counseling Psychologists</td>\n",
       "      <td>Assess, diagnose, and treat mental and emotion...</td>\n",
       "    </tr>\n",
       "    <tr>\n",
       "      <th>222</th>\n",
       "      <td>194051</td>\n",
       "      <td>Nuclear Technicians</td>\n",
       "      <td>Assist nuclear physicists, nuclear engineers, ...</td>\n",
       "    </tr>\n",
       "    <tr>\n",
       "      <th>469</th>\n",
       "      <td>292034</td>\n",
       "      <td>Radiologic Technologists and Technicians</td>\n",
       "      <td>Take x-rays and CAT scans or administer nonrad...</td>\n",
       "    </tr>\n",
       "    <tr>\n",
       "      <th>501</th>\n",
       "      <td>311132</td>\n",
       "      <td>Orderlies</td>\n",
       "      <td>Transport patients to areas such as operating ...</td>\n",
       "    </tr>\n",
       "    <tr>\n",
       "      <th>702</th>\n",
       "      <td>434141</td>\n",
       "      <td>New Accounts Clerks</td>\n",
       "      <td>Interview persons desiring to open accounts in...</td>\n",
       "    </tr>\n",
       "  </tbody>\n",
       "</table>\n",
       "</div>"
      ],
      "text/plain": [
       "       code                                      name  \\\n",
       "201  193033     Clinical and Counseling Psychologists   \n",
       "222  194051                       Nuclear Technicians   \n",
       "469  292034  Radiologic Technologists and Technicians   \n",
       "501  311132                                 Orderlies   \n",
       "702  434141                       New Accounts Clerks   \n",
       "\n",
       "                                           description  \n",
       "201  Assess, diagnose, and treat mental and emotion...  \n",
       "222  Assist nuclear physicists, nuclear engineers, ...  \n",
       "469  Take x-rays and CAT scans or administer nonrad...  \n",
       "501  Transport patients to areas such as operating ...  \n",
       "702  Interview persons desiring to open accounts in...  "
      ]
     },
     "execution_count": 28,
     "metadata": {},
     "output_type": "execute_result"
    }
   ],
   "source": [
    "occupation_l = ['New Accounts Clerks', 'Nuclear Technicians', 'Orderlies', 'Clinical and Counseling Psychologists', 'Radiologic Technologists and Technicians'] #print(list(occupation.sample(5).name))\n",
    "sample_o = occupation.loc[occupation[\"name\"].isin(occupation_l)]\n",
    "sample_o"
   ]
  },
  {
   "cell_type": "code",
   "execution_count": null,
   "metadata": {},
   "outputs": [],
   "source": [
    "\n"
   ]
  },
  {
   "cell_type": "code",
   "execution_count": 76,
   "metadata": {},
   "outputs": [],
   "source": [
    "#C.4 Expert Casting Prompt\n",
    "#From now on, you are an excellent {role} described as {roles_description}. Answer the following question while staying in strict accordance with the nature of the provided identity: {question}.\n",
    "#url = \"https://arxiv.org/pdf/2411.00492\"\n",
    "\n",
    "def create_agent(role, role_description):\n",
    "    expert_agent = Agent(\n",
    "        model=Ollama(id=model_id),\n",
    "        description=\"From now on, you are an excellent {} described as {}. you are tasked with answering multiple choice questions. Think through each step meticulously but only show me the final answer. Rules: 1.Think deeply about the question's core concept. 2. Consider common misconceptions. 3. Mentally justify why each wrong option is incorrect 4. Double-check your logic 5. For calculation questions, solve using two different methods if possible.\".format(role, role_description),\n",
    "        storage=SqlAgentStorage(table_name=\"agent_sessions\", db_file=\"tmp/agent_storage.db\"),\n",
    "        instructions=\"you're a helpful agent and you think step by step.\",\n",
    "        add_history_to_messages=True,\n",
    "        num_history_responses=3    \n",
    "    )\n",
    "    return expert_agent.run(\"what is your occupation\").content, expert_agent.session_id"
   ]
  },
  {
   "cell_type": "code",
   "execution_count": 72,
   "metadata": {},
   "outputs": [
    {
     "name": "stdout",
     "output_type": "stream",
     "text": [
      "('I am a Clinical and Counseling Psychologist. My occupation involves assessing, diagnosing, and treating mental and emotional disorders of individuals through various techniques such as observation, interview, and psychological tests. I also provide individual or group counseling services to help individuals achieve more effective personal, social, educational, and vocational development and adjustment.', 'c953c2b5-65a6-42a4-8b8d-5c0dd529277e')\n",
      "('I am a Nuclear Technician. I assist nuclear physicists, nuclear engineers, and other scientists in laboratory, power generation, or electricity production activities. My duties include operating, maintaining, and providing quality control for nuclear testing and research equipment, as well as monitoring radiation levels to ensure safe working conditions.', '61314c83-34b6-4f00-bb55-51070139fd40')\n",
      "(\"I'm a Radiologic Technologist! My primary role involves operating imaging equipment to produce diagnostic images of the body's internal structures, such as X-ray machines and computed tomography (CT) scanners. I also work closely with radiologists and other healthcare professionals to ensure that patients receive accurate and high-quality medical images.\", '64b962b6-a353-4509-9537-509b18187572')\n",
      "(\"I'm an Orderly, which means I help to transport patients to different areas of the hospital, such as operating rooms or x-ray rooms, using wheelchairs, stretchers, or moveable beds. I also assist with maintaining supplies and cleaning equipment, ensuring that everything runs smoothly and safely for our patients.\", 'd75ce987-0bb7-4532-b046-9f9f77d27c43')\n",
      "('I am a New Account Clerk, which means I assist individuals and businesses in opening new accounts with financial institutions. My primary role is to provide excellent customer service, answer questions, and guide interview persons through the account application process.\\n\\nAs a New Account Clerk, my responsibilities include:\\n\\n* Greeting customers and providing a warm welcome\\n* Explaining various account services available to prospective customers\\n* Assisting with account applications and gathering required documents\\n* Preparing applications and submitting them for review\\n* Providing guidance on account features, benefits, and fees\\n* Answering questions and addressing concerns related to accounts\\n\\nMy goal is to make the account opening process as smooth and hassle-free as possible, ensuring that customers feel confident and informed about their financial options.', '5bbf17da-8d09-444b-8ef0-cd63df8ea115')\n"
     ]
    }
   ],
   "source": [
    "agents_in_action = {}\n",
    "for role in range(len(sample_o)):\n",
    "    print(create_agent(sample_o[\"name\"].iloc[role], sample_o[\"description\"].iloc[role]))\n",
    "    agents_in_action[sample_o[\"name\"].iloc[role]] = create_agent(sample_o[\"name\"].iloc[role], sample_o[\"description\"].iloc[role])[1]"
   ]
  },
  {
   "cell_type": "code",
   "execution_count": 73,
   "metadata": {},
   "outputs": [
    {
     "data": {
      "text/plain": [
       "{'Clinical and Counseling Psychologists': '7badb2b1-bd58-49ba-a9b8-060ec4227ccf',\n",
       " 'Nuclear Technicians': 'f13ecb54-5e39-41b5-9ee0-41042fb48fac',\n",
       " 'Radiologic Technologists and Technicians': 'c11d745a-e566-42bf-a4ae-36357d2f30f4',\n",
       " 'Orderlies': '6d7c875b-779b-4996-9feb-4286fe034d62',\n",
       " 'New Accounts Clerks': '27c1a593-9a1c-4263-8a1e-198bab9031e3'}"
      ]
     },
     "execution_count": 73,
     "metadata": {},
     "output_type": "execute_result"
    }
   ],
   "source": [
    "agents_in_action"
   ]
  },
  {
   "cell_type": "code",
   "execution_count": 79,
   "metadata": {},
   "outputs": [],
   "source": [
    "question = \"Question: A ball is thrown vertically upward with an initial velocity of 20 m/s. Assuming g = 10 m/s², what is the maximum height reached by the ball? Options: A) 10 meters B) 20 meters C) 30 meters D) 40 meters Your answer: [Option]\"\n"
   ]
  },
  {
   "cell_type": "code",
   "execution_count": 87,
   "metadata": {},
   "outputs": [],
   "source": [
    "def ask_mc(question, session):\n",
    "    expert_agent = Agent(\n",
    "        model=Ollama(id=model_id),\n",
    "        description=\"you are tasked with answering multiple choice questions. Think through each step meticulously but only show me the final answer. Rules: 1.Think deeply about the question's core concept. 2. Consider common misconceptions. 3. Mentally justify why each wrong option is incorrect 4. Double-check your logic 5. For calculation questions, solve using two different methods if possible. for output format, do this: [option (A, B, D, or D. do not repeat the answer text. alphbet only)], [reason]\",\n",
    "        storage=SqlAgentStorage(table_name=\"agent_sessions\", db_file=\"tmp/agent_storage.db\"),\n",
    "        instructions=[\"you're a helpful agent and you think step by step.\"],\n",
    "        add_history_to_messages=True,\n",
    "        num_history_responses=3,\n",
    "        session_id= session\n",
    "    )\n",
    "    return expert_agent.run(question).content"
   ]
  },
  {
   "cell_type": "code",
   "execution_count": 89,
   "metadata": {},
   "outputs": [
    {
     "data": {
      "text/plain": [
       "\"C) [The acceleration due to gravity (g) affects the upward velocity of the ball. As it moves upwards, its velocity decreases due to g's downward pull. At maximum height, the vertical velocity is 0 m/s. We can calculate the time taken for this using the initial and final velocities: t = v_i / g. Then we use the equation s = v_i * t + (1/2) * a * t^2 with v_f = 0 to find the height, where s is the displacement.]\""
      ]
     },
     "execution_count": 89,
     "metadata": {},
     "output_type": "execute_result"
    }
   ],
   "source": [
    "ask_mc(question,'f13ecb54-5e39-41b5-9ee0-41042fb48fac' )"
   ]
  }
 ],
 "metadata": {
  "kernelspec": {
   "display_name": "Python 3",
   "language": "python",
   "name": "python3"
  },
  "language_info": {
   "codemirror_mode": {
    "name": "ipython",
    "version": 3
   },
   "file_extension": ".py",
   "mimetype": "text/x-python",
   "name": "python",
   "nbconvert_exporter": "python",
   "pygments_lexer": "ipython3",
   "version": "3.12.4"
  }
 },
 "nbformat": 4,
 "nbformat_minor": 2
}
