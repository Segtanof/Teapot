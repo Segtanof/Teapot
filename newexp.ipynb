{
 "cells": [
  {
   "cell_type": "code",
   "execution_count": null,
   "metadata": {},
   "outputs": [],
   "source": [
    "#\tPrompt LLMs to be expert\n",
    "#       they can now respond to question and provide structured response\n",
    "#\tGenerate domain-specific multiple choice questions\n",
    "#       on the way\n",
    "#\tGrade the result of LLM and find out correlations\n",
    "#       with strcuture output, should be easy\n"
   ]
  },
  {
   "cell_type": "code",
   "execution_count": 2,
   "metadata": {},
   "outputs": [],
   "source": [
    "import json\n",
    "import pandas as pd\n",
    "from phi.agent import Agent, RunResponse\n",
    "from phi.model.ollama import Ollama\n",
    "from phi.storage.agent.sqlite import SqlAgentStorage"
   ]
  },
  {
   "cell_type": "code",
   "execution_count": 85,
   "metadata": {},
   "outputs": [],
   "source": [
    "# global variables\n",
    "model_id = \"llama3.1\"\n",
    "#qwen2.5-coder, llama3.1, llama3.2\n"
   ]
  },
  {
   "cell_type": "code",
   "execution_count": 4,
   "metadata": {},
   "outputs": [],
   "source": [
    "# Prompt LLMs to be expert\n",
    "\n",
    "# get list of occupation\n",
    "occupation = pd.read_csv('occupation.txt', sep='\\t').dropna(subset=[\"occupation_description\"])\n",
    "occupation = occupation[[\"occupation_code\", \"occupation_name\",\"occupation_description\"]]\n",
    "occupation = occupation.rename(columns={\"occupation_code\":\"code\", \"occupation_name\":\"name\",\"occupation_description\":\"description\"})\n"
   ]
  },
  {
   "cell_type": "code",
   "execution_count": 5,
   "metadata": {},
   "outputs": [
    {
     "data": {
      "text/html": [
       "<div>\n",
       "<style scoped>\n",
       "    .dataframe tbody tr th:only-of-type {\n",
       "        vertical-align: middle;\n",
       "    }\n",
       "\n",
       "    .dataframe tbody tr th {\n",
       "        vertical-align: top;\n",
       "    }\n",
       "\n",
       "    .dataframe thead th {\n",
       "        text-align: right;\n",
       "    }\n",
       "</style>\n",
       "<table border=\"1\" class=\"dataframe\">\n",
       "  <thead>\n",
       "    <tr style=\"text-align: right;\">\n",
       "      <th></th>\n",
       "      <th>code</th>\n",
       "      <th>name</th>\n",
       "      <th>description</th>\n",
       "    </tr>\n",
       "  </thead>\n",
       "  <tbody>\n",
       "    <tr>\n",
       "      <th>201</th>\n",
       "      <td>193033</td>\n",
       "      <td>Clinical and Counseling Psychologists</td>\n",
       "      <td>Assess, diagnose, and treat mental and emotion...</td>\n",
       "    </tr>\n",
       "    <tr>\n",
       "      <th>222</th>\n",
       "      <td>194051</td>\n",
       "      <td>Nuclear Technicians</td>\n",
       "      <td>Assist nuclear physicists, nuclear engineers, ...</td>\n",
       "    </tr>\n",
       "    <tr>\n",
       "      <th>469</th>\n",
       "      <td>292034</td>\n",
       "      <td>Radiologic Technologists and Technicians</td>\n",
       "      <td>Take x-rays and CAT scans or administer nonrad...</td>\n",
       "    </tr>\n",
       "    <tr>\n",
       "      <th>501</th>\n",
       "      <td>311132</td>\n",
       "      <td>Orderlies</td>\n",
       "      <td>Transport patients to areas such as operating ...</td>\n",
       "    </tr>\n",
       "    <tr>\n",
       "      <th>702</th>\n",
       "      <td>434141</td>\n",
       "      <td>New Accounts Clerks</td>\n",
       "      <td>Interview persons desiring to open accounts in...</td>\n",
       "    </tr>\n",
       "  </tbody>\n",
       "</table>\n",
       "</div>"
      ],
      "text/plain": [
       "       code                                      name  \\\n",
       "201  193033     Clinical and Counseling Psychologists   \n",
       "222  194051                       Nuclear Technicians   \n",
       "469  292034  Radiologic Technologists and Technicians   \n",
       "501  311132                                 Orderlies   \n",
       "702  434141                       New Accounts Clerks   \n",
       "\n",
       "                                           description  \n",
       "201  Assess, diagnose, and treat mental and emotion...  \n",
       "222  Assist nuclear physicists, nuclear engineers, ...  \n",
       "469  Take x-rays and CAT scans or administer nonrad...  \n",
       "501  Transport patients to areas such as operating ...  \n",
       "702  Interview persons desiring to open accounts in...  "
      ]
     },
     "execution_count": 5,
     "metadata": {},
     "output_type": "execute_result"
    }
   ],
   "source": [
    "occupation_l = ['New Accounts Clerks', 'Nuclear Technicians', 'Orderlies', 'Clinical and Counseling Psychologists', 'Radiologic Technologists and Technicians'] #print(list(occupation.sample(5).name))\n",
    "sample_o = occupation.loc[occupation[\"name\"].isin(occupation_l)]\n",
    "sample_o"
   ]
  },
  {
   "cell_type": "code",
   "execution_count": null,
   "metadata": {},
   "outputs": [],
   "source": [
    "\n"
   ]
  },
  {
   "cell_type": "code",
   "execution_count": 72,
   "metadata": {},
   "outputs": [],
   "source": [
    "#C.4 Expert Casting Prompt\n",
    "#From now on, you are an excellent {role} described as {roles_description}. Answer the following question while staying in strict accordance with the nature of the provided identity: {question}.\n",
    "#url = \"https://arxiv.org/pdf/2411.00492\"\n",
    "\n",
    "def create_agent(role, role_description):\n",
    "    expert_agent = Agent(\n",
    "        model=Ollama(id=model_id),\n",
    "        description=\"From now on, you are an excellent {} described as {}. you are tasked with answering multiple choice questions. Think through each step meticulously but only show me the final answer. Rules: 1.Think deeply about the question's core concept. 2. Consider common misconceptions. 3. Mentally justify why each wrong option is incorrect 4. Double-check your logic 5. For calculation questions, solve using two different methods if possible.\".format(role, role_description),\n",
    "        storage=SqlAgentStorage(table_name=\"agent_sessions\", db_file=\"tmp/agent_storage.db\"),\n",
    "        instructions=[\"-you are helpful and you think step by step.\"],\n",
    "        add_history_to_messages=True,\n",
    "        num_history_responses=3    \n",
    "    )\n",
    "    return expert_agent.run(\"what is your occupation\").content, expert_agent.session_id"
   ]
  },
  {
   "cell_type": "code",
   "execution_count": 75,
   "metadata": {},
   "outputs": [
    {
     "data": {
      "text/plain": [
       "{'Clinical and Counseling Psychologists': '39f281cb-5653-4c53-aa71-93693110ec63',\n",
       " 'Nuclear Technicians': '80b2d652-2772-4d44-8c28-1775e7f8cfc4',\n",
       " 'Radiologic Technologists and Technicians': 'f40c78f5-3a71-40af-b3c9-db9be14cdd06',\n",
       " 'Orderlies': 'd652f109-ddf6-4c34-ba9d-6034885217e0',\n",
       " 'New Accounts Clerks': 'bbd0b655-5515-4ce8-8f8c-1f83977178d8'}"
      ]
     },
     "execution_count": 75,
     "metadata": {},
     "output_type": "execute_result"
    }
   ],
   "source": [
    "agents_in_action = {}\n",
    "for role in range(len(sample_o)):\n",
    "    agents_in_action[sample_o[\"name\"].iloc[role]] = create_agent(sample_o[\"name\"].iloc[role], sample_o[\"description\"].iloc[role])[1]\n",
    "agents_in_action"
   ]
  },
  {
   "cell_type": "code",
   "execution_count": 22,
   "metadata": {},
   "outputs": [],
   "source": [
    "question = \"Question: A ball is thrown vertically upward with an initial velocity of 20 m/s. Assuming g = 10 m/s², what is the maximum height reached by the ball? Options: A) 10 meters B) 20 meters C) 30 meters D) 40 meters Your answer: [Option]\"\n"
   ]
  },
  {
   "cell_type": "code",
   "execution_count": 192,
   "metadata": {},
   "outputs": [],
   "source": [
    "#-you structure your output in a dictionary {\"question number\": \"answer option\"}. for example: {\"1\": \"A\", \"2\":\"C\", \"3\":\"C\"}\n",
    "def ask_mc(question, session):\n",
    "    expert_agent = Agent(\n",
    "        model=Ollama(id=model_id),\n",
    "        description=\"you are tasked with answering multiple choice questions. Think through each step meticulously but only show me the final answer. Rules: 1.Think deeply about the question's core concept. 2. Consider common misconceptions. 3. Mentally justify why each wrong option is incorrect 4. Double-check your logic 5. For calculation questions, solve using two different methods if possible. for output format, do this: [option (A, B, D, or D. do not repeat the answer text. alphbet only)]\",\n",
    "        storage=SqlAgentStorage(table_name=\"agent_sessions\", db_file=\"tmp/agent_storage.db\"),\n",
    "        instructions=[\"\"\"-you think step by step. -do not provide explanations. -you structure your answer in the following way: \"qustionX: the answer is X\". \"\"\"],\n",
    "        add_history_to_messages=True,\n",
    "        num_history_responses=3,\n",
    "        session_id= session\n",
    "    )\n",
    "    return expert_agent.run(question).content"
   ]
  },
  {
   "cell_type": "code",
   "execution_count": 77,
   "metadata": {},
   "outputs": [
    {
     "name": "stdout",
     "output_type": "stream",
     "text": [
      "('The answer is D) Yellow.', '39f281cb-5653-4c53-aa71-93693110ec63')\n",
      "('qustion1: the answer is C', '80b2d652-2772-4d44-8c28-1775e7f8cfc4')\n",
      "('qustion1: the answer is C', 'f40c78f5-3a71-40af-b3c9-db9be14cdd06')\n",
      "('C) Green', 'd652f109-ddf6-4c34-ba9d-6034885217e0')\n",
      "('qustion1: the answer is C', 'bbd0b655-5515-4ce8-8f8c-1f83977178d8')\n"
     ]
    }
   ],
   "source": [
    "for agent in agents_in_action:\n",
    "    print(ask_mc(question, agents_in_action[agent]))"
   ]
  },
  {
   "cell_type": "code",
   "execution_count": 78,
   "metadata": {},
   "outputs": [],
   "source": [
    "question = \"\"\"Answer this multiple choice question. Think through each step meticulously but only show me the final answer.\n",
    "\n",
    "Question: In a population of 200 students, 60% are female. How many male students are in the population?\n",
    "\n",
    "Options:\n",
    "A) 80 students\n",
    "B) 120 students\n",
    "C) 140 students\n",
    "D) 160 students\"\"\""
   ]
  },
  {
   "cell_type": "code",
   "execution_count": 34,
   "metadata": {},
   "outputs": [],
   "source": [
    "question = \"\"\"Question: Which of the following is NOT a primary color in traditional color theory?\n",
    "\n",
    "Options:\n",
    "A) Red\n",
    "B) Blue\n",
    "C) Green\n",
    "D) Yellow\"\"\""
   ]
  },
  {
   "cell_type": "code",
   "execution_count": 185,
   "metadata": {},
   "outputs": [
    {
     "name": "stdout",
     "output_type": "stream",
     "text": [
      "When positioning a patient for a chest X-ray, which adjustment ensures the clavicles are out of the lung field? ['Angle the X-ray tube cephalad.', 'Position the patient in a prone position.', 'Align the X-ray beam perpendicular to the sternum.', 'Ask the patient to roll their shoulders forward.']\n",
      "What is the recommended protocol when imaging a pediatric patient who cannot remain still? ['Use sedation to keep the patient immobile.', 'Use the shortest possible exposure time and immobilization devices.', 'Allow a parent to hold the child during the procedure without protective gear.', 'Perform the imaging procedure despite movement for efficiency.']\n",
      "A fluoroscopy exam shows unusually high patient skin dose readings. What should you do? ['Stop the procedure immediately and report the incident.', 'Continue the procedure but decrease the fluoroscopy time.', 'Confirm equipment calibration and assess for overexposure risks.', 'Lower the table to reduce the distance between the X-ray source and the patient.']\n",
      "A physician requests an X-ray on a pregnant patient. What is your first step? ['Perform the procedure as ordered while avoiding pelvic exposure.', 'Decline the request and suggest an ultrasound instead.', 'Discuss the potential risks with the physician and patient before proceeding.', 'Use the maximum lead shielding available and proceed.']\n",
      "A lateral lumbar spine X-ray appears underexposed despite correct technique settings. What is the most likely cause? ['Excessive focal spot size.', 'Incorrect positioning of the patient.', 'High tissue density in the area.', 'Miscalibration of the exposure timer.']\n",
      "What is the primary purpose of using a grid in radiography? ['Protect the patient from scattered radiation.', 'Enhance image sharpness by reducing scatter radiation.', 'Minimize motion artifacts during exposure.', 'Reduce the dose needed for adequate imaging.']\n",
      "During a CT scan, a patient reports feeling warm and flushed after receiving contrast. What should you do? ['Reassure the patient and continue the scan.', 'Stop the procedure immediately and call for emergency assistance.', 'Monitor for additional symptoms and prepare to manage an allergic reaction.', 'Offer the patient water to counteract the sensation.']\n",
      "Which regulatory standard mandates regular testing of radiologic equipment? ['American Registry of Radiologic Technologists (ARRT) standards.', 'Occupational Safety and Health Administration (OSHA) guidelines.', 'The Joint Commission accreditation requirements.', 'Federal regulations under the Mammography Quality Standards Act (MQSA).']\n",
      "A colleague forgets to wear their dosimeter during a procedure. What is the best course of action? ['Report the incident to your supervisor immediately.', 'Share your dosimeter with them for the rest of the procedure.', 'Advise them to record an estimated exposure level post-procedure.', 'Remind them to wear it next time and proceed.']\n",
      "What is the maximum permissible dose of radiation for occupational exposure per year according to international standards? ['1 millisievert (mSv)', '5 mSv', '20 mSv', '50 mSv']\n"
     ]
    },
    {
     "data": {
      "text/plain": [
       "[['When positioning a patient for a chest X-ray, which adjustment ensures the clavicles are out of the lung field?',\n",
       "  ['Angle the X-ray tube cephalad.',\n",
       "   'Position the patient in a prone position.',\n",
       "   'Align the X-ray beam perpendicular to the sternum.',\n",
       "   'Ask the patient to roll their shoulders forward.']],\n",
       " ['What is the recommended protocol when imaging a pediatric patient who cannot remain still?',\n",
       "  ['Use sedation to keep the patient immobile.',\n",
       "   'Use the shortest possible exposure time and immobilization devices.',\n",
       "   'Allow a parent to hold the child during the procedure without protective gear.',\n",
       "   'Perform the imaging procedure despite movement for efficiency.']],\n",
       " ['A fluoroscopy exam shows unusually high patient skin dose readings. What should you do?',\n",
       "  ['Stop the procedure immediately and report the incident.',\n",
       "   'Continue the procedure but decrease the fluoroscopy time.',\n",
       "   'Confirm equipment calibration and assess for overexposure risks.',\n",
       "   'Lower the table to reduce the distance between the X-ray source and the patient.']],\n",
       " ['A physician requests an X-ray on a pregnant patient. What is your first step?',\n",
       "  ['Perform the procedure as ordered while avoiding pelvic exposure.',\n",
       "   'Decline the request and suggest an ultrasound instead.',\n",
       "   'Discuss the potential risks with the physician and patient before proceeding.',\n",
       "   'Use the maximum lead shielding available and proceed.']],\n",
       " ['A lateral lumbar spine X-ray appears underexposed despite correct technique settings. What is the most likely cause?',\n",
       "  ['Excessive focal spot size.',\n",
       "   'Incorrect positioning of the patient.',\n",
       "   'High tissue density in the area.',\n",
       "   'Miscalibration of the exposure timer.']],\n",
       " ['What is the primary purpose of using a grid in radiography?',\n",
       "  ['Protect the patient from scattered radiation.',\n",
       "   'Enhance image sharpness by reducing scatter radiation.',\n",
       "   'Minimize motion artifacts during exposure.',\n",
       "   'Reduce the dose needed for adequate imaging.']],\n",
       " ['During a CT scan, a patient reports feeling warm and flushed after receiving contrast. What should you do?',\n",
       "  ['Reassure the patient and continue the scan.',\n",
       "   'Stop the procedure immediately and call for emergency assistance.',\n",
       "   'Monitor for additional symptoms and prepare to manage an allergic reaction.',\n",
       "   'Offer the patient water to counteract the sensation.']],\n",
       " ['Which regulatory standard mandates regular testing of radiologic equipment?',\n",
       "  ['American Registry of Radiologic Technologists (ARRT) standards.',\n",
       "   'Occupational Safety and Health Administration (OSHA) guidelines.',\n",
       "   'The Joint Commission accreditation requirements.',\n",
       "   'Federal regulations under the Mammography Quality Standards Act (MQSA).']],\n",
       " ['A colleague forgets to wear their dosimeter during a procedure. What is the best course of action?',\n",
       "  ['Report the incident to your supervisor immediately.',\n",
       "   'Share your dosimeter with them for the rest of the procedure.',\n",
       "   'Advise them to record an estimated exposure level post-procedure.',\n",
       "   'Remind them to wear it next time and proceed.']],\n",
       " ['What is the maximum permissible dose of radiation for occupational exposure per year according to international standards?',\n",
       "  ['1 millisievert (mSv)', '5 mSv', '20 mSv', '50 mSv']]]"
      ]
     },
     "execution_count": 185,
     "metadata": {},
     "output_type": "execute_result"
    }
   ],
   "source": [
    "with open(\"questions.json\", \"r\") as file:\n",
    "    qb = json.load(file)\n",
    "\n",
    "for q in range(len(qb)):\n",
    "    print(qb[q][\"question\"],qb[q][\"options\"] )\n",
    "\n",
    "questions = [[qb[q][\"question\"],qb[q][\"options\"]] for q in range(len(qb))]\n",
    "answers = [qb[q][\"answer\"] for q in range(len(qb))]\n",
    "questions"
   ]
  },
  {
   "cell_type": "code",
   "execution_count": 167,
   "metadata": {},
   "outputs": [],
   "source": [
    "prompt = \"\"\"please design 10 multiple choice questions for this occupation. some thoughts before you repond: \n",
    "1. be domain specific. ideally design for someone with more than 10 year experience.\n",
    "2. create some nuance. make the answers somewhat similar so that people cannot guess by intuition.\n",
    "3. do not limit yourself with only factual question. be creative.\n",
    "4. output your questions in json format where new line is strickly prohitbited. only produce it in compact format. sample format: \n",
    "[{\"question\":\"When positioning a patient for a chest X-ray, which adjustment ensures the clavicles are out of the lung field?\",\"options\":[\"Angle the X-ray tube cephalad.\",\"Position the patient in a prone position.\",\"Align the X-ray beam perpendicular to the sternum.\",\"Ask the patient to roll their shoulders forward.\"],\"answer\":\"d\",\"reason\":\"Rolling shoulders forward moves the clavicles out of the lung field.\"},{\"question\":\"What is the recommended protocol when imaging a pediatric patient who cannot remain still?\",\"options\":[\"Use sedation to keep the patient immobile.\",\"Use the shortest possible exposure time and immobilization devices.\",\"Allow a parent to hold the child during the procedure without protective gear.\",\"Perform the imaging procedure despite movement for efficiency.\"],\"answer\":\"b\",\"reason\":\"Short exposure time and immobilization reduce radiation and ensure safety.\"}]\n",
    "5. only output the required json. your output will be directly feed into other codes so only provide the clean data and nothing else.\n",
    "here is the occupation: 'Residential Plumber'\"\"\""
   ]
  },
  {
   "cell_type": "code",
   "execution_count": null,
   "metadata": {},
   "outputs": [],
   "source": [
    "def mc_magician(prompt):\n",
    "    mc_agent = Agent(\n",
    "        model=Ollama(id=model_id),\n",
    "        description=\"\"\"\"youre someone with these qualities:\n",
    "1. Deep Subject Matter Expertise\n",
    "    Extensive knowledge and experience in the specific domain, ensuring that the questions test practical and theoretical knowledge relevant to the field.\n",
    "    Familiarity with industry trends, tools, and challenges to create current and applicable scenarios.\n",
    "\n",
    "2. Pedagogical Skills\n",
    "    Ability to design questions that evaluate not only memorized knowledge but also problem-solving, analytical thinking, and applied skills.\n",
    "    Experience in educational design or certification processes.\n",
    "\n",
    "3. Understanding of Professional Requirements\n",
    "    Awareness of the key competencies required for success in the profession. This could involve collaborating with industry professionals or studying job requirements.\n",
    "    Ability to assess levels of proficiency, from beginner to expert.\n",
    "\n",
    "4. Analytical and Research Skills\n",
    "    Capable of analyzing job roles and breaking them into assessable skills and knowledge areas.\n",
    "    Conducting research to stay updated on technological or methodological advancements.\n",
    "\n",
    "5. Collaboration with Industry Practitioners\n",
    "    Collaboration with professionals currently working in the field to ensure questions reflect real-world challenges and practices.\n",
    "    Incorporating feedback from companies or organizations that will use the certification.\n",
    "\n",
    "6. Access to Validation Tools\n",
    "    Familiarity with tools for benchmarking and validating questions to ensure they are neither too simple nor overly complex.\n",
    "    Experience with psychometric techniques to gauge question effectiveness.\"\"\",\n",
    "        storage=SqlAgentStorage(table_name=\"agent_sessions\", db_file=\"tmp/agent_storage.db\"),\n",
    "        instructions=[\"you only output what is reuqired and never provide explanation or additional information.\"],\n",
    "        add_history_to_messages=True,\n",
    "        num_history_responses=3,\n",
    "        \n",
    "    )\n",
    "    return mc_agent.run(prompt).content, mc_agent.session_id"
   ]
  },
  {
   "cell_type": "code",
   "execution_count": 169,
   "metadata": {},
   "outputs": [
    {
     "data": {
      "text/plain": [
       "('[{\"question\":\"When performing a water meter test, what is the recommended procedure to verify accurate measurement?\",\"options\":[\"Check the meter\\'s accuracy by comparing it to a calibrated gauge.\",\"Verify the meter\\'s installation is level and secure.\",\"Compare the meter\\'s reading with a second identical meter in series.\",\"Calibrate the meter against a known quantity of water flow.\"],\"answer\":\"c\",\"reason\":\"Comparing two meters ensures accurate measurement.\"},{\"question\":\"What should be done when encountered with a corroded pipe during excavation?\",\"options\":[\"Replace the entire section of pipe immediately.\",\"Use a pipe cutter to remove the corroded portion only.\",\"Tackle the issue in-house without seeking assistance from colleagues.\",\"Seal off the area and wait for further guidance.\"],\"answer\":\"b\",\"reason\":\"Removing the corroded section prevents further damage.\"},{\"question\":\"A homeowner reports low water pressure. Which step should be taken first?\",\"options\":[\"Check the main shut-off valve\\'s functionality.\",\"Verify the household plumbing layout is correct.\",\"Run a diagnostic test on the entire system.\",\"Clear any debris from the meter or pipes.\"],\"answer\":\"a\",\"reason\":\"Checking the shut-off valve ensures no leaks are causing low pressure.\"},{\"question\":\"What safety precaution should be taken when working with chemicals in confined spaces?\",\"options\":[\"Wear protective gloves and eyewear only.\",\"Ensure good ventilation to prevent inhalation of fumes.\",\"Use a respirator when handling hazardous materials.\",\"Take regular breaks to stretch outside the work area.\"],\"answer\":\"b\",\"reason\":\"Good ventilation prevents chemical inhalation hazards.\"},{\"question\":\"A homeowner requests installation of a water-efficient showerhead. What should be done?\",\"options\":[\"Recommend upgrading to a tankless water heater instead.\",\"Verify the existing plumbing can accommodate the new device.\",\"Ensure compliance with local regulations and building codes.\",\"Install the product without inspecting for compatibility issues.\"],\"answer\":\"b\",\"reason\":\"Ensuring compatibility prevents future plumbing problems.\"},{\"question\":\"When working with flexible PEX tubing, what is the recommended method to prevent damage?\",\"options\":[\"Support the tubing with clamps at regular intervals.\",\"Use a pipe cutter to remove excess material only when necessary.\",\"Route the tubing along existing structural elements for added support.\",\"Run the tubing through a protective sleeve for added protection.\"],\"answer\":\"d\",\"reason\":\"Using a protective sleeve prevents damage and kinking.\"},{\"question\":\"A residential plumber encounters an issue with a sewage backup into a home. What immediate action should be taken?\",\"options\":[\"Call the homeowner to discuss mitigation strategies.\",\"Contact local authorities for assistance in resolving the issue.\",\"Seal off the affected area immediately to prevent further contamination.\",\"Clear any debris or obstructions blocking the sewage line.\"],\"answer\":\"c\",\"reason\":\"Sealing off prevents further damage and contamination.\"},{\"question\":\"What should be done when dealing with a frozen pipe during the winter season?\",\"options\":[\"Apply heat directly to the affected section using an open flame.\",\"Use insulation materials to prevent re-freezing.\",\"Tackle the issue in-house without seeking assistance from colleagues.\",\"Call a professional plumber for assistance as soon as possible.\"],\"answer\":\"d\",\"reason\":\"Calling a professional ensures proper handling and prevention of future issues.\"},{\"question\":\"A homeowner requests installation of a sump pump system. What should be done first?\",\"options\":[\"Verify local regulations regarding sump pump installations.\",\"Design the system with consideration to drainage patterns and existing piping.\",\"Check for any electrical or plumbing code violations in the area.\",\"Clear debris from the yard before beginning installation.\"],\"answer\":\"b\",\"reason\":\"Considering drainage prevents future problems and ensures proper functioning.\"},{\"question\":\"What should be done when encountered with asbestos-containing materials during excavation?\",\"options\":[\"Leave the material undisturbed to avoid exposure.\",\"Use protective gear and remove the material carefully.\",\"Tackle the issue in-house without seeking assistance from colleagues.\",\"Seal off the area immediately and wait for further guidance.\"],\"answer\":\"b\",\"reason\":\"Careful removal prevents exposure hazards.\"}]',\n",
       " '27fcd85f-3dc8-461f-9403-b6c30125d4be')"
      ]
     },
     "execution_count": 169,
     "metadata": {},
     "output_type": "execute_result"
    }
   ],
   "source": [
    "mc_magician(prompt)"
   ]
  },
  {
   "cell_type": "code",
   "execution_count": 186,
   "metadata": {},
   "outputs": [
    {
     "name": "stdout",
     "output_type": "stream",
     "text": [
      "When performing a water meter test, what is the recommended procedure to verify accurate measurement? [\"Check the meter's accuracy by comparing it to a calibrated gauge.\", \"Verify the meter's installation is level and secure.\", \"Compare the meter's reading with a second identical meter in series.\", 'Calibrate the meter against a known quantity of water flow.']\n",
      "What should be done when encountered with a corroded pipe during excavation? ['Replace the entire section of pipe immediately.', 'Use a pipe cutter to remove the corroded portion only.', 'Tackle the issue in-house without seeking assistance from colleagues.', 'Seal off the area and wait for further guidance.']\n",
      "A homeowner reports low water pressure. Which step should be taken first? [\"Check the main shut-off valve's functionality.\", 'Verify the household plumbing layout is correct.', 'Run a diagnostic test on the entire system.', 'Clear any debris from the meter or pipes.']\n",
      "What safety precaution should be taken when working with chemicals in confined spaces? ['Wear protective gloves and eyewear only.', 'Ensure good ventilation to prevent inhalation of fumes.', 'Use a respirator when handling hazardous materials.', 'Take regular breaks to stretch outside the work area.']\n",
      "A homeowner requests installation of a water-efficient showerhead. What should be done? ['Recommend upgrading to a tankless water heater instead.', 'Verify the existing plumbing can accommodate the new device.', 'Ensure compliance with local regulations and building codes.', 'Install the product without inspecting for compatibility issues.']\n",
      "When working with flexible PEX tubing, what is the recommended method to prevent damage? ['Support the tubing with clamps at regular intervals.', 'Use a pipe cutter to remove excess material only when necessary.', 'Route the tubing along existing structural elements for added support.', 'Run the tubing through a protective sleeve for added protection.']\n",
      "A residential plumber encounters an issue with a sewage backup into a home. What immediate action should be taken? ['Call the homeowner to discuss mitigation strategies.', 'Contact local authorities for assistance in resolving the issue.', 'Seal off the affected area immediately to prevent further contamination.', 'Clear any debris or obstructions blocking the sewage line.']\n",
      "What should be done when dealing with a frozen pipe during the winter season? ['Apply heat directly to the affected section using an open flame.', 'Use insulation materials to prevent re-freezing.', 'Tackle the issue in-house without seeking assistance from colleagues.', 'Call a professional plumber for assistance as soon as possible.']\n",
      "A homeowner requests installation of a sump pump system. What should be done first? ['Verify local regulations regarding sump pump installations.', 'Design the system with consideration to drainage patterns and existing piping.', 'Check for any electrical or plumbing code violations in the area.', 'Clear debris from the yard before beginning installation.']\n",
      "What should be done when encountered with asbestos-containing materials during excavation? ['Leave the material undisturbed to avoid exposure.', 'Use protective gear and remove the material carefully.', 'Tackle the issue in-house without seeking assistance from colleagues.', 'Seal off the area immediately and wait for further guidance.']\n"
     ]
    },
    {
     "data": {
      "text/plain": [
       "[['When performing a water meter test, what is the recommended procedure to verify accurate measurement?',\n",
       "  [\"Check the meter's accuracy by comparing it to a calibrated gauge.\",\n",
       "   \"Verify the meter's installation is level and secure.\",\n",
       "   \"Compare the meter's reading with a second identical meter in series.\",\n",
       "   'Calibrate the meter against a known quantity of water flow.']],\n",
       " ['What should be done when encountered with a corroded pipe during excavation?',\n",
       "  ['Replace the entire section of pipe immediately.',\n",
       "   'Use a pipe cutter to remove the corroded portion only.',\n",
       "   'Tackle the issue in-house without seeking assistance from colleagues.',\n",
       "   'Seal off the area and wait for further guidance.']],\n",
       " ['A homeowner reports low water pressure. Which step should be taken first?',\n",
       "  [\"Check the main shut-off valve's functionality.\",\n",
       "   'Verify the household plumbing layout is correct.',\n",
       "   'Run a diagnostic test on the entire system.',\n",
       "   'Clear any debris from the meter or pipes.']],\n",
       " ['What safety precaution should be taken when working with chemicals in confined spaces?',\n",
       "  ['Wear protective gloves and eyewear only.',\n",
       "   'Ensure good ventilation to prevent inhalation of fumes.',\n",
       "   'Use a respirator when handling hazardous materials.',\n",
       "   'Take regular breaks to stretch outside the work area.']],\n",
       " ['A homeowner requests installation of a water-efficient showerhead. What should be done?',\n",
       "  ['Recommend upgrading to a tankless water heater instead.',\n",
       "   'Verify the existing plumbing can accommodate the new device.',\n",
       "   'Ensure compliance with local regulations and building codes.',\n",
       "   'Install the product without inspecting for compatibility issues.']],\n",
       " ['When working with flexible PEX tubing, what is the recommended method to prevent damage?',\n",
       "  ['Support the tubing with clamps at regular intervals.',\n",
       "   'Use a pipe cutter to remove excess material only when necessary.',\n",
       "   'Route the tubing along existing structural elements for added support.',\n",
       "   'Run the tubing through a protective sleeve for added protection.']],\n",
       " ['A residential plumber encounters an issue with a sewage backup into a home. What immediate action should be taken?',\n",
       "  ['Call the homeowner to discuss mitigation strategies.',\n",
       "   'Contact local authorities for assistance in resolving the issue.',\n",
       "   'Seal off the affected area immediately to prevent further contamination.',\n",
       "   'Clear any debris or obstructions blocking the sewage line.']],\n",
       " ['What should be done when dealing with a frozen pipe during the winter season?',\n",
       "  ['Apply heat directly to the affected section using an open flame.',\n",
       "   'Use insulation materials to prevent re-freezing.',\n",
       "   'Tackle the issue in-house without seeking assistance from colleagues.',\n",
       "   'Call a professional plumber for assistance as soon as possible.']],\n",
       " ['A homeowner requests installation of a sump pump system. What should be done first?',\n",
       "  ['Verify local regulations regarding sump pump installations.',\n",
       "   'Design the system with consideration to drainage patterns and existing piping.',\n",
       "   'Check for any electrical or plumbing code violations in the area.',\n",
       "   'Clear debris from the yard before beginning installation.']],\n",
       " ['What should be done when encountered with asbestos-containing materials during excavation?',\n",
       "  ['Leave the material undisturbed to avoid exposure.',\n",
       "   'Use protective gear and remove the material carefully.',\n",
       "   'Tackle the issue in-house without seeking assistance from colleagues.',\n",
       "   'Seal off the area immediately and wait for further guidance.']]]"
      ]
     },
     "execution_count": 186,
     "metadata": {},
     "output_type": "execute_result"
    }
   ],
   "source": [
    "result = ('[{\"question\":\"When performing a water meter test, what is the recommended procedure to verify accurate measurement?\",\"options\":[\"Check the meter\\'s accuracy by comparing it to a calibrated gauge.\",\"Verify the meter\\'s installation is level and secure.\",\"Compare the meter\\'s reading with a second identical meter in series.\",\"Calibrate the meter against a known quantity of water flow.\"],\"answer\":\"c\",\"reason\":\"Comparing two meters ensures accurate measurement.\"},{\"question\":\"What should be done when encountered with a corroded pipe during excavation?\",\"options\":[\"Replace the entire section of pipe immediately.\",\"Use a pipe cutter to remove the corroded portion only.\",\"Tackle the issue in-house without seeking assistance from colleagues.\",\"Seal off the area and wait for further guidance.\"],\"answer\":\"b\",\"reason\":\"Removing the corroded section prevents further damage.\"},{\"question\":\"A homeowner reports low water pressure. Which step should be taken first?\",\"options\":[\"Check the main shut-off valve\\'s functionality.\",\"Verify the household plumbing layout is correct.\",\"Run a diagnostic test on the entire system.\",\"Clear any debris from the meter or pipes.\"],\"answer\":\"a\",\"reason\":\"Checking the shut-off valve ensures no leaks are causing low pressure.\"},{\"question\":\"What safety precaution should be taken when working with chemicals in confined spaces?\",\"options\":[\"Wear protective gloves and eyewear only.\",\"Ensure good ventilation to prevent inhalation of fumes.\",\"Use a respirator when handling hazardous materials.\",\"Take regular breaks to stretch outside the work area.\"],\"answer\":\"b\",\"reason\":\"Good ventilation prevents chemical inhalation hazards.\"},{\"question\":\"A homeowner requests installation of a water-efficient showerhead. What should be done?\",\"options\":[\"Recommend upgrading to a tankless water heater instead.\",\"Verify the existing plumbing can accommodate the new device.\",\"Ensure compliance with local regulations and building codes.\",\"Install the product without inspecting for compatibility issues.\"],\"answer\":\"b\",\"reason\":\"Ensuring compatibility prevents future plumbing problems.\"},{\"question\":\"When working with flexible PEX tubing, what is the recommended method to prevent damage?\",\"options\":[\"Support the tubing with clamps at regular intervals.\",\"Use a pipe cutter to remove excess material only when necessary.\",\"Route the tubing along existing structural elements for added support.\",\"Run the tubing through a protective sleeve for added protection.\"],\"answer\":\"d\",\"reason\":\"Using a protective sleeve prevents damage and kinking.\"},{\"question\":\"A residential plumber encounters an issue with a sewage backup into a home. What immediate action should be taken?\",\"options\":[\"Call the homeowner to discuss mitigation strategies.\",\"Contact local authorities for assistance in resolving the issue.\",\"Seal off the affected area immediately to prevent further contamination.\",\"Clear any debris or obstructions blocking the sewage line.\"],\"answer\":\"c\",\"reason\":\"Sealing off prevents further damage and contamination.\"},{\"question\":\"What should be done when dealing with a frozen pipe during the winter season?\",\"options\":[\"Apply heat directly to the affected section using an open flame.\",\"Use insulation materials to prevent re-freezing.\",\"Tackle the issue in-house without seeking assistance from colleagues.\",\"Call a professional plumber for assistance as soon as possible.\"],\"answer\":\"d\",\"reason\":\"Calling a professional ensures proper handling and prevention of future issues.\"},{\"question\":\"A homeowner requests installation of a sump pump system. What should be done first?\",\"options\":[\"Verify local regulations regarding sump pump installations.\",\"Design the system with consideration to drainage patterns and existing piping.\",\"Check for any electrical or plumbing code violations in the area.\",\"Clear debris from the yard before beginning installation.\"],\"answer\":\"b\",\"reason\":\"Considering drainage prevents future problems and ensures proper functioning.\"},{\"question\":\"What should be done when encountered with asbestos-containing materials during excavation?\",\"options\":[\"Leave the material undisturbed to avoid exposure.\",\"Use protective gear and remove the material carefully.\",\"Tackle the issue in-house without seeking assistance from colleagues.\",\"Seal off the area immediately and wait for further guidance.\"],\"answer\":\"b\",\"reason\":\"Careful removal prevents exposure hazards.\"}]',\n",
    " '27fcd85f-3dc8-461f-9403-b6c30125d4be')\n",
    "qb = json.loads(result[0])\n",
    "for q in range(len(qb)):\n",
    "    print(qb[q][\"question\"],qb[q][\"options\"] )\n",
    "\n",
    "questions = [[qb[q][\"question\"],qb[q][\"options\"]] for q in range(len(qb))]\n",
    "answers = [qb[q][\"answer\"] for q in range(len(qb))]\n",
    "questions"
   ]
  },
  {
   "cell_type": "code",
   "execution_count": 189,
   "metadata": {},
   "outputs": [
    {
     "data": {
      "text/plain": [
       "['c', 'b', 'a', 'b', 'b', 'd', 'c', 'd', 'b', 'b']"
      ]
     },
     "execution_count": 189,
     "metadata": {},
     "output_type": "execute_result"
    }
   ],
   "source": [
    "answers"
   ]
  },
  {
   "cell_type": "code",
   "execution_count": null,
   "metadata": {},
   "outputs": [],
   "source": [
    "def answer_cleaner(input):\n",
    "    clean_agent = Agent(\n",
    "        model=Ollama(id=model_id),\n",
    "        description=\"you are a profession computer programmer with 20 years of experience. you are good at cleaning data and cextract answer to be a list of strings. you will receive input, and please extract answer from it. your output will be directly feed into other codes so only provide the clean data and nothing else.example: ['x','x','x','x','x','x'] where 'x' is either D, B, C, or A\",\n",
    "        storage=SqlAgentStorage(table_name=\"agent_sessions\", db_file=\"tmp/agent_storage.db\"),\n",
    "        instructions=[\"you only output what is reuqired and never provide explanation or additional information\"],\n",
    "        add_history_to_messages=True,\n",
    "        num_history_responses=3,\n",
    "        \n",
    "    )\n",
    "    return clean_agent.run(input).content"
   ]
  },
  {
   "cell_type": "code",
   "execution_count": 195,
   "metadata": {},
   "outputs": [
    {
     "ename": "KeyboardInterrupt",
     "evalue": "",
     "output_type": "error",
     "traceback": [
      "\u001b[1;31m---------------------------------------------------------------------------\u001b[0m",
      "\u001b[1;31mKeyboardInterrupt\u001b[0m                         Traceback (most recent call last)",
      "Cell \u001b[1;32mIn[195], line 4\u001b[0m\n\u001b[0;32m      2\u001b[0m store \u001b[38;5;241m=\u001b[39m []\n\u001b[0;32m      3\u001b[0m \u001b[38;5;28;01mfor\u001b[39;00m q \u001b[38;5;129;01min\u001b[39;00m \u001b[38;5;28mrange\u001b[39m(\u001b[38;5;28mlen\u001b[39m(questions)):\n\u001b[1;32m----> 4\u001b[0m     mess \u001b[38;5;241m=\u001b[39m (\u001b[43mask_mc\u001b[49m\u001b[43m(\u001b[49m\u001b[38;5;124;43m\"\"\"\u001b[39;49m\u001b[38;5;124;43mformat is very important. remember to structure your result. no need to provide reaons. here is the question:\u001b[39;49m\u001b[38;5;124;43m\"\"\"\u001b[39;49m\u001b[38;5;241;43m+\u001b[39;49m\u001b[43m \u001b[49m\u001b[38;5;28;43mstr\u001b[39;49m\u001b[43m(\u001b[49m\u001b[43mquestions\u001b[49m\u001b[43m[\u001b[49m\u001b[43mq\u001b[49m\u001b[43m]\u001b[49m\u001b[43m)\u001b[49m\u001b[43m,\u001b[49m\u001b[43m \u001b[49m\u001b[43magents_in_action\u001b[49m\u001b[43m[\u001b[49m\u001b[43magent\u001b[49m\u001b[43m]\u001b[49m\u001b[43m)\u001b[49m)\n\u001b[0;32m      5\u001b[0m     store\u001b[38;5;241m.\u001b[39mappend(mess)\n\u001b[0;32m      6\u001b[0m clean \u001b[38;5;241m=\u001b[39m answer_cleaner(store)\n",
      "Cell \u001b[1;32mIn[192], line 12\u001b[0m, in \u001b[0;36mask_mc\u001b[1;34m(question, session)\u001b[0m\n\u001b[0;32m      2\u001b[0m \u001b[38;5;28;01mdef\u001b[39;00m \u001b[38;5;21mask_mc\u001b[39m(question, session):\n\u001b[0;32m      3\u001b[0m     expert_agent \u001b[38;5;241m=\u001b[39m Agent(\n\u001b[0;32m      4\u001b[0m         model\u001b[38;5;241m=\u001b[39mOllama(\u001b[38;5;28mid\u001b[39m\u001b[38;5;241m=\u001b[39mmodel_id),\n\u001b[0;32m      5\u001b[0m         description\u001b[38;5;241m=\u001b[39m\u001b[38;5;124m\"\u001b[39m\u001b[38;5;124myou are tasked with answering multiple choice questions. Think through each step meticulously but only show me the final answer. Rules: 1.Think deeply about the question\u001b[39m\u001b[38;5;124m'\u001b[39m\u001b[38;5;124ms core concept. 2. Consider common misconceptions. 3. Mentally justify why each wrong option is incorrect 4. Double-check your logic 5. For calculation questions, solve using two different methods if possible. for output format, do this: [option (A, B, D, or D. do not repeat the answer text. alphbet only)]\u001b[39m\u001b[38;5;124m\"\u001b[39m,\n\u001b[1;32m   (...)\u001b[0m\n\u001b[0;32m     10\u001b[0m         session_id\u001b[38;5;241m=\u001b[39m session\n\u001b[0;32m     11\u001b[0m     )\n\u001b[1;32m---> 12\u001b[0m     \u001b[38;5;28;01mreturn\u001b[39;00m \u001b[43mexpert_agent\u001b[49m\u001b[38;5;241;43m.\u001b[39;49m\u001b[43mrun\u001b[49m\u001b[43m(\u001b[49m\u001b[43mquestion\u001b[49m\u001b[43m)\u001b[49m\u001b[38;5;241m.\u001b[39mcontent\n",
      "File \u001b[1;32mc:\\Users\\godfr\\AppData\\Local\\Programs\\Python\\Python312\\Lib\\site-packages\\phi\\agent\\agent.py:1883\u001b[0m, in \u001b[0;36mAgent.run\u001b[1;34m(self, message, stream, images, messages, stream_intermediate_steps, **kwargs)\u001b[0m\n\u001b[0;32m   1874\u001b[0m \u001b[38;5;28;01melse\u001b[39;00m:\n\u001b[0;32m   1875\u001b[0m     resp \u001b[38;5;241m=\u001b[39m \u001b[38;5;28mself\u001b[39m\u001b[38;5;241m.\u001b[39m_run(\n\u001b[0;32m   1876\u001b[0m         message\u001b[38;5;241m=\u001b[39mmessage,\n\u001b[0;32m   1877\u001b[0m         stream\u001b[38;5;241m=\u001b[39m\u001b[38;5;28;01mFalse\u001b[39;00m,\n\u001b[1;32m   (...)\u001b[0m\n\u001b[0;32m   1881\u001b[0m         \u001b[38;5;241m*\u001b[39m\u001b[38;5;241m*\u001b[39mkwargs,\n\u001b[0;32m   1882\u001b[0m     )\n\u001b[1;32m-> 1883\u001b[0m     \u001b[38;5;28;01mreturn\u001b[39;00m \u001b[38;5;28;43mnext\u001b[39;49m\u001b[43m(\u001b[49m\u001b[43mresp\u001b[49m\u001b[43m)\u001b[49m\n",
      "File \u001b[1;32mc:\\Users\\godfr\\AppData\\Local\\Programs\\Python\\Python312\\Lib\\site-packages\\phi\\agent\\agent.py:1659\u001b[0m, in \u001b[0;36mAgent._run\u001b[1;34m(self, message, stream, images, messages, stream_intermediate_steps, **kwargs)\u001b[0m\n\u001b[0;32m   1647\u001b[0m                 \u001b[38;5;28;01myield\u001b[39;00m RunResponse(\n\u001b[0;32m   1648\u001b[0m                     run_id\u001b[38;5;241m=\u001b[39m\u001b[38;5;28mself\u001b[39m\u001b[38;5;241m.\u001b[39mrun_id,\n\u001b[0;32m   1649\u001b[0m                     session_id\u001b[38;5;241m=\u001b[39m\u001b[38;5;28mself\u001b[39m\u001b[38;5;241m.\u001b[39msession_id,\n\u001b[1;32m   (...)\u001b[0m\n\u001b[0;32m   1656\u001b[0m                     event\u001b[38;5;241m=\u001b[39mRunEvent\u001b[38;5;241m.\u001b[39mtool_call_completed\u001b[38;5;241m.\u001b[39mvalue,\n\u001b[0;32m   1657\u001b[0m                 )\n\u001b[0;32m   1658\u001b[0m \u001b[38;5;28;01melse\u001b[39;00m:\n\u001b[1;32m-> 1659\u001b[0m     model_response \u001b[38;5;241m=\u001b[39m \u001b[38;5;28;43mself\u001b[39;49m\u001b[38;5;241;43m.\u001b[39;49m\u001b[43mmodel\u001b[49m\u001b[38;5;241;43m.\u001b[39;49m\u001b[43mresponse\u001b[49m\u001b[43m(\u001b[49m\u001b[43mmessages\u001b[49m\u001b[38;5;241;43m=\u001b[39;49m\u001b[43mmessages_for_model\u001b[49m\u001b[43m)\u001b[49m\n\u001b[0;32m   1660\u001b[0m     \u001b[38;5;66;03m# Handle structured outputs\u001b[39;00m\n\u001b[0;32m   1661\u001b[0m     \u001b[38;5;28;01mif\u001b[39;00m \u001b[38;5;28mself\u001b[39m\u001b[38;5;241m.\u001b[39mresponse_model \u001b[38;5;129;01mis\u001b[39;00m \u001b[38;5;129;01mnot\u001b[39;00m \u001b[38;5;28;01mNone\u001b[39;00m \u001b[38;5;129;01mand\u001b[39;00m \u001b[38;5;28mself\u001b[39m\u001b[38;5;241m.\u001b[39mstructured_outputs:\n",
      "File \u001b[1;32mc:\\Users\\godfr\\AppData\\Local\\Programs\\Python\\Python312\\Lib\\site-packages\\phi\\model\\ollama\\chat.py:423\u001b[0m, in \u001b[0;36mOllama.response\u001b[1;34m(self, messages)\u001b[0m\n\u001b[0;32m    421\u001b[0m \u001b[38;5;66;03m# -*- Generate response\u001b[39;00m\n\u001b[0;32m    422\u001b[0m metrics\u001b[38;5;241m.\u001b[39mresponse_timer\u001b[38;5;241m.\u001b[39mstart()\n\u001b[1;32m--> 423\u001b[0m response: Mapping[\u001b[38;5;28mstr\u001b[39m, Any] \u001b[38;5;241m=\u001b[39m \u001b[38;5;28;43mself\u001b[39;49m\u001b[38;5;241;43m.\u001b[39;49m\u001b[43minvoke\u001b[49m\u001b[43m(\u001b[49m\u001b[43mmessages\u001b[49m\u001b[38;5;241;43m=\u001b[39;49m\u001b[43mmessages\u001b[49m\u001b[43m)\u001b[49m\n\u001b[0;32m    424\u001b[0m metrics\u001b[38;5;241m.\u001b[39mresponse_timer\u001b[38;5;241m.\u001b[39mstop()\n\u001b[0;32m    426\u001b[0m \u001b[38;5;66;03m# -*- Create assistant message\u001b[39;00m\n",
      "File \u001b[1;32mc:\\Users\\godfr\\AppData\\Local\\Programs\\Python\\Python312\\Lib\\site-packages\\phi\\model\\ollama\\chat.py:192\u001b[0m, in \u001b[0;36mOllama.invoke\u001b[1;34m(self, messages)\u001b[0m\n\u001b[0;32m    182\u001b[0m \u001b[38;5;28;01mdef\u001b[39;00m \u001b[38;5;21minvoke\u001b[39m(\u001b[38;5;28mself\u001b[39m, messages: List[Message]) \u001b[38;5;241m-\u001b[39m\u001b[38;5;241m>\u001b[39m Mapping[\u001b[38;5;28mstr\u001b[39m, Any]:\n\u001b[0;32m    183\u001b[0m \u001b[38;5;250m    \u001b[39m\u001b[38;5;124;03m\"\"\"\u001b[39;00m\n\u001b[0;32m    184\u001b[0m \u001b[38;5;124;03m    Send a chat request to the Ollama API.\u001b[39;00m\n\u001b[0;32m    185\u001b[0m \n\u001b[1;32m   (...)\u001b[0m\n\u001b[0;32m    190\u001b[0m \u001b[38;5;124;03m        Mapping[str, Any]: The response from the API.\u001b[39;00m\n\u001b[0;32m    191\u001b[0m \u001b[38;5;124;03m    \"\"\"\u001b[39;00m\n\u001b[1;32m--> 192\u001b[0m     \u001b[38;5;28;01mreturn\u001b[39;00m \u001b[38;5;28;43mself\u001b[39;49m\u001b[38;5;241;43m.\u001b[39;49m\u001b[43mget_client\u001b[49m\u001b[43m(\u001b[49m\u001b[43m)\u001b[49m\u001b[38;5;241;43m.\u001b[39;49m\u001b[43mchat\u001b[49m\u001b[43m(\u001b[49m\n\u001b[0;32m    193\u001b[0m \u001b[43m        \u001b[49m\u001b[43mmodel\u001b[49m\u001b[38;5;241;43m=\u001b[39;49m\u001b[38;5;28;43mself\u001b[39;49m\u001b[38;5;241;43m.\u001b[39;49m\u001b[43mid\u001b[49m\u001b[43m,\u001b[49m\n\u001b[0;32m    194\u001b[0m \u001b[43m        \u001b[49m\u001b[43mmessages\u001b[49m\u001b[38;5;241;43m=\u001b[39;49m\u001b[43m[\u001b[49m\u001b[38;5;28;43mself\u001b[39;49m\u001b[38;5;241;43m.\u001b[39;49m\u001b[43m_format_message\u001b[49m\u001b[43m(\u001b[49m\u001b[43mm\u001b[49m\u001b[43m)\u001b[49m\u001b[43m \u001b[49m\u001b[38;5;28;43;01mfor\u001b[39;49;00m\u001b[43m \u001b[49m\u001b[43mm\u001b[49m\u001b[43m \u001b[49m\u001b[38;5;129;43;01min\u001b[39;49;00m\u001b[43m \u001b[49m\u001b[43mmessages\u001b[49m\u001b[43m]\u001b[49m\u001b[43m,\u001b[49m\u001b[43m  \u001b[49m\u001b[38;5;66;43;03m# type: ignore\u001b[39;49;00m\n\u001b[0;32m    195\u001b[0m \u001b[43m        \u001b[49m\u001b[38;5;241;43m*\u001b[39;49m\u001b[38;5;241;43m*\u001b[39;49m\u001b[38;5;28;43mself\u001b[39;49m\u001b[38;5;241;43m.\u001b[39;49m\u001b[43mrequest_kwargs\u001b[49m\u001b[43m,\u001b[49m\n\u001b[0;32m    196\u001b[0m \u001b[43m    \u001b[49m\u001b[43m)\u001b[49m\n",
      "File \u001b[1;32mc:\\Users\\godfr\\AppData\\Local\\Programs\\Python\\Python312\\Lib\\site-packages\\ollama\\_client.py:236\u001b[0m, in \u001b[0;36mClient.chat\u001b[1;34m(self, model, messages, tools, stream, format, options, keep_alive)\u001b[0m\n\u001b[0;32m    233\u001b[0m   \u001b[38;5;28;01mif\u001b[39;00m images \u001b[38;5;241m:=\u001b[39m message\u001b[38;5;241m.\u001b[39mget(\u001b[38;5;124m'\u001b[39m\u001b[38;5;124mimages\u001b[39m\u001b[38;5;124m'\u001b[39m):\n\u001b[0;32m    234\u001b[0m     message[\u001b[38;5;124m'\u001b[39m\u001b[38;5;124mimages\u001b[39m\u001b[38;5;124m'\u001b[39m] \u001b[38;5;241m=\u001b[39m [_encode_image(image) \u001b[38;5;28;01mfor\u001b[39;00m image \u001b[38;5;129;01min\u001b[39;00m images]\n\u001b[1;32m--> 236\u001b[0m \u001b[38;5;28;01mreturn\u001b[39;00m \u001b[38;5;28;43mself\u001b[39;49m\u001b[38;5;241;43m.\u001b[39;49m\u001b[43m_request_stream\u001b[49m\u001b[43m(\u001b[49m\n\u001b[0;32m    237\u001b[0m \u001b[43m  \u001b[49m\u001b[38;5;124;43m'\u001b[39;49m\u001b[38;5;124;43mPOST\u001b[39;49m\u001b[38;5;124;43m'\u001b[39;49m\u001b[43m,\u001b[49m\n\u001b[0;32m    238\u001b[0m \u001b[43m  \u001b[49m\u001b[38;5;124;43m'\u001b[39;49m\u001b[38;5;124;43m/api/chat\u001b[39;49m\u001b[38;5;124;43m'\u001b[39;49m\u001b[43m,\u001b[49m\n\u001b[0;32m    239\u001b[0m \u001b[43m  \u001b[49m\u001b[43mjson\u001b[49m\u001b[38;5;241;43m=\u001b[39;49m\u001b[43m{\u001b[49m\n\u001b[0;32m    240\u001b[0m \u001b[43m    \u001b[49m\u001b[38;5;124;43m'\u001b[39;49m\u001b[38;5;124;43mmodel\u001b[39;49m\u001b[38;5;124;43m'\u001b[39;49m\u001b[43m:\u001b[49m\u001b[43m \u001b[49m\u001b[43mmodel\u001b[49m\u001b[43m,\u001b[49m\n\u001b[0;32m    241\u001b[0m \u001b[43m    \u001b[49m\u001b[38;5;124;43m'\u001b[39;49m\u001b[38;5;124;43mmessages\u001b[39;49m\u001b[38;5;124;43m'\u001b[39;49m\u001b[43m:\u001b[49m\u001b[43m \u001b[49m\u001b[43mmessages\u001b[49m\u001b[43m,\u001b[49m\n\u001b[0;32m    242\u001b[0m \u001b[43m    \u001b[49m\u001b[38;5;124;43m'\u001b[39;49m\u001b[38;5;124;43mtools\u001b[39;49m\u001b[38;5;124;43m'\u001b[39;49m\u001b[43m:\u001b[49m\u001b[43m \u001b[49m\u001b[43mtools\u001b[49m\u001b[43m \u001b[49m\u001b[38;5;129;43;01mor\u001b[39;49;00m\u001b[43m \u001b[49m\u001b[43m[\u001b[49m\u001b[43m]\u001b[49m\u001b[43m,\u001b[49m\n\u001b[0;32m    243\u001b[0m \u001b[43m    \u001b[49m\u001b[38;5;124;43m'\u001b[39;49m\u001b[38;5;124;43mstream\u001b[39;49m\u001b[38;5;124;43m'\u001b[39;49m\u001b[43m:\u001b[49m\u001b[43m \u001b[49m\u001b[43mstream\u001b[49m\u001b[43m,\u001b[49m\n\u001b[0;32m    244\u001b[0m \u001b[43m    \u001b[49m\u001b[38;5;124;43m'\u001b[39;49m\u001b[38;5;124;43mformat\u001b[39;49m\u001b[38;5;124;43m'\u001b[39;49m\u001b[43m:\u001b[49m\u001b[43m \u001b[49m\u001b[38;5;28;43mformat\u001b[39;49m\u001b[43m,\u001b[49m\n\u001b[0;32m    245\u001b[0m \u001b[43m    \u001b[49m\u001b[38;5;124;43m'\u001b[39;49m\u001b[38;5;124;43moptions\u001b[39;49m\u001b[38;5;124;43m'\u001b[39;49m\u001b[43m:\u001b[49m\u001b[43m \u001b[49m\u001b[43moptions\u001b[49m\u001b[43m \u001b[49m\u001b[38;5;129;43;01mor\u001b[39;49;00m\u001b[43m \u001b[49m\u001b[43m{\u001b[49m\u001b[43m}\u001b[49m\u001b[43m,\u001b[49m\n\u001b[0;32m    246\u001b[0m \u001b[43m    \u001b[49m\u001b[38;5;124;43m'\u001b[39;49m\u001b[38;5;124;43mkeep_alive\u001b[39;49m\u001b[38;5;124;43m'\u001b[39;49m\u001b[43m:\u001b[49m\u001b[43m \u001b[49m\u001b[43mkeep_alive\u001b[49m\u001b[43m,\u001b[49m\n\u001b[0;32m    247\u001b[0m \u001b[43m  \u001b[49m\u001b[43m}\u001b[49m\u001b[43m,\u001b[49m\n\u001b[0;32m    248\u001b[0m \u001b[43m  \u001b[49m\u001b[43mstream\u001b[49m\u001b[38;5;241;43m=\u001b[39;49m\u001b[43mstream\u001b[49m\u001b[43m,\u001b[49m\n\u001b[0;32m    249\u001b[0m \u001b[43m\u001b[49m\u001b[43m)\u001b[49m\n",
      "File \u001b[1;32mc:\\Users\\godfr\\AppData\\Local\\Programs\\Python\\Python312\\Lib\\site-packages\\ollama\\_client.py:99\u001b[0m, in \u001b[0;36mClient._request_stream\u001b[1;34m(self, stream, *args, **kwargs)\u001b[0m\n\u001b[0;32m     93\u001b[0m \u001b[38;5;28;01mdef\u001b[39;00m \u001b[38;5;21m_request_stream\u001b[39m(\n\u001b[0;32m     94\u001b[0m   \u001b[38;5;28mself\u001b[39m,\n\u001b[0;32m     95\u001b[0m   \u001b[38;5;241m*\u001b[39margs,\n\u001b[0;32m     96\u001b[0m   stream: \u001b[38;5;28mbool\u001b[39m \u001b[38;5;241m=\u001b[39m \u001b[38;5;28;01mFalse\u001b[39;00m,\n\u001b[0;32m     97\u001b[0m   \u001b[38;5;241m*\u001b[39m\u001b[38;5;241m*\u001b[39mkwargs,\n\u001b[0;32m     98\u001b[0m ) \u001b[38;5;241m-\u001b[39m\u001b[38;5;241m>\u001b[39m Union[Mapping[\u001b[38;5;28mstr\u001b[39m, Any], Iterator[Mapping[\u001b[38;5;28mstr\u001b[39m, Any]]]:\n\u001b[1;32m---> 99\u001b[0m   \u001b[38;5;28;01mreturn\u001b[39;00m \u001b[38;5;28mself\u001b[39m\u001b[38;5;241m.\u001b[39m_stream(\u001b[38;5;241m*\u001b[39margs, \u001b[38;5;241m*\u001b[39m\u001b[38;5;241m*\u001b[39mkwargs) \u001b[38;5;28;01mif\u001b[39;00m stream \u001b[38;5;28;01melse\u001b[39;00m \u001b[38;5;28;43mself\u001b[39;49m\u001b[38;5;241;43m.\u001b[39;49m\u001b[43m_request\u001b[49m\u001b[43m(\u001b[49m\u001b[38;5;241;43m*\u001b[39;49m\u001b[43margs\u001b[49m\u001b[43m,\u001b[49m\u001b[43m \u001b[49m\u001b[38;5;241;43m*\u001b[39;49m\u001b[38;5;241;43m*\u001b[39;49m\u001b[43mkwargs\u001b[49m\u001b[43m)\u001b[49m\u001b[38;5;241m.\u001b[39mjson()\n",
      "File \u001b[1;32mc:\\Users\\godfr\\AppData\\Local\\Programs\\Python\\Python312\\Lib\\site-packages\\ollama\\_client.py:70\u001b[0m, in \u001b[0;36mClient._request\u001b[1;34m(self, method, url, **kwargs)\u001b[0m\n\u001b[0;32m     69\u001b[0m \u001b[38;5;28;01mdef\u001b[39;00m \u001b[38;5;21m_request\u001b[39m(\u001b[38;5;28mself\u001b[39m, method: \u001b[38;5;28mstr\u001b[39m, url: \u001b[38;5;28mstr\u001b[39m, \u001b[38;5;241m*\u001b[39m\u001b[38;5;241m*\u001b[39mkwargs) \u001b[38;5;241m-\u001b[39m\u001b[38;5;241m>\u001b[39m httpx\u001b[38;5;241m.\u001b[39mResponse:\n\u001b[1;32m---> 70\u001b[0m   response \u001b[38;5;241m=\u001b[39m \u001b[38;5;28;43mself\u001b[39;49m\u001b[38;5;241;43m.\u001b[39;49m\u001b[43m_client\u001b[49m\u001b[38;5;241;43m.\u001b[39;49m\u001b[43mrequest\u001b[49m\u001b[43m(\u001b[49m\u001b[43mmethod\u001b[49m\u001b[43m,\u001b[49m\u001b[43m \u001b[49m\u001b[43murl\u001b[49m\u001b[43m,\u001b[49m\u001b[43m \u001b[49m\u001b[38;5;241;43m*\u001b[39;49m\u001b[38;5;241;43m*\u001b[39;49m\u001b[43mkwargs\u001b[49m\u001b[43m)\u001b[49m\n\u001b[0;32m     72\u001b[0m   \u001b[38;5;28;01mtry\u001b[39;00m:\n\u001b[0;32m     73\u001b[0m     response\u001b[38;5;241m.\u001b[39mraise_for_status()\n",
      "File \u001b[1;32mc:\\Users\\godfr\\AppData\\Local\\Programs\\Python\\Python312\\Lib\\site-packages\\httpx\\_client.py:827\u001b[0m, in \u001b[0;36mClient.request\u001b[1;34m(self, method, url, content, data, files, json, params, headers, cookies, auth, follow_redirects, timeout, extensions)\u001b[0m\n\u001b[0;32m    812\u001b[0m     warnings\u001b[38;5;241m.\u001b[39mwarn(message, \u001b[38;5;167;01mDeprecationWarning\u001b[39;00m)\n\u001b[0;32m    814\u001b[0m request \u001b[38;5;241m=\u001b[39m \u001b[38;5;28mself\u001b[39m\u001b[38;5;241m.\u001b[39mbuild_request(\n\u001b[0;32m    815\u001b[0m     method\u001b[38;5;241m=\u001b[39mmethod,\n\u001b[0;32m    816\u001b[0m     url\u001b[38;5;241m=\u001b[39murl,\n\u001b[1;32m   (...)\u001b[0m\n\u001b[0;32m    825\u001b[0m     extensions\u001b[38;5;241m=\u001b[39mextensions,\n\u001b[0;32m    826\u001b[0m )\n\u001b[1;32m--> 827\u001b[0m \u001b[38;5;28;01mreturn\u001b[39;00m \u001b[38;5;28;43mself\u001b[39;49m\u001b[38;5;241;43m.\u001b[39;49m\u001b[43msend\u001b[49m\u001b[43m(\u001b[49m\u001b[43mrequest\u001b[49m\u001b[43m,\u001b[49m\u001b[43m \u001b[49m\u001b[43mauth\u001b[49m\u001b[38;5;241;43m=\u001b[39;49m\u001b[43mauth\u001b[49m\u001b[43m,\u001b[49m\u001b[43m \u001b[49m\u001b[43mfollow_redirects\u001b[49m\u001b[38;5;241;43m=\u001b[39;49m\u001b[43mfollow_redirects\u001b[49m\u001b[43m)\u001b[49m\n",
      "File \u001b[1;32mc:\\Users\\godfr\\AppData\\Local\\Programs\\Python\\Python312\\Lib\\site-packages\\httpx\\_client.py:914\u001b[0m, in \u001b[0;36mClient.send\u001b[1;34m(self, request, stream, auth, follow_redirects)\u001b[0m\n\u001b[0;32m    906\u001b[0m follow_redirects \u001b[38;5;241m=\u001b[39m (\n\u001b[0;32m    907\u001b[0m     \u001b[38;5;28mself\u001b[39m\u001b[38;5;241m.\u001b[39mfollow_redirects\n\u001b[0;32m    908\u001b[0m     \u001b[38;5;28;01mif\u001b[39;00m \u001b[38;5;28misinstance\u001b[39m(follow_redirects, UseClientDefault)\n\u001b[0;32m    909\u001b[0m     \u001b[38;5;28;01melse\u001b[39;00m follow_redirects\n\u001b[0;32m    910\u001b[0m )\n\u001b[0;32m    912\u001b[0m auth \u001b[38;5;241m=\u001b[39m \u001b[38;5;28mself\u001b[39m\u001b[38;5;241m.\u001b[39m_build_request_auth(request, auth)\n\u001b[1;32m--> 914\u001b[0m response \u001b[38;5;241m=\u001b[39m \u001b[38;5;28;43mself\u001b[39;49m\u001b[38;5;241;43m.\u001b[39;49m\u001b[43m_send_handling_auth\u001b[49m\u001b[43m(\u001b[49m\n\u001b[0;32m    915\u001b[0m \u001b[43m    \u001b[49m\u001b[43mrequest\u001b[49m\u001b[43m,\u001b[49m\n\u001b[0;32m    916\u001b[0m \u001b[43m    \u001b[49m\u001b[43mauth\u001b[49m\u001b[38;5;241;43m=\u001b[39;49m\u001b[43mauth\u001b[49m\u001b[43m,\u001b[49m\n\u001b[0;32m    917\u001b[0m \u001b[43m    \u001b[49m\u001b[43mfollow_redirects\u001b[49m\u001b[38;5;241;43m=\u001b[39;49m\u001b[43mfollow_redirects\u001b[49m\u001b[43m,\u001b[49m\n\u001b[0;32m    918\u001b[0m \u001b[43m    \u001b[49m\u001b[43mhistory\u001b[49m\u001b[38;5;241;43m=\u001b[39;49m\u001b[43m[\u001b[49m\u001b[43m]\u001b[49m\u001b[43m,\u001b[49m\n\u001b[0;32m    919\u001b[0m \u001b[43m\u001b[49m\u001b[43m)\u001b[49m\n\u001b[0;32m    920\u001b[0m \u001b[38;5;28;01mtry\u001b[39;00m:\n\u001b[0;32m    921\u001b[0m     \u001b[38;5;28;01mif\u001b[39;00m \u001b[38;5;129;01mnot\u001b[39;00m stream:\n",
      "File \u001b[1;32mc:\\Users\\godfr\\AppData\\Local\\Programs\\Python\\Python312\\Lib\\site-packages\\httpx\\_client.py:942\u001b[0m, in \u001b[0;36mClient._send_handling_auth\u001b[1;34m(self, request, auth, follow_redirects, history)\u001b[0m\n\u001b[0;32m    939\u001b[0m request \u001b[38;5;241m=\u001b[39m \u001b[38;5;28mnext\u001b[39m(auth_flow)\n\u001b[0;32m    941\u001b[0m \u001b[38;5;28;01mwhile\u001b[39;00m \u001b[38;5;28;01mTrue\u001b[39;00m:\n\u001b[1;32m--> 942\u001b[0m     response \u001b[38;5;241m=\u001b[39m \u001b[38;5;28;43mself\u001b[39;49m\u001b[38;5;241;43m.\u001b[39;49m\u001b[43m_send_handling_redirects\u001b[49m\u001b[43m(\u001b[49m\n\u001b[0;32m    943\u001b[0m \u001b[43m        \u001b[49m\u001b[43mrequest\u001b[49m\u001b[43m,\u001b[49m\n\u001b[0;32m    944\u001b[0m \u001b[43m        \u001b[49m\u001b[43mfollow_redirects\u001b[49m\u001b[38;5;241;43m=\u001b[39;49m\u001b[43mfollow_redirects\u001b[49m\u001b[43m,\u001b[49m\n\u001b[0;32m    945\u001b[0m \u001b[43m        \u001b[49m\u001b[43mhistory\u001b[49m\u001b[38;5;241;43m=\u001b[39;49m\u001b[43mhistory\u001b[49m\u001b[43m,\u001b[49m\n\u001b[0;32m    946\u001b[0m \u001b[43m    \u001b[49m\u001b[43m)\u001b[49m\n\u001b[0;32m    947\u001b[0m     \u001b[38;5;28;01mtry\u001b[39;00m:\n\u001b[0;32m    948\u001b[0m         \u001b[38;5;28;01mtry\u001b[39;00m:\n",
      "File \u001b[1;32mc:\\Users\\godfr\\AppData\\Local\\Programs\\Python\\Python312\\Lib\\site-packages\\httpx\\_client.py:979\u001b[0m, in \u001b[0;36mClient._send_handling_redirects\u001b[1;34m(self, request, follow_redirects, history)\u001b[0m\n\u001b[0;32m    976\u001b[0m \u001b[38;5;28;01mfor\u001b[39;00m hook \u001b[38;5;129;01min\u001b[39;00m \u001b[38;5;28mself\u001b[39m\u001b[38;5;241m.\u001b[39m_event_hooks[\u001b[38;5;124m\"\u001b[39m\u001b[38;5;124mrequest\u001b[39m\u001b[38;5;124m\"\u001b[39m]:\n\u001b[0;32m    977\u001b[0m     hook(request)\n\u001b[1;32m--> 979\u001b[0m response \u001b[38;5;241m=\u001b[39m \u001b[38;5;28;43mself\u001b[39;49m\u001b[38;5;241;43m.\u001b[39;49m\u001b[43m_send_single_request\u001b[49m\u001b[43m(\u001b[49m\u001b[43mrequest\u001b[49m\u001b[43m)\u001b[49m\n\u001b[0;32m    980\u001b[0m \u001b[38;5;28;01mtry\u001b[39;00m:\n\u001b[0;32m    981\u001b[0m     \u001b[38;5;28;01mfor\u001b[39;00m hook \u001b[38;5;129;01min\u001b[39;00m \u001b[38;5;28mself\u001b[39m\u001b[38;5;241m.\u001b[39m_event_hooks[\u001b[38;5;124m\"\u001b[39m\u001b[38;5;124mresponse\u001b[39m\u001b[38;5;124m\"\u001b[39m]:\n",
      "File \u001b[1;32mc:\\Users\\godfr\\AppData\\Local\\Programs\\Python\\Python312\\Lib\\site-packages\\httpx\\_client.py:1015\u001b[0m, in \u001b[0;36mClient._send_single_request\u001b[1;34m(self, request)\u001b[0m\n\u001b[0;32m   1010\u001b[0m     \u001b[38;5;28;01mraise\u001b[39;00m \u001b[38;5;167;01mRuntimeError\u001b[39;00m(\n\u001b[0;32m   1011\u001b[0m         \u001b[38;5;124m\"\u001b[39m\u001b[38;5;124mAttempted to send an async request with a sync Client instance.\u001b[39m\u001b[38;5;124m\"\u001b[39m\n\u001b[0;32m   1012\u001b[0m     )\n\u001b[0;32m   1014\u001b[0m \u001b[38;5;28;01mwith\u001b[39;00m request_context(request\u001b[38;5;241m=\u001b[39mrequest):\n\u001b[1;32m-> 1015\u001b[0m     response \u001b[38;5;241m=\u001b[39m \u001b[43mtransport\u001b[49m\u001b[38;5;241;43m.\u001b[39;49m\u001b[43mhandle_request\u001b[49m\u001b[43m(\u001b[49m\u001b[43mrequest\u001b[49m\u001b[43m)\u001b[49m\n\u001b[0;32m   1017\u001b[0m \u001b[38;5;28;01massert\u001b[39;00m \u001b[38;5;28misinstance\u001b[39m(response\u001b[38;5;241m.\u001b[39mstream, SyncByteStream)\n\u001b[0;32m   1019\u001b[0m response\u001b[38;5;241m.\u001b[39mrequest \u001b[38;5;241m=\u001b[39m request\n",
      "File \u001b[1;32mc:\\Users\\godfr\\AppData\\Local\\Programs\\Python\\Python312\\Lib\\site-packages\\httpx\\_transports\\default.py:233\u001b[0m, in \u001b[0;36mHTTPTransport.handle_request\u001b[1;34m(self, request)\u001b[0m\n\u001b[0;32m    220\u001b[0m req \u001b[38;5;241m=\u001b[39m httpcore\u001b[38;5;241m.\u001b[39mRequest(\n\u001b[0;32m    221\u001b[0m     method\u001b[38;5;241m=\u001b[39mrequest\u001b[38;5;241m.\u001b[39mmethod,\n\u001b[0;32m    222\u001b[0m     url\u001b[38;5;241m=\u001b[39mhttpcore\u001b[38;5;241m.\u001b[39mURL(\n\u001b[1;32m   (...)\u001b[0m\n\u001b[0;32m    230\u001b[0m     extensions\u001b[38;5;241m=\u001b[39mrequest\u001b[38;5;241m.\u001b[39mextensions,\n\u001b[0;32m    231\u001b[0m )\n\u001b[0;32m    232\u001b[0m \u001b[38;5;28;01mwith\u001b[39;00m map_httpcore_exceptions():\n\u001b[1;32m--> 233\u001b[0m     resp \u001b[38;5;241m=\u001b[39m \u001b[38;5;28;43mself\u001b[39;49m\u001b[38;5;241;43m.\u001b[39;49m\u001b[43m_pool\u001b[49m\u001b[38;5;241;43m.\u001b[39;49m\u001b[43mhandle_request\u001b[49m\u001b[43m(\u001b[49m\u001b[43mreq\u001b[49m\u001b[43m)\u001b[49m\n\u001b[0;32m    235\u001b[0m \u001b[38;5;28;01massert\u001b[39;00m \u001b[38;5;28misinstance\u001b[39m(resp\u001b[38;5;241m.\u001b[39mstream, typing\u001b[38;5;241m.\u001b[39mIterable)\n\u001b[0;32m    237\u001b[0m \u001b[38;5;28;01mreturn\u001b[39;00m Response(\n\u001b[0;32m    238\u001b[0m     status_code\u001b[38;5;241m=\u001b[39mresp\u001b[38;5;241m.\u001b[39mstatus,\n\u001b[0;32m    239\u001b[0m     headers\u001b[38;5;241m=\u001b[39mresp\u001b[38;5;241m.\u001b[39mheaders,\n\u001b[0;32m    240\u001b[0m     stream\u001b[38;5;241m=\u001b[39mResponseStream(resp\u001b[38;5;241m.\u001b[39mstream),\n\u001b[0;32m    241\u001b[0m     extensions\u001b[38;5;241m=\u001b[39mresp\u001b[38;5;241m.\u001b[39mextensions,\n\u001b[0;32m    242\u001b[0m )\n",
      "File \u001b[1;32mc:\\Users\\godfr\\AppData\\Local\\Programs\\Python\\Python312\\Lib\\site-packages\\httpcore\\_sync\\connection_pool.py:216\u001b[0m, in \u001b[0;36mConnectionPool.handle_request\u001b[1;34m(self, request)\u001b[0m\n\u001b[0;32m    213\u001b[0m         closing \u001b[38;5;241m=\u001b[39m \u001b[38;5;28mself\u001b[39m\u001b[38;5;241m.\u001b[39m_assign_requests_to_connections()\n\u001b[0;32m    215\u001b[0m     \u001b[38;5;28mself\u001b[39m\u001b[38;5;241m.\u001b[39m_close_connections(closing)\n\u001b[1;32m--> 216\u001b[0m     \u001b[38;5;28;01mraise\u001b[39;00m exc \u001b[38;5;28;01mfrom\u001b[39;00m \u001b[38;5;28;01mNone\u001b[39;00m\n\u001b[0;32m    218\u001b[0m \u001b[38;5;66;03m# Return the response. Note that in this case we still have to manage\u001b[39;00m\n\u001b[0;32m    219\u001b[0m \u001b[38;5;66;03m# the point at which the response is closed.\u001b[39;00m\n\u001b[0;32m    220\u001b[0m \u001b[38;5;28;01massert\u001b[39;00m \u001b[38;5;28misinstance\u001b[39m(response\u001b[38;5;241m.\u001b[39mstream, Iterable)\n",
      "File \u001b[1;32mc:\\Users\\godfr\\AppData\\Local\\Programs\\Python\\Python312\\Lib\\site-packages\\httpcore\\_sync\\connection_pool.py:196\u001b[0m, in \u001b[0;36mConnectionPool.handle_request\u001b[1;34m(self, request)\u001b[0m\n\u001b[0;32m    192\u001b[0m connection \u001b[38;5;241m=\u001b[39m pool_request\u001b[38;5;241m.\u001b[39mwait_for_connection(timeout\u001b[38;5;241m=\u001b[39mtimeout)\n\u001b[0;32m    194\u001b[0m \u001b[38;5;28;01mtry\u001b[39;00m:\n\u001b[0;32m    195\u001b[0m     \u001b[38;5;66;03m# Send the request on the assigned connection.\u001b[39;00m\n\u001b[1;32m--> 196\u001b[0m     response \u001b[38;5;241m=\u001b[39m \u001b[43mconnection\u001b[49m\u001b[38;5;241;43m.\u001b[39;49m\u001b[43mhandle_request\u001b[49m\u001b[43m(\u001b[49m\n\u001b[0;32m    197\u001b[0m \u001b[43m        \u001b[49m\u001b[43mpool_request\u001b[49m\u001b[38;5;241;43m.\u001b[39;49m\u001b[43mrequest\u001b[49m\n\u001b[0;32m    198\u001b[0m \u001b[43m    \u001b[49m\u001b[43m)\u001b[49m\n\u001b[0;32m    199\u001b[0m \u001b[38;5;28;01mexcept\u001b[39;00m ConnectionNotAvailable:\n\u001b[0;32m    200\u001b[0m     \u001b[38;5;66;03m# In some cases a connection may initially be available to\u001b[39;00m\n\u001b[0;32m    201\u001b[0m     \u001b[38;5;66;03m# handle a request, but then become unavailable.\u001b[39;00m\n\u001b[0;32m    202\u001b[0m     \u001b[38;5;66;03m#\u001b[39;00m\n\u001b[0;32m    203\u001b[0m     \u001b[38;5;66;03m# In this case we clear the connection and try again.\u001b[39;00m\n\u001b[0;32m    204\u001b[0m     pool_request\u001b[38;5;241m.\u001b[39mclear_connection()\n",
      "File \u001b[1;32mc:\\Users\\godfr\\AppData\\Local\\Programs\\Python\\Python312\\Lib\\site-packages\\httpcore\\_sync\\connection.py:101\u001b[0m, in \u001b[0;36mHTTPConnection.handle_request\u001b[1;34m(self, request)\u001b[0m\n\u001b[0;32m     98\u001b[0m     \u001b[38;5;28mself\u001b[39m\u001b[38;5;241m.\u001b[39m_connect_failed \u001b[38;5;241m=\u001b[39m \u001b[38;5;28;01mTrue\u001b[39;00m\n\u001b[0;32m     99\u001b[0m     \u001b[38;5;28;01mraise\u001b[39;00m exc\n\u001b[1;32m--> 101\u001b[0m \u001b[38;5;28;01mreturn\u001b[39;00m \u001b[38;5;28;43mself\u001b[39;49m\u001b[38;5;241;43m.\u001b[39;49m\u001b[43m_connection\u001b[49m\u001b[38;5;241;43m.\u001b[39;49m\u001b[43mhandle_request\u001b[49m\u001b[43m(\u001b[49m\u001b[43mrequest\u001b[49m\u001b[43m)\u001b[49m\n",
      "File \u001b[1;32mc:\\Users\\godfr\\AppData\\Local\\Programs\\Python\\Python312\\Lib\\site-packages\\httpcore\\_sync\\http11.py:143\u001b[0m, in \u001b[0;36mHTTP11Connection.handle_request\u001b[1;34m(self, request)\u001b[0m\n\u001b[0;32m    141\u001b[0m     \u001b[38;5;28;01mwith\u001b[39;00m Trace(\u001b[38;5;124m\"\u001b[39m\u001b[38;5;124mresponse_closed\u001b[39m\u001b[38;5;124m\"\u001b[39m, logger, request) \u001b[38;5;28;01mas\u001b[39;00m trace:\n\u001b[0;32m    142\u001b[0m         \u001b[38;5;28mself\u001b[39m\u001b[38;5;241m.\u001b[39m_response_closed()\n\u001b[1;32m--> 143\u001b[0m \u001b[38;5;28;01mraise\u001b[39;00m exc\n",
      "File \u001b[1;32mc:\\Users\\godfr\\AppData\\Local\\Programs\\Python\\Python312\\Lib\\site-packages\\httpcore\\_sync\\http11.py:113\u001b[0m, in \u001b[0;36mHTTP11Connection.handle_request\u001b[1;34m(self, request)\u001b[0m\n\u001b[0;32m    102\u001b[0m     \u001b[38;5;28;01mpass\u001b[39;00m\n\u001b[0;32m    104\u001b[0m \u001b[38;5;28;01mwith\u001b[39;00m Trace(\n\u001b[0;32m    105\u001b[0m     \u001b[38;5;124m\"\u001b[39m\u001b[38;5;124mreceive_response_headers\u001b[39m\u001b[38;5;124m\"\u001b[39m, logger, request, kwargs\n\u001b[0;32m    106\u001b[0m ) \u001b[38;5;28;01mas\u001b[39;00m trace:\n\u001b[0;32m    107\u001b[0m     (\n\u001b[0;32m    108\u001b[0m         http_version,\n\u001b[0;32m    109\u001b[0m         status,\n\u001b[0;32m    110\u001b[0m         reason_phrase,\n\u001b[0;32m    111\u001b[0m         headers,\n\u001b[0;32m    112\u001b[0m         trailing_data,\n\u001b[1;32m--> 113\u001b[0m     ) \u001b[38;5;241m=\u001b[39m \u001b[38;5;28;43mself\u001b[39;49m\u001b[38;5;241;43m.\u001b[39;49m\u001b[43m_receive_response_headers\u001b[49m\u001b[43m(\u001b[49m\u001b[38;5;241;43m*\u001b[39;49m\u001b[38;5;241;43m*\u001b[39;49m\u001b[43mkwargs\u001b[49m\u001b[43m)\u001b[49m\n\u001b[0;32m    114\u001b[0m     trace\u001b[38;5;241m.\u001b[39mreturn_value \u001b[38;5;241m=\u001b[39m (\n\u001b[0;32m    115\u001b[0m         http_version,\n\u001b[0;32m    116\u001b[0m         status,\n\u001b[0;32m    117\u001b[0m         reason_phrase,\n\u001b[0;32m    118\u001b[0m         headers,\n\u001b[0;32m    119\u001b[0m     )\n\u001b[0;32m    121\u001b[0m network_stream \u001b[38;5;241m=\u001b[39m \u001b[38;5;28mself\u001b[39m\u001b[38;5;241m.\u001b[39m_network_stream\n",
      "File \u001b[1;32mc:\\Users\\godfr\\AppData\\Local\\Programs\\Python\\Python312\\Lib\\site-packages\\httpcore\\_sync\\http11.py:186\u001b[0m, in \u001b[0;36mHTTP11Connection._receive_response_headers\u001b[1;34m(self, request)\u001b[0m\n\u001b[0;32m    183\u001b[0m timeout \u001b[38;5;241m=\u001b[39m timeouts\u001b[38;5;241m.\u001b[39mget(\u001b[38;5;124m\"\u001b[39m\u001b[38;5;124mread\u001b[39m\u001b[38;5;124m\"\u001b[39m, \u001b[38;5;28;01mNone\u001b[39;00m)\n\u001b[0;32m    185\u001b[0m \u001b[38;5;28;01mwhile\u001b[39;00m \u001b[38;5;28;01mTrue\u001b[39;00m:\n\u001b[1;32m--> 186\u001b[0m     event \u001b[38;5;241m=\u001b[39m \u001b[38;5;28;43mself\u001b[39;49m\u001b[38;5;241;43m.\u001b[39;49m\u001b[43m_receive_event\u001b[49m\u001b[43m(\u001b[49m\u001b[43mtimeout\u001b[49m\u001b[38;5;241;43m=\u001b[39;49m\u001b[43mtimeout\u001b[49m\u001b[43m)\u001b[49m\n\u001b[0;32m    187\u001b[0m     \u001b[38;5;28;01mif\u001b[39;00m \u001b[38;5;28misinstance\u001b[39m(event, h11\u001b[38;5;241m.\u001b[39mResponse):\n\u001b[0;32m    188\u001b[0m         \u001b[38;5;28;01mbreak\u001b[39;00m\n",
      "File \u001b[1;32mc:\\Users\\godfr\\AppData\\Local\\Programs\\Python\\Python312\\Lib\\site-packages\\httpcore\\_sync\\http11.py:224\u001b[0m, in \u001b[0;36mHTTP11Connection._receive_event\u001b[1;34m(self, timeout)\u001b[0m\n\u001b[0;32m    221\u001b[0m     event \u001b[38;5;241m=\u001b[39m \u001b[38;5;28mself\u001b[39m\u001b[38;5;241m.\u001b[39m_h11_state\u001b[38;5;241m.\u001b[39mnext_event()\n\u001b[0;32m    223\u001b[0m \u001b[38;5;28;01mif\u001b[39;00m event \u001b[38;5;129;01mis\u001b[39;00m h11\u001b[38;5;241m.\u001b[39mNEED_DATA:\n\u001b[1;32m--> 224\u001b[0m     data \u001b[38;5;241m=\u001b[39m \u001b[38;5;28;43mself\u001b[39;49m\u001b[38;5;241;43m.\u001b[39;49m\u001b[43m_network_stream\u001b[49m\u001b[38;5;241;43m.\u001b[39;49m\u001b[43mread\u001b[49m\u001b[43m(\u001b[49m\n\u001b[0;32m    225\u001b[0m \u001b[43m        \u001b[49m\u001b[38;5;28;43mself\u001b[39;49m\u001b[38;5;241;43m.\u001b[39;49m\u001b[43mREAD_NUM_BYTES\u001b[49m\u001b[43m,\u001b[49m\u001b[43m \u001b[49m\u001b[43mtimeout\u001b[49m\u001b[38;5;241;43m=\u001b[39;49m\u001b[43mtimeout\u001b[49m\n\u001b[0;32m    226\u001b[0m \u001b[43m    \u001b[49m\u001b[43m)\u001b[49m\n\u001b[0;32m    228\u001b[0m     \u001b[38;5;66;03m# If we feed this case through h11 we'll raise an exception like:\u001b[39;00m\n\u001b[0;32m    229\u001b[0m     \u001b[38;5;66;03m#\u001b[39;00m\n\u001b[0;32m    230\u001b[0m     \u001b[38;5;66;03m#     httpcore.RemoteProtocolError: can't handle event type\u001b[39;00m\n\u001b[1;32m   (...)\u001b[0m\n\u001b[0;32m    234\u001b[0m     \u001b[38;5;66;03m# perspective. Instead we handle this case distinctly and treat\u001b[39;00m\n\u001b[0;32m    235\u001b[0m     \u001b[38;5;66;03m# it as a ConnectError.\u001b[39;00m\n\u001b[0;32m    236\u001b[0m     \u001b[38;5;28;01mif\u001b[39;00m data \u001b[38;5;241m==\u001b[39m \u001b[38;5;124mb\u001b[39m\u001b[38;5;124m\"\u001b[39m\u001b[38;5;124m\"\u001b[39m \u001b[38;5;129;01mand\u001b[39;00m \u001b[38;5;28mself\u001b[39m\u001b[38;5;241m.\u001b[39m_h11_state\u001b[38;5;241m.\u001b[39mtheir_state \u001b[38;5;241m==\u001b[39m h11\u001b[38;5;241m.\u001b[39mSEND_RESPONSE:\n",
      "File \u001b[1;32mc:\\Users\\godfr\\AppData\\Local\\Programs\\Python\\Python312\\Lib\\site-packages\\httpcore\\_backends\\sync.py:126\u001b[0m, in \u001b[0;36mSyncStream.read\u001b[1;34m(self, max_bytes, timeout)\u001b[0m\n\u001b[0;32m    124\u001b[0m \u001b[38;5;28;01mwith\u001b[39;00m map_exceptions(exc_map):\n\u001b[0;32m    125\u001b[0m     \u001b[38;5;28mself\u001b[39m\u001b[38;5;241m.\u001b[39m_sock\u001b[38;5;241m.\u001b[39msettimeout(timeout)\n\u001b[1;32m--> 126\u001b[0m     \u001b[38;5;28;01mreturn\u001b[39;00m \u001b[38;5;28;43mself\u001b[39;49m\u001b[38;5;241;43m.\u001b[39;49m\u001b[43m_sock\u001b[49m\u001b[38;5;241;43m.\u001b[39;49m\u001b[43mrecv\u001b[49m\u001b[43m(\u001b[49m\u001b[43mmax_bytes\u001b[49m\u001b[43m)\u001b[49m\n",
      "\u001b[1;31mKeyboardInterrupt\u001b[0m: "
     ]
    }
   ],
   "source": [
    "for agent in agents_in_action:\n",
    "    store = []\n",
    "    for q in range(len(questions)):\n",
    "        mess = (ask_mc(\"\"\"format is very important. remember to structure your result. no need to provide reaons. here is the question:\"\"\"+ str(questions[q]), agents_in_action[agent]))\n",
    "        store.append(mess)\n",
    "    clean = answer_cleaner(store)\n",
    "    print(clean, agents_in_action[agent])\n"
   ]
  },
  {
   "cell_type": "code",
   "execution_count": null,
   "metadata": {},
   "outputs": [],
   "source": []
  },
  {
   "cell_type": "code",
   "execution_count": 190,
   "metadata": {},
   "outputs": [
    {
     "data": {
      "text/plain": [
       "[('', '7b0ea7be-49be-480f-a810-95a529125472'),\n",
       " ('', '1f601db4-7f71-424e-87a8-a96a9aa377bd'),\n",
       " ('', '1a50066f-ee7c-4796-b8fe-8cae71f1c902'),\n",
       " ('', '70be8b5a-5898-4d71-a3ee-eb2bac0efc2a'),\n",
       " ('', '574971a1-d045-4c91-ba3e-570d115f9149'),\n",
       " ('', 'ab793c5e-a807-4dd0-8741-37a051234e74'),\n",
       " ('', '6e4a4542-1d18-4d69-b105-528967ca9a3c'),\n",
       " ('', '34f921f5-fb68-417d-b070-4db079d67982'),\n",
       " ('', 'fc11e6fe-7793-4582-9c0c-b207d35d1699'),\n",
       " ('', '4d899baa-2aff-4eaf-ad6f-7291615b01a0'),\n",
       " ('', 'fe6c81c3-9e50-4360-b052-2605a7d00fb5'),\n",
       " ('', 'f8a1bf45-77b9-45da-953a-623b25943a41'),\n",
       " ('', '7ef9f6de-1874-4c0b-86ce-254016bc83c6'),\n",
       " ('', '41a45682-7b44-47bd-8cc8-d12224d0fa79'),\n",
       " ('', '010500fa-c6f4-4d5f-8066-7aa0507a2508'),\n",
       " ('', 'fe4b9e27-e576-46c5-8a94-13280988aa37'),\n",
       " ('', '66d3297a-b3b2-4654-8b25-fe4bfe7b4bba'),\n",
       " ('', 'b2c1a450-3ce7-4208-b184-983c59cb3ee5'),\n",
       " ('', '41e50342-623c-4ba4-962b-215670462f50'),\n",
       " ('', '5ce98f1e-890e-4d68-bba5-0fc8e509ff29'),\n",
       " ('', '48c8077a-9804-4c04-bec7-9d623d694734'),\n",
       " ('', '37775395-c2ba-48a8-9051-2d96e45dbe9b'),\n",
       " ('', '3e3e1225-0018-4f0f-a343-a3f8fa5dc29d'),\n",
       " ('', '68738245-3e5f-48b9-a56e-5740f07b4574'),\n",
       " ('', 'c6302e85-3fef-42f3-86d4-238f8825013f'),\n",
       " ('', '5a7930ed-6525-4479-93ce-be0a67d69a2a'),\n",
       " ('', '8d8f5fdd-4695-4788-a7fd-4fa780077b88'),\n",
       " ('', '15a980e9-c376-4617-a65c-8a336b94458a'),\n",
       " ('', '4fa78e87-d43b-4364-8194-0e08924f46e1'),\n",
       " ('', 'bbb83b5d-6961-418f-9f68-12803c5e823e'),\n",
       " ('', 'af762568-44d1-42d3-b220-f75fff0f5eda'),\n",
       " ('', '70410bc5-85e8-46d2-9ab7-b3bd69bb2e9e'),\n",
       " ('', '464c407f-7b89-44fa-9e16-9cc7a4c4c054'),\n",
       " ('', '2c2120a2-9699-42ed-9b7c-00826abec01c'),\n",
       " ('', 'f4f724de-7309-4bf3-9639-c31bed98c439'),\n",
       " ('', '9acfdd59-c412-4adb-8d90-d7ae84a27fb6'),\n",
       " ('', '5f6d6394-06e0-4882-a367-d9639703059d'),\n",
       " ('', 'a129efae-57d7-43c3-a923-20a22eff9691'),\n",
       " ('', 'e989eacb-0e6d-4866-b18f-f5236308e7eb'),\n",
       " ('', 'a2dcfb0f-2957-49aa-8bea-a2d4d78e1725'),\n",
       " ('', '22a6d916-246d-46a5-a4b8-8110fe21c8e0'),\n",
       " ('', '5e73db68-bfb7-4853-bbc4-e416324bacae'),\n",
       " ('', 'd30881b8-b24a-4dde-b0bd-95b817dbb76e'),\n",
       " ('', '77eb1af6-85cf-490b-9b21-926553499808'),\n",
       " ('', '08044aca-6771-4839-be10-47a07c3dff94'),\n",
       " ('', '5dfce4fc-62a3-421e-8bf3-4e14fd655a99'),\n",
       " ('', 'b1a7f75a-fba3-4fdb-b0c0-22d90a530194'),\n",
       " ('', 'a2147da7-5df3-471c-a8ca-19c9f1513dea'),\n",
       " ('', '65d13396-85e2-42d5-8619-2e4b2fb622df'),\n",
       " ('', '4a7d8554-3981-4a41-b15d-faec0ee9c898')]"
      ]
     },
     "execution_count": 190,
     "metadata": {},
     "output_type": "execute_result"
    }
   ],
   "source": [
    "store"
   ]
  },
  {
   "cell_type": "code",
   "execution_count": 107,
   "metadata": {},
   "outputs": [],
   "source": [
    "messydata = \"\"\"('qustion:1, answer:A', '39f281cb-5653-4c53-aa71-93693110ec63')\n",
    "('qustion:2, answer:B', '39f281cb-5653-4c53-aa71-93693110ec63')\n",
    "('qustion:3, answer:C', '39f281cb-5653-4c53-aa71-93693110ec63')\n",
    "('qustion:4, answer:C', '39f281cb-5653-4c53-aa71-93693110ec63')\n",
    "('qustion:5, answer:C', '39f281cb-5653-4c53-aa71-93693110ec63')\n",
    "('qustion:6, answer:B', '39f281cb-5653-4c53-aa71-93693110ec63')\n",
    "('qustion:7, answer:C', '39f281cb-5653-4c53-aa71-93693110ec63')\n",
    "('qustion:8, answer:D', '39f281cb-5653-4c53-aa71-93693110ec63')\n",
    "('qustion:9, answer:A', '39f281cb-5653-4c53-aa71-93693110ec63')\n",
    "('qustion:10, answer:B', '39f281cb-5653-4c53-aa71-93693110ec63')\"\"\""
   ]
  },
  {
   "cell_type": "code",
   "execution_count": 121,
   "metadata": {},
   "outputs": [
    {
     "data": {
      "text/plain": [
       "['A', 'B', 'C', 'C', 'C', 'C', 'B', 'C', 'D', 'A', 'B']"
      ]
     },
     "execution_count": 121,
     "metadata": {},
     "output_type": "execute_result"
    }
   ],
   "source": [
    "eval(answer_cleaner(messydata)[0])"
   ]
  }
 ],
 "metadata": {
  "kernelspec": {
   "display_name": "Python 3",
   "language": "python",
   "name": "python3"
  },
  "language_info": {
   "codemirror_mode": {
    "name": "ipython",
    "version": 3
   },
   "file_extension": ".py",
   "mimetype": "text/x-python",
   "name": "python",
   "nbconvert_exporter": "python",
   "pygments_lexer": "ipython3",
   "version": "3.12.4"
  }
 },
 "nbformat": 4,
 "nbformat_minor": 2
}
