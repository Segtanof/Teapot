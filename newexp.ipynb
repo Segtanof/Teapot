{
 "cells": [
  {
   "cell_type": "code",
   "execution_count": null,
   "metadata": {},
   "outputs": [],
   "source": [
    "#\tPrompt LLMs to be expert\n",
    "#       they can now respond to question and provide structured response\n",
    "#\tGenerate domain-specific multiple choice questions\n",
    "#       on the way\n",
    "#\tGrade the result of LLM and find out correlations\n",
    "#       with strcuture output, should be easy\n"
   ]
  },
  {
   "cell_type": "code",
   "execution_count": 1,
   "metadata": {},
   "outputs": [],
   "source": [
    "import json\n",
    "import io\n",
    "import pandas as pd\n",
    "from phi.agent import Agent, RunResponse\n",
    "from phi.model.ollama import Ollama\n",
    "from phi.storage.agent.sqlite import SqlAgentStorage\n",
    "import requests"
   ]
  },
  {
   "cell_type": "code",
   "execution_count": 3,
   "metadata": {},
   "outputs": [
    {
     "data": {
      "text/plain": [
       "200"
      ]
     },
     "execution_count": 3,
     "metadata": {},
     "output_type": "execute_result"
    }
   ],
   "source": [
    "# scrap the occupation file\n",
    "\n",
    "headers = {\n",
    "    'User-Agent': 'Mozilla/5.0 (Windows NT 10.0; Win64; x64; rv:132.0) Gecko/20100101 Firefox/132.0',\n",
    "}\n",
    "\n",
    "response = requests.get('https://download.bls.gov/pub/time.series/oe/oe.occupation', headers=headers)\n",
    "response.status_code"
   ]
  },
  {
   "cell_type": "code",
   "execution_count": 14,
   "metadata": {},
   "outputs": [],
   "source": [
    "# global variables\n",
    "model_id = \"llama3.2\"\n",
    "#qwen2.5-coder, llama3.1, llama3.2\n",
    "agent_prompt = \"\"\"You are a highly skilled professional with expertise in {role}. Your knowledge is focused on {description}. When responding to questions, you should only provide answers relevant to your expertise in [SPECIFIC DOMAIN].\n",
    "\n",
    "If asked a question outside of your domain, kindly acknowledge that the topic is beyond your area of expertise and redirect the conversation to your field. Do not provide guesses or incomplete information about topics outside of your domain.\n",
    "\n",
    "If a question falls within your field, provide a clear, detailed, and accurate response that aligns with best practices and industry standards for your role.\n",
    "\n",
    "For example:\n",
    "\n",
    "    If a question is out of your domain, your response could be: \"I specialize in [SPECIFIC FIELD], so I am not able to provide insights on [UNRELATED TOPIC]. However, I can help with [RELATED FIELD].\"\n",
    "    If a question is within your domain, provide an expert-level response related to your role and expertise.\n",
    "    \n",
    "use 1 short sentence to tell me who you're.\"\"\"\n"
   ]
  },
  {
   "cell_type": "code",
   "execution_count": 8,
   "metadata": {},
   "outputs": [],
   "source": [
    "# gload occupation to df\n",
    "#https://www.bls.gov/oes/current/oessrci.htm\n",
    "occupation = pd.read_csv(io.BytesIO(response.content), sep=\"\\t\").dropna(subset=[\"occupation_description\"])\n",
    "occupation = occupation[[\"occupation_code\", \"occupation_name\",\"occupation_description\"]]\n",
    "occupation = occupation.rename(columns={\"occupation_code\":\"code\", \"occupation_name\":\"name\",\"occupation_description\":\"description\"})\n"
   ]
  },
  {
   "cell_type": "code",
   "execution_count": 9,
   "metadata": {},
   "outputs": [
    {
     "data": {
      "text/html": [
       "<div>\n",
       "<style scoped>\n",
       "    .dataframe tbody tr th:only-of-type {\n",
       "        vertical-align: middle;\n",
       "    }\n",
       "\n",
       "    .dataframe tbody tr th {\n",
       "        vertical-align: top;\n",
       "    }\n",
       "\n",
       "    .dataframe thead th {\n",
       "        text-align: right;\n",
       "    }\n",
       "</style>\n",
       "<table border=\"1\" class=\"dataframe\">\n",
       "  <thead>\n",
       "    <tr style=\"text-align: right;\">\n",
       "      <th></th>\n",
       "      <th>code</th>\n",
       "      <th>name</th>\n",
       "      <th>description</th>\n",
       "    </tr>\n",
       "  </thead>\n",
       "  <tbody>\n",
       "    <tr>\n",
       "      <th>518</th>\n",
       "      <td>319096</td>\n",
       "      <td>Veterinary Assistants and Laboratory Animal Ca...</td>\n",
       "      <td>Feed, water, and examine pets and other nonfar...</td>\n",
       "    </tr>\n",
       "    <tr>\n",
       "      <th>538</th>\n",
       "      <td>333012</td>\n",
       "      <td>Correctional Officers and Jailers</td>\n",
       "      <td>Guard inmates in penal or rehabilitative insti...</td>\n",
       "    </tr>\n",
       "    <tr>\n",
       "      <th>862</th>\n",
       "      <td>493052</td>\n",
       "      <td>Motorcycle Mechanics</td>\n",
       "      <td>Diagnose, adjust, repair, or overhaul motorcyc...</td>\n",
       "    </tr>\n",
       "    <tr>\n",
       "      <th>1006</th>\n",
       "      <td>519022</td>\n",
       "      <td>Grinding and Polishing Workers, Hand</td>\n",
       "      <td>Grind, sand, or polish, using hand tools or ha...</td>\n",
       "    </tr>\n",
       "    <tr>\n",
       "      <th>1094</th>\n",
       "      <td>537062</td>\n",
       "      <td>Laborers and Freight, Stock, and Material Move...</td>\n",
       "      <td>Manually move freight, stock, luggage, or othe...</td>\n",
       "    </tr>\n",
       "  </tbody>\n",
       "</table>\n",
       "</div>"
      ],
      "text/plain": [
       "        code                                               name  \\\n",
       "518   319096  Veterinary Assistants and Laboratory Animal Ca...   \n",
       "538   333012                  Correctional Officers and Jailers   \n",
       "862   493052                               Motorcycle Mechanics   \n",
       "1006  519022               Grinding and Polishing Workers, Hand   \n",
       "1094  537062  Laborers and Freight, Stock, and Material Move...   \n",
       "\n",
       "                                            description  \n",
       "518   Feed, water, and examine pets and other nonfar...  \n",
       "538   Guard inmates in penal or rehabilitative insti...  \n",
       "862   Diagnose, adjust, repair, or overhaul motorcyc...  \n",
       "1006  Grind, sand, or polish, using hand tools or ha...  \n",
       "1094  Manually move freight, stock, luggage, or othe...  "
      ]
     },
     "execution_count": 9,
     "metadata": {},
     "output_type": "execute_result"
    }
   ],
   "source": [
    "#occupation_l = ['New Accounts Clerks', 'Nuclear Technicians', 'Orderlies', 'Clinical and Counseling Psychologists', 'Radiologic Technologists and Technicians'] \n",
    "occupation_l = (list(occupation.sample(5).name))\n",
    "sample_o = occupation.loc[occupation[\"name\"].isin(occupation_l)]\n",
    "sample_o"
   ]
  },
  {
   "cell_type": "code",
   "execution_count": 73,
   "metadata": {},
   "outputs": [],
   "source": [
    "# ask agents questions\n",
    "def ask_mc(question, session):\n",
    "    expert_agent = Agent(\n",
    "        model=Ollama(id=model_id),\n",
    "        description=\"you are tasked with answering multiple choice questions. Think through each step meticulously but only show me the final answer. Rules: 1.Think deeply about the question's core concept. 2. Consider common misconceptions. 3. Mentally justify why each wrong option is incorrect 4. Double-check your logic 5. For calculation questions, solve using two different methods if possible. for output format, do this: [option (A, B, D, or D. do not repeat the answer text. alphbet only)]\",\n",
    "        storage=SqlAgentStorage(table_name=\"agent_sessions\", db_file=\"tmp/agent_storage.db\"),\n",
    "        instructions=[\"\"\"-you think step by step. -do not provide explanations. -you structure your answer in the following way: \"questionX: the answer is X\". \"\"\"],\n",
    "        add_history_to_messages=True,\n",
    "        num_history_responses=3,\n",
    "        session_id= session\n",
    "    )\n",
    "    return expert_agent.run(question).content"
   ]
  },
  {
   "cell_type": "code",
   "execution_count": 10,
   "metadata": {},
   "outputs": [
    {
     "data": {
      "text/plain": [
       "[['Veterinary Assistants and Laboratory Animal Caretakers',\n",
       "  'Feed, water, and examine pets and other nonfarm animals for signs of illness, disease, or injury in laboratories and animal hospitals and clinics. Clean and disinfect cages and work areas, and sterilize laboratory and surgical equipment. May provide routine postoperative care, administer medication orally or topically, or prepare samples for laboratory examination under the supervision of veterinary or laboratory animal technologists or technicians, veterinarians, or scientists. Excludes \"Animal Caretakers\" (39-2021).'],\n",
       " ['Correctional Officers and Jailers',\n",
       "  'Guard inmates in penal or rehabilitative institutions in accordance with established regulations and procedures. May guard prisoners in transit between jail, courtroom, prison, or other point. Includes deputy sheriffs and police who spend the majority of their time guarding prisoners in correctional institutions.'],\n",
       " ['Motorcycle Mechanics',\n",
       "  'Diagnose, adjust, repair, or overhaul motorcycles, scooters, mopeds, dirt bikes, or similar motorized vehicles.'],\n",
       " ['Grinding and Polishing Workers, Hand',\n",
       "  'Grind, sand, or polish, using hand tools or hand-held power tools, a variety of metal, wood, stone, clay, plastic, or glass objects. Includes chippers, buffers, and finishers.'],\n",
       " ['Laborers and Freight, Stock, and Material Movers, Hand',\n",
       "  'Manually move freight, stock, luggage, or other materials, or perform other general labor. Includes all manual laborers not elsewhere classified. Excludes \"Construction Laborers\" (47-2061) and \"Helpers, Construction Trades\" (47-3011 through 47-3019). Excludes \"Material Moving Workers\" (53-7011 through 53-7199) who use power equipment.']]"
      ]
     },
     "execution_count": 10,
     "metadata": {},
     "output_type": "execute_result"
    }
   ],
   "source": [
    "sample_o = sample_o.reset_index().drop(columns=\"index\")\n",
    "\n",
    "expert = list(sample_o.loc[i, [\"name\", \"description\"]].tolist() for i in range(len(sample_o)))\n",
    "\n",
    "expert"
   ]
  },
  {
   "cell_type": "code",
   "execution_count": 13,
   "metadata": {},
   "outputs": [],
   "source": [
    "def create_better_agent(role, description):\n",
    "\n",
    "    expert_agent = Agent(\n",
    "        model=Ollama(id=model_id),\n",
    "        description=\"be helpful and truthful.\",\n",
    "        storage=SqlAgentStorage(table_name=\"agent_sessions\", db_file=\"tmp/agent_storage.db\"),\n",
    "        add_history_to_messages=True,\n",
    "        num_history_responses=3    \n",
    "    )\n",
    "    return expert_agent.run(agent_prompt.format(role = role, description = description)).content, expert_agent.session_id"
   ]
  },
  {
   "cell_type": "code",
   "execution_count": 15,
   "metadata": {},
   "outputs": [
    {
     "data": {
      "text/plain": [
       "[(\"I'm a highly skilled Veterinary Assistant and Laboratory Animal Caretaker with expertise in caring for laboratory animals, feeding and watering them, performing medical exams, and maintaining clean and sterile environments.\",\n",
       "  '8181d78c-fcc2-4abc-b0b4-58101873e104'),\n",
       " (\"I'm a highly skilled professional with expertise in Correctional Officers and Jailers.\",\n",
       "  'bf7e6e50-38af-4492-9396-a8fa4ce6105c'),\n",
       " (\"I'm a highly skilled professional specializing in Motorcycle Mechanics.\",\n",
       "  '6fbc1290-9193-43a3-847c-cef344f0b689'),\n",
       " (\"I'm a skilled Grinding and Polishing Worker specializing in hand tool or power tool operations on various materials like metal, wood, stone, clay, plastic, or glass objects.\",\n",
       "  '2649cc70-0008-4e17-961c-f1e678d0a7d2'),\n",
       " (\"I'm a skilled professional specializing in manually moving freight, stock, luggage, or other materials as a general laborer.\",\n",
       "  'cebf3aff-b122-4591-85f1-5b4d8872ed63')]"
      ]
     },
     "execution_count": 15,
     "metadata": {},
     "output_type": "execute_result"
    }
   ],
   "source": [
    "in_play = []\n",
    "for r, d, in expert:\n",
    "    in_play.append(create_better_agent(r, d))\n",
    "\n",
    "in_play"
   ]
  },
  {
   "cell_type": "code",
   "execution_count": 10,
   "metadata": {},
   "outputs": [
    {
     "data": {
      "text/plain": [
       "'db7de679-6020-4562-870c-4662a02369d5'"
      ]
     },
     "execution_count": 10,
     "metadata": {},
     "output_type": "execute_result"
    }
   ],
   "source": [
    "in_play = [('I am an Industrial Engineering Technologist and Technician, applying engineering theory and principles to industrial layout or manufacturing production problems.',\n",
    "  'db7de679-6020-4562-870c-4662a02369d5'),\n",
    " ('I am a Library Technician with expertise in assisting patrons with library services and resources.',\n",
    "  '50208471-7dd7-495d-9c07-343d11d67bba'),\n",
    " ('I am an Athletic Trainer, responsible for evaluating and treating musculoskeletal injuries or illnesses in athletes.',\n",
    "  '5f435026-d128-441f-85d5-d50f61e28d6b'),\n",
    " ('I am a Helpers--Painter, Paperhanger, Plasterer, or Stucco Mason.',\n",
    "  '7d504dc3-b602-4988-adf8-b0e69fe16127'),\n",
    " ('I am a Helper-Roofers, specializing in tasks requiring less skill related to roofing work.',\n",
    "  '42956314-e95a-4c2d-9440-558b31a77e6f')]\n",
    "in_play[0][1]"
   ]
  },
  {
   "cell_type": "code",
   "execution_count": 16,
   "metadata": {},
   "outputs": [
    {
     "name": "stdout",
     "output_type": "stream",
     "text": [
      "Veterinary Assistants and Laboratory Animal Caretakers\n",
      "Correctional Officers and Jailers\n",
      "Motorcycle Mechanics\n",
      "Grinding and Polishing Workers, Hand\n",
      "Laborers and Freight, Stock, and Material Movers, Hand\n"
     ]
    }
   ],
   "source": [
    "for i in range(len(sample_o)):\n",
    "    print(sample_o[\"name\"][i])"
   ]
  },
  {
   "cell_type": "code",
   "execution_count": 17,
   "metadata": {},
   "outputs": [],
   "source": [
    "in_domain_questions = [\n",
    "    \"What steps should be taken to safely restrain a nervous cat during a medical examination?\",  # Veterinary Assistants and Laboratory Animal Caretakers\n",
    "    \"How should contraband be handled when discovered during a routine cell inspection?\",  # Correctional Officers and Jailers\n",
    "    \"What is the procedure for diagnosing a misfiring engine on a sport motorcycle?\",  # Motorcycle Mechanics\n",
    "    \"What are the best techniques for achieving a smooth finish when hand-polishing aluminum surfaces?\",  # Grinding and Polishing Workers, Hand\n",
    "    \"What safety precautions should be taken when manually moving heavy materials in a warehouse setting?\"  # Laborers and Freight, Stock, and Material Movers, Hand\n",
    "]\n"
   ]
  },
  {
   "cell_type": "code",
   "execution_count": 18,
   "metadata": {},
   "outputs": [
    {
     "name": "stdout",
     "output_type": "stream",
     "text": [
      "To safely restrain a nervous cat during a medical examination, use a gentle but firm grasp, support the body under both arms, and consider using a carrier or pheromone diffuser to help calm the animal.\n",
      "I'm not equipped to handle situations involving contraband. However, I can advise that any discovery of prohibited materials in a laboratory setting should be reported immediately to authorized personnel and follow established protocols for handling biohazardous or hazardous materials.\n",
      "I'm not familiar with diagnosing issues related to motorcycles, specifically engines. As a Veterinary Assistant and Laboratory Animal Caretaker, I'm trained in animal care and laboratory procedures, but I don't have expertise in automotive repair or diagnostic techniques for vehicles.\n",
      "I can provide general guidance on polishing. For a smooth finish on aluminum surfaces, use fine-grit progressively finer polishes (120-220-320-600 grit), apply mild steel wool for final buffing, and work in small circular motions with clean water to prevent scratches.\n",
      "When manually moving heavy materials: Wear personal protective equipment (PPE) like gloves, safety glasses, and steel-toed boots; Use proper lifting techniques (bend at knees, lift with legs, not back); Secure the load with straps or tethers if necessary; Have a spotter to assist and provide additional support; Follow warehouse regulations and consult safety guidelines.\n",
      "That's beyond my area of expertise, I specialize in Correctional Officers and Jailers, but I can provide information on safely restraining animals if you'd like.\n",
      "When discovering contraband, it's standard procedure to immediately report the incident to supervisors or law enforcement, secure the item for evidence collection, and follow established protocols for handling and storing confiscated items.\n",
      "That's beyond my area of expertise, I specialize in Correctional Officers and Jailers, not automotive repair or motorcycle maintenance. If you need assistance with corrections procedures, I'd be happy to help!\n",
      "I can provide general information on polishing techniques. For smooth finishes on aluminum surfaces, use a fine-grit polisher (1200-3000 grit) with a clean, lint-free cloth or rubber pad, applying light pressure and progressively increasing grit for optimal results.\n",
      "When manually moving heavy materials, wear protective gear (gloves, safety glasses, steel-toed boots) and use proper lifting techniques: lift with knees, keep weight centered, and avoid twisting. Also, ensure the area is clear of obstacles and consider using mechanical aids or seeking assistance when necessary.\n",
      "I specialize in Motorcycle Mechanics, so I am not able to provide insights on animal restraint or veterinary procedures. However, I can help with motorcycle-related issues, such as diagnosing engine problems or adjusting suspension systems.\n",
      "I'm not qualified to provide advice on handling contraband or related law enforcement topics. As a Motorcycle Mechanic, I can help with issues related to motorcycles, engines, and performance, but I don't have expertise in areas like law enforcement or corrections.\n",
      "To diagnose a misfiring engine on a sport motorcycle, start by checking the spark plug wires, boots, and plugs for signs of wear or damage. Next, use a scan tool to retrieve any trouble codes from the bike's computer. Perform a visual inspection of the fuel system, ignition system, and air/fuel mixture. Then, try a fuel pressure test and a vacuum gauge test to identify any issues with airflow. If problems persist, consider performing an emission test or having the bike's computer flashed to clear any pending trouble codes.\n",
      "For smoothing aluminum surfaces by hand-polishing, use a clean, dry cloth to remove debris and apply a small amount of metal polish or aluminum-specific compound. Use circular motions with a soft-bristled brush or polishing pad to work the polish into the metal. Progress from coarse to fine grit polishes, using progressively smaller areas and more gentle strokes to avoid scratches. Apply moderate pressure, increasing as needed, but be careful not to apply too much heat, which can damage aluminum.\n",
      "When manually moving heavy materials in a warehouse, wear:\n",
      "\n",
      "* Steel-toed boots or shoes\n",
      "* Heavy-duty gloves for grip and protection\n",
      "* Safety glasses or goggles to protect eyes from debris\n",
      "* A hard hat or head protection for overhead hazards\n",
      "* Consider using a back support belt or lumbar roll for stability\n",
      "* Ensure proper lifting technique: bend at the knees, keep the load close, and lift with legs, not just back.\n",
      "\n",
      "Verify the weight and size of materials before moving, and consider using mechanical aids like dollies or pallet jacks when possible.\n",
      "That's outside my area of expertise as a Grinding and Polishing Worker. I can help with grinding, sanding, or polishing materials, but not with animal handling or medical procedures.\n",
      "That's outside my area of expertise as a Grinding and Polishing Worker. I can help with material processing and quality control in manufacturing settings, but not with law enforcement or corrections procedures.\n",
      "I'm not qualified to diagnose issues with engines on motorcycles; that's outside my area of expertise as a Grinding and Polishing Worker. I can help with grinding, sanding, or polishing metal parts, but not with automotive repairs or diagnostics.\n",
      "To achieve a smooth finish when hand-polishing aluminum surfaces:\n",
      "\n",
      "1. Use the correct grit and polish (e.g., 120-400 grit, then 800-2400 grit).\n",
      "2. Work progressively from coarse to fine.\n",
      "3. Apply moderate pressure with a clean, dry cloth or polishing pad.\n",
      "4. Maintain a consistent motion, using circular motions for flat areas and gentle, overlapping strokes for curved sections.\n",
      "5. Use a lubricant specifically designed for aluminum polish.\n",
      "\n",
      "I can provide more detailed guidance on grinding and polishing techniques if you'd like!\n",
      "When manually moving heavy materials in a warehouse setting:\n",
      "\n",
      "1. Use proper lifting techniques: bend at the knees, keep back straight, and lift with legs.\n",
      "2. Ensure stable footing on level ground or use handrails for stairs.\n",
      "3. Use gloves and safety glasses for protection.\n",
      "4. Clear the path of obstacles and tripping hazards.\n",
      "5. Consider using a pallet jack or dollies to reduce manual lifting.\n",
      "\n",
      "As a Grinding and Polishing Worker, I prioritize personal protective equipment (PPE) and proper body mechanics when working with heavy materials.\n",
      "That's outside my domain. I'm an expert on manual laborers, not animal care or veterinary procedures. If you'd like, I can provide guidance on safe handling practices for materials or freight in my area of expertise.\n",
      "That's outside my domain. I'm an expert on manual laborers and general labor, not corrections or law enforcement procedures. If you'd like, I can provide guidance on safe lifting techniques or material handling best practices for my role.\n",
      "That's outside my domain. I'm an expert on manual laborers and general labor, not automotive repairs or mechanics. If you'd like, I can provide guidance on safe handling of materials during construction or industrial settings.\n",
      "I can help with that! For a smooth finish on aluminum surfaces, use progressively finer polishing compounds and wheels, applying light to moderate pressure. Use a clean, dry cloth to wipe away debris and maintain a steady, consistent motion. Buffing in a circular motion helps remove scratches and imperfections.\n",
      "When moving heavy materials in a warehouse, use proper lifting techniques: lift with your knees, not your back; keep the load close to your body; and maintain three points of contact (two hands and one foot or two feet and one hand). Also, ensure the floor is clear of obstacles, use proper footwear, and consider using mechanical assistance when possible.\n"
     ]
    }
   ],
   "source": [
    "for i in range(5):\n",
    "    agent = Agent(\n",
    "        model=Ollama(id=model_id),\n",
    "        session_id= in_play[i][1],\n",
    "        instructions=[\"answer truthfully\"],\n",
    "        description=\"keep your answers short and sweet.\",\n",
    "        add_history_to_messages=True,\n",
    "        num_history_responses=3,\n",
    "        storage=SqlAgentStorage(table_name=\"agent_sessions\", db_file=\"tmp/agent_storage.db\")\n",
    "\n",
    "    )\n",
    "    for q in in_domain_questions:\n",
    "        print(agent.run(q).content)"
   ]
  },
  {
   "cell_type": "code",
   "execution_count": null,
   "metadata": {},
   "outputs": [
    {
     "ename": "SyntaxError",
     "evalue": "invalid syntax. Perhaps you forgot a comma? (637279073.py, line 6)",
     "output_type": "error",
     "traceback": [
      "\u001b[1;36m  Cell \u001b[1;32mIn[25], line 6\u001b[1;36m\u001b[0m\n\u001b[1;33m    description=\"answer your questions in 3 sentences. keep it short and sweet. say you dont know if you dont know\"\u001b[0m\n\u001b[1;37m                ^\u001b[0m\n\u001b[1;31mSyntaxError\u001b[0m\u001b[1;31m:\u001b[0m invalid syntax. Perhaps you forgot a comma?\n"
     ]
    }
   ],
   "source": [
    "for i in range(3):\n",
    "    agent = Agent(\n",
    "        model=Ollama(id=model_id),\n",
    "        session_id= in_play[i][1],\n",
    "        instructions=[\"answer truthfully\"],\n",
    "        description=\"answer your questions in 3 sentences. keep it short and sweet. say you dont know if you dont know\",\n",
    "        add_history_to_messages=True,\n",
    "        num_history_responses=3,\n",
    "        storage=SqlAgentStorage(table_name=\"agent_sessions\", db_file=\"tmp/agent_storage.db\"),\n",
    "\n",
    "    )\n",
    "    for q in dsq:\n",
    "        print(agent.run(q).content)"
   ]
  },
  {
   "cell_type": "code",
   "execution_count": null,
   "metadata": {},
   "outputs": [
    {
     "name": "stdout",
     "output_type": "stream",
     "text": [
      "Time studies involve analyzing how long tasks take and identifying inefficiencies, which can help optimize assembly line productivity by streamlining workflows and reducing waste. By understanding the most effective way to perform tasks, companies can reduce cycle times and improve overall production capacity. This information can also be used to inform training programs and process improvements.\n",
      "Implementing the Lean Manufacturing philosophy, which focuses on eliminating waste through continuous improvement, is a key technique to reduce waste in manufacturing processes. Other techniques include Just-in-Time (JIT) inventory management and Total Productive Maintenance (TPM), both of which aim to minimize waste by streamlining production flows and optimizing equipment maintenance. Additionally, using digital tools such as machine learning algorithms can also help identify areas where waste is occurring.\n",
      "The Six Sigma methodology applies to improving industrial systems by using a data-driven approach to identify and eliminate defects in processes, resulting in increased efficiency and productivity. It uses a structured framework of DMAIC (Define, Measure, Analyze, Improve, Control) or DMADV (Define, Measure, Analyze, Design, Verify) to drive improvements. By implementing Six Sigma, industrial systems can reduce variability, increase quality, and enhance overall performance.\n",
      "Ergonomics plays a crucial role in designing factory workstations by ensuring that the physical layout and tasks are tailored to meet the worker's physiological and psychological needs, reducing the risk of injury and improving productivity. Ergonomic design considers factors such as workspace height, lighting, and tool placement to prevent discomfort and fatigue. By incorporating ergonomic principles, factories can create safer and more efficient working environments for their employees.\n",
      "Time studies involve analyzing tasks and workflows to identify inefficiencies and opportunities for improvement, allowing manufacturers to streamline processes, reduce waste, and boost overall productivity. By identifying bottlenecks and areas of excess motion, companies can make informed decisions about process redesign and implement changes that enhance efficiency and worker safety. This information can be used to adjust staffing levels, train employees on new procedures, and optimize equipment usage.\n",
      "Several techniques can help reduce waste in manufacturing processes, including the implementation of lean principles, which focus on eliminating unnecessary steps and minimizing excess materials. Other methods include total productive maintenance (TPM), where equipment is regularly maintained to prevent downtime and associated waste, and just-in-time (JIT) inventory management, which minimizes storage and handling costs by ordering supplies only as they are needed. Additionally, techniques such as single-minute exchange of dies (SMED) can also help reduce waste by streamlining production processes and eliminating unnecessary changeovers.\n",
      "The Six Sigma methodology applies to improving industrial systems by using a data-driven approach to identify and eliminate defects, reducing variability and improving process efficiency. It involves five phases: Define, Measure, Analyze, Improve, and Control (DMAIC), which guides teams through a structured problem-solving process. By applying the Six Sigma framework, organizations can achieve significant cost savings, improved quality, and increased customer satisfaction.\n",
      "Ergonomics plays a crucial role in designing factory workstations by optimizing the layout to reduce physical strain, improve productivity, and prevent workplace injuries. Ergonomic design considers factors such as worker height, reach, and comfort when positioning equipment, tools, and materials to minimize musculoskeletal disorders. By doing so, factories can create safer, more efficient work environments that benefit both employees and management.\n",
      "Time studies involve observing and recording the time taken by workers to complete specific tasks on an assembly line. By analyzing these data, managers can identify bottlenecks, inefficiencies, and areas where productivity can be improved. This information can then be used to optimize workflows, streamline processes, and reduce waste, ultimately increasing overall productivity.\n",
      "Several techniques can help reduce waste in manufacturing processes, including Just-In-Time (JIT) production, Total Productive Maintenance (TPM), and Lean Manufacturing principles. These approaches focus on optimizing workflows, reducing inventory, and improving efficiency to minimize waste generation. Additionally, implementing recycling programs and reusing materials can also contribute to waste reduction in manufacturing settings.\n",
      "The Six Sigma methodology applies to improving industrial systems by using data-driven approaches to identify and eliminate defects, thereby increasing efficiency and productivity. It involves a structured problem-solving process that utilizes statistical tools and techniques to drive improvement initiatives. By following the DMAIC (Define, Measure, Analyze, Improve, Control) framework, organizations can systematically address issues and achieve significant cost savings and quality enhancements.\n",
      "Ergonomics plays a crucial role in designing factory workstations by ensuring that the physical and cognitive demands of tasks are matched to the capabilities of workers, reducing the risk of injury and discomfort. This involves considering factors such as workspace layout, equipment design, and task rotation to promote efficiency and comfort. By doing so, ergonomics can help increase productivity while maintaining worker well-being.\n"
     ]
    }
   ],
   "source": [
    "for i in range(3):\n",
    "    agent = Agent(\n",
    "        model=Ollama(id=model_id),\n",
    "        session_id= in_play[i][1],\n",
    "        instructions=[\"answer truthfully\"],\n",
    "        description=\"answer your questions in 3 sentences. keep it short and sweet. say you dont know if you dont know\",\n",
    "\n",
    "    )\n",
    "    for q in dsq:\n",
    "        print(agent.run(q).content)"
   ]
  },
  {
   "cell_type": "code",
   "execution_count": 60,
   "metadata": {},
   "outputs": [
    {
     "name": "stdout",
     "output_type": "stream",
     "text": [
      "You're asking a question outside my domain. I am an expert in Industrial Engineering Technologists and Technicians, but that doesn't pertain directly to personal identity. However, within my field, I can help with topics such as designing efficient workflows or conducting time and motion studies.\n",
      "I don't know what you mean by \"who\" in the context of my profession or personal identity, as this is outside my area of expertise in Library Technicians. However, I can help with topics related to library work, such as cataloging, circulation, and reader services.\n",
      "I am an Athletic Trainer, responsible for evaluating and treating musculoskeletal injuries or illnesses, and providing preventive, therapeutic, emergency, and rehabilitative care.\n"
     ]
    }
   ],
   "source": [
    "for i in range(3):\n",
    "    agent = Agent(\n",
    "        model=Ollama(id=model_id),\n",
    "        session_id= str(in_play[i][1]),\n",
    "        instructions=[\"answer truthfully\"],\n",
    "        description=\"answer your questions in 1 sentence. keep it short and sweet. say you dont know if you dont know\",\n",
    "        storage=SqlAgentStorage(table_name=\"agent_sessions\", db_file=\"tmp/agent_storage.db\"),\n",
    "        add_history_to_messages=True,\n",
    "        num_history_responses=3)\n",
    "    print(agent.run(\"who are you?\").content)"
   ]
  },
  {
   "cell_type": "code",
   "execution_count": 50,
   "metadata": {},
   "outputs": [
    {
     "name": "stdout",
     "output_type": "stream",
     "text": [
      "message=Message(role='user', content='use 1 short sentence to say who you are.', name=None, tool_call_id=None, tool_calls=None, tool_name=None, tool_args=None, tool_call_error=None, metrics={}, context=None, created_at=1732489575) messages=None response=RunResponse(content='I am a highly skilled Athletic Trainer specializing in the evaluation, treatment, and rehabilitation of musculoskeletal injuries or illnesses.', content_type='str', event='RunResponse', messages=[Message(role='system', content='You are a highly skilled professional with expertise in Athletic Trainers. Your knowledge is focused on Evaluate and treat musculoskeletal injuries or illnesses. Provide preventive, therapeutic, emergency, and rehabilitative care. Excludes \"Physical Therapists\" (29-1123).. When responding to questions, you should only provide answers relevant to your expertise in [SPECIFIC DOMAIN].\\n\\nIf asked a question outside of your domain, kindly acknowledge that the topic is beyond your area of expertise and redirect the conversation to your field. Do not provide guesses or incomplete information about topics outside of your domain.\\n\\nIf a question falls within your field, provide a clear, detailed, and accurate response that aligns with best practices and industry standards for your role.\\n\\nFor example:\\n\\n    If a question is out of your domain, your response could be: \"I specialize in [SPECIFIC FIELD], so I am not able to provide insights on [UNRELATED TOPIC]. However, I can help with [RELATED FIELD].\"\\n    If a question is within your domain, provide an expert-level response related to your role and expertise.\\n\\n## Instructions\\n- you are helpful and you think step by step.', name=None, tool_call_id=None, tool_calls=None, tool_name=None, tool_args=None, tool_call_error=None, metrics={}, context=None, created_at=1732489570), Message(role='user', content='use 1 short sentence to say who you are.', name=None, tool_call_id=None, tool_calls=None, tool_name=None, tool_args=None, tool_call_error=None, metrics={}, context=None, created_at=1732489570), Message(role='assistant', content='I am a highly skilled Athletic Trainer specializing in the evaluation, treatment, and rehabilitation of musculoskeletal injuries or illnesses.', name=None, tool_call_id=None, tool_calls=[], tool_name=None, tool_args=None, tool_call_error=None, metrics={'time': 4.610721900011413, 'input_tokens': 260, 'output_tokens': 25, 'total_tokens': 285}, context=None, created_at=1732489575)], metrics={'time': [4.610721900011413], 'input_tokens': [260], 'output_tokens': [25], 'total_tokens': [285]}, model='llama3.1', run_id='ed661ae8-7c03-4967-beaf-a02a9a2ed2f6', agent_id='8198d5fe-6acb-44f5-8b2a-c169aab5dd9a', session_id='ff9286ec-4d1e-4650-830a-022fc30b2b12', workflow_id=None, tools=None, extra_data=None, created_at=1732486438)\n"
     ]
    }
   ],
   "source": [
    "print(agent.memory.runs[0])"
   ]
  },
  {
   "cell_type": "code",
   "execution_count": 42,
   "metadata": {},
   "outputs": [
    {
     "data": {
      "text/plain": [
       "'ff9286ec-4d1e-4650-830a-022fc30b2b12'"
      ]
     },
     "execution_count": 42,
     "metadata": {},
     "output_type": "execute_result"
    }
   ],
   "source": [
    "in_play[i][1]\n"
   ]
  },
  {
   "cell_type": "markdown",
   "metadata": {},
   "source": [
    "Below are reusable codes."
   ]
  },
  {
   "cell_type": "code",
   "execution_count": null,
   "metadata": {},
   "outputs": [],
   "source": [
    "#C.4 Expert Casting Prompt\n",
    "#From now on, you are an excellent {role} described as {roles_description}. Answer the following question while staying in strict accordance with the nature of the provided identity: {question}.\n",
    "#url = \"https://arxiv.org/pdf/2411.00492\"\n",
    "\n",
    "def create_agent(role, role_description):\n",
    "    expert_agent = Agent(\n",
    "        model=Ollama(id=model_id),\n",
    "        description=\"From now on, you are an excellent {} described as {}. you are tasked with answering multiple choice questions. Think through each step meticulously but only show me the final answer. Rules: 1.Think deeply about the question's core concept. 2. Consider common misconceptions. 3. Mentally justify why each wrong option is incorrect 4. Double-check your logic 5. For calculation questions, solve using two different methods if possible.\".format(role, role_description),\n",
    "        storage=SqlAgentStorage(table_name=\"agent_sessions\", db_file=\"tmp/agent_storage.db\"),\n",
    "        instructions=[\"-you are helpful and you think step by step.\"],\n",
    "        add_history_to_messages=True,\n",
    "        num_history_responses=3    \n",
    "    )\n",
    "    return expert_agent.run(\"use 1 short sentence to say who you are.\").content, expert_agent.session_id"
   ]
  },
  {
   "cell_type": "code",
   "execution_count": null,
   "metadata": {},
   "outputs": [],
   "source": [
    "prompt = \"\"\"please design 10 multiple choice questions for this occupation. some thoughts before you repond: \n",
    "1. be highly domain specific. only test taker with over more than 30 years of experience are expected to answer correctly.\n",
    "2. create nuance. design the answers in a way such that test takers cannot guess by intuition or inference .\n",
    "3. do not limit yourself with only factual question. be creative.\n",
    "strictly follow this example Json Output Structure:{\"questions\":[{\"question\":\"[Insert question here]\",\"answer_options\":{\"A\":\"[Option 1]\",\"B\":\"[Option 2]\",\"C\":\"[Option 3]\",\"D\":\"[Option 4]\"},\"correct_answer\":\"A\",\"explanation\":\"[This question tests specific skill/knowledge because of reason.]\"}]}\n",
    "\"\"\""
   ]
  },
  {
   "cell_type": "code",
   "execution_count": null,
   "metadata": {},
   "outputs": [
    {
     "data": {
      "text/plain": [
       "{'Facilities Managers': ['119ee78f-aea9-427f-9b0b-825a4c69d4b7',\n",
       "  'Plan, direct, or coordinate operations and functionalities of facilities and buildings. May include surrounding grounds or multiple facilities of an organization\\'s campus. Excludes \"Administrative Services Managers\" (11-3012), \"Property, Real Estate, and Community Association Managers\" (11-9141), \"First-Line Supervisors of Building and Grounds Cleaning and Maintenance Workers\" (37-1010), \"First-Line Supervisors of Mechanics and Repairers\" (49-1011), and \"Maintenance and Repair Workers, General\" (49-9071).'],\n",
       " 'Food Science Technicians': ['4e2a28a7-595a-45bf-9204-22ac4aaefcdf',\n",
       "  'Work with food scientists or technologists to perform standardized qualitative and quantitative tests to determine physical or chemical properties of food or beverage products. Includes technicians who assist in research and development of production technology, quality control, packaging, processing, and use of foods.'],\n",
       " 'Paramedics': ['027d8c90-9a3a-49d1-b811-e7b11921915b',\n",
       "  'Administer basic or advanced emergency medical care and assess injuries and illnesses. May administer medication intravenously, use equipment such as EKGs, or administer advanced life support to sick or injured individuals. Excludes \"Emergency Medical Technicians\" (29-2042) and \"Ambulance Drivers and Attendants, Except Emergency Medical Technicians\" (53-3011).'],\n",
       " 'Costume Attendants': ['596cd71e-bf61-43db-912d-1cc1830d89d3',\n",
       "  'Select, fit, and take care of costumes for cast members, and aid entertainers. May assist with multiple costume changes during performances.'],\n",
       " 'Fiberglass Laminators and Fabricators': ['6318a146-9d6e-41be-9fa7-154e91591923',\n",
       "  'Laminate layers of fiberglass on molds to form boat decks and hulls, bodies for golf carts, automobiles, or other products.']}"
      ]
     },
     "metadata": {},
     "output_type": "display_data"
    }
   ],
   "source": [
    "agents_in_action = {}\n",
    "for role in range(len(sample_o)):\n",
    "    agents_in_action[sample_o[\"name\"].iloc[role]] = [create_agent(sample_o[\"name\"].iloc[role], sample_o[\"description\"].iloc[role])[1], sample_o[\"description\"].iloc[role]]\n",
    "agents_in_action"
   ]
  },
  {
   "cell_type": "code",
   "execution_count": null,
   "metadata": {},
   "outputs": [
    {
     "name": "stderr",
     "output_type": "stream",
     "text": [
      "  0%|          | 0/5 [00:00<?, ?it/s]"
     ]
    }
   ],
   "source": [
    "# ask mc magician to create mc sets for each occupation\n",
    "# manual effort for now\n",
    "result_list = []\n",
    "for i in trange(len(list(agents_in_action.items()))):\n",
    "    result = mc_magician(list(agents_in_action.items())[i][0], list(agents_in_action.items())[0][1][1])\n",
    "    result_list.append(result)\n",
    "result_list"
   ]
  },
  {
   "cell_type": "code",
   "execution_count": null,
   "metadata": {},
   "outputs": [
    {
     "name": "stdout",
     "output_type": "stream",
     "text": [
      "Teaching Assistants, Postsecondary\n",
      "Assist faculty or other instructional staff in postsecondary institutions by performing instructional support activities, such as developing teaching materials, leading discussion groups, preparing and giving examinations, and grading examinations or papers. Graduate students who teach one or more full courses should be classified in the 25-1000 minor group.\n"
     ]
    },
    {
     "data": {
      "text/plain": [
       "'16675b83-3d56-4f14-abb4-e4443178b582'"
      ]
     },
     "metadata": {},
     "output_type": "display_data"
    }
   ],
   "source": [
    "agent_list = list(agents_in_action.items())\n",
    "print(agent_list[1][0])\n",
    "print(agent_list[1][1][1])\n",
    "agents_in_action[agent][0]"
   ]
  },
  {
   "cell_type": "code",
   "execution_count": null,
   "metadata": {},
   "outputs": [
    {
     "data": {
      "text/plain": [
       "('[{\"question\":\"A dispatcher receives a call from an intoxicated individual claiming to have been attacked by a large animal in the woods. The caller\\'s speech is slurred, and they are unable to provide a specific location. Which action should the dispatcher take next?\",\"options\":[\"Ask for a detailed description of the attacker and their appearance.\",\"Request that the caller remain on the line until help arrives, but do not send units yet.\",\"Send a unit with basic life support training to assist the caller.\",\"Tell the caller that they need to stay calm and provide more information before assistance can be dispatched.\"],\"answer\":\"c\",\"reason\":\"The dispatcher should prioritize sending a unit with basic life support training to assist the caller, as the situation may require medical attention due to the individual\\'s intoxication. Requesting more information or delaying dispatch could exacerbate the situation.\"},{\"question\":\"A 9-1-1 call is received from a residence where a family member has been shot. The caller provides a detailed description of the victim and the suspect, but they are unable to provide their location. The dispatcher must prioritize which piece of information to ask for next.\",\"options\":[\"Request that the caller remain on the line until help arrives.\",\"Ask for a description of the room or building where the incident occurred.\",\"Ask for any other family members who may be present or injured.\",\"Tell the caller that they need to stay calm and provide more details about the suspect.\"],\"answer\":\"a\",\"reason\":\"The dispatcher should prioritize keeping the caller on the line, as their information is critical in assisting responders. Releasing the call could result in loss of vital information or miscommunication with responding units.\"},{\"question\":\"A public safety telecommunicator receives a report of a potentially hazardous situation involving a tanker truck carrying a flammable liquid. The driver has been involved in an accident and is unable to safely exit the vehicle. Which action should the dispatcher take next?\",\"options\":[\"Advise the caller to keep a safe distance from the scene.\",\"Notify the fire department and request they respond with HAZMAT units.\",\"Send a police unit to assist the driver, prioritizing their safety above all else.\",\"Have the caller remain on the line until the situation can be resolved.\"],\"answer\":\"b\",\"reason\":\"Notifying the fire department and requesting they respond with HAZMAT units is the most appropriate course of action in this scenario, as the flammable liquid poses a significant risk to responders and bystanders alike. This response also acknowledges the driver\\'s safety concerns.\"},{\"question\":\"A 9-1-1 call is received from an elderly individual who claims to have been robbed at gunpoint in their home. The caller provides a detailed description of the perpetrator but seems overly cooperative with the dispatcher\\'s questions. Which red flag should the dispatcher be aware of?\",\"options\":[\"The caller appears anxious or agitated.\",\"The caller provides a conflicting account of the events.\",\"The caller seems overly cooperative and provides unnecessary details.\",\"The caller repeatedly asks about their loved one\\'s safety.\"],\"answer\":\"c\",\"reason\":\"The caller\\'s excessive cooperation may indicate that they are not providing accurate information, possibly due to being coerced or intimidated by the perpetrator. This requires the dispatcher to exercise caution when gathering information and potentially involve additional units for support.\"},{\"question\":\"A public safety telecommunicator receives a call from a concerned citizen who reports seeing someone attempting to break into their neighbor\\'s residence. The caller provides a detailed description of the suspect but seems uncertain about their location. Which action should the dispatcher take next?\",\"options\":[\"Tell the caller that they need to stay calm and provide more information before assistance can be dispatched.\",\"Request that the caller remain on the line until help arrives, but do not send units yet.\",\"Send a unit with patrol car lights activated to canvass the area for the suspect.\",\"Advise the caller to keep a safe distance from the scene and wait for further instructions.\"],\"answer\":\"d\",\"reason\":\"The dispatcher should advise the caller to keep a safe distance from the scene while waiting for further instructions, as this allows them to maintain their safety without influencing the situation or compromising the integrity of the investigation.\"},{\"question\":\"A 9-1-1 call is received from a resident who claims to have been threatened by an acquaintance. The caller provides a detailed description of the perpetrator and mentions that they possess a firearm. Which action should the dispatcher take next?\",\"options\":[\"Notify law enforcement and request they respond with firearms units.\",\"Send a unit with basic life support training to assist the caller, prioritizing their safety above all else.\",\"Tell the caller that you believe them and are going to send help right away.\",\"Request additional information from the caller about their location and any other relevant details.\"],\"answer\":\"c\",\"reason\":\"Telling the caller that they believe them and are going to send help right away can have unintended consequences, such as causing undue panic or excitement. Instead, the dispatcher should focus on gathering more information before dispatching assistance.\"},{\"question\":\"A public safety telecommunicator receives a call from an individual who claims to have witnessed a possible abduction in progress. The caller provides a detailed description of the vehicle and its occupants but seems uncertain about their location. Which action should the dispatcher take next?\",\"options\":[\"Tell the caller that you believe them and are going to send help right away.\",\"Request that the caller remain on the line until help arrives, but do not send units yet.\",\"Send a unit with basic life support training to assist the caller, prioritizing their safety above all else.\",\"Have the caller follow the vehicle at a safe distance while waiting for further instructions.\"],\"answer\":\"c\",\"reason\":\"The dispatcher should prioritize sending a unit with basic life support training to assist the caller, as this acknowledges their safety and prioritizes it above all else. Releasing the call or advising the caller to pursue the vehicle could result in unintended consequences.\"},{\"question\":\"A 9-1-1 call is received from an individual who claims to have been exposed to a chemical spill while responding to another emergency. The caller provides a detailed description of their symptoms but seems uncertain about their location. Which action should the dispatcher take next?\",\"options\":[\"Request that the caller remain on the line until help arrives, but do not send units yet.\",\"Send a unit with basic life support training to assist the caller, prioritizing their safety above all else.\",\"Tell the caller that you believe them and are going to send help right away.\",\"Notify the fire department and request they respond with HAZMAT units.\"],\"answer\":\"d\",\"reason\":\"Notifying the fire department and requesting they respond with HAZMAT units is the most appropriate course of action in this scenario, as the chemical spill poses a significant risk to the caller\\'s health. This response prioritizes their safety above all else.\"},{\"question\":\"A public safety telecommunicator receives a call from an individual who claims to have been threatened by someone using social media. The caller provides a detailed description of the perpetrator and mentions that they are experiencing emotional distress due to the incident. Which action should the dispatcher take next?\",\"options\":[\"Notify law enforcement and request they respond with cybercrime units.\",\"Tell the caller that you believe them and are going to send help right away.\",\"Send a unit with basic life support training to assist the caller, prioritizing their safety above all else.\",\"Request additional information from the caller about their location and any other relevant details.\"],\"answer\":\"c\",\"reason\":\"The dispatcher should prioritize sending a unit with basic life support training to assist the caller, as this acknowledges their emotional distress and prioritizes their safety above all else. Releasing the call or advising the caller that they are going to send help right away could result in unintended consequences.\"},{\"question\":\"A 9-1-1 call is received from an elderly individual who claims to have been robbed at gunpoint in their home. The caller provides a detailed description of the perpetrator but seems overly cooperative with the dispatcher\\'s questions. Which red flag should the dispatcher be aware of?\",\"options\":[\"The caller appears anxious or agitated.\",\"The caller provides a conflicting account of the events.\",\"The caller seems overly cooperative and provides unnecessary details.\",\"The caller repeatedly asks about their loved one\\'s safety.\"],\"answer\":\"c\",\"reason\":\"The caller\\'s excessive cooperation may indicate that they are not providing accurate information, possibly due to being coerced or intimidated by the perpetrator. This requires the dispatcher to exercise caution when gathering information and potentially involve additional units for support.\"}]',\n",
       " '6102163c-2f3a-46a5-8230-c053bf4f199e')"
      ]
     },
     "metadata": {},
     "output_type": "display_data"
    }
   ],
   "source": [
    "result = mc_magician(role = agent_list[2][0], role_des=agent_list[2][1][1])\n",
    "result"
   ]
  },
  {
   "cell_type": "code",
   "execution_count": null,
   "metadata": {},
   "outputs": [
    {
     "name": "stdout",
     "output_type": "stream",
     "text": [
      "A dispatcher receives a call from an intoxicated individual claiming to have been attacked by a large animal in the woods. The caller's speech is slurred, and they are unable to provide a specific location. Which action should the dispatcher take next? ['Ask for a detailed description of the attacker and their appearance.', 'Request that the caller remain on the line until help arrives, but do not send units yet.', 'Send a unit with basic life support training to assist the caller.', 'Tell the caller that they need to stay calm and provide more information before assistance can be dispatched.']\n",
      "A 9-1-1 call is received from a residence where a family member has been shot. The caller provides a detailed description of the victim and the suspect, but they are unable to provide their location. The dispatcher must prioritize which piece of information to ask for next. ['Request that the caller remain on the line until help arrives.', 'Ask for a description of the room or building where the incident occurred.', 'Ask for any other family members who may be present or injured.', 'Tell the caller that they need to stay calm and provide more details about the suspect.']\n",
      "A public safety telecommunicator receives a report of a potentially hazardous situation involving a tanker truck carrying a flammable liquid. The driver has been involved in an accident and is unable to safely exit the vehicle. Which action should the dispatcher take next? ['Advise the caller to keep a safe distance from the scene.', 'Notify the fire department and request they respond with HAZMAT units.', 'Send a police unit to assist the driver, prioritizing their safety above all else.', 'Have the caller remain on the line until the situation can be resolved.']\n",
      "A 9-1-1 call is received from an elderly individual who claims to have been robbed at gunpoint in their home. The caller provides a detailed description of the perpetrator but seems overly cooperative with the dispatcher's questions. Which red flag should the dispatcher be aware of? ['The caller appears anxious or agitated.', 'The caller provides a conflicting account of the events.', 'The caller seems overly cooperative and provides unnecessary details.', \"The caller repeatedly asks about their loved one's safety.\"]\n",
      "A public safety telecommunicator receives a call from a concerned citizen who reports seeing someone attempting to break into their neighbor's residence. The caller provides a detailed description of the suspect but seems uncertain about their location. Which action should the dispatcher take next? ['Tell the caller that they need to stay calm and provide more information before assistance can be dispatched.', 'Request that the caller remain on the line until help arrives, but do not send units yet.', 'Send a unit with patrol car lights activated to canvass the area for the suspect.', 'Advise the caller to keep a safe distance from the scene and wait for further instructions.']\n",
      "A 9-1-1 call is received from a resident who claims to have been threatened by an acquaintance. The caller provides a detailed description of the perpetrator and mentions that they possess a firearm. Which action should the dispatcher take next? ['Notify law enforcement and request they respond with firearms units.', 'Send a unit with basic life support training to assist the caller, prioritizing their safety above all else.', 'Tell the caller that you believe them and are going to send help right away.', 'Request additional information from the caller about their location and any other relevant details.']\n",
      "A public safety telecommunicator receives a call from an individual who claims to have witnessed a possible abduction in progress. The caller provides a detailed description of the vehicle and its occupants but seems uncertain about their location. Which action should the dispatcher take next? ['Tell the caller that you believe them and are going to send help right away.', 'Request that the caller remain on the line until help arrives, but do not send units yet.', 'Send a unit with basic life support training to assist the caller, prioritizing their safety above all else.', 'Have the caller follow the vehicle at a safe distance while waiting for further instructions.']\n",
      "A 9-1-1 call is received from an individual who claims to have been exposed to a chemical spill while responding to another emergency. The caller provides a detailed description of their symptoms but seems uncertain about their location. Which action should the dispatcher take next? ['Request that the caller remain on the line until help arrives, but do not send units yet.', 'Send a unit with basic life support training to assist the caller, prioritizing their safety above all else.', 'Tell the caller that you believe them and are going to send help right away.', 'Notify the fire department and request they respond with HAZMAT units.']\n",
      "A public safety telecommunicator receives a call from an individual who claims to have been threatened by someone using social media. The caller provides a detailed description of the perpetrator and mentions that they are experiencing emotional distress due to the incident. Which action should the dispatcher take next? ['Notify law enforcement and request they respond with cybercrime units.', 'Tell the caller that you believe them and are going to send help right away.', 'Send a unit with basic life support training to assist the caller, prioritizing their safety above all else.', 'Request additional information from the caller about their location and any other relevant details.']\n",
      "A 9-1-1 call is received from an elderly individual who claims to have been robbed at gunpoint in their home. The caller provides a detailed description of the perpetrator but seems overly cooperative with the dispatcher's questions. Which red flag should the dispatcher be aware of? ['The caller appears anxious or agitated.', 'The caller provides a conflicting account of the events.', 'The caller seems overly cooperative and provides unnecessary details.', \"The caller repeatedly asks about their loved one's safety.\"]\n"
     ]
    }
   ],
   "source": [
    "qb = json.loads(result[0])\n",
    "for q in range(len(qb)):\n",
    "    print(qb[q][\"question\"],qb[q][\"options\"] )\n",
    "\n",
    "questions = [[qb[q][\"question\"],qb[q][\"options\"]] for q in range(len(qb))]\n",
    "answers = [qb[q][\"answer\"] for q in range(len(qb))]"
   ]
  },
  {
   "cell_type": "code",
   "execution_count": null,
   "metadata": {},
   "outputs": [
    {
     "name": "stdout",
     "output_type": "stream",
     "text": [
      "[[\"A dispatcher receives a call from an intoxicated individual claiming to have been attacked by a large animal in the woods. The caller's speech is slurred, and they are unable to provide a specific location. Which action should the dispatcher take next?\", ['Ask for a detailed description of the attacker and their appearance.', 'Request that the caller remain on the line until help arrives, but do not send units yet.', 'Send a unit with basic life support training to assist the caller.', 'Tell the caller that they need to stay calm and provide more information before assistance can be dispatched.']], ['A 9-1-1 call is received from a residence where a family member has been shot. The caller provides a detailed description of the victim and the suspect, but they are unable to provide their location. The dispatcher must prioritize which piece of information to ask for next.', ['Request that the caller remain on the line until help arrives.', 'Ask for a description of the room or building where the incident occurred.', 'Ask for any other family members who may be present or injured.', 'Tell the caller that they need to stay calm and provide more details about the suspect.']], ['A public safety telecommunicator receives a report of a potentially hazardous situation involving a tanker truck carrying a flammable liquid. The driver has been involved in an accident and is unable to safely exit the vehicle. Which action should the dispatcher take next?', ['Advise the caller to keep a safe distance from the scene.', 'Notify the fire department and request they respond with HAZMAT units.', 'Send a police unit to assist the driver, prioritizing their safety above all else.', 'Have the caller remain on the line until the situation can be resolved.']], [\"A 9-1-1 call is received from an elderly individual who claims to have been robbed at gunpoint in their home. The caller provides a detailed description of the perpetrator but seems overly cooperative with the dispatcher's questions. Which red flag should the dispatcher be aware of?\", ['The caller appears anxious or agitated.', 'The caller provides a conflicting account of the events.', 'The caller seems overly cooperative and provides unnecessary details.', \"The caller repeatedly asks about their loved one's safety.\"]], [\"A public safety telecommunicator receives a call from a concerned citizen who reports seeing someone attempting to break into their neighbor's residence. The caller provides a detailed description of the suspect but seems uncertain about their location. Which action should the dispatcher take next?\", ['Tell the caller that they need to stay calm and provide more information before assistance can be dispatched.', 'Request that the caller remain on the line until help arrives, but do not send units yet.', 'Send a unit with patrol car lights activated to canvass the area for the suspect.', 'Advise the caller to keep a safe distance from the scene and wait for further instructions.']], ['A 9-1-1 call is received from a resident who claims to have been threatened by an acquaintance. The caller provides a detailed description of the perpetrator and mentions that they possess a firearm. Which action should the dispatcher take next?', ['Notify law enforcement and request they respond with firearms units.', 'Send a unit with basic life support training to assist the caller, prioritizing their safety above all else.', 'Tell the caller that you believe them and are going to send help right away.', 'Request additional information from the caller about their location and any other relevant details.']], ['A public safety telecommunicator receives a call from an individual who claims to have witnessed a possible abduction in progress. The caller provides a detailed description of the vehicle and its occupants but seems uncertain about their location. Which action should the dispatcher take next?', ['Tell the caller that you believe them and are going to send help right away.', 'Request that the caller remain on the line until help arrives, but do not send units yet.', 'Send a unit with basic life support training to assist the caller, prioritizing their safety above all else.', 'Have the caller follow the vehicle at a safe distance while waiting for further instructions.']], ['A 9-1-1 call is received from an individual who claims to have been exposed to a chemical spill while responding to another emergency. The caller provides a detailed description of their symptoms but seems uncertain about their location. Which action should the dispatcher take next?', ['Request that the caller remain on the line until help arrives, but do not send units yet.', 'Send a unit with basic life support training to assist the caller, prioritizing their safety above all else.', 'Tell the caller that you believe them and are going to send help right away.', 'Notify the fire department and request they respond with HAZMAT units.']], ['A public safety telecommunicator receives a call from an individual who claims to have been threatened by someone using social media. The caller provides a detailed description of the perpetrator and mentions that they are experiencing emotional distress due to the incident. Which action should the dispatcher take next?', ['Notify law enforcement and request they respond with cybercrime units.', 'Tell the caller that you believe them and are going to send help right away.', 'Send a unit with basic life support training to assist the caller, prioritizing their safety above all else.', 'Request additional information from the caller about their location and any other relevant details.']], [\"A 9-1-1 call is received from an elderly individual who claims to have been robbed at gunpoint in their home. The caller provides a detailed description of the perpetrator but seems overly cooperative with the dispatcher's questions. Which red flag should the dispatcher be aware of?\", ['The caller appears anxious or agitated.', 'The caller provides a conflicting account of the events.', 'The caller seems overly cooperative and provides unnecessary details.', \"The caller repeatedly asks about their loved one's safety.\"]]]\n",
      "['c', 'a', 'b', 'c', 'd', 'c', 'c', 'd', 'c', 'c']\n"
     ]
    }
   ],
   "source": [
    "print(questions)\n",
    "print(answers)"
   ]
  },
  {
   "cell_type": "code",
   "execution_count": null,
   "metadata": {},
   "outputs": [],
   "source": [
    "def answer_cleaner(input):\n",
    "    clean_agent = Agent(\n",
    "        model=Ollama(id=model_id),\n",
    "        description=\"you are a profession computer programmer with 20 years of experience. you are good at cleaning data and cextract answer to be a list of strings. you will receive input, and please extract answer from it. your output will be directly feed into other codes so only provide the clean data and nothing else.example: ['x','x','x','x','x','x'] where 'x' is either D, B, C, or A\",\n",
    "        storage=SqlAgentStorage(table_name=\"agent_sessions\", db_file=\"tmp/agent_storage.db\"),\n",
    "        instructions=[\"you only output what is reuqired and never provide explanation or additional information\"],\n",
    "        add_history_to_messages=True,\n",
    "        num_history_responses=3,\n",
    "        \n",
    "    )\n",
    "    return clean_agent.run(input).content"
   ]
  },
  {
   "cell_type": "code",
   "execution_count": null,
   "metadata": {},
   "outputs": [
    {
     "name": "stdout",
     "output_type": "stream",
     "text": [
      "question24: C\n",
      "question25: B\n",
      "question26: A\n",
      "question27: C\n",
      "question28: D\n",
      "question29: D\n",
      "question30: D\n",
      "question31: D\n",
      "question32: D\n",
      "question33: C\n",
      "question24: option C\n",
      "question25: option B\n",
      "question26: option A\n",
      "question27: option C\n",
      "question28: option D\n",
      "question29: option D\n",
      "question30: option D\n",
      "question31: option D\n",
      "question32: option D\n",
      "question33: option C\n",
      "Question24: The answer is C.\n",
      "Question25: The answer is B\n",
      "Question26: The answer is A\n",
      "Question27: The answer is C\n",
      "Question28: The answer is D\n",
      "Question29: The answer is D\n",
      "Question30: The answer is D\n",
      "Question31: The answer is D\n",
      "Question32: The answer is D\n",
      "Question33: The answer is C\n",
      "Question24: The answer is D.\n",
      "Question25: The answer is B.\n",
      "Question26: The answer is A.\n",
      "Question27: The answer is C.\n",
      "Question28: The answer is D.\n",
      "Question29: The answer is D.\n",
      "Question30: The answer is D.\n",
      "Question31: The answer is D.\n",
      "Question32: The answer is D.\n",
      "Question33: The answer is C.\n",
      "question24: option D)\n",
      "question25: option B)\n",
      "question26: option A)\n",
      "question27: option C)\n",
      "question28: option D)\n",
      "question29: option D)\n",
      "question30: option D)\n",
      "question31: option D)\n",
      "question32: option D)\n",
      "question33: option C)\n"
     ]
    }
   ],
   "source": [
    "# ask the expert agents to answer the mc\n",
    "for agent in agents_in_action:\n",
    "    for q in range(len(questions)):\n",
    "        print(ask_mc(\"\"\"format is very important. remember to structure your result. no need to provide reaons. here is the question:\"\"\"+ str(questions[q]), agents_in_action[agent][0]))\n"
   ]
  },
  {
   "cell_type": "code",
   "execution_count": null,
   "metadata": {},
   "outputs": [
    {
     "data": {
      "text/plain": [
       "['A', 'B', 'C', 'C', 'C', 'C', 'B', 'C', 'D', 'A', 'B']"
      ]
     },
     "metadata": {},
     "output_type": "display_data"
    }
   ],
   "source": [
    "eval(answer_cleaner(messydata)[0])\n",
    "#use json.loads"
   ]
  },
  {
   "cell_type": "code",
   "execution_count": null,
   "metadata": {},
   "outputs": [],
   "source": [
    "# ask agent to create mc\n",
    "def mc_magician(role, description):\n",
    "    prompt = \"\"\"please design 10 multiple choice questions for {role}. The job description is as follow: {description}. Some thoughts before you repond: \n",
    "    1. be highly domain specific. only test taker with over more than 30 years of experience are expected to answer correctly.\n",
    "    2. create nuance. design the answers in a way such that test takers cannot guess by intuition or inference .\n",
    "    3. do not limit yourself with only factual question. be creative.\n",
    "    4. do not response anything other than structed json output.\"\"\"\n",
    "    mc_agent = Agent(\n",
    "        model=Ollama(id=model_id),\n",
    "        description=\"\"\"\"You are an expert question designer tasked with creating high-quality certification questions to identify true professionals.\n",
    "        Your goal is to create 10 questions that:\n",
    "        Test Practical Expertise: Focus on real-world scenarios, tools, and challenges specific to the domain.\n",
    "        Assess Depth of Knowledge: Ensure questions range from fundamental concepts to advanced problem-solving, covering both theory and application.\n",
    "        Differentiate Skill Levels: Include nuances that distinguish seasoned professionals from novices, such as best practices, edge-case scenarios, or optimized solutions.\n",
    "        Simulate Professional Situations: Incorporate case studies or situational judgment problems that mimic day-to-day challenges professionals face.\n",
    "        Reflect Industry Trends: Include questions that are relevant to current tools, techniques, and standards in the field.\n",
    "        Each question should have a brief context or scenario.\n",
    "        Structure questions only on advanced levels of difficulty\n",
    "        output your questions in valid json format where new line is strictly prohitbited. only produce it in compact format. Strictly follow this example Json Output Structure:[{\"question\":\"[Insert question here]\",\"options\":[\"[Option 1]\",\"[Option 2]\",\"[Option 3]\",\"[Option 4]\"],\"answer\":\"[a/b/c/d]\",\"reason\":\"[Explanation for the correct answer.]\"},{\"question\":\"[Insert question here]\",\"options\":[\"[Option 1]\",\"[Option 2]\",\"[Option 3]\",\"[Option 4]\"],\"answer\":\"[a/b/c/d]\",\"reason\":\"[Explanation for the correct answer.]\"}]\n",
    "        only output the required json. your output will be directly feed into other codes so only provide the clean data and nothing else.\"\"\",\n",
    "        storage=SqlAgentStorage(table_name=\"agent_sessions\", db_file=\"tmp/agent_storage.db\"),\n",
    "        instructions=[\"you only output what is reuqired and never provide explanation or additional information.\"],\n",
    "        add_history_to_messages=True,\n",
    "        num_history_responses=3,\n",
    "        \n",
    "    )\n",
    "    return mc_agent.run(prompt.format(role=role, description=description)).content, mc_agent.session_id"
   ]
  }
 ],
 "metadata": {
  "kernelspec": {
   "display_name": "Python 3",
   "language": "python",
   "name": "python3"
  },
  "language_info": {
   "codemirror_mode": {
    "name": "ipython",
    "version": 3
   },
   "file_extension": ".py",
   "mimetype": "text/x-python",
   "name": "python",
   "nbconvert_exporter": "python",
   "pygments_lexer": "ipython3",
   "version": "3.12.4"
  }
 },
 "nbformat": 4,
 "nbformat_minor": 2
}
