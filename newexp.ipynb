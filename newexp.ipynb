{
 "cells": [
  {
   "cell_type": "code",
   "execution_count": null,
   "metadata": {},
   "outputs": [],
   "source": [
    "#\tPrompt LLMs to be expert\n",
    "#       they can now respond to question and provide structured response\n",
    "#\tGenerate domain-specific multiple choice questions\n",
    "#       on the way\n",
    "#\tGrade the result of LLM and find out correlations\n",
    "#       with strcuture output, should be easy\n"
   ]
  },
  {
   "cell_type": "code",
   "execution_count": 2,
   "metadata": {},
   "outputs": [],
   "source": [
    "import json\n",
    "import pandas as pd\n",
    "from phi.agent import Agent, RunResponse\n",
    "from phi.model.ollama import Ollama\n",
    "from phi.storage.agent.sqlite import SqlAgentStorage"
   ]
  },
  {
   "cell_type": "code",
   "execution_count": 3,
   "metadata": {},
   "outputs": [],
   "source": [
    "# global variables\n",
    "model_id = \"llama3.1\"\n",
    "#qwen2.5-coder, llama3.1, llama3.2\n"
   ]
  },
  {
   "cell_type": "code",
   "execution_count": 30,
   "metadata": {},
   "outputs": [],
   "source": [
    "# Prompt LLMs to be expert\n",
    "\n",
    "# get list of occupation\n",
    "#https://www.bls.gov/oes/current/oessrci.htm\n",
    "occupation = pd.read_csv('occupation.txt', sep='\\t').dropna(subset=[\"occupation_description\"])\n",
    "occupation = occupation[[\"occupation_code\", \"occupation_name\",\"occupation_description\"]]\n",
    "occupation = occupation.rename(columns={\"occupation_code\":\"code\", \"occupation_name\":\"name\",\"occupation_description\":\"description\"})\n"
   ]
  },
  {
   "cell_type": "code",
   "execution_count": 5,
   "metadata": {},
   "outputs": [
    {
     "data": {
      "text/html": [
       "<div>\n",
       "<style scoped>\n",
       "    .dataframe tbody tr th:only-of-type {\n",
       "        vertical-align: middle;\n",
       "    }\n",
       "\n",
       "    .dataframe tbody tr th {\n",
       "        vertical-align: top;\n",
       "    }\n",
       "\n",
       "    .dataframe thead th {\n",
       "        text-align: right;\n",
       "    }\n",
       "</style>\n",
       "<table border=\"1\" class=\"dataframe\">\n",
       "  <thead>\n",
       "    <tr style=\"text-align: right;\">\n",
       "      <th></th>\n",
       "      <th>code</th>\n",
       "      <th>name</th>\n",
       "      <th>description</th>\n",
       "    </tr>\n",
       "  </thead>\n",
       "  <tbody>\n",
       "    <tr>\n",
       "      <th>129</th>\n",
       "      <td>172021</td>\n",
       "      <td>Agricultural Engineers</td>\n",
       "      <td>Apply knowledge of engineering technology and ...</td>\n",
       "    </tr>\n",
       "    <tr>\n",
       "      <th>679</th>\n",
       "      <td>432021</td>\n",
       "      <td>Telephone Operators</td>\n",
       "      <td>Provide information by accessing alphabetical,...</td>\n",
       "    </tr>\n",
       "    <tr>\n",
       "      <th>753</th>\n",
       "      <td>454021</td>\n",
       "      <td>Fallers</td>\n",
       "      <td>Use axes or chainsaws to fell trees using know...</td>\n",
       "    </tr>\n",
       "    <tr>\n",
       "      <th>802</th>\n",
       "      <td>473014</td>\n",
       "      <td>Helpers--Painters, Paperhangers, Plasterers, a...</td>\n",
       "      <td>Help painters, paperhangers, plasterers, or st...</td>\n",
       "    </tr>\n",
       "    <tr>\n",
       "      <th>1005</th>\n",
       "      <td>519021</td>\n",
       "      <td>Crushing, Grinding, and Polishing Machine Sett...</td>\n",
       "      <td>Set up, operate, or tend machines to crush, gr...</td>\n",
       "    </tr>\n",
       "  </tbody>\n",
       "</table>\n",
       "</div>"
      ],
      "text/plain": [
       "        code                                               name  \\\n",
       "129   172021                             Agricultural Engineers   \n",
       "679   432021                                Telephone Operators   \n",
       "753   454021                                            Fallers   \n",
       "802   473014  Helpers--Painters, Paperhangers, Plasterers, a...   \n",
       "1005  519021  Crushing, Grinding, and Polishing Machine Sett...   \n",
       "\n",
       "                                            description  \n",
       "129   Apply knowledge of engineering technology and ...  \n",
       "679   Provide information by accessing alphabetical,...  \n",
       "753   Use axes or chainsaws to fell trees using know...  \n",
       "802   Help painters, paperhangers, plasterers, or st...  \n",
       "1005  Set up, operate, or tend machines to crush, gr...  "
      ]
     },
     "execution_count": 5,
     "metadata": {},
     "output_type": "execute_result"
    }
   ],
   "source": [
    "#occupation_l = ['New Accounts Clerks', 'Nuclear Technicians', 'Orderlies', 'Clinical and Counseling Psychologists', 'Radiologic Technologists and Technicians'] \n",
    "occupation_l = (list(occupation.sample(5).name))\n",
    "sample_o = occupation.loc[occupation[\"name\"].isin(occupation_l)]\n",
    "sample_o"
   ]
  },
  {
   "cell_type": "code",
   "execution_count": 6,
   "metadata": {},
   "outputs": [],
   "source": [
    "#C.4 Expert Casting Prompt\n",
    "#From now on, you are an excellent {role} described as {roles_description}. Answer the following question while staying in strict accordance with the nature of the provided identity: {question}.\n",
    "#url = \"https://arxiv.org/pdf/2411.00492\"\n",
    "\n",
    "def create_agent(role, role_description):\n",
    "    expert_agent = Agent(\n",
    "        model=Ollama(id=model_id),\n",
    "        description=\"From now on, you are an excellent {} described as {}. you are tasked with answering multiple choice questions. Think through each step meticulously but only show me the final answer. Rules: 1.Think deeply about the question's core concept. 2. Consider common misconceptions. 3. Mentally justify why each wrong option is incorrect 4. Double-check your logic 5. For calculation questions, solve using two different methods if possible.\".format(role, role_description),\n",
    "        storage=SqlAgentStorage(table_name=\"agent_sessions\", db_file=\"tmp/agent_storage.db\"),\n",
    "        instructions=[\"-you are helpful and you think step by step.\"],\n",
    "        add_history_to_messages=True,\n",
    "        num_history_responses=3    \n",
    "    )\n",
    "    return expert_agent.run(\"what is your occupation\").content, expert_agent.session_id"
   ]
  },
  {
   "cell_type": "code",
   "execution_count": 7,
   "metadata": {},
   "outputs": [
    {
     "data": {
      "text/plain": [
       "{'Agricultural Engineers': '049e054e-7246-475f-87ea-7e9d9963e710',\n",
       " 'Telephone Operators': '826906a4-e151-4e30-a0d3-916334155f75',\n",
       " 'Fallers': 'cc721bb3-8685-4bb1-a4b2-a61dcc80d10c',\n",
       " 'Helpers--Painters, Paperhangers, Plasterers, and Stucco Masons': '1dc41704-6e0d-489e-b736-8dcde47e5dbc',\n",
       " 'Crushing, Grinding, and Polishing Machine Setters, Operators, and Tenders': 'b1b7f33c-dfe2-47b2-bd82-095706092fec'}"
      ]
     },
     "execution_count": 7,
     "metadata": {},
     "output_type": "execute_result"
    }
   ],
   "source": [
    "agents_in_action = {}\n",
    "for role in range(len(sample_o)):\n",
    "    agents_in_action[sample_o[\"name\"].iloc[role]] = create_agent(sample_o[\"name\"].iloc[role], sample_o[\"description\"].iloc[role])[1]\n",
    "agents_in_action"
   ]
  },
  {
   "cell_type": "code",
   "execution_count": 23,
   "metadata": {},
   "outputs": [
    {
     "data": {
      "text/plain": [
       "['Agricultural Engineers',\n",
       " 'Telephone Operators',\n",
       " 'Fallers',\n",
       " 'Helpers--Painters, Paperhangers, Plasterers, and Stucco Masons',\n",
       " 'Crushing, Grinding, and Polishing Machine Setters, Operators, and Tenders']"
      ]
     },
     "execution_count": 23,
     "metadata": {},
     "output_type": "execute_result"
    }
   ],
   "source": [
    "agent_list =list(agents_in_action.keys())\n",
    "agent_list"
   ]
  },
  {
   "cell_type": "code",
   "execution_count": null,
   "metadata": {},
   "outputs": [],
   "source": []
  },
  {
   "cell_type": "code",
   "execution_count": 22,
   "metadata": {},
   "outputs": [],
   "source": [
    "question = \"Question: A ball is thrown vertically upward with an initial velocity of 20 m/s. Assuming g = 10 m/s², what is the maximum height reached by the ball? Options: A) 10 meters B) 20 meters C) 30 meters D) 40 meters Your answer: [Option]\"\n"
   ]
  },
  {
   "cell_type": "code",
   "execution_count": 35,
   "metadata": {},
   "outputs": [],
   "source": [
    "#-you structure your output in a dictionary {\"question number\": \"answer option\"}. for example: {\"1\": \"A\", \"2\":\"C\", \"3\":\"C\"}\n",
    "def ask_mc(question, session):\n",
    "    expert_agent = Agent(\n",
    "        model=Ollama(id=model_id),\n",
    "        description=\"you are tasked with answering multiple choice questions. Think through each step meticulously but only show me the final answer. Rules: 1.Think deeply about the question's core concept. 2. Consider common misconceptions. 3. Mentally justify why each wrong option is incorrect 4. Double-check your logic 5. For calculation questions, solve using two different methods if possible. for output format, do this: [option (A, B, D, or D. do not repeat the answer text. alphbet only)]\",\n",
    "        storage=SqlAgentStorage(table_name=\"agent_sessions\", db_file=\"tmp/agent_storage.db\"),\n",
    "        instructions=[\"\"\"-you think step by step. -do not provide explanations. -you structure your answer in the following way: \"questionX: the answer is X\". \"\"\"],\n",
    "        add_history_to_messages=True,\n",
    "        num_history_responses=3,\n",
    "        session_id= session\n",
    "    )\n",
    "    return expert_agent.run(question).content"
   ]
  },
  {
   "cell_type": "code",
   "execution_count": null,
   "metadata": {},
   "outputs": [
    {
     "name": "stdout",
     "output_type": "stream",
     "text": [
      "('The answer is D) Yellow.', '39f281cb-5653-4c53-aa71-93693110ec63')\n",
      "('qustion1: the answer is C', '80b2d652-2772-4d44-8c28-1775e7f8cfc4')\n",
      "('qustion1: the answer is C', 'f40c78f5-3a71-40af-b3c9-db9be14cdd06')\n",
      "('C) Green', 'd652f109-ddf6-4c34-ba9d-6034885217e0')\n",
      "('qustion1: the answer is C', 'bbd0b655-5515-4ce8-8f8c-1f83977178d8')\n"
     ]
    }
   ],
   "source": [
    "# for agent in agents_in_action:\n",
    "#     print(ask_mc(question, agents_in_action[agent]))"
   ]
  },
  {
   "cell_type": "code",
   "execution_count": null,
   "metadata": {},
   "outputs": [],
   "source": [
    "# question = \"\"\"Answer this multiple choice question. Think through each step meticulously but only show me the final answer.\n",
    "\n",
    "# Question: In a population of 200 students, 60% are female. How many male students are in the population?\n",
    "\n",
    "# Options:\n",
    "# A) 80 students\n",
    "# B) 120 students\n",
    "# C) 140 students\n",
    "# D) 160 students\"\"\""
   ]
  },
  {
   "cell_type": "code",
   "execution_count": null,
   "metadata": {},
   "outputs": [],
   "source": [
    "# question = \"\"\"Question: Which of the following is NOT a primary color in traditional color theory?\n",
    "\n",
    "# Options:\n",
    "# A) Red\n",
    "# B) Blue\n",
    "# C) Green\n",
    "# D) Yellow\"\"\""
   ]
  },
  {
   "cell_type": "code",
   "execution_count": null,
   "metadata": {},
   "outputs": [
    {
     "name": "stdout",
     "output_type": "stream",
     "text": [
      "When positioning a patient for a chest X-ray, which adjustment ensures the clavicles are out of the lung field? ['Angle the X-ray tube cephalad.', 'Position the patient in a prone position.', 'Align the X-ray beam perpendicular to the sternum.', 'Ask the patient to roll their shoulders forward.']\n",
      "What is the recommended protocol when imaging a pediatric patient who cannot remain still? ['Use sedation to keep the patient immobile.', 'Use the shortest possible exposure time and immobilization devices.', 'Allow a parent to hold the child during the procedure without protective gear.', 'Perform the imaging procedure despite movement for efficiency.']\n",
      "A fluoroscopy exam shows unusually high patient skin dose readings. What should you do? ['Stop the procedure immediately and report the incident.', 'Continue the procedure but decrease the fluoroscopy time.', 'Confirm equipment calibration and assess for overexposure risks.', 'Lower the table to reduce the distance between the X-ray source and the patient.']\n",
      "A physician requests an X-ray on a pregnant patient. What is your first step? ['Perform the procedure as ordered while avoiding pelvic exposure.', 'Decline the request and suggest an ultrasound instead.', 'Discuss the potential risks with the physician and patient before proceeding.', 'Use the maximum lead shielding available and proceed.']\n",
      "A lateral lumbar spine X-ray appears underexposed despite correct technique settings. What is the most likely cause? ['Excessive focal spot size.', 'Incorrect positioning of the patient.', 'High tissue density in the area.', 'Miscalibration of the exposure timer.']\n",
      "What is the primary purpose of using a grid in radiography? ['Protect the patient from scattered radiation.', 'Enhance image sharpness by reducing scatter radiation.', 'Minimize motion artifacts during exposure.', 'Reduce the dose needed for adequate imaging.']\n",
      "During a CT scan, a patient reports feeling warm and flushed after receiving contrast. What should you do? ['Reassure the patient and continue the scan.', 'Stop the procedure immediately and call for emergency assistance.', 'Monitor for additional symptoms and prepare to manage an allergic reaction.', 'Offer the patient water to counteract the sensation.']\n",
      "Which regulatory standard mandates regular testing of radiologic equipment? ['American Registry of Radiologic Technologists (ARRT) standards.', 'Occupational Safety and Health Administration (OSHA) guidelines.', 'The Joint Commission accreditation requirements.', 'Federal regulations under the Mammography Quality Standards Act (MQSA).']\n",
      "A colleague forgets to wear their dosimeter during a procedure. What is the best course of action? ['Report the incident to your supervisor immediately.', 'Share your dosimeter with them for the rest of the procedure.', 'Advise them to record an estimated exposure level post-procedure.', 'Remind them to wear it next time and proceed.']\n",
      "What is the maximum permissible dose of radiation for occupational exposure per year according to international standards? ['1 millisievert (mSv)', '5 mSv', '20 mSv', '50 mSv']\n"
     ]
    },
    {
     "data": {
      "text/plain": [
       "[['When positioning a patient for a chest X-ray, which adjustment ensures the clavicles are out of the lung field?',\n",
       "  ['Angle the X-ray tube cephalad.',\n",
       "   'Position the patient in a prone position.',\n",
       "   'Align the X-ray beam perpendicular to the sternum.',\n",
       "   'Ask the patient to roll their shoulders forward.']],\n",
       " ['What is the recommended protocol when imaging a pediatric patient who cannot remain still?',\n",
       "  ['Use sedation to keep the patient immobile.',\n",
       "   'Use the shortest possible exposure time and immobilization devices.',\n",
       "   'Allow a parent to hold the child during the procedure without protective gear.',\n",
       "   'Perform the imaging procedure despite movement for efficiency.']],\n",
       " ['A fluoroscopy exam shows unusually high patient skin dose readings. What should you do?',\n",
       "  ['Stop the procedure immediately and report the incident.',\n",
       "   'Continue the procedure but decrease the fluoroscopy time.',\n",
       "   'Confirm equipment calibration and assess for overexposure risks.',\n",
       "   'Lower the table to reduce the distance between the X-ray source and the patient.']],\n",
       " ['A physician requests an X-ray on a pregnant patient. What is your first step?',\n",
       "  ['Perform the procedure as ordered while avoiding pelvic exposure.',\n",
       "   'Decline the request and suggest an ultrasound instead.',\n",
       "   'Discuss the potential risks with the physician and patient before proceeding.',\n",
       "   'Use the maximum lead shielding available and proceed.']],\n",
       " ['A lateral lumbar spine X-ray appears underexposed despite correct technique settings. What is the most likely cause?',\n",
       "  ['Excessive focal spot size.',\n",
       "   'Incorrect positioning of the patient.',\n",
       "   'High tissue density in the area.',\n",
       "   'Miscalibration of the exposure timer.']],\n",
       " ['What is the primary purpose of using a grid in radiography?',\n",
       "  ['Protect the patient from scattered radiation.',\n",
       "   'Enhance image sharpness by reducing scatter radiation.',\n",
       "   'Minimize motion artifacts during exposure.',\n",
       "   'Reduce the dose needed for adequate imaging.']],\n",
       " ['During a CT scan, a patient reports feeling warm and flushed after receiving contrast. What should you do?',\n",
       "  ['Reassure the patient and continue the scan.',\n",
       "   'Stop the procedure immediately and call for emergency assistance.',\n",
       "   'Monitor for additional symptoms and prepare to manage an allergic reaction.',\n",
       "   'Offer the patient water to counteract the sensation.']],\n",
       " ['Which regulatory standard mandates regular testing of radiologic equipment?',\n",
       "  ['American Registry of Radiologic Technologists (ARRT) standards.',\n",
       "   'Occupational Safety and Health Administration (OSHA) guidelines.',\n",
       "   'The Joint Commission accreditation requirements.',\n",
       "   'Federal regulations under the Mammography Quality Standards Act (MQSA).']],\n",
       " ['A colleague forgets to wear their dosimeter during a procedure. What is the best course of action?',\n",
       "  ['Report the incident to your supervisor immediately.',\n",
       "   'Share your dosimeter with them for the rest of the procedure.',\n",
       "   'Advise them to record an estimated exposure level post-procedure.',\n",
       "   'Remind them to wear it next time and proceed.']],\n",
       " ['What is the maximum permissible dose of radiation for occupational exposure per year according to international standards?',\n",
       "  ['1 millisievert (mSv)', '5 mSv', '20 mSv', '50 mSv']]]"
      ]
     },
     "execution_count": 185,
     "metadata": {},
     "output_type": "execute_result"
    }
   ],
   "source": [
    "# with open(\"questions.json\", \"r\") as file:\n",
    "#     qb = json.load(file)\n",
    "\n",
    "# for q in range(len(qb)):\n",
    "#     print(qb[q][\"question\"],qb[q][\"options\"] )\n",
    "\n",
    "# questions = [[qb[q][\"question\"],qb[q][\"options\"]] for q in range(len(qb))]\n",
    "# answers = [qb[q][\"answer\"] for q in range(len(qb))]\n",
    "# questions"
   ]
  },
  {
   "cell_type": "code",
   "execution_count": 26,
   "metadata": {},
   "outputs": [],
   "source": [
    "prompt = \"\"\"please design 10 multiple choice questions for this occupation. some thoughts before you repond: \n",
    "1. be domain specific. ideally design for someone with more than 10 year experience.\n",
    "2. create some nuance. make the answers somewhat similar so that people cannot guess by intuition.\n",
    "3. do not limit yourself with only factual question. be creative.\n",
    "4. output your questions in json format where new line is strickly prohitbited. only produce it in compact format. sample format: \n",
    "[{\"question\":\"When positioning a patient for a chest X-ray, which adjustment ensures the clavicles are out of the lung field?\",\"options\":[\"Angle the X-ray tube cephalad.\",\"Position the patient in a prone position.\",\"Align the X-ray beam perpendicular to the sternum.\",\"Ask the patient to roll their shoulders forward.\"],\"answer\":\"d\",\"reason\":\"Rolling shoulders forward moves the clavicles out of the lung field.\"},{\"question\":\"What is the recommended protocol when imaging a pediatric patient who cannot remain still?\",\"options\":[\"Use sedation to keep the patient immobile.\",\"Use the shortest possible exposure time and immobilization devices.\",\"Allow a parent to hold the child during the procedure without protective gear.\",\"Perform the imaging procedure despite movement for efficiency.\"],\"answer\":\"b\",\"reason\":\"Short exposure time and immobilization reduce radiation and ensure safety.\"}]\n",
    "5. only output the required json. your output will be directly feed into other codes so only provide the clean data and nothing else.\n",
    "here is the occupation: \"\"\""
   ]
  },
  {
   "cell_type": "code",
   "execution_count": 27,
   "metadata": {},
   "outputs": [],
   "source": [
    "def mc_magician(role):\n",
    "    mc_agent = Agent(\n",
    "        model=Ollama(id=model_id),\n",
    "        description=\"\"\"\"youre someone with these qualities:\n",
    "1. Deep Subject Matter Expertise\n",
    "    Extensive knowledge and experience in the specific domain, ensuring that the questions test practical and theoretical knowledge relevant to the field.\n",
    "    Familiarity with industry trends, tools, and challenges to create current and applicable scenarios.\n",
    "\n",
    "2. Pedagogical Skills\n",
    "    Ability to design questions that evaluate not only memorized knowledge but also problem-solving, analytical thinking, and applied skills.\n",
    "    Experience in educational design or certification processes.\n",
    "\n",
    "3. Understanding of Professional Requirements\n",
    "    Awareness of the key competencies required for success in the profession. This could involve collaborating with industry professionals or studying job requirements.\n",
    "    Ability to assess levels of proficiency, from beginner to expert.\n",
    "\n",
    "4. Analytical and Research Skills\n",
    "    Capable of analyzing job roles and breaking them into assessable skills and knowledge areas.\n",
    "    Conducting research to stay updated on technological or methodological advancements.\n",
    "\n",
    "5. Collaboration with Industry Practitioners\n",
    "    Collaboration with professionals currently working in the field to ensure questions reflect real-world challenges and practices.\n",
    "    Incorporating feedback from companies or organizations that will use the certification.\n",
    "\n",
    "6. Access to Validation Tools\n",
    "    Familiarity with tools for benchmarking and validating questions to ensure they are neither too simple nor overly complex.\n",
    "    Experience with psychometric techniques to gauge question effectiveness.\"\"\",\n",
    "        storage=SqlAgentStorage(table_name=\"agent_sessions\", db_file=\"tmp/agent_storage.db\"),\n",
    "        instructions=[\"you only output what is reuqired and never provide explanation or additional information.\"],\n",
    "        add_history_to_messages=True,\n",
    "        num_history_responses=3,\n",
    "        \n",
    "    )\n",
    "    return mc_agent.run(prompt+role).content, mc_agent.session_id"
   ]
  },
  {
   "cell_type": "code",
   "execution_count": 28,
   "metadata": {},
   "outputs": [
    {
     "data": {
      "text/plain": [
       "('[{\"question\":\"What is the primary consideration when designing an irrigation system for a farm with high soil salinity?\",\"options\":[\"Maximize water flow rate to ensure crop health.\",\"Implement a drip irrigation system to reduce evaporation.\",\"Use a sprinkler system to promote soil aeration.\",\"Design a flood irrigation system to increase land use efficiency.\"],\"answer\":\"b\",\"reason\":\"Drip irrigation reduces evaporation and prevents further soil salinization.\"},{\"question\":\"A farm is considering using anaerobic digesters to produce biogas from agricultural waste. What should be the primary concern when siting these facilities?\",\"options\":[\"Minimizing land use and visual impact.\",\"Ensuring adequate space for future expansion.\",\"Maximizing proximity to the main farmhouse for convenience.\",\"Protecting nearby water sources due to ammonia emissions.\"],\"answer\":\"d\",\"reason\":\"Anaerobic digesters emit ammonia, which can contaminate water sources.\"},{\"question\":\"What is the recommended approach when conducting a cost-benefit analysis of a new agricultural technology?\",\"options\":[\"Estimate only the direct costs and benefits.\",\"Calculate both direct and indirect costs and benefits.\",\"Focus solely on environmental costs and benefits.\",\"Consider only the economic costs and benefits.\"],\"answer\":\"c\",\"reason\":\"Direct and indirect costs and benefits should be calculated for an accurate assessment.\"},{\"question\":\"A farm is experiencing high levels of crop damage due to pests. What would be the most effective strategy to address this issue?\",\"options\":[\"Implementing integrated pest management (IPM) practices.\",\"Using chemical pesticides as a last resort.\",\"Promoting biological control through beneficial insects.\",\"Increasing crop rotation and sanitation efforts.\"],\"answer\":\"a\",\"reason\":\"IPM is a holistic approach that considers multiple factors to minimize pest damage.\"},{\"question\":\"What is the primary consideration when designing a farm\\'s energy-efficient lighting system?\",\"options\":[\"Minimizing upfront costs and capital expenditures.\",\"Ensuring sufficient lumens output for worker safety.\",\"Maximizing energy efficiency through LED technology.\",\"Prioritizing aesthetic appeal and visual comfort for employees.\"],\"answer\":\"b\",\"reason\":\"Sufficient lumens output is essential for worker safety and productivity.\"},{\"question\":\"A farm is planning to implement a precision agriculture system using satellite imaging and GPS. What would be the primary benefit of this approach?\",\"options\":[\"Increased crop yields through optimized resource allocation.\",\"Improved soil health through enhanced nutrient management.\",\"Enhanced labor efficiency through streamlined workflows.\",\"Reduced energy consumption through more precise equipment operation.\"],\"answer\":\"a\",\"reason\":\"Precision agriculture optimizes resource allocation, leading to increased crop yields.\"},{\"question\":\"What is the most effective way to minimize environmental impact when designing a new farm infrastructure project?\",\"options\":[\"Conducting thorough environmental assessments and EIA reports.\",\"Implementing sustainable materials and waste management practices.\",\"Prioritizing energy-efficient systems and renewable energy sources.\",\"Focusing on labor efficiency and reduced water consumption.\"],\"answer\":\"c\",\"reason\":\"Energy-efficient systems and renewable energy reduce environmental impact.\"},{\"question\":\"A farm is experiencing equipment failure due to high temperatures. What would be the most effective strategy to address this issue?\",\"options\":[\"Implementing advanced cooling technologies such as evaporative coolers.\",\"Using lubricants to minimize friction and wear.\",\"Increasing maintenance intervals to extend equipment lifespan.\",\"Rotating equipment during peak temperature hours.\"],\"answer\":\"a\",\"reason\":\"Advanced cooling technologies can mitigate the effects of high temperatures on equipment.\"},{\"question\":\"What is the primary consideration when designing a farm\\'s stormwater management system?\",\"options\":[\"Maximizing water reuse and recycling opportunities.\",\"Minimizing land use and visual impact.\",\"Ensuring adequate space for future expansion.\",\"Preventing erosion and sedimentation through proper drainage design.\"],\"answer\":\"d\",\"reason\":\"Proper drainage design prevents erosion and sedimentation.\"},{\"question\":\"A farm is considering using drones for crop monitoring. What would be the primary benefit of this approach?\",\"options\":[\"Enhanced data collection and analysis through satellite imaging.\",\"Increased labor efficiency through streamlined workflows.\",\"Improved precision agriculture through real-time crop monitoring.\",\"Reduced energy consumption through reduced flying hours.\"],\"answer\":\"c\",\"reason\":\"Real-time crop monitoring enables improved precision agriculture practices.\"}]',\n",
       " '27635844-609f-4c8f-ae43-06d267360e4b')"
      ]
     },
     "execution_count": 28,
     "metadata": {},
     "output_type": "execute_result"
    }
   ],
   "source": [
    "mc_magician(agent_list[0])"
   ]
  },
  {
   "cell_type": "code",
   "execution_count": 29,
   "metadata": {},
   "outputs": [
    {
     "name": "stdout",
     "output_type": "stream",
     "text": [
      "What is the primary goal of precision irrigation systems in agricultural engineering? ['Reducing water usage to minimize costs.', 'Increasing crop yield through optimized water distribution.', 'Enhancing soil aeration for better root growth.', 'Improving air circulation within greenhouses for temperature control.']\n",
      "Which of the following materials is most suitable for constructing a greenhouse with a high humidity environment? ['Aluminum alloys due to their corrosion resistance.', 'Stainless steel pipes for durability and low maintenance.', 'PVC-coated fabric for water resistance and UV stability.', 'Galvanized iron sheets for cost-effectiveness.']\n",
      "What is the purpose of implementing a crop rotation system as part of an agricultural engineering project? ['To reduce soil erosion by adding organic matter.', 'To increase plant disease transmission by spreading pathogens.', 'To enhance soil fertility through nutrient cycling.', 'To decrease biodiversity by promoting monoculture.']\n",
      "Which agricultural machine component is most susceptible to wear due to its constant exposure to soil and crop debris? ['Gearbox due to lubrication breakdowns.', 'Pneumatic tires for uneven terrain stress.', 'Roller chains for mechanical abrasion resistance.', 'Threshing drums for grain flow obstruction.']\n",
      "What is the primary benefit of integrating solar power into an agricultural operation? ['Reduced greenhouse gas emissions through renewable energy use.', 'Increased crop yield due to supplemental lighting during winter months.', 'Improved water pumping efficiency by harnessing natural sunlight.', 'Enhanced storage capacity for grain and livestock using photovoltaic panels.']\n",
      "Which agricultural engineering system would benefit most from the integration of advanced sensing technologies? ['Precision irrigation networks to optimize water distribution.', 'Automated milking systems for improved dairy production efficiency.', 'Crop monitoring drones for enhanced crop yield predictions.', 'Aeroponic or hydroponic growing systems for nutrient delivery and control.']\n",
      "What is the primary objective of implementing a drip irrigation system in an agricultural engineering project? ['To reduce labor costs by automating water distribution.', 'To enhance soil health through reduced erosion and nutrient leaching.', 'To increase crop yields through targeted and efficient watering.', 'To decrease water consumption by minimizing waste and evaporation.']\n",
      "Which of the following agricultural engineering systems is most vulnerable to cyber attacks? ['Precision farming drones for navigation and data transmission.', 'Automated livestock feeding systems using wireless sensors.', 'Greenhouse climate control units relying on cloud-connected monitoring.', 'Farm equipment management software connecting tractors, planters, and harvesters.']\n",
      "What is the primary purpose of integrating a composting system in an agricultural operation? ['To reduce waste disposal costs through organic recycling.', 'To decrease soil fertility by eliminating crop residues.', 'To enhance soil structure and nutrient levels using natural decomposition processes.', 'To increase greenhouse gas emissions from anaerobic digestion and composting.']\n",
      "Which of the following agricultural engineering projects would benefit most from collaboration with a multidisciplinary team? ['Designing an automated milking system for dairy production.', 'Implementing precision agriculture technologies for crop monitoring.', 'Developing a climate-resilient farm infrastructure to address climate change impacts.', 'Constructing a large-scale vertical farming facility in an urban setting.']\n"
     ]
    },
    {
     "data": {
      "text/plain": [
       "[['What is the primary goal of precision irrigation systems in agricultural engineering?',\n",
       "  ['Reducing water usage to minimize costs.',\n",
       "   'Increasing crop yield through optimized water distribution.',\n",
       "   'Enhancing soil aeration for better root growth.',\n",
       "   'Improving air circulation within greenhouses for temperature control.']],\n",
       " ['Which of the following materials is most suitable for constructing a greenhouse with a high humidity environment?',\n",
       "  ['Aluminum alloys due to their corrosion resistance.',\n",
       "   'Stainless steel pipes for durability and low maintenance.',\n",
       "   'PVC-coated fabric for water resistance and UV stability.',\n",
       "   'Galvanized iron sheets for cost-effectiveness.']],\n",
       " ['What is the purpose of implementing a crop rotation system as part of an agricultural engineering project?',\n",
       "  ['To reduce soil erosion by adding organic matter.',\n",
       "   'To increase plant disease transmission by spreading pathogens.',\n",
       "   'To enhance soil fertility through nutrient cycling.',\n",
       "   'To decrease biodiversity by promoting monoculture.']],\n",
       " ['Which agricultural machine component is most susceptible to wear due to its constant exposure to soil and crop debris?',\n",
       "  ['Gearbox due to lubrication breakdowns.',\n",
       "   'Pneumatic tires for uneven terrain stress.',\n",
       "   'Roller chains for mechanical abrasion resistance.',\n",
       "   'Threshing drums for grain flow obstruction.']],\n",
       " ['What is the primary benefit of integrating solar power into an agricultural operation?',\n",
       "  ['Reduced greenhouse gas emissions through renewable energy use.',\n",
       "   'Increased crop yield due to supplemental lighting during winter months.',\n",
       "   'Improved water pumping efficiency by harnessing natural sunlight.',\n",
       "   'Enhanced storage capacity for grain and livestock using photovoltaic panels.']],\n",
       " ['Which agricultural engineering system would benefit most from the integration of advanced sensing technologies?',\n",
       "  ['Precision irrigation networks to optimize water distribution.',\n",
       "   'Automated milking systems for improved dairy production efficiency.',\n",
       "   'Crop monitoring drones for enhanced crop yield predictions.',\n",
       "   'Aeroponic or hydroponic growing systems for nutrient delivery and control.']],\n",
       " ['What is the primary objective of implementing a drip irrigation system in an agricultural engineering project?',\n",
       "  ['To reduce labor costs by automating water distribution.',\n",
       "   'To enhance soil health through reduced erosion and nutrient leaching.',\n",
       "   'To increase crop yields through targeted and efficient watering.',\n",
       "   'To decrease water consumption by minimizing waste and evaporation.']],\n",
       " ['Which of the following agricultural engineering systems is most vulnerable to cyber attacks?',\n",
       "  ['Precision farming drones for navigation and data transmission.',\n",
       "   'Automated livestock feeding systems using wireless sensors.',\n",
       "   'Greenhouse climate control units relying on cloud-connected monitoring.',\n",
       "   'Farm equipment management software connecting tractors, planters, and harvesters.']],\n",
       " ['What is the primary purpose of integrating a composting system in an agricultural operation?',\n",
       "  ['To reduce waste disposal costs through organic recycling.',\n",
       "   'To decrease soil fertility by eliminating crop residues.',\n",
       "   'To enhance soil structure and nutrient levels using natural decomposition processes.',\n",
       "   'To increase greenhouse gas emissions from anaerobic digestion and composting.']],\n",
       " ['Which of the following agricultural engineering projects would benefit most from collaboration with a multidisciplinary team?',\n",
       "  ['Designing an automated milking system for dairy production.',\n",
       "   'Implementing precision agriculture technologies for crop monitoring.',\n",
       "   'Developing a climate-resilient farm infrastructure to address climate change impacts.',\n",
       "   'Constructing a large-scale vertical farming facility in an urban setting.']]]"
      ]
     },
     "execution_count": 29,
     "metadata": {},
     "output_type": "execute_result"
    }
   ],
   "source": [
    "result = mc_magician(agent_list[0])\n",
    "qb = json.loads(result[0])\n",
    "for q in range(len(qb)):\n",
    "    print(qb[q][\"question\"],qb[q][\"options\"] )\n",
    "\n",
    "questions = [[qb[q][\"question\"],qb[q][\"options\"]] for q in range(len(qb))]\n",
    "answers = [qb[q][\"answer\"] for q in range(len(qb))]\n",
    "questions"
   ]
  },
  {
   "cell_type": "code",
   "execution_count": 32,
   "metadata": {},
   "outputs": [
    {
     "data": {
      "text/plain": [
       "['b', 'c', 'c', 'c', 'a', 'a', 'd', 'd', 'c', 'd']"
      ]
     },
     "execution_count": 32,
     "metadata": {},
     "output_type": "execute_result"
    }
   ],
   "source": [
    "answers"
   ]
  },
  {
   "cell_type": "code",
   "execution_count": 33,
   "metadata": {},
   "outputs": [],
   "source": [
    "def answer_cleaner(input):\n",
    "    clean_agent = Agent(\n",
    "        model=Ollama(id=model_id),\n",
    "        description=\"you are a profession computer programmer with 20 years of experience. you are good at cleaning data and cextract answer to be a list of strings. you will receive input, and please extract answer from it. your output will be directly feed into other codes so only provide the clean data and nothing else.example: ['x','x','x','x','x','x'] where 'x' is either D, B, C, or A\",\n",
    "        storage=SqlAgentStorage(table_name=\"agent_sessions\", db_file=\"tmp/agent_storage.db\"),\n",
    "        instructions=[\"you only output what is reuqired and never provide explanation or additional information\"],\n",
    "        add_history_to_messages=True,\n",
    "        num_history_responses=3,\n",
    "        \n",
    "    )\n",
    "    return clean_agent.run(input).content"
   ]
  },
  {
   "cell_type": "code",
   "execution_count": 37,
   "metadata": {},
   "outputs": [
    {
     "name": "stdout",
     "output_type": "stream",
     "text": [
      "What is the primary goal of precision irrigation systems in agricultural engineering?: A\n",
      "Which of the following materials is most suitable for constructing a greenhouse with a high humidity environment?: C\n",
      "What is the purpose of implementing a crop rotation system as part of an agricultural engineering project?: C\n",
      "Which agricultural machine component is most susceptible to wear due to its constant exposure to soil and crop debris?: B\n",
      "What is the primary benefit of integrating solar power into an agricultural operation?: A\n",
      "Which agricultural engineering system would benefit most from the integration of advanced sensing technologies?: C\n",
      "What is the primary objective of implementing a drip irrigation system in an agricultural engineering project?: D\n",
      "Which of the following agricultural engineering systems is most vulnerable to cyber attacks?: D\n",
      "What is the primary purpose of integrating a composting system in an agricultural operation?: C\n",
      "Which of the following agricultural engineering projects would benefit most from collaboration with a multidisciplinary team?: D\n",
      "question1: B\n",
      "question2: C\n",
      "question3: C\n",
      "question4: B\n",
      "question5: A\n",
      "question6: C\n",
      "question7: D\n",
      "question8: D\n",
      "question9: C\n",
      "question10: C\n",
      "question1: A\n",
      "question2: C\n",
      "question3: C\n",
      "question4: B\n",
      "question5: A\n",
      "question6: C\n",
      "question7: D\n",
      "question8: D\n",
      "question9: C\n",
      "question10: D\n",
      "question1: B\n",
      "question2: C\n",
      "question3: C\n",
      "question4: B\n",
      "question5: A\n",
      "question6: C\n",
      "question7: D\n",
      "question8: D\n",
      "question9: C\n",
      "question10: D\n",
      "question1: A\n",
      "question2: C\n",
      "question3: C\n",
      "question4: B\n",
      "question5: A\n",
      "question6: C\n",
      "question7: D\n",
      "question8: D\n",
      "question9: C\n",
      "question10: D\n"
     ]
    }
   ],
   "source": [
    "for agent in agents_in_action:\n",
    "    for q in range(len(questions)):\n",
    "        print(ask_mc(\"\"\"format is very important. remember to structure your result. no need to provide reaons. here is the question:\"\"\"+ str(questions[q]), agents_in_action[agent]))\n"
   ]
  },
  {
   "cell_type": "code",
   "execution_count": null,
   "metadata": {},
   "outputs": [],
   "source": [
    "b,c,c,b,a,c,d,d,c,c"
   ]
  },
  {
   "cell_type": "code",
   "execution_count": 190,
   "metadata": {},
   "outputs": [
    {
     "data": {
      "text/plain": [
       "[('', '7b0ea7be-49be-480f-a810-95a529125472'),\n",
       " ('', '1f601db4-7f71-424e-87a8-a96a9aa377bd'),\n",
       " ('', '1a50066f-ee7c-4796-b8fe-8cae71f1c902'),\n",
       " ('', '70be8b5a-5898-4d71-a3ee-eb2bac0efc2a'),\n",
       " ('', '574971a1-d045-4c91-ba3e-570d115f9149'),\n",
       " ('', 'ab793c5e-a807-4dd0-8741-37a051234e74'),\n",
       " ('', '6e4a4542-1d18-4d69-b105-528967ca9a3c'),\n",
       " ('', '34f921f5-fb68-417d-b070-4db079d67982'),\n",
       " ('', 'fc11e6fe-7793-4582-9c0c-b207d35d1699'),\n",
       " ('', '4d899baa-2aff-4eaf-ad6f-7291615b01a0'),\n",
       " ('', 'fe6c81c3-9e50-4360-b052-2605a7d00fb5'),\n",
       " ('', 'f8a1bf45-77b9-45da-953a-623b25943a41'),\n",
       " ('', '7ef9f6de-1874-4c0b-86ce-254016bc83c6'),\n",
       " ('', '41a45682-7b44-47bd-8cc8-d12224d0fa79'),\n",
       " ('', '010500fa-c6f4-4d5f-8066-7aa0507a2508'),\n",
       " ('', 'fe4b9e27-e576-46c5-8a94-13280988aa37'),\n",
       " ('', '66d3297a-b3b2-4654-8b25-fe4bfe7b4bba'),\n",
       " ('', 'b2c1a450-3ce7-4208-b184-983c59cb3ee5'),\n",
       " ('', '41e50342-623c-4ba4-962b-215670462f50'),\n",
       " ('', '5ce98f1e-890e-4d68-bba5-0fc8e509ff29'),\n",
       " ('', '48c8077a-9804-4c04-bec7-9d623d694734'),\n",
       " ('', '37775395-c2ba-48a8-9051-2d96e45dbe9b'),\n",
       " ('', '3e3e1225-0018-4f0f-a343-a3f8fa5dc29d'),\n",
       " ('', '68738245-3e5f-48b9-a56e-5740f07b4574'),\n",
       " ('', 'c6302e85-3fef-42f3-86d4-238f8825013f'),\n",
       " ('', '5a7930ed-6525-4479-93ce-be0a67d69a2a'),\n",
       " ('', '8d8f5fdd-4695-4788-a7fd-4fa780077b88'),\n",
       " ('', '15a980e9-c376-4617-a65c-8a336b94458a'),\n",
       " ('', '4fa78e87-d43b-4364-8194-0e08924f46e1'),\n",
       " ('', 'bbb83b5d-6961-418f-9f68-12803c5e823e'),\n",
       " ('', 'af762568-44d1-42d3-b220-f75fff0f5eda'),\n",
       " ('', '70410bc5-85e8-46d2-9ab7-b3bd69bb2e9e'),\n",
       " ('', '464c407f-7b89-44fa-9e16-9cc7a4c4c054'),\n",
       " ('', '2c2120a2-9699-42ed-9b7c-00826abec01c'),\n",
       " ('', 'f4f724de-7309-4bf3-9639-c31bed98c439'),\n",
       " ('', '9acfdd59-c412-4adb-8d90-d7ae84a27fb6'),\n",
       " ('', '5f6d6394-06e0-4882-a367-d9639703059d'),\n",
       " ('', 'a129efae-57d7-43c3-a923-20a22eff9691'),\n",
       " ('', 'e989eacb-0e6d-4866-b18f-f5236308e7eb'),\n",
       " ('', 'a2dcfb0f-2957-49aa-8bea-a2d4d78e1725'),\n",
       " ('', '22a6d916-246d-46a5-a4b8-8110fe21c8e0'),\n",
       " ('', '5e73db68-bfb7-4853-bbc4-e416324bacae'),\n",
       " ('', 'd30881b8-b24a-4dde-b0bd-95b817dbb76e'),\n",
       " ('', '77eb1af6-85cf-490b-9b21-926553499808'),\n",
       " ('', '08044aca-6771-4839-be10-47a07c3dff94'),\n",
       " ('', '5dfce4fc-62a3-421e-8bf3-4e14fd655a99'),\n",
       " ('', 'b1a7f75a-fba3-4fdb-b0c0-22d90a530194'),\n",
       " ('', 'a2147da7-5df3-471c-a8ca-19c9f1513dea'),\n",
       " ('', '65d13396-85e2-42d5-8619-2e4b2fb622df'),\n",
       " ('', '4a7d8554-3981-4a41-b15d-faec0ee9c898')]"
      ]
     },
     "execution_count": 190,
     "metadata": {},
     "output_type": "execute_result"
    }
   ],
   "source": [
    "store"
   ]
  },
  {
   "cell_type": "code",
   "execution_count": 1,
   "metadata": {},
   "outputs": [],
   "source": [
    "messydata = \"\"\"('qustion:1, answer:A', '39f281cb-5653-4c53-aa71-93693110ec63')\n",
    "('qustion:2, answer:B', '39f281cb-5653-4c53-aa71-93693110ec63')\n",
    "('qustion:3, answer:C', '39f281cb-5653-4c53-aa71-93693110ec63')\n",
    "('qustion:4, answer:C', '39f281cb-5653-4c53-aa71-93693110ec63')\n",
    "('qustion:5, answer:C', '39f281cb-5653-4c53-aa71-93693110ec63')\n",
    "('qustion:6, answer:B', '39f281cb-5653-4c53-aa71-93693110ec63')\n",
    "('qustion:7, answer:C', '39f281cb-5653-4c53-aa71-93693110ec63')\n",
    "('qustion:8, answer:D', '39f281cb-5653-4c53-aa71-93693110ec63')\n",
    "('qustion:9, answer:A', '39f281cb-5653-4c53-aa71-93693110ec63')\n",
    "('qustion:10, answer:B', '39f281cb-5653-4c53-aa71-93693110ec63')\"\"\""
   ]
  },
  {
   "cell_type": "code",
   "execution_count": null,
   "metadata": {},
   "outputs": [
    {
     "data": {
      "text/plain": [
       "['A', 'B', 'C', 'C', 'C', 'C', 'B', 'C', 'D', 'A', 'B']"
      ]
     },
     "execution_count": 121,
     "metadata": {},
     "output_type": "execute_result"
    }
   ],
   "source": [
    "eval(answer_cleaner(messydata)[0])\n",
    "#use json.loads"
   ]
  }
 ],
 "metadata": {
  "kernelspec": {
   "display_name": "Python 3",
   "language": "python",
   "name": "python3"
  },
  "language_info": {
   "codemirror_mode": {
    "name": "ipython",
    "version": 3
   },
   "file_extension": ".py",
   "mimetype": "text/x-python",
   "name": "python",
   "nbconvert_exporter": "python",
   "pygments_lexer": "ipython3",
   "version": "3.12.4"
  }
 },
 "nbformat": 4,
 "nbformat_minor": 2
}
