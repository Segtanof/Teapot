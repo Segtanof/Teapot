{
 "cells": [
  {
   "cell_type": "code",
   "execution_count": 2,
   "metadata": {},
   "outputs": [],
   "source": [
    "#for loading data\n",
    "import pandas as pd\n",
    "\n",
    "#for llm\n",
    "from langchain_ollama import ChatOllama\n",
    "from langchain_core.messages import HumanMessage, AIMessage\n",
    "from langchain_core.prompts import ChatPromptTemplate, MessagesPlaceholder\n",
    "\n",
    "#logging\n",
    "import pickle\n",
    "\n",
    "#similarity\n",
    "from sentence_transformers import SentenceTransformer\n",
    "\n",
    "#visualization\n",
    "#plot matrix\n",
    "import numpy as np\n",
    "import matplotlib.pyplot as plt\n",
    "import seaborn as sns"
   ]
  },
  {
   "cell_type": "markdown",
   "metadata": {},
   "source": [
    "### Load data"
   ]
  },
  {
   "cell_type": "code",
   "execution_count": 54,
   "metadata": {},
   "outputs": [],
   "source": [
    "job_statements = pd.read_excel(\"datasets/task_statements.xlsx\")\n",
    "job_statements.columns = job_statements.columns.str.lower()\n",
    "job_statements = job_statements.drop(labels=[\"incumbents responding\",\"date\",\"domain source\"], axis=1).rename(columns={\"o*net-soc code\":\"code\", \"task type\":\"type\", \"task id\": \"id\"})\n"
   ]
  },
  {
   "cell_type": "code",
   "execution_count": 59,
   "metadata": {},
   "outputs": [],
   "source": [
    "# set up occupation data\n",
    "occupations = pd.read_excel('datasets/occupation_data.xlsx').dropna()\n",
    "occupations.columns = occupations.columns.str.lower()\n",
    "#rename the column \n",
    "occupations = occupations.rename(columns={'o*net-soc code':'code'})   \n",
    "#drop rows with \"all other\" in the content\n",
    "occupations = occupations[~occupations['title'].str.contains(\"All Other\")]\n",
    "#change data type\n",
    "occupations['code'] = occupations['code'].astype(str)\n",
    "occupations['title'] = occupations['title'].astype(str)\n",
    "occupations['description'] = occupations['description'].astype(str)\n",
    "\n",
    "test_occ = occupations.sample(1, random_state=1).iloc[0].title\n",
    "\n"
   ]
  },
  {
   "cell_type": "code",
   "execution_count": 61,
   "metadata": {},
   "outputs": [],
   "source": [
    "def get_des (title):\n",
    "    task_list = list(job_statements.query(\"title == @title\")[\"task\"])\n",
    "    return task_list"
   ]
  },
  {
   "cell_type": "code",
   "execution_count": 62,
   "metadata": {},
   "outputs": [
    {
     "data": {
      "text/plain": [
       "['Confer with customers by telephone or in person to provide information about products or services, take or enter orders, cancel accounts, or obtain details of complaints.',\n",
       " 'Keep records of customer interactions or transactions, recording details of inquiries, complaints, or comments, as well as actions taken.',\n",
       " \"Check to ensure that appropriate changes were made to resolve customers' problems.\",\n",
       " 'Contact customers to respond to inquiries or to notify them of claim investigation results or any planned adjustments.',\n",
       " 'Determine charges for services requested, collect deposits or payments, or arrange for billing.',\n",
       " 'Complete contract forms, prepare change of address records, or issue service discontinuance orders, using computers.',\n",
       " 'Refer unresolved customer grievances to designated departments for further investigation.',\n",
       " \"Resolve customers' service or billing complaints by performing activities such as exchanging merchandise, refunding money, or adjusting bills.\",\n",
       " 'Review insurance policy terms to determine whether a particular loss is covered by insurance.',\n",
       " 'Solicit sales of new or additional services or products.',\n",
       " 'Compare disputed merchandise with original requisitions and information from invoices and prepare invoices for returned goods.',\n",
       " 'Obtain and examine all relevant information to assess validity of complaints and to determine possible causes, such as extreme weather conditions that could increase utility bills.',\n",
       " 'Recommend improvements in products, packaging, shipping, service, or billing methods and procedures to prevent future problems.']"
      ]
     },
     "execution_count": 62,
     "metadata": {},
     "output_type": "execute_result"
    }
   ],
   "source": [
    "get_des(test_occ)"
   ]
  },
  {
   "cell_type": "code",
   "execution_count": null,
   "metadata": {},
   "outputs": [],
   "source": []
  }
 ],
 "metadata": {
  "kernelspec": {
   "display_name": "Python 3",
   "language": "python",
   "name": "python3"
  },
  "language_info": {
   "codemirror_mode": {
    "name": "ipython",
    "version": 3
   },
   "file_extension": ".py",
   "mimetype": "text/x-python",
   "name": "python",
   "nbconvert_exporter": "python",
   "pygments_lexer": "ipython3",
   "version": "3.12.4"
  }
 },
 "nbformat": 4,
 "nbformat_minor": 2
}
