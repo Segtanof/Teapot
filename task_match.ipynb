{
 "cells": [
  {
   "cell_type": "code",
   "execution_count": 1,
   "metadata": {},
   "outputs": [],
   "source": [
    "#for loading data\n",
    "import pandas as pd\n",
    "import json\n",
    "\n",
    "#for llm\n",
    "from langchain_ollama import ChatOllama\n",
    "from langchain_core.messages import HumanMessage, AIMessage\n",
    "from langchain_core.prompts import ChatPromptTemplate, MessagesPlaceholder\n",
    "from pydantic import BaseModel\n",
    "\n",
    "#logging\n",
    "import pickle\n",
    "\n",
    "#similarity\n",
    "import regex as re\n",
    "from sentence_transformers import SentenceTransformer\n",
    "\n",
    "#visualization\n",
    "#plot matrix\n",
    "import numpy as np\n",
    "import matplotlib.pyplot as plt\n",
    "import seaborn as sns"
   ]
  },
  {
   "cell_type": "markdown",
   "metadata": {},
   "source": [
    "### Load data"
   ]
  },
  {
   "cell_type": "code",
   "execution_count": 2,
   "metadata": {},
   "outputs": [
    {
     "data": {
      "text/html": [
       "<div>\n",
       "<style scoped>\n",
       "    .dataframe tbody tr th:only-of-type {\n",
       "        vertical-align: middle;\n",
       "    }\n",
       "\n",
       "    .dataframe tbody tr th {\n",
       "        vertical-align: top;\n",
       "    }\n",
       "\n",
       "    .dataframe thead th {\n",
       "        text-align: right;\n",
       "    }\n",
       "</style>\n",
       "<table border=\"1\" class=\"dataframe\">\n",
       "  <thead>\n",
       "    <tr style=\"text-align: right;\">\n",
       "      <th></th>\n",
       "      <th>code</th>\n",
       "      <th>title</th>\n",
       "      <th>id</th>\n",
       "      <th>task</th>\n",
       "      <th>type</th>\n",
       "      <th>ind</th>\n",
       "    </tr>\n",
       "  </thead>\n",
       "  <tbody>\n",
       "    <tr>\n",
       "      <th>0</th>\n",
       "      <td>11-1011.00</td>\n",
       "      <td>Chief Executives</td>\n",
       "      <td>8823</td>\n",
       "      <td>Direct or coordinate an organization's financi...</td>\n",
       "      <td>Core</td>\n",
       "      <td>11</td>\n",
       "    </tr>\n",
       "    <tr>\n",
       "      <th>1</th>\n",
       "      <td>11-1011.00</td>\n",
       "      <td>Chief Executives</td>\n",
       "      <td>8824</td>\n",
       "      <td>Confer with board members, organization offici...</td>\n",
       "      <td>Core</td>\n",
       "      <td>11</td>\n",
       "    </tr>\n",
       "    <tr>\n",
       "      <th>2</th>\n",
       "      <td>11-1011.00</td>\n",
       "      <td>Chief Executives</td>\n",
       "      <td>8827</td>\n",
       "      <td>Prepare budgets for approval, including those ...</td>\n",
       "      <td>Core</td>\n",
       "      <td>11</td>\n",
       "    </tr>\n",
       "    <tr>\n",
       "      <th>3</th>\n",
       "      <td>11-1011.00</td>\n",
       "      <td>Chief Executives</td>\n",
       "      <td>8826</td>\n",
       "      <td>Direct, plan, or implement policies, objective...</td>\n",
       "      <td>Core</td>\n",
       "      <td>11</td>\n",
       "    </tr>\n",
       "    <tr>\n",
       "      <th>4</th>\n",
       "      <td>11-1011.00</td>\n",
       "      <td>Chief Executives</td>\n",
       "      <td>8834</td>\n",
       "      <td>Prepare or present reports concerning activiti...</td>\n",
       "      <td>Core</td>\n",
       "      <td>11</td>\n",
       "    </tr>\n",
       "    <tr>\n",
       "      <th>...</th>\n",
       "      <td>...</td>\n",
       "      <td>...</td>\n",
       "      <td>...</td>\n",
       "      <td>...</td>\n",
       "      <td>...</td>\n",
       "      <td>...</td>\n",
       "    </tr>\n",
       "    <tr>\n",
       "      <th>18781</th>\n",
       "      <td>53-7121.00</td>\n",
       "      <td>Tank Car, Truck, and Ship Loaders</td>\n",
       "      <td>12793</td>\n",
       "      <td>Observe positions of cars passing loading spou...</td>\n",
       "      <td>Core</td>\n",
       "      <td>53</td>\n",
       "    </tr>\n",
       "    <tr>\n",
       "      <th>18782</th>\n",
       "      <td>53-7121.00</td>\n",
       "      <td>Tank Car, Truck, and Ship Loaders</td>\n",
       "      <td>12795</td>\n",
       "      <td>Monitor product movement to and from storage t...</td>\n",
       "      <td>Core</td>\n",
       "      <td>53</td>\n",
       "    </tr>\n",
       "    <tr>\n",
       "      <th>18783</th>\n",
       "      <td>53-7121.00</td>\n",
       "      <td>Tank Car, Truck, and Ship Loaders</td>\n",
       "      <td>12794</td>\n",
       "      <td>Operate ship loading and unloading equipment, ...</td>\n",
       "      <td>Core</td>\n",
       "      <td>53</td>\n",
       "    </tr>\n",
       "    <tr>\n",
       "      <th>18784</th>\n",
       "      <td>53-7121.00</td>\n",
       "      <td>Tank Car, Truck, and Ship Loaders</td>\n",
       "      <td>12796</td>\n",
       "      <td>Record operating data such as products and qua...</td>\n",
       "      <td>Core</td>\n",
       "      <td>53</td>\n",
       "    </tr>\n",
       "    <tr>\n",
       "      <th>18785</th>\n",
       "      <td>53-7121.00</td>\n",
       "      <td>Tank Car, Truck, and Ship Loaders</td>\n",
       "      <td>12798</td>\n",
       "      <td>Operate industrial trucks, tractors, loaders, ...</td>\n",
       "      <td>Core</td>\n",
       "      <td>53</td>\n",
       "    </tr>\n",
       "  </tbody>\n",
       "</table>\n",
       "<p>13417 rows × 6 columns</p>\n",
       "</div>"
      ],
      "text/plain": [
       "             code                              title     id  \\\n",
       "0      11-1011.00                   Chief Executives   8823   \n",
       "1      11-1011.00                   Chief Executives   8824   \n",
       "2      11-1011.00                   Chief Executives   8827   \n",
       "3      11-1011.00                   Chief Executives   8826   \n",
       "4      11-1011.00                   Chief Executives   8834   \n",
       "...           ...                                ...    ...   \n",
       "18781  53-7121.00  Tank Car, Truck, and Ship Loaders  12793   \n",
       "18782  53-7121.00  Tank Car, Truck, and Ship Loaders  12795   \n",
       "18783  53-7121.00  Tank Car, Truck, and Ship Loaders  12794   \n",
       "18784  53-7121.00  Tank Car, Truck, and Ship Loaders  12796   \n",
       "18785  53-7121.00  Tank Car, Truck, and Ship Loaders  12798   \n",
       "\n",
       "                                                    task  type ind  \n",
       "0      Direct or coordinate an organization's financi...  Core  11  \n",
       "1      Confer with board members, organization offici...  Core  11  \n",
       "2      Prepare budgets for approval, including those ...  Core  11  \n",
       "3      Direct, plan, or implement policies, objective...  Core  11  \n",
       "4      Prepare or present reports concerning activiti...  Core  11  \n",
       "...                                                  ...   ...  ..  \n",
       "18781  Observe positions of cars passing loading spou...  Core  53  \n",
       "18782  Monitor product movement to and from storage t...  Core  53  \n",
       "18783  Operate ship loading and unloading equipment, ...  Core  53  \n",
       "18784  Record operating data such as products and qua...  Core  53  \n",
       "18785  Operate industrial trucks, tractors, loaders, ...  Core  53  \n",
       "\n",
       "[13417 rows x 6 columns]"
      ]
     },
     "execution_count": 2,
     "metadata": {},
     "output_type": "execute_result"
    }
   ],
   "source": [
    "job_statements = pd.read_excel(\"datasets/task_statements.xlsx\")\n",
    "job_statements.columns = job_statements.columns.str.lower()\n",
    "job_statements = job_statements.drop(labels=[\"incumbents responding\",\"date\",\"domain source\"], axis=1).rename(columns={\"o*net-soc code\":\"code\", \"task type\":\"type\", \"task id\": \"id\"})\n",
    "job_statements = job_statements[~job_statements[\"type\"].str.contains(\"Supplemental\", case=False, na=True)]\n",
    "job_statements[\"ind\"] = job_statements[\"code\"].str[:2]\n",
    "job_statements"
   ]
  },
  {
   "cell_type": "code",
   "execution_count": 55,
   "metadata": {},
   "outputs": [
    {
     "data": {
      "text/plain": [
       "['Telephone Operators',\n",
       " 'Forest and Conservation Technicians',\n",
       " 'Elementary School Teachers, Except Special Education',\n",
       " 'Human Resources Managers',\n",
       " 'Wind Energy Development Managers']"
      ]
     },
     "execution_count": 55,
     "metadata": {},
     "output_type": "execute_result"
    }
   ],
   "source": [
    "#extract occu list from job statement list \n",
    "occupations = job_statements.drop(labels=[\"id\", \"task\", \"type\"], axis=1)\n",
    "occupations = occupations.drop_duplicates()\n",
    "sampled_occupation = occupations.groupby('ind', group_keys=False).sample(frac=0.05, random_state=1) #43 samples\n",
    "test_sample = sampled_occupation.sample(5, random_state= 2)\n",
    "test_sample_list = [test_sample.iloc[x][\"title\"] for x in range(len(test_sample))]\n",
    "test_sample_list\n"
   ]
  },
  {
   "cell_type": "markdown",
   "metadata": {},
   "source": [
    "### set up matching function"
   ]
  },
  {
   "cell_type": "code",
   "execution_count": 4,
   "metadata": {},
   "outputs": [],
   "source": [
    "def get_des (title):\n",
    "    task_list = list(job_statements.query(\"title == @title\")[\"task\"])\n",
    "    return task_list"
   ]
  },
  {
   "cell_type": "code",
   "execution_count": 5,
   "metadata": {},
   "outputs": [],
   "source": [
    "def match(gen, ref):\n",
    "    sim_model = SentenceTransformer(\"all-mpnet-base-v2\", similarity_fn_name=\"cosine\")\n",
    "\n",
    "    # Compute embeddings for both lists\n",
    "    embeddings_gen = sim_model.encode(gen)\n",
    "    embeddings_ref = sim_model.encode(ref)\n",
    "\n",
    "    # Compute cosine similarities\n",
    "    similarities = float(sim_model.similarity(embeddings_gen, embeddings_ref))\n",
    "    return similarities"
   ]
  },
  {
   "cell_type": "code",
   "execution_count": 6,
   "metadata": {},
   "outputs": [],
   "source": [
    "#plot graph\n",
    "def plot(similarities):\n",
    "    x_label = [x+1 for x in range(len(similarities))]\n",
    "    y_label = [chr(num + 96) for num in x_label]\n",
    "    plt.figure(figsize=(12, 12))\n",
    "    sns.heatmap(similarities, annot=True, fmt=\".3f\", cmap=\"crest\", xticklabels=x_label, yticklabels=y_label)\n",
    "    plt.title(\"Sentence Cosine Similarity for \"+ test_occ)\n",
    "    plt.xlabel(\"O*NET Data\")\n",
    "    plt.ylabel(\"Generated Sentence\")\n",
    "    plt.savefig(\"results/\"+test_occ+\".png\")\n",
    "    plt.show()\n",
    "    return plt"
   ]
  },
  {
   "cell_type": "code",
   "execution_count": 7,
   "metadata": {},
   "outputs": [],
   "source": [
    "#pre process text\n",
    "def preProcessText(text=list):\n",
    "\tprocessed = []\n",
    "\tfor doc in text:\n",
    "\t\tdoc = re.sub(r\"\\\\n\", \"\", doc)\n",
    "\t\tdoc = re.sub(r\"\\W\", \" \", doc) #remove non words char\n",
    "\t\tdoc = re.sub(r\"\\d\",\" \", doc) #remove digits char\n",
    "\t\tdoc = re.sub(r'\\s+[a-z]\\s+', \"\", doc) # remove a single char\n",
    "\t\tdoc = re.sub(r'^[a-z]\\s+', \"\", doc) #remove a single character at the start of a document\n",
    "\t\tdoc = re.sub(r'\\s+', \" \", doc)  #replace an extra space with a single space\n",
    "\t\tdoc = re.sub(r'^\\s', \"\", doc) # remove space at the start of a doc\n",
    "\t\tdoc = re.sub(r'\\s$', \"\", doc) # remove space at the end of a document\n",
    "\t\tprocessed.append(doc.lower())\n",
    "\treturn processed"
   ]
  },
  {
   "cell_type": "code",
   "execution_count": 8,
   "metadata": {},
   "outputs": [],
   "source": [
    "# parse response\n",
    "def parse_response(response):\n",
    "    try:\n",
    "        parsed = json.loads(response[\"statements\"])\n",
    "        return parsed\n",
    "    except:\n",
    "        try:\n",
    "            parsed = response[\"statements\"]\n",
    "            return parsed\n",
    "        except:\n",
    "            return \"invalid\""
   ]
  },
  {
   "cell_type": "code",
   "execution_count": 51,
   "metadata": {},
   "outputs": [],
   "source": [
    "def task_gen(title,model):\n",
    "    class job_statement(BaseModel):\n",
    "        role: str\n",
    "        statements: list[str]\n",
    "\n",
    "\n",
    "    #initialize model\n",
    "    # model= ChatOllama(model=\"llama3.1\", temperature=1), format= 'json')\n",
    "    model= model\n",
    "\n",
    "    task = \"generate \"+str(len(get_des(title)))+\" task statements that a {name} would perform at work.\"\n",
    "\n",
    "    prompt_template = ChatPromptTemplate([\n",
    "        # (\"system\", \"your role is a {name}. Respond like a {name}.\"),\n",
    "        (\"human\",\"{input}\")\n",
    "        ]\n",
    "    )\n",
    "    structured_llm = model.with_structured_output(schema=job_statement.model_json_schema())\n",
    "\n",
    "    prompt = prompt_template.invoke({\"name\": title, \"input\": task})\n",
    "    response = structured_llm.invoke(prompt)\n",
    "\n",
    "    return response\n",
    "    "
   ]
  },
  {
   "cell_type": "code",
   "execution_count": 34,
   "metadata": {},
   "outputs": [],
   "source": [
    "def add_record(occupation, ref, gen, df):\n",
    "    new_row = pd.DataFrame({'role': occupation, 'ref_statements': [ref], \"gen_statements\":[gen]})\n",
    "    df = pd.concat([df, new_row], ignore_index=True)\n",
    "    return df"
   ]
  },
  {
   "cell_type": "markdown",
   "metadata": {},
   "source": [
    "### packaging things for repeated excution"
   ]
  },
  {
   "cell_type": "code",
   "execution_count": 48,
   "metadata": {},
   "outputs": [],
   "source": [
    "model = ChatOllama(model=\"llama3.1\", temperature=1)"
   ]
  },
  {
   "cell_type": "code",
   "execution_count": 47,
   "metadata": {},
   "outputs": [
    {
     "data": {
      "text/html": [
       "<div>\n",
       "<style scoped>\n",
       "    .dataframe tbody tr th:only-of-type {\n",
       "        vertical-align: middle;\n",
       "    }\n",
       "\n",
       "    .dataframe tbody tr th {\n",
       "        vertical-align: top;\n",
       "    }\n",
       "\n",
       "    .dataframe thead th {\n",
       "        text-align: right;\n",
       "    }\n",
       "</style>\n",
       "<table border=\"1\" class=\"dataframe\">\n",
       "  <thead>\n",
       "    <tr style=\"text-align: right;\">\n",
       "      <th></th>\n",
       "      <th>role</th>\n",
       "      <th>ref_statements</th>\n",
       "      <th>gen_statements</th>\n",
       "    </tr>\n",
       "  </thead>\n",
       "  <tbody>\n",
       "  </tbody>\n",
       "</table>\n",
       "</div>"
      ],
      "text/plain": [
       "Empty DataFrame\n",
       "Columns: [role, ref_statements, gen_statements]\n",
       "Index: []"
      ]
     },
     "execution_count": 47,
     "metadata": {},
     "output_type": "execute_result"
    }
   ],
   "source": [
    "data = [\"role\", \"ref_statements\", \"gen_statements\"]\n",
    "record = pd.DataFrame(columns=data)\n",
    "record"
   ]
  },
  {
   "cell_type": "code",
   "execution_count": 52,
   "metadata": {},
   "outputs": [
    {
     "data": {
      "text/html": [
       "<div>\n",
       "<style scoped>\n",
       "    .dataframe tbody tr th:only-of-type {\n",
       "        vertical-align: middle;\n",
       "    }\n",
       "\n",
       "    .dataframe tbody tr th {\n",
       "        vertical-align: top;\n",
       "    }\n",
       "\n",
       "    .dataframe thead th {\n",
       "        text-align: right;\n",
       "    }\n",
       "</style>\n",
       "<table border=\"1\" class=\"dataframe\">\n",
       "  <thead>\n",
       "    <tr style=\"text-align: right;\">\n",
       "      <th></th>\n",
       "      <th>role</th>\n",
       "      <th>ref_statements</th>\n",
       "      <th>gen_statements</th>\n",
       "    </tr>\n",
       "  </thead>\n",
       "  <tbody>\n",
       "    <tr>\n",
       "      <th>0</th>\n",
       "      <td>Telephone Operators</td>\n",
       "      <td>[Observe signal lights on switchboards, and di...</td>\n",
       "      <td>{'role': 'Telephone Operator', 'statements': '...</td>\n",
       "    </tr>\n",
       "    <tr>\n",
       "      <th>1</th>\n",
       "      <td>Forest and Conservation Technicians</td>\n",
       "      <td>[Thin and space trees and control weeds and un...</td>\n",
       "      <td>{'role': 'Forest and Conservation Technician',...</td>\n",
       "    </tr>\n",
       "    <tr>\n",
       "      <th>2</th>\n",
       "      <td>Elementary School Teachers, Except Special Edu...</td>\n",
       "      <td>[Instruct students individually and in groups,...</td>\n",
       "      <td>{'role': 'Elementary School Teachers, Except S...</td>\n",
       "    </tr>\n",
       "    <tr>\n",
       "      <th>3</th>\n",
       "      <td>Human Resources Managers</td>\n",
       "      <td>[Serve as a link between management and employ...</td>\n",
       "      <td>{'role': 'Human Resources Manager', 'statement...</td>\n",
       "    </tr>\n",
       "    <tr>\n",
       "      <th>4</th>\n",
       "      <td>Wind Energy Development Managers</td>\n",
       "      <td>[Coordinate or direct development, energy asse...</td>\n",
       "      <td>{'role': 'Wind Energy Development Manager', 's...</td>\n",
       "    </tr>\n",
       "    <tr>\n",
       "      <th>5</th>\n",
       "      <td>Telephone Operators</td>\n",
       "      <td>[Observe signal lights on switchboards, and di...</td>\n",
       "      <td>{'role': '{name}', 'statements': '[\"Attend mor...</td>\n",
       "    </tr>\n",
       "    <tr>\n",
       "      <th>6</th>\n",
       "      <td>Forest and Conservation Technicians</td>\n",
       "      <td>[Thin and space trees and control weeds and un...</td>\n",
       "      <td>{'role': '{name}', 'statements': '[\"Design use...</td>\n",
       "    </tr>\n",
       "    <tr>\n",
       "      <th>7</th>\n",
       "      <td>Elementary School Teachers, Except Special Edu...</td>\n",
       "      <td>[Instruct students individually and in groups,...</td>\n",
       "      <td>{'role': '{name}', 'statements': '[\"Task 1\",\"T...</td>\n",
       "    </tr>\n",
       "    <tr>\n",
       "      <th>8</th>\n",
       "      <td>Human Resources Managers</td>\n",
       "      <td>[Serve as a link between management and employ...</td>\n",
       "      <td>{'role': '{name}', 'statements': '[\"data entry...</td>\n",
       "    </tr>\n",
       "    <tr>\n",
       "      <th>9</th>\n",
       "      <td>Wind Energy Development Managers</td>\n",
       "      <td>[Coordinate or direct development, energy asse...</td>\n",
       "      <td>{'role': '{name}', 'statements': '[\"Meet with ...</td>\n",
       "    </tr>\n",
       "  </tbody>\n",
       "</table>\n",
       "</div>"
      ],
      "text/plain": [
       "                                                role  \\\n",
       "0                                Telephone Operators   \n",
       "1                Forest and Conservation Technicians   \n",
       "2  Elementary School Teachers, Except Special Edu...   \n",
       "3                           Human Resources Managers   \n",
       "4                   Wind Energy Development Managers   \n",
       "5                                Telephone Operators   \n",
       "6                Forest and Conservation Technicians   \n",
       "7  Elementary School Teachers, Except Special Edu...   \n",
       "8                           Human Resources Managers   \n",
       "9                   Wind Energy Development Managers   \n",
       "\n",
       "                                      ref_statements  \\\n",
       "0  [Observe signal lights on switchboards, and di...   \n",
       "1  [Thin and space trees and control weeds and un...   \n",
       "2  [Instruct students individually and in groups,...   \n",
       "3  [Serve as a link between management and employ...   \n",
       "4  [Coordinate or direct development, energy asse...   \n",
       "5  [Observe signal lights on switchboards, and di...   \n",
       "6  [Thin and space trees and control weeds and un...   \n",
       "7  [Instruct students individually and in groups,...   \n",
       "8  [Serve as a link between management and employ...   \n",
       "9  [Coordinate or direct development, energy asse...   \n",
       "\n",
       "                                      gen_statements  \n",
       "0  {'role': 'Telephone Operator', 'statements': '...  \n",
       "1  {'role': 'Forest and Conservation Technician',...  \n",
       "2  {'role': 'Elementary School Teachers, Except S...  \n",
       "3  {'role': 'Human Resources Manager', 'statement...  \n",
       "4  {'role': 'Wind Energy Development Manager', 's...  \n",
       "5  {'role': '{name}', 'statements': '[\"Attend mor...  \n",
       "6  {'role': '{name}', 'statements': '[\"Design use...  \n",
       "7  {'role': '{name}', 'statements': '[\"Task 1\",\"T...  \n",
       "8  {'role': '{name}', 'statements': '[\"data entry...  \n",
       "9  {'role': '{name}', 'statements': '[\"Meet with ...  "
      ]
     },
     "execution_count": 52,
     "metadata": {},
     "output_type": "execute_result"
    }
   ],
   "source": [
    "for occu in test_sample_list:\n",
    "    reference_statements = get_des(occu)\n",
    "    generated_statements = task_gen(occu, model)\n",
    "    record = add_record(occu, reference_statements, generated_statements, record)\n",
    "\n",
    "record\n"
   ]
  },
  {
   "cell_type": "code",
   "execution_count": 53,
   "metadata": {},
   "outputs": [
    {
     "data": {
      "text/plain": [
       "[0.769441545009613,\n",
       " 0.6515114903450012,\n",
       " 0.7625613808631897,\n",
       " 0.8361252546310425,\n",
       " 0.8547928929328918,\n",
       " 0.5699836015701294,\n",
       " 0.2603439390659332,\n",
       " 0.1919810175895691,\n",
       " 0.3310691714286804,\n",
       " 0.5504266023635864]"
      ]
     },
     "execution_count": 53,
     "metadata": {},
     "output_type": "execute_result"
    }
   ],
   "source": [
    "similarity_score = []\n",
    "for x in range(len(record)):\n",
    "    gen_clean = \"\".join(preProcessText(parse_response(record[\"gen_statements\"].iloc[x])))\n",
    "    ref_clean = \"\".join(preProcessText(record[\"ref_statements\"].iloc[x]))\n",
    "    similarity_score.append(match(gen_clean, ref_clean))\n",
    "\n",
    "similarity_score"
   ]
  },
  {
   "cell_type": "code",
   "execution_count": 58,
   "metadata": {},
   "outputs": [
    {
     "data": {
      "text/plain": [
       "0.8547928929328918"
      ]
     },
     "execution_count": 58,
     "metadata": {},
     "output_type": "execute_result"
    }
   ],
   "source": [
    "max(similarity_score)"
   ]
  },
  {
   "cell_type": "code",
   "execution_count": null,
   "metadata": {},
   "outputs": [
    {
     "data": {
      "image/png": "[encoded data removed]",
      "text/plain": [
       "<Figure size 640x480 with 1 Axes>"
      ]
     },
     "metadata": {},
     "output_type": "display_data"
    }
   ],
   "source": [
    "bplot = sns.boxplot(sim_l)"
   ]
  },
  {
   "cell_type": "code",
   "execution_count": null,
   "metadata": {},
   "outputs": [
    {
     "data": {
      "image/png": "[encoded data removed]",
      "text/plain": [
       "<Figure size 1200x1200 with 2 Axes>"
      ]
     },
     "metadata": {},
     "output_type": "display_data"
    },
    {
     "name": "stdout",
     "output_type": "stream",
     "text": [
      "['Respond to customer inquiries', 'Resolve customer complaints', 'Provide product information', 'Process transactions', 'Answer frequently asked questions', 'Escalate complex issues', 'Document customer interactions']\n"
     ]
    }
   ],
   "source": [
    "plot_processed(gen_des, test_occ)"
   ]
  },
  {
   "cell_type": "code",
   "execution_count": null,
   "metadata": {},
   "outputs": [
    {
     "data": {
      "text/plain": [
       "tensor([[0.9331]])"
      ]
     },
     "execution_count": 35,
     "metadata": {},
     "output_type": "execute_result"
    }
   ],
   "source": [
    "s1 = [\"\".join(preProcessText(get_des(test_occ)))]\n",
    "s2 = [\"\".join(preProcessText(get_des(test_occ))).replace(\"and\", \"\").replace(\"or\", \"\")]\n",
    "match(s2, s1)"
   ]
  }
 ],
 "metadata": {
  "kernelspec": {
   "display_name": "Python 3",
   "language": "python",
   "name": "python3"
  },
  "language_info": {
   "codemirror_mode": {
    "name": "ipython",
    "version": 3
   },
   "file_extension": ".py",
   "mimetype": "text/x-python",
   "name": "python",
   "nbconvert_exporter": "python",
   "pygments_lexer": "ipython3",
   "version": "3.12.4"
  }
 },
 "nbformat": 4,
 "nbformat_minor": 2
}
