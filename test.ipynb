{
 "cells": [
  {
   "cell_type": "code",
   "execution_count": null,
   "metadata": {},
   "outputs": [],
   "source": [
    "import json\n",
    "import pandas as pd\n",
    "from phi.agent import Agent, RunResponse\n",
    "from phi.model.ollama import Ollama\n",
    "from phi.storage.agent.sqlite import SqlAgentStorage\n",
    "from phi.knowledge.json import JSONKnowledgeBase\n",
    "from phi.vectordb.pgvector import PgVector"
   ]
  },
  {
   "cell_type": "code",
   "execution_count": 115,
   "metadata": {},
   "outputs": [
    {
     "data": {
      "text/html": [
       "<div>\n",
       "<style scoped>\n",
       "    .dataframe tbody tr th:only-of-type {\n",
       "        vertical-align: middle;\n",
       "    }\n",
       "\n",
       "    .dataframe tbody tr th {\n",
       "        vertical-align: top;\n",
       "    }\n",
       "\n",
       "    .dataframe thead th {\n",
       "        text-align: right;\n",
       "    }\n",
       "</style>\n",
       "<table border=\"1\" class=\"dataframe\">\n",
       "  <thead>\n",
       "    <tr style=\"text-align: right;\">\n",
       "      <th></th>\n",
       "      <th>code</th>\n",
       "      <th>name</th>\n",
       "      <th>description</th>\n",
       "      <th>mean</th>\n",
       "    </tr>\n",
       "  </thead>\n",
       "  <tbody>\n",
       "    <tr>\n",
       "      <th>301</th>\n",
       "      <td>291021</td>\n",
       "      <td>Dentists, General</td>\n",
       "      <td>Examine, diagnose, and treat diseases, injurie...</td>\n",
       "      <td>191750</td>\n",
       "    </tr>\n",
       "    <tr>\n",
       "      <th>419</th>\n",
       "      <td>352019</td>\n",
       "      <td>Cooks, All Other</td>\n",
       "      <td>All cooks not listed separately.</td>\n",
       "      <td>37610</td>\n",
       "    </tr>\n",
       "    <tr>\n",
       "      <th>261</th>\n",
       "      <td>259044</td>\n",
       "      <td>Teaching Assistants, Postsecondary</td>\n",
       "      <td>Assist faculty or other instructional staff in...</td>\n",
       "      <td>47030</td>\n",
       "    </tr>\n",
       "    <tr>\n",
       "      <th>235</th>\n",
       "      <td>251194</td>\n",
       "      <td>Career/Technical Education Teachers, Postsecon...</td>\n",
       "      <td>Teach vocational courses intended to provide o...</td>\n",
       "      <td>68300</td>\n",
       "    </tr>\n",
       "    <tr>\n",
       "      <th>513</th>\n",
       "      <td>434111</td>\n",
       "      <td>Interviewers, Except Eligibility and Loan</td>\n",
       "      <td>Interview persons by telephone, mail, in perso...</td>\n",
       "      <td>42750</td>\n",
       "    </tr>\n",
       "    <tr>\n",
       "      <th>181</th>\n",
       "      <td>211022</td>\n",
       "      <td>Healthcare Social Workers</td>\n",
       "      <td>Provide individuals, families, and groups with...</td>\n",
       "      <td>67430</td>\n",
       "    </tr>\n",
       "    <tr>\n",
       "      <th>117</th>\n",
       "      <td>173021</td>\n",
       "      <td>Aerospace Engineering and Operations Technolog...</td>\n",
       "      <td>Operate, install, adjust, and maintain integra...</td>\n",
       "      <td>81280</td>\n",
       "    </tr>\n",
       "    <tr>\n",
       "      <th>329</th>\n",
       "      <td>291215</td>\n",
       "      <td>Family Medicine Physicians</td>\n",
       "      <td>Diagnose, treat, and provide preventive care t...</td>\n",
       "      <td>240790</td>\n",
       "    </tr>\n",
       "    <tr>\n",
       "      <th>807</th>\n",
       "      <td>536051</td>\n",
       "      <td>Transportation Inspectors</td>\n",
       "      <td>Inspect equipment or goods in connection with ...</td>\n",
       "      <td>83920</td>\n",
       "    </tr>\n",
       "    <tr>\n",
       "      <th>772</th>\n",
       "      <td>519196</td>\n",
       "      <td>Paper Goods Machine Setters, Operators, and Te...</td>\n",
       "      <td>Set up, operate, or tend paper goods machines ...</td>\n",
       "      <td>48910</td>\n",
       "    </tr>\n",
       "  </tbody>\n",
       "</table>\n",
       "</div>"
      ],
      "text/plain": [
       "       code                                               name  \\\n",
       "301  291021                                  Dentists, General   \n",
       "419  352019                                   Cooks, All Other   \n",
       "261  259044                 Teaching Assistants, Postsecondary   \n",
       "235  251194  Career/Technical Education Teachers, Postsecon...   \n",
       "513  434111          Interviewers, Except Eligibility and Loan   \n",
       "181  211022                          Healthcare Social Workers   \n",
       "117  173021  Aerospace Engineering and Operations Technolog...   \n",
       "329  291215                         Family Medicine Physicians   \n",
       "807  536051                          Transportation Inspectors   \n",
       "772  519196  Paper Goods Machine Setters, Operators, and Te...   \n",
       "\n",
       "                                           description    mean  \n",
       "301  Examine, diagnose, and treat diseases, injurie...  191750  \n",
       "419                   All cooks not listed separately.   37610  \n",
       "261  Assist faculty or other instructional staff in...   47030  \n",
       "235  Teach vocational courses intended to provide o...   68300  \n",
       "513  Interview persons by telephone, mail, in perso...   42750  \n",
       "181  Provide individuals, families, and groups with...   67430  \n",
       "117  Operate, install, adjust, and maintain integra...   81280  \n",
       "329  Diagnose, treat, and provide preventive care t...  240790  \n",
       "807  Inspect equipment or goods in connection with ...   83920  \n",
       "772  Set up, operate, or tend paper goods machines ...   48910  "
      ]
     },
     "execution_count": 115,
     "metadata": {},
     "output_type": "execute_result"
    }
   ],
   "source": [
    "# import occupation description\n",
    "df_occupation = pd.read_csv('occupation.txt', sep='\\t').dropna(subset=[\"occupation_description\"])\n",
    "rawoccupation = df_occupation.copy()\n",
    "df_occupation = df_occupation[[\"occupation_code\", \"occupation_name\",\"occupation_description\"]]\n",
    "\n",
    "# import wage stat\n",
    "df_wage = pd.read_excel(\"testocc.xlsx\")\n",
    "df_wage.columns = df_wage.columns.str.lower()\n",
    "rawwage = df_wage.copy()\n",
    "df_wage = df_wage[[\"occ_code\", \"a_mean\", \"o_group\",\"hourly\"]]\n",
    "df_wage['occ_code'] = df_wage['occ_code'].str.replace('-', '').astype(int)\n",
    "df_wage = df_wage[(df_wage['o_group'] == \"detailed\") & (df_wage[\"hourly\"] != True)]\n",
    "\n",
    "\n",
    "#join both dfs together\n",
    "merged_df = pd.merge(df_occupation, df_wage, left_on='occupation_code', right_on=\"occ_code\", how='inner').drop(columns=[\"o_group\", \"occ_code\", \"hourly\"]).rename(columns={\"occupation_code\":\"code\", \"occupation_name\":\"name\",\"occupation_description\":\"description\", \"a_mean\":\"mean\"})\n",
    "merged_df[\"mean\"].astype(int)\n",
    "merged_df.to_json(\"occupation_data.json\", orient=\"records\", indent=4)\n",
    "\n",
    "#take a sample\n",
    "smallo = merged_df.sample(10)\n",
    "smallo_json = smallo.to_json(orient=\"records\", indent=4)\n",
    "smallo"
   ]
  },
  {
   "cell_type": "code",
   "execution_count": 116,
   "metadata": {},
   "outputs": [
    {
     "data": {
      "text/html": [
       "<div>\n",
       "<style scoped>\n",
       "    .dataframe tbody tr th:only-of-type {\n",
       "        vertical-align: middle;\n",
       "    }\n",
       "\n",
       "    .dataframe tbody tr th {\n",
       "        vertical-align: top;\n",
       "    }\n",
       "\n",
       "    .dataframe thead th {\n",
       "        text-align: right;\n",
       "    }\n",
       "</style>\n",
       "<table border=\"1\" class=\"dataframe\">\n",
       "  <thead>\n",
       "    <tr style=\"text-align: right;\">\n",
       "      <th></th>\n",
       "      <th>code</th>\n",
       "      <th>name</th>\n",
       "      <th>description</th>\n",
       "      <th>mean</th>\n",
       "    </tr>\n",
       "  </thead>\n",
       "  <tbody>\n",
       "    <tr>\n",
       "      <th>301</th>\n",
       "      <td>291021</td>\n",
       "      <td>Dentists, General</td>\n",
       "      <td>Examine, diagnose, and treat diseases, injurie...</td>\n",
       "      <td>191750</td>\n",
       "    </tr>\n",
       "    <tr>\n",
       "      <th>419</th>\n",
       "      <td>352019</td>\n",
       "      <td>Cooks, All Other</td>\n",
       "      <td>All cooks not listed separately.</td>\n",
       "      <td>37610</td>\n",
       "    </tr>\n",
       "    <tr>\n",
       "      <th>261</th>\n",
       "      <td>259044</td>\n",
       "      <td>Teaching Assistants, Postsecondary</td>\n",
       "      <td>Assist faculty or other instructional staff in...</td>\n",
       "      <td>47030</td>\n",
       "    </tr>\n",
       "    <tr>\n",
       "      <th>235</th>\n",
       "      <td>251194</td>\n",
       "      <td>Career/Technical Education Teachers, Postsecon...</td>\n",
       "      <td>Teach vocational courses intended to provide o...</td>\n",
       "      <td>68300</td>\n",
       "    </tr>\n",
       "    <tr>\n",
       "      <th>513</th>\n",
       "      <td>434111</td>\n",
       "      <td>Interviewers, Except Eligibility and Loan</td>\n",
       "      <td>Interview persons by telephone, mail, in perso...</td>\n",
       "      <td>42750</td>\n",
       "    </tr>\n",
       "    <tr>\n",
       "      <th>181</th>\n",
       "      <td>211022</td>\n",
       "      <td>Healthcare Social Workers</td>\n",
       "      <td>Provide individuals, families, and groups with...</td>\n",
       "      <td>67430</td>\n",
       "    </tr>\n",
       "    <tr>\n",
       "      <th>117</th>\n",
       "      <td>173021</td>\n",
       "      <td>Aerospace Engineering and Operations Technolog...</td>\n",
       "      <td>Operate, install, adjust, and maintain integra...</td>\n",
       "      <td>81280</td>\n",
       "    </tr>\n",
       "    <tr>\n",
       "      <th>329</th>\n",
       "      <td>291215</td>\n",
       "      <td>Family Medicine Physicians</td>\n",
       "      <td>Diagnose, treat, and provide preventive care t...</td>\n",
       "      <td>240790</td>\n",
       "    </tr>\n",
       "    <tr>\n",
       "      <th>807</th>\n",
       "      <td>536051</td>\n",
       "      <td>Transportation Inspectors</td>\n",
       "      <td>Inspect equipment or goods in connection with ...</td>\n",
       "      <td>83920</td>\n",
       "    </tr>\n",
       "    <tr>\n",
       "      <th>772</th>\n",
       "      <td>519196</td>\n",
       "      <td>Paper Goods Machine Setters, Operators, and Te...</td>\n",
       "      <td>Set up, operate, or tend paper goods machines ...</td>\n",
       "      <td>48910</td>\n",
       "    </tr>\n",
       "  </tbody>\n",
       "</table>\n",
       "</div>"
      ],
      "text/plain": [
       "       code                                               name  \\\n",
       "301  291021                                  Dentists, General   \n",
       "419  352019                                   Cooks, All Other   \n",
       "261  259044                 Teaching Assistants, Postsecondary   \n",
       "235  251194  Career/Technical Education Teachers, Postsecon...   \n",
       "513  434111          Interviewers, Except Eligibility and Loan   \n",
       "181  211022                          Healthcare Social Workers   \n",
       "117  173021  Aerospace Engineering and Operations Technolog...   \n",
       "329  291215                         Family Medicine Physicians   \n",
       "807  536051                          Transportation Inspectors   \n",
       "772  519196  Paper Goods Machine Setters, Operators, and Te...   \n",
       "\n",
       "                                           description    mean  \n",
       "301  Examine, diagnose, and treat diseases, injurie...  191750  \n",
       "419                   All cooks not listed separately.   37610  \n",
       "261  Assist faculty or other instructional staff in...   47030  \n",
       "235  Teach vocational courses intended to provide o...   68300  \n",
       "513  Interview persons by telephone, mail, in perso...   42750  \n",
       "181  Provide individuals, families, and groups with...   67430  \n",
       "117  Operate, install, adjust, and maintain integra...   81280  \n",
       "329  Diagnose, treat, and provide preventive care t...  240790  \n",
       "807  Inspect equipment or goods in connection with ...   83920  \n",
       "772  Set up, operate, or tend paper goods machines ...   48910  "
      ]
     },
     "execution_count": 116,
     "metadata": {},
     "output_type": "execute_result"
    }
   ],
   "source": [
    "smallo"
   ]
  },
  {
   "cell_type": "code",
   "execution_count": 4,
   "metadata": {},
   "outputs": [],
   "source": [
    "# get the QA eval dataset\n",
    "\n",
    "def process_json_file(file_path):\n",
    "    \"\"\"\n",
    "    Process a JSON file and convert it to a pandas DataFrame with flattened metadata.\n",
    "    \n",
    "    Parameters:\n",
    "    file_path (str): Path to the JSON file\n",
    "    \n",
    "    Returns:\n",
    "    pandas.DataFrame: DataFrame with flattened structure\n",
    "    \"\"\"\n",
    "    try:\n",
    "        # Read the JSON file\n",
    "        # Method 1: If file contains one JSON object per line (JSON Lines format)\n",
    "        try:\n",
    "            df = pd.read_json(file_path, lines=True)\n",
    "        \n",
    "        # Method 2: If file contains a JSON array\n",
    "        except ValueError:\n",
    "            with open(file_path, 'r') as file:\n",
    "                data = json.load(file)\n",
    "                if isinstance(data, dict):\n",
    "                    # If the file contains a single JSON object\n",
    "                    df = pd.DataFrame([data])\n",
    "                else:\n",
    "                    # If the file contains a list of JSON objects\n",
    "                    df = pd.DataFrame(data)\n",
    "        \n",
    "        # Extract metadata columns if they exist\n",
    "        if 'metadata' in df.columns:\n",
    "            # Convert metadata column to dict if it's string\n",
    "            if df['metadata'].dtype == 'object':\n",
    "                df['metadata'] = df['metadata'].apply(lambda x: \n",
    "                    json.loads(x) if isinstance(x, str) else x)\n",
    "            \n",
    "            # Extract metadata fields\n",
    "            metadata_df = pd.json_normalize(df['metadata'])\n",
    "            \n",
    "            # Drop the original metadata column and combine with metadata fields\n",
    "            df = df.drop('metadata', axis=1)\n",
    "            df = pd.concat([df, metadata_df], axis=1)\n",
    "        \n",
    "        return df\n",
    "    \n",
    "    except FileNotFoundError:\n",
    "        print(f\"Error: File '{file_path}' not found.\")\n",
    "        return None\n",
    "    except json.JSONDecodeError:\n",
    "        print(f\"Error: Invalid JSON format in file '{file_path}'.\")\n",
    "        return None\n",
    "    except Exception as e:\n",
    "        print(f\"Error: An unexpected error occurred: {str(e)}\")\n",
    "        return None\n",
    "    \n",
    "process_json_file(\"r1_data_anon.jsonl\")\n",
    "\n",
    "input_data = process_json_file(\"r1_data_anon.jsonl\")\n",
    "df_selected = input_data[[\"question\", \"question_type\"]]\n",
    "q_list= df_selected[df_selected[\"question_type\"].str.contains(\"Open-ended question that is potentially ambiguous\")][\"question\"]\n",
    "smallq = q_list.sample(3) #get 3 questions only. this will be the question asked"
   ]
  },
  {
   "cell_type": "code",
   "execution_count": 5,
   "metadata": {},
   "outputs": [
    {
     "data": {
      "text/plain": [
       "['How would you prioritize if you need to choose between two pharmaceutical products sold by a pharmaceutical company in order to have the small impact in your benefits because the supplier told you they can not produce the quantities needed due to capacity issues?',\n",
       " 'How is the integration between the database infrastructures of the companies and which department takes the most critical role during this integration?',\n",
       " 'What is the significance of Duchamps Urinal sculpture (titled \"Fountain\")?']"
      ]
     },
     "execution_count": 5,
     "metadata": {},
     "output_type": "execute_result"
    }
   ],
   "source": [
    "smallq = q_list.sample(3) #get 3 questions only. this will be the question asked\n",
    "list(smallq)"
   ]
  },
  {
   "cell_type": "code",
   "execution_count": null,
   "metadata": {},
   "outputs": [],
   "source": [
    "# llm play:\n",
    "# 1. llm reads question\n",
    "# 2. llm picks 3 occupations from the list\n",
    "# 3. for each occupations, becomes an agent\n",
    "# 4. provide response to the question\n",
    "# 5. summarization agent summarize response\n",
    "# 6. use response to prompt agent again \n",
    "# 7. summarization agent summarize response\n"
   ]
  },
  {
   "cell_type": "code",
   "execution_count": 54,
   "metadata": {},
   "outputs": [
    {
     "data": {
      "text/plain": [
       "RunResponse(content='I\\'d like to ask you about occupation: Pump Operators, Except Wellhead Pumpers (Job ID: 537072). Can you tell me what this occupation entails? According to the job description in the JSON file provided, it states that pump operators \"tend, control, or operate power-driven, stationary, industrial equipment...\". What does that mean exactly?', content_type='str', event='RunResponse', messages=[Message(role='system', content='this is your reference. it is a json file with occupation information.        code                                       name  \\\\\\n0    111011                           Chief Executives   \\n1    111021            General and Operations Managers   \\n2    111031                                Legislators   \\n3    112011        Advertising and Promotions Managers   \\n4    112021                         Marketing Managers   \\n..      ...                                        ...   \\n821  537072    Pump Operators, Except Wellhead Pumpers   \\n822  537073                           Wellhead Pumpers   \\n823  537081  Refuse and Recyclable Material Collectors   \\n824  537121          Tank Car, Truck, and Ship Loaders   \\n825  537199         Material Moving Workers, All Other   \\n\\n                                           description    mean  \\n0    Determine and formulate policies and provide o...  258900  \\n1    Plan, direct, or coordinate the operations of ...  129330  \\n2    Develop, introduce, or enact laws and statutes...   68140  \\n3    Plan, direct, or coordinate advertising polici...  152620  \\n4    Plan, direct, or coordinate marketing policies...  166410  \\n..                                                 ...     ...  \\n821  Tend, control, or operate power-driven, statio...   58650  \\n822  Operate power pumps and auxiliary equipment to...   69930  \\n823  Collect and dump refuse or recyclable material...   47810  \\n824  Load and unload chemicals and bulk solids, suc...   60530  \\n825  All material moving workers not listed separat...   45840  \\n\\n[826 rows x 4 columns]', name=None, tool_call_id=None, tool_calls=None, tool_name=None, tool_args=None, tool_call_error=None, metrics={}, context=None, created_at=1731944397), Message(role='user', content='Ask me about something from the knowledge base', name=None, tool_call_id=None, tool_calls=None, tool_name=None, tool_args=None, tool_call_error=None, metrics={}, context=None, created_at=1731944397), Message(role='assistant', content='I\\'d like to ask you about occupation: Pump Operators, Except Wellhead Pumpers (Job ID: 537072). Can you tell me what this occupation entails? According to the job description in the JSON file provided, it states that pump operators \"tend, control, or operate power-driven, stationary, industrial equipment...\". What does that mean exactly?', name=None, tool_call_id=None, tool_calls=[], tool_name=None, tool_args=None, tool_call_error=None, metrics={'time': 3.7573018000111915, 'input_tokens': 367, 'output_tokens': 74, 'total_tokens': 441}, context=None, created_at=1731944400)], metrics=defaultdict(<class 'list'>, {'time': [3.7573018000111915], 'input_tokens': [367], 'output_tokens': [74], 'total_tokens': [441]}), model='llama3.2:latest', run_id='f8fa9829-8546-4680-98ce-2c4a2f4490b1', agent_id='42871773-763d-4296-a316-d6d078f27dfa', session_id='c719ee36-dcd5-493f-9d09-431bf722f2cc', workflow_id=None, tools=None, extra_data=None, created_at=1731936921)"
      ]
     },
     "execution_count": 54,
     "metadata": {},
     "output_type": "execute_result"
    }
   ],
   "source": [
    "agent = Agent(\n",
    "    \n",
    "    model=Ollama(id=\"llama3.2:latest\"),\n",
    "    description = f\"this is your reference. it is a json file with occupation information. {merged_df}\"\n",
    ")\n",
    "\n",
    "agent.run(\"Ask me about something from the knowledge base\")"
   ]
  },
  {
   "cell_type": "code",
   "execution_count": null,
   "metadata": {},
   "outputs": [],
   "source": [
    "# get structured output of occupation list\n",
    "def getjobs(question, agent):\n",
    "    structured_output_response: RunResponse = agent.run(\"Select 3 occupation titles from the file to represent the people who are the most fitting in answering the input question. Here is the question:\" + question +  \"structure your output. job title and job title only. python dict format. provide your answer in this way:['job 1', 'job 2', 'job 3']\")\n",
    "    return structured_output_response.content, agent.session_id"
   ]
  },
  {
   "cell_type": "code",
   "execution_count": null,
   "metadata": {},
   "outputs": [],
   "source": [
    "# get structured output of occupation list\n",
    "def getjobs(question, agent):\n",
    "    optimized_prompt = f\"\"\"\n",
    "        Select exactly 3 occupation titles from the provided JSON file that best match the expertise required to answer the input question.\n",
    "\n",
    "        Input Question: {question}  \n",
    "        JSON File:\n",
    "        {smallo_json}\n",
    "        Instructions:\n",
    "        1. Choose the 3 most relevant occupation titles based on their suitability to address the question.\n",
    "        2. Use the \"name\" field in the JSON file for the occupation titles.\n",
    "        3. Output your answer strictly in the following format:  \n",
    "        'id1': 'job 1', 'id2': 'job 2', 'id3': 'job 3'\n",
    "\n",
    "        **Do not output anything other than the required format.** Any extra text, explanations, or clarifications will not be accepted. Strictly follow the format with no deviations.\n",
    "        \"\"\"\n",
    "    structured_output_response: RunResponse = agent.run(optimized_prompt)\n",
    "    return structured_output_response.content, agent.session_id"
   ]
  },
  {
   "cell_type": "code",
   "execution_count": null,
   "metadata": {},
   "outputs": [],
   "source": [
    "structured_output_agent = Agent(\n",
    "    model=Ollama(id=\"llama3.2:latest\"),\n",
    "    description=\"You're a helpful assistant and always try your best to follow the instructions. think carefully, and when you structure your output, dont put new line.\",\n",
    "    # instruction=[f\"Pick your occupation title (name in json file) from the following json file: \\n\\n{smallo_json}\\n\\n Provide your answer in the following way:\\n 'id1':'job 1', 'id2':'job 2', 'id3':'job 3'.\"],\n",
    "    # session_id= \"4c9e102e-2f7a-4a8b-a753-b586193f3519\",\n",
    "    storage=SqlAgentStorage(table_name=\"agent_sessions\", db_file=\"tmp/agent_storage.db\"),\n",
    "    add_history_to_messages=True,\n",
    "    num_history_responses=3    \n",
    ")"
   ]
  },
  {
   "cell_type": "code",
   "execution_count": 124,
   "metadata": {},
   "outputs": [],
   "source": [
    "system_prompt = \"\"\"\n",
    "You are an intelligent agent designed to assist in selecting the most appropriate job titles from a provided JSON file. Your primary goal is to identify three job titles most relevant to answering a specific question. You must analyze the question and match it to the expertise associated with the job titles provided in the JSON.\n",
    "\n",
    "Requirements:\n",
    "- Only use the \"name\" field of the JSON for job titles.\n",
    "- Ensure the selected titles are directly aligned with the domain of the input question.\n",
    "- Your output must strictly follow this format: 'id1': 'job 1', 'id2': 'job 2', 'id3': 'job 3'.\n",
    "\n",
    "Capabilities:\n",
    "- Understand the nuances and requirements of the input question.\n",
    "- Evaluate the JSON entries accurately to determine the most fitting matches.\n",
    "- Respond in a concise and structured format without deviation.\n",
    "\n",
    "Guidelines:\n",
    "1. Maintain precision in job title selection to ensure relevance to the question.\n",
    "2. Do not include any explanations or additional text outside the required output format.\n",
    "\"\"\"\n",
    "\n",
    "\n",
    "\n",
    "structured_output_agent = Agent(\n",
    "    model=Ollama(id=\"llama3.2:latest\"),\n",
    "    description=system_prompt,\n",
    "    # instruction=[f\"Pick your occupation title (name in json file) from the following json file: \\n\\n{smallo_json}\\n\\n Provide your answer in the following way:\\n 'id1':'job 1', 'id2':'job 2', 'id3':'job 3'.\"],\n",
    "    # session_id= \"4c9e102e-2f7a-4a8b-a753-b586193f3519\",\n",
    "    storage=SqlAgentStorage(table_name=\"agent_sessions\", db_file=\"tmp/agent_storage.db\"),\n",
    "    add_history_to_messages=True,\n",
    "    num_history_responses=3    \n",
    ")"
   ]
  },
  {
   "cell_type": "code",
   "execution_count": 125,
   "metadata": {},
   "outputs": [
    {
     "name": "stdout",
     "output_type": "stream",
     "text": [
      "How would you prioritize if you need to choose between two pharmaceutical products sold by a pharmaceutical company in order to have the small impact in your benefits because the supplier told you they can not produce the quantities needed due to capacity issues?\n",
      "('After analyzing the input question, I have selected three occupation titles from the provided JSON file that best match the expertise required to answer the question. Here are my selections:\\n\\n```\\n173021: Aerospace Engineering and Operations Technologists and Technicians,\\n291215: Family Medicine Physicians\\n536051: Transportation Inspectors\\n```\\n\\nThese job titles are relevant because they involve working in industries or roles related to healthcare, pharmaceuticals, and logistics, which align with the context of the input question.', '3a0953dd-3b09-43e3-8db3-eaebfd9d0423')\n",
      "How is the integration between the database infrastructures of the companies and which department takes the most critical role during this integration?\n",
      "('Based on the input question, I have selected three occupation titles from the provided JSON file that best match the expertise required to answer the question. Here are my selections:\\n\\n```\\n173021: Aerospace Engineering and Operations Technologists and Technicians,\\n291215: Family Medicine Physicians,\\n536051: Transportation Inspectors\\n```\\n\\nThese job titles are relevant because they involve working in industries or roles related to technology, healthcare, and transportation, which align with the context of database infrastructures integration.', '3a0953dd-3b09-43e3-8db3-eaebfd9d0423')\n",
      "What is the significance of Duchamps Urinal sculpture (titled \"Fountain\")?\n",
      "('Based on the provided JSON and input question, I have selected three job titles that best match the expertise required to address the significance of Duchamps Urinal sculpture (titled \"Fountain\"). Here are my selections:\\n\\n```\\n291215: Family Medicine Physicians,\\n173021: Aerospace Engineering and Operations Technicians,\\n291021: Dentists, General\\n```\\n\\nThese occupation titles are relevant because they involve working in healthcare, engineering, and oral health, which aligns with the context of understanding a controversial artwork like Duchamps Urinal sculpture.', '3a0953dd-3b09-43e3-8db3-eaebfd9d0423')\n"
     ]
    }
   ],
   "source": [
    "for q in smallq:\n",
    "    print(q)\n",
    "    print(getjobs(q, structured_output_agent))"
   ]
  },
  {
   "cell_type": "code",
   "execution_count": 106,
   "metadata": {},
   "outputs": [
    {
     "data": {
      "text/plain": [
       "'Pick your occupation title (name in json file) from the followinng json file: \\n\\n[\\n    {\\n        \"code\":535011,\\n        \"name\":\"Sailors and Marine Oilers\",\\n        \"description\":\"Stand watch to look for obstructions in path of vessel, measure water depth, turn wheel on bridge, or use emergency equipment as directed by captain, mate, or pilot. Break out, rig, overhaul, and store cargo-handling gear, stationary rigging, and running gear. Perform a variety of maintenance tasks to preserve the painted surface of the ship and to maintain line and ship equipment. Must hold government-issued certification and tankerman certification when working aboard liquid-carrying vessels. Includes able seamen and ordinary seamen.\",\\n        \"mean\":53470\\n    },\\n    {\\n        \"code\":291229,\\n        \"name\":\"Physicians, All Other\",\\n        \"description\":\"All physicians not listed separately.\",\\n        \"mean\":248640\\n    },\\n    {\\n        \"code\":514071,\\n        \"name\":\"Foundry Mold and Coremakers\",\\n        \"description\":\"Make or form wax or sand cores or molds used in the production of metal castings in foundries. Excludes \\\\\"Molding, Coremaking, and Casting Machine Setters, Operators, and Tenders, Metal and Plastic\\\\\" (51-4072) and \\\\\"Molders, Shapers, and Casters, Except Metal and Plastic\\\\\" (51-9195).\",\\n        \"mean\":45130\\n    },\\n    {\\n        \"code\":413041,\\n        \"name\":\"Travel Agents\",\\n        \"description\":\"Plan and sell transportation and accommodations for customers. Determine destination, modes of transportation, travel dates, costs, and accommodations required. May also describe, plan, and arrange itineraries and sell tour packages. May assist in resolving clients\\' travel problems.\",\\n        \"mean\":50040\\n    }\\n]\\n\\n Provide your answer in the following way:\\n \\'id1\\':\\'job 1\\', \\'id2\\':\\'job 2\\', \\'id3\\':\\'job 3\\'.'"
      ]
     },
     "execution_count": 106,
     "metadata": {},
     "output_type": "execute_result"
    }
   ],
   "source": [
    "f\"Pick your occupation title (name in json file) from the followinng json file: \\n\\n{smallo_json}\\n\\n Provide your answer in the following way:\\n 'id1':'job 1', 'id2':'job 2', 'id3':'job 3'.\""
   ]
  },
  {
   "cell_type": "code",
   "execution_count": 103,
   "metadata": {},
   "outputs": [
    {
     "name": "stdout",
     "output_type": "stream",
     "text": [
      "[\n",
      "    {\n",
      "        \"code\":535011,\n",
      "        \"name\":\"Sailors and Marine Oilers\",\n",
      "        \"description\":\"Stand watch to look for obstructions in path of vessel, measure water depth, turn wheel on bridge, or use emergency equipment as directed by captain, mate, or pilot. Break out, rig, overhaul, and store cargo-handling gear, stationary rigging, and running gear. Perform a variety of maintenance tasks to preserve the painted surface of the ship and to maintain line and ship equipment. Must hold government-issued certification and tankerman certification when working aboard liquid-carrying vessels. Includes able seamen and ordinary seamen.\",\n",
      "        \"mean\":53470\n",
      "    },\n",
      "    {\n",
      "        \"code\":291229,\n",
      "        \"name\":\"Physicians, All Other\",\n",
      "        \"description\":\"All physicians not listed separately.\",\n",
      "        \"mean\":248640\n",
      "    },\n",
      "    {\n",
      "        \"code\":514071,\n",
      "        \"name\":\"Foundry Mold and Coremakers\",\n",
      "        \"description\":\"Make or form wax or sand cores or molds used in the production of metal castings in foundries. Excludes \\\"Molding, Coremaking, and Casting Machine Setters, Operators, and Tenders, Metal and Plastic\\\" (51-4072) and \\\"Molders, Shapers, and Casters, Except Metal and Plastic\\\" (51-9195).\",\n",
      "        \"mean\":45130\n",
      "    },\n",
      "    {\n",
      "        \"code\":413041,\n",
      "        \"name\":\"Travel Agents\",\n",
      "        \"description\":\"Plan and sell transportation and accommodations for customers. Determine destination, modes of transportation, travel dates, costs, and accommodations required. May also describe, plan, and arrange itineraries and sell tour packages. May assist in resolving clients' travel problems.\",\n",
      "        \"mean\":50040\n",
      "    }\n",
      "]\n"
     ]
    }
   ],
   "source": [
    "print(smallo_json)"
   ]
  },
  {
   "cell_type": "code",
   "execution_count": 87,
   "metadata": {},
   "outputs": [
    {
     "ename": "TypeError",
     "evalue": "eval() arg 1 must be a string, bytes or code object",
     "output_type": "error",
     "traceback": [
      "\u001b[1;31m---------------------------------------------------------------------------\u001b[0m",
      "\u001b[1;31mTypeError\u001b[0m                                 Traceback (most recent call last)",
      "Cell \u001b[1;32mIn[87], line 5\u001b[0m\n\u001b[0;32m      3\u001b[0m \u001b[38;5;28;01mfor\u001b[39;00m q \u001b[38;5;129;01min\u001b[39;00m smallq:\n\u001b[0;32m      4\u001b[0m     adddata \u001b[38;5;241m=\u001b[39m [q]\n\u001b[1;32m----> 5\u001b[0m     occupation_list \u001b[38;5;241m=\u001b[39m \u001b[38;5;28;43meval\u001b[39;49m\u001b[43m(\u001b[49m\u001b[43mgetjobs\u001b[49m\u001b[43m(\u001b[49m\u001b[43mq\u001b[49m\u001b[43m)\u001b[49m\u001b[43m)\u001b[49m\n\u001b[0;32m      6\u001b[0m     occupation_list\u001b[38;5;241m.\u001b[39mappend(q)\n\u001b[0;32m      7\u001b[0m     pair\u001b[38;5;241m.\u001b[39mloc[\u001b[38;5;28mlen\u001b[39m(pair)] \u001b[38;5;241m=\u001b[39m [\n\u001b[0;32m      8\u001b[0m     occupation_list[\u001b[38;5;241m-\u001b[39m\u001b[38;5;241m1\u001b[39m],  \u001b[38;5;66;03m# The question (last item)\u001b[39;00m\n\u001b[0;32m      9\u001b[0m     occupation_list[\u001b[38;5;241m0\u001b[39m],   \u001b[38;5;66;03m# Option 1\u001b[39;00m\n\u001b[0;32m     10\u001b[0m     occupation_list[\u001b[38;5;241m1\u001b[39m],   \u001b[38;5;66;03m# Option 2\u001b[39;00m\n\u001b[0;32m     11\u001b[0m     occupation_list[\u001b[38;5;241m2\u001b[39m],   \u001b[38;5;66;03m# Option 3\u001b[39;00m\n\u001b[0;32m     12\u001b[0m ]\n",
      "\u001b[1;31mTypeError\u001b[0m: eval() arg 1 must be a string, bytes or code object"
     ]
    }
   ],
   "source": [
    "# run getjobs()\n",
    "pair = pd.DataFrame(columns=[\"questions\", \"o1\", \"o2\", \"o3\"])\n",
    "for q in smallq:\n",
    "    adddata = [q]\n",
    "    occupation_list = eval(getjobs(q))\n",
    "    occupation_list.append(q)\n",
    "    pair.loc[len(pair)] = [\n",
    "    occupation_list[-1],  # The question (last item)\n",
    "    occupation_list[0],   # Option 1\n",
    "    occupation_list[1],   # Option 2\n",
    "    occupation_list[2],   # Option 3\n",
    "]\n",
    "    \n",
    "pair\n"
   ]
  },
  {
   "cell_type": "code",
   "execution_count": 491,
   "metadata": {},
   "outputs": [
    {
     "data": {
      "text/plain": [
       "'Pharmaceutical Research Scientist'"
      ]
     },
     "execution_count": 491,
     "metadata": {},
     "output_type": "execute_result"
    }
   ],
   "source": [
    "for i in range(len(pair)):\n",
    "    row = pair.loc[i]\n",
    "row[\"o1\"]\n"
   ]
  },
  {
   "cell_type": "code",
   "execution_count": 22,
   "metadata": {},
   "outputs": [],
   "source": [
    "#pass questions and occupation to llm\n",
    "def askphi(qo):\n",
    "    result = {}\n",
    "    for i in range(len(qo)):\n",
    "        row = qo.loc[i]\n",
    "\n",
    "        agent_o1 = Agent(\n",
    "            name=\"Agent 1\",\n",
    "            role=row[\"o1\"],\n",
    "            model=Ollama(id=\"llama3.2:latest\"),\n",
    "            markdown=False,\n",
    "            storage=SqlAgentStorage(table_name=\"agent_sessions\", db_file=\"tmp/agent_storage.db\"),\n",
    "            add_history_to_messages=True,\n",
    "            num_history_responses=3,\n",
    "            description=\"you are the best \"+ row[\"o1\"]+ \" in the world\"\n",
    "        )\n",
    "\n",
    "        agent_o2 = Agent(\n",
    "            name=\"Agent 1\",\n",
    "            role=row[\"o2\"],\n",
    "            model=Ollama(id=\"llama3.2:latest\"),\n",
    "            instructions=[\"you are the best \", row[\"o2\"], \" in the world\"],\n",
    "            markdown=False,\n",
    "            storage=SqlAgentStorage(table_name=\"agent_sessions\", db_file=\"tmp/agent_storage.db\"),\n",
    "            add_history_to_messages=True,\n",
    "            num_history_responses=3,\n",
    "            description=\"you are the best \"+ row[\"o2\"]+ \" in the world\"\n",
    "            \n",
    "        )\n",
    "\n",
    "        agent_o3 = Agent(\n",
    "            name=\"Agent 1\",\n",
    "            role=row[\"o3\"],\n",
    "            model=Ollama(id=\"llama3.2:latest\"),\n",
    "            markdown=False,\n",
    "            storage=SqlAgentStorage(table_name=\"agent_sessions\", db_file=\"tmp/agent_storage.db\"),\n",
    "            add_history_to_messages=True,\n",
    "            num_history_responses=3,\n",
    "            description=\"you are the best \"+ row[\"o3\"]+ \" in the world\"\n",
    "        )\n",
    "\n",
    "        output_1 : RunResponse = agent_o1.run(row[\"questions\"])\n",
    "        result[f\"{agent_o1.session_id}\"] = output_1.content\n",
    "        output_2 : RunResponse = agent_o2.run(row[\"questions\"])\n",
    "        result[f\"{agent_o2.session_id}\"] = output_2.content\n",
    "        output_3 : RunResponse = agent_o3.run(row[\"questions\"])\n",
    "        result[f\"{agent_o3.session_id}\"] = output_3.content\n",
    "    return result"
   ]
  },
  {
   "cell_type": "code",
   "execution_count": 23,
   "metadata": {},
   "outputs": [
    {
     "data": {
      "text/plain": [
       "{'ddb51c2e-26fd-438a-bbbf-2bf79e05ba8b': 'As a pharmacist, my primary concern is always the health and well-being of my patients. In this scenario, where I need to choose between two pharmaceutical products due to capacity issues with the supplier, I would follow a step-by-step prioritization process based on several factors:\\n\\n1. **Medical Urgency**: I would assess which product has the most critical indication or is used for treating a severe condition that requires immediate attention. For example, if one product is for cancer treatment and the other is for a minor acute condition, I would prioritize the cancer treatment medication.\\n\\n2. **Patient Safety**: If both products are for similar indications but with different safety profiles, I would choose the one with fewer side effects or warnings. My primary concern is to minimize potential harm to my patients.\\n\\n3. **Availability of Alternative Treatments**: I would consider whether there are alternative treatments available that could provide similar benefits without compromising patient safety. If an alternative treatment exists and is comparable in efficacy, I might opt for it over the product with limited availability.\\n\\n4. **Supplier Communication**: I would ask the supplier about their capacity issues and any planned solutions or alternatives to mitigate this limitation. If they are working to increase production capacity soon, I would consider continuing to hold one of the products in reserve until that happens.\\n\\n5. **Clinical Guidelines and Recommendations**: I would consult with my colleagues, other healthcare professionals, and relevant clinical guidelines (e.g., National Institutes of Health, American Heart Association, or the International Society for Quality Health Care) to ensure I am making an informed decision based on current evidence-based practices.\\n\\n6. **Patient-Specific Factors**: If one product is more suitable for a specific patient population or has a unique benefit for that group, I would prioritize it over the other option.\\n\\n7. **Regulatory Compliance**: As a pharmacist, I must ensure that any decisions regarding medication supply align with local and international regulations governing pharmaceutical use.\\n\\nUltimately, as a pharmacist, my responsibility is to balance competing demands and make decisions that will provide the best possible outcomes for my patients while ensuring compliance with regulatory requirements.',\n",
       " '5ab83726-98cd-4bfc-a258-a82baa94b311': 'I cannot provide medical advice. If you are considering a decision about medication, I recommend that you consult a qualified healthcare professional. Is there anything else I can help you with?',\n",
       " '96634b39-8763-43e7-96ac-20f25fa06478': \"What a challenging scenario! As a Health Economist, I would follow a structured decision-making process to prioritize between these two pharmaceutical products. Since both products are essential and cannot be produced in sufficient quantities due to capacity constraints, my primary focus would be on:\\n\\n1. **Identifying the treatment goals and outcomes**: Determine which product is more critical for patients with specific health conditions or needs. Is one product more effective for treating a particular disease, symptom, or condition? Are there any differences in treatment duration, intensity, or quality of life?\\n2. **Assessing patient populations and needs**: Evaluate the demographics, disease prevalence, and healthcare utilization patterns of the target patient population for each product. Which group would benefit most from the limited availability of either product? Would some patients have to wait longer or accept less effective treatment due to capacity constraints?\\n3. **Comparing efficacy and safety profiles**: Review the clinical trial data, efficacy rates, and safety profiles of both products. Are there any significant differences in their effectiveness, potential side effects, or long-term outcomes? Which product has a more favorable risk-benefit ratio?\\n4. **Resource allocation and prioritization frameworks**: Utilize established resource allocation frameworks, such as the Prioritization Framework for Pharmaceutical Treatments (PFP) or the National Institute for Health and Care Excellence's (NICE) guidelines, to guide the decision-making process.\\n5. **Stakeholder input and consultation**: Engage with healthcare providers, patients, and other relevant stakeholders to gather insights on their perspectives, needs, and priorities. This will help ensure that the decision reflects the broader healthcare community's interests.\\n\\nConsidering these factors, I would prioritize the product that:\\n\\n* Has a more significant impact on patient outcomes or quality of life\\n* Is more effective for treating a specific condition or population\\n* Has a better safety profile or fewer potential side effects\\n* Can be allocated to patients with the greatest need or urgency\\n\\nBy following this structured approach, I can make an informed decision that balances competing priorities and ensures that limited resources are allocated in the most effective way possible.\",\n",
       " '8a64f78c-9e48-4da0-ad76-bf27b3aec62e': 'As a seasoned Database Administrator, I can provide insights on the importance of integration between database infrastructures and the roles played by various departments.\\n\\n**Integration Challenges:**\\n\\nWhen integrating multiple database infrastructures across different companies or departments, several challenges arise:\\n\\n1. **Data Consistency**: Ensuring data consistency and integrity across disparate databases is crucial.\\n2. **Data Governance**: Establishing a unified governance model for data management is essential.\\n3. **Data Security**: Ensuring the security of sensitive data across multiple databases is vital.\\n4. **Integration Complexity**: Integrating different database technologies, such as relational, NoSQL, or graph databases, can be complex.\\n\\n**Key Roles in Integration:**\\n\\nDuring database integration, various departments and teams play critical roles:\\n\\n1. **Data Management Teams**: These teams are responsible for managing data assets across multiple databases. They ensure data governance, security, and compliance.\\n2. **Business Analysts**: Business analysts work closely with stakeholders to understand their requirements and identify opportunities for integration.\\n3. **Database Administrators (DBAs)**: DBAs design, implement, and maintain the database infrastructure, ensuring seamless integration between systems.\\n4. **Development Teams**: Development teams, particularly those responsible for data-driven applications, play a crucial role in integrating databases with their applications.\\n\\n**Department that Takes the Most Critical Role:**\\n\\nWhile all departments contribute to the integration process, I would argue that the **Data Management Department** takes the most critical role during database integration. This is because they:\\n\\n1. **Define Data Governance**: Establishing data governance policies and procedures for multiple databases.\\n2. **Ensure Data Consistency**: Ensuring data consistency across disparate databases.\\n3. **Manage Data Security**: Implementing robust security measures to protect sensitive data.\\n4. **Develop Integration Strategies**: Designing integration solutions that meet business requirements.\\n\\nBy taking the lead in database integration, data management teams ensure a smooth and seamless transition between different database infrastructures, ultimately driving business success.',\n",
       " 'e84770d8-514f-4232-89bb-04535a37cfae': \"As an expert IT Project Manager, I'd be happy to provide insights on integrating database infrastructures across different companies and identifying the critical departments that play a key role in this process.\\n\\n**Integration Challenges:**\\n\\n1. **Data Consistency**: Ensuring data consistency and integrity across multiple databases is crucial for effective integration.\\n2. **Data Format**: Standardizing data formats, structures, and protocols to facilitate seamless exchange between databases.\\n3. **System Compatibility**: Addressing compatibility issues with different database management systems (DBMS) and software applications.\\n\\n**Departmental Roles:**\\n\\nDuring the integration process, various departments contribute to its success. However, some departments take on more critical roles than others:\\n\\n1. **Data Management Department**: This department is responsible for managing data across all databases, ensuring data quality, and implementing data governance policies.\\n2. **Database Administration Department**: DBA teams ensure that database infrastructure is properly configured, secure, and optimized for performance.\\n3. **Information Technology (IT) Department**: The IT team oversees the overall integration effort, coordinates with other departments, and manages the technical aspects of the project.\\n\\n**Other Key Departments:**\\n\\n1. **Business Analysts**: They work closely with stakeholders to understand business requirements and define the scope of the integration project.\\n2. **Quality Assurance (QA) Team**: QA teams test and validate the integrated system to ensure it meets business and functional requirements.\\n3. **Security Teams**: Security teams implement and enforce security measures to protect sensitive data during the integration process.\\n\\n**Best Practices:**\\n\\nTo ensure successful integration between database infrastructures, companies should:\\n\\n1. Establish a clear communication plan among departments.\\n2. Develop a comprehensive project plan with realistic timelines and milestones.\\n3. Utilize standardized tools and frameworks for data integration.\\n4. Conduct thorough testing and validation to ensure system stability and performance.\\n\\nBy identifying the critical departments involved in database infrastructure integration and following best practices, companies can minimize risks, reduce costs, and achieve successful integration of their databases.\",\n",
       " 'cb79658a-fe9c-4db4-a753-a5afee4fe0c9': \"As a seasoned Data Integration Specialist, I can tell you that the integration between the database infrastructures of companies typically involves several departments, but one key player takes on a crucial role: the Information Technology (IT) Department.\\n\\nHere's an overview of how the integration process unfolds and which department plays a critical role:\\n\\n**Key Players:**\\n\\n1. **Information Technology (IT) Department:** The IT department is responsible for setting up, maintaining, and integrating the company's database infrastructure. They have in-depth knowledge of the existing systems, databases, and software applications.\\n2. **Data Management Team:** This team focuses on data quality, governance, and compliance. They ensure that the integrated databases are accurate, consistent, and meet regulatory requirements.\\n3. **Business Operations Team:** This team represents the business stakeholders who will be using the integrated database to support their operations. They provide input on data requirements, workflows, and business processes.\\n\\n**Integration Process:**\\n\\n1. **Requirements Gathering:** The Business Operations Team provides input on the integration requirements, such as data formats, frequencies, and formats.\\n2. **Data Mapping:** The IT Department creates a data mapping plan that outlines the relationships between different databases, systems, and applications.\\n3. **Database Design:** The IT Department designs the integrated database schema, ensuring that it meets the requirements of the Business Operations Team and the Data Management Team.\\n4. **Integration:** The IT Department implements the integration tools and software to connect the various databases and systems.\\n5. **Testing and Quality Assurance:** The Data Management Team performs data quality checks and ensures that the integrated system meets regulatory requirements.\\n\\n**Critical Role of the IT Department:**\\n\\nThe IT department plays a critical role in integrating database infrastructures because they:\\n\\n* Have in-depth knowledge of the existing systems, databases, and software applications.\\n* Are responsible for setting up and maintaining the integrated database infrastructure.\\n* Ensure that the integration is done correctly and meets the business requirements.\\n\\nIn summary, while multiple departments are involved in the integration process, the IT Department takes on a critical role in integrating database infrastructures due to their technical expertise and responsibility for managing the underlying systems.\",\n",
       " '475436ff-33db-44e1-a06a-eda3382a0e72': 'Marcel Duchamp\\'s iconic piece, \"Fountain\" (1917), is a seminal work in the history of modern art. Created from a urinal, \"Fountain\" challenged traditional notions of art and the role of the artist.\\n\\nAt its core, \"Fountain\" was a conceptual prank. Duchamp submitted the urinal to the Society of Independent Artists in New York City, claiming it was a sculpture. When the organizers rejected it, citing that it didn\\'t fit their definition of art, Duchamp\\'s provocative gesture sparked controversy and raised important questions about what constitutes art.\\n\\nThe significance of \"Fountain\" lies in its ability to:\\n\\n1. **Question authority**: By submitting an everyday object as art, Duchamp subverted the expectations of traditional institutions and challenged the notion that art must be created from high-brow materials.\\n2. **Redefine the artist\\'s role**: Duchamp\\'s actions blurred the line between artist, curator, and collector, highlighting the power dynamics involved in creating and exhibiting art.\\n3. **Challenge traditional notions of beauty and skill**: By presenting a mass-produced item as art, Duchamp questioned the value placed on craftsmanship and technical skill, pointing to the importance of conceptual thinking in modern art.\\n4. **Pave the way for Conceptual Art**: \"Fountain\" is often seen as an early example of Conceptual Art, which emphasizes ideas over physical form. This movement would go on to influence generations of artists, from Andy Warhol to Joseph Kosuth.\\n\\nIn short, Marcel Duchamp\\'s \"Fountain\" (1917) was a bold statement about the nature of art and its relationship with society, the artist, and the viewer. Its significance extends far beyond its status as an iconic work of modern art, speaking to fundamental questions about creativity, authority, and the role of the artist in shaping our cultural landscape.\\n\\nNow, would you like me to elaborate on any specific aspect of Duchamp\\'s oeuvre or his influence on the development of modern and contemporary art?',\n",
       " '9ca5c9ab-e6fb-422f-a011-8b6dedf9f887': 'My dear fellow, let us delve into the profound implications of Marcel Duchamp\\'s seminal artwork, \"Fountain\" (1917). As the greatest Philosopher in the world, I shall illuminate the essence of this iconic piece.\\n\\nAt first glance, \"Fountain\" appears to be a humble urinal, submitted by Duchamp as an art installation to an exhibition. However, upon closer inspection, we discover that it is an act of subversion, a deliberate provocation that challenges our conventional notions of art, identity, and the very notion of what constitutes an object.\\n\\nBy presenting a common, everyday item like a urinal as art, Duchamp masterfully exposes the arbitrary boundaries between high and low culture. He forces us to reevaluate our assumptions about what is worthy of artistic attention and recognition. The urinal, once relegated to the realm of the mundane, is elevated to the status of an art object.\\n\\nIn this sense, \"Fountain\" can be seen as a pioneering example of conceptual art, predating the likes of Andy Warhol\\'s Campbell\\'s Soup Cans or John Cage\\'s indeterminacy scores. Duchamp\\'s work blurs the line between the artist\\'s intention and the viewer\\'s perception, creating a dialectical relationship between the two.\\n\\nFurthermore, \"Fountain\" can be interpreted as a commentary on the very nature of art itself. Is it not a reflection of our own ego, desires, and societal constructs? By presenting a seemingly ordinary object as art, Duchamp highlights the artificiality of these boundaries, encouraging us to question the role of the artist and the viewer.\\n\\nThe significance of \"Fountain\" extends beyond the art world, too. It speaks to the existential and phenomenological questions that have puzzled philosophers for centuries: What is the nature of reality? How do we define and categorize things? Can an object\\'s value be determined by its function or form?\\n\\nIn conclusion, Duchamp\\'s \"Fountain\" is more than just a provocative artwork; it is a philosophical treatise on the very fabric of existence. It challenges us to think critically about our assumptions, encourages us to question the status quo, and invites us to engage with the world in a more nuanced and complex manner.\\n\\nNow, if you\\'ll excuse me, I must return to my own philosophical musings. The existential implications of \"Fountain\" are far from exhausted...',\n",
       " 'b718db45-d50b-4e66-b134-618f590f3891': 'Marcel Duchamp\\'s \"Fountain\" (1917) is a seminal work in modern art, and its significance extends beyond its provocative title. As a sociologist, I\\'d like to unpack the cultural context, artistic intentions, and enduring impact of this iconic piece.\\n\\n**Artistic Intentions:**\\nDuchamp\\'s intention was not simply to create an outrageous artwork but to challenge traditional notions of art and challenge the status quo. By presenting a urinal as a sculpture, he questioned the very definition of art, blurring the lines between functional and aesthetic objects. This subversive act sparked controversy and debate among artists, critics, and the general public.\\n\\n**Cultural Context:**\\nIn the early 20th century, art was heavily influenced by traditional techniques, styles, and subject matters. The rise of modernism and Dadaism had already begun to question these conventions. Duchamp\\'s \"Fountain\" tapped into this cultural zeitgeist, exploiting the tensions between high art and everyday life.\\n\\n**The Concept of Readymades:**\\nDuchamp\\'s use of readymades – ordinary objects presented as art – marked a significant departure from traditional artistic practices. This concept expanded the definition of art, challenging the notion that only certain types of materials or techniques could be used to create works of art. The readymade aesthetic paved the way for later artists like Robert Rauschenberg and Jasper Johns.\\n\\n**The Artist\\'s Perspective:**\\nDuchamp\\'s statement, \"A work is not finished until it has been decided that it is not good,\" highlights his intellectual curiosity and desire to expose the artificiality of artistic conventions. By presenting a seemingly mundane object as art, he aimed to reveal the social construction of art itself.\\n\\n**Impact on Art History:**\\n\"Fountain\" has had a lasting impact on modern art, influencing subsequent generations of artists, curators, and critics. It:\\n\\n1. Challenged traditional notions of art and its relationship with society.\\n2. Expanded the definition of art to include everyday objects and unconventional materials.\\n3. Inspired conceptual and performance art movements.\\n\\n**Sociological Significance:**\\nAs a sociologist, I\\'d argue that \"Fountain\" represents a critical moment in the development of modern art, reflecting the complex interactions between culture, technology, and social norms. By subverting traditional artistic conventions, Duchamp tapped into broader societal tensions regarding identity, class, and cultural values.\\n\\nIn conclusion, Marcel Duchamp\\'s \"Fountain\" is more than just an outrageous work of art – it\\'s a thought-provoking commentary on the nature of art, society, and culture. Its significance extends beyond its provocative title, speaking to fundamental questions about the social construction of art and our collective understanding of what constitutes artistic expression.'}"
      ]
     },
     "execution_count": 23,
     "metadata": {},
     "output_type": "execute_result"
    }
   ],
   "source": [
    "askphi(pair)"
   ]
  },
  {
   "cell_type": "code",
   "execution_count": 18,
   "metadata": {},
   "outputs": [
    {
     "data": {
      "text/plain": [
       "RunResponse(content='You asked: \"How would you prioritize if you need to choose between two pharmaceutical products sold by a pharmaceutical company in order to have the small impact in your benefits because the supplier told you they can not produce the quantities needed due to capacity issues?\"', content_type='str', event='RunResponse', messages=[Message(role='user', content='what did i ask?', name=None, tool_call_id=None, tool_calls=None, tool_name=None, tool_args=None, tool_call_error=None, metrics={}, context=None, created_at=1731938169), Message(role='assistant', content='You asked: \"How would you prioritize if you need to choose between two pharmaceutical products sold by a pharmaceutical company in order to have the small impact in your benefits because the supplier told you they can not produce the quantities needed due to capacity issues?\"', name=None, tool_call_id=None, tool_calls=[], tool_name=None, tool_args=None, tool_call_error=None, metrics={'time': 1.8422739999950863, 'input_tokens': 843, 'output_tokens': 50, 'total_tokens': 893}, context=None, created_at=1731938171)], metrics=defaultdict(<class 'list'>, {'time': [1.8422739999950863], 'input_tokens': [843], 'output_tokens': [50], 'total_tokens': [893]}), model='llama3.2:latest', run_id='8bb5044d-95ee-4031-a58e-4d6aa53b97e1', agent_id='05f5556a-e0b6-4a0d-971f-2d39a4f24577', session_id='616ddbcd-bce9-4209-ac87-8ab2af41cc9f', workflow_id=None, tools=None, extra_data=RunResponseExtraData(context=None, add_messages=None, history=[Message(role='user', content='How would you prioritize if you need to choose between two pharmaceutical products sold by a pharmaceutical company in order to have the small impact in your benefits because the supplier told you they can not produce the quantities needed due to capacity issues?', name=None, tool_call_id=None, tool_calls=None, tool_name=None, tool_args=None, tool_call_error=None, metrics={}, context=None, created_at=1731937057), Message(role='assistant', content=\"**Prioritization Dilemma: Balancing Competing Needs**\\n\\nGiven the constraints of limited production capacity, prioritizing between two pharmaceutical products requires careful consideration. As a Health Economist, I would employ a structured approach to make an informed decision that maximizes health benefits while minimizing the negative impact.\\n\\n### Criteria for Prioritization\\n\\nTo guide the decision-making process, I would evaluate each product against the following criteria:\\n\\n1. **Clinical Efficacy**: Which product has the most established evidence of effectiveness in treating a specific condition or population?\\n2. **Safety Profile**: Which product has a better safety record, with fewer potential side effects or toxicities?\\n3. **Patient Need**: Which product addresses a more pressing need for the target patient population, such as those with limited access to care or critical disease states?\\n4. **Cost-Effectiveness**: Which product offers better value for money, considering both its cost and incremental health benefits?\\n5. **Regulatory Status**: Which product has been approved by regulatory authorities and is therefore more likely to receive reimbursement support?\\n\\n### Prioritization Framework\\n\\nUsing the above criteria, I would develop a prioritization framework with the following steps:\\n\\n1. **Initial Screening**: Briefly review each product's clinical efficacy, safety profile, patient need, cost-effectiveness, and regulatory status.\\n2. **Weighted Scoring**: Assign a weighted score to each criterion, considering the relative importance of each factor in the context of the specific situation.\\n3. **Comparison**: Compare the scores for each product across all criteria, using the weighted weights as a basis for comparison.\\n4. **Ranking and Justification**: Rank the products according to their overall score, providing clear justifications for the ranking.\\n\\n### Example Prioritization Table\\n\\n| Product A | Product B | Weighted Score |\\n| --- | --- | --- |\\n| Clinical Efficacy (8/10) | 7/10 | 6.4 |\\n| Safety Profile (9/10) | 8/10 | 7.2 |\\n| Patient Need (6/10) | 5/10 | 5.5 |\\n| Cost-Effectiveness (8/10) | 7/10 | 6.9 |\\n| Regulatory Status (9/10) | 8/10 | 7.4 |\\n\\n**Product B**: 34.2 points\\n**Product A**: 32.3 points\\n\\nIn this example, Product B is ranked higher due to its stronger safety profile and regulatory status.\\n\\n### Conclusion\\n\\nBy applying a structured prioritization framework, it is possible to make an informed decision that balances competing needs while minimizing the negative impact of limited production capacity. This approach ensures that resources are allocated efficiently to maximize health benefits for the target patient population.\", name=None, tool_call_id=None, tool_calls=[], tool_name=None, tool_args=None, tool_call_error=None, metrics={'time': 15.157273899996653, 'input_tokens': 98, 'output_tokens': 562, 'total_tokens': 660}, context=None, created_at=1731937072), Message(role='user', content='who are you?', name=None, tool_call_id=None, tool_calls=None, tool_name=None, tool_args=None, tool_call_error=None, metrics={}, context=None, created_at=1731938133), Message(role='assistant', content=\"I am an artificial intelligence (AI) designed to assist and provide information on a wide range of topics, including healthcare, economics, and more. I'm not a human expert in pharmaceuticals or medicine, but rather a knowledgeable AI model that can process and analyze data, generate text based on patterns and associations learned from large datasets.\\n\\nI was trained on a vast amount of text data, which allows me to provide answers to questions, offer insights, and engage in discussions on various subjects. My primary goal is to help users like you by providing accurate, up-to-date information, and facilitating informed decision-making.\\n\\nIn the context of our previous conversation, I played the role of a hypothetical Health Economist who was faced with a prioritization dilemma between two pharmaceutical products due to capacity issues. I applied my knowledge of healthcare economics, policy, and data analysis to make an informed decision that balances competing needs and maximizes health benefits.\", name=None, tool_call_id=None, tool_calls=[], tool_name=None, tool_args=None, tool_call_error=None, metrics={'time': 5.935705700016115, 'input_tokens': 645, 'output_tokens': 184, 'total_tokens': 829}, context=None, created_at=1731938139)], reasoning_steps=None, reasoning_messages=None), created_at=1731936921)"
      ]
     },
     "execution_count": 18,
     "metadata": {},
     "output_type": "execute_result"
    }
   ],
   "source": [
    "agent_o3 = Agent(\n",
    "    name=\"Agent 1\",\n",
    "    model=Ollama(id=\"llama3.2:latest\"),\n",
    "    markdown=False,\n",
    "    storage=SqlAgentStorage(table_name=\"agent_sessions\", db_file=\"tmp/agent_storage.db\"),\n",
    "    add_history_to_messages=True,\n",
    "    num_history_responses=3,\n",
    "    session_id = \"616ddbcd-bce9-4209-ac87-8ab2af41cc9f\",   \n",
    ")\n",
    "\n",
    "agent_o3.run(\"what did i ask?\")"
   ]
  },
  {
   "cell_type": "code",
   "execution_count": null,
   "metadata": {},
   "outputs": [],
   "source": [
    "from phi.docker.resource.container import DockerContainer\n",
    "whoami = DockerContainer(\n",
    "    name='whoami',\n",
    "    image='traefik/whoami',\n",
    "    ports={'80': 80},\n",
    ")"
   ]
  },
  {
   "cell_type": "code",
   "execution_count": 31,
   "metadata": {},
   "outputs": [
    {
     "ename": "ImportError",
     "evalue": "`pgvector` not installed",
     "output_type": "error",
     "traceback": [
      "\u001b[1;31m---------------------------------------------------------------------------\u001b[0m",
      "\u001b[1;31mModuleNotFoundError\u001b[0m                       Traceback (most recent call last)",
      "File \u001b[1;32mc:\\Users\\godfr\\AppData\\Local\\Programs\\Python\\Python312\\Lib\\site-packages\\phi\\vectordb\\pgvector\\pgvector.py:17\u001b[0m\n\u001b[0;32m     16\u001b[0m \u001b[38;5;28;01mtry\u001b[39;00m:\n\u001b[1;32m---> 17\u001b[0m     \u001b[38;5;28;01mfrom\u001b[39;00m \u001b[38;5;21;01mpgvector\u001b[39;00m\u001b[38;5;21;01m.\u001b[39;00m\u001b[38;5;21;01msqlalchemy\u001b[39;00m \u001b[38;5;28;01mimport\u001b[39;00m Vector\n\u001b[0;32m     18\u001b[0m \u001b[38;5;28;01mexcept\u001b[39;00m \u001b[38;5;167;01mImportError\u001b[39;00m:\n",
      "\u001b[1;31mModuleNotFoundError\u001b[0m: No module named 'pgvector'",
      "\nDuring handling of the above exception, another exception occurred:\n",
      "\u001b[1;31mImportError\u001b[0m                               Traceback (most recent call last)",
      "Cell \u001b[1;32mIn[31], line 3\u001b[0m\n\u001b[0;32m      1\u001b[0m \u001b[38;5;28;01mfrom\u001b[39;00m \u001b[38;5;21;01mphi\u001b[39;00m\u001b[38;5;21;01m.\u001b[39;00m\u001b[38;5;21;01magent\u001b[39;00m \u001b[38;5;28;01mimport\u001b[39;00m Agent\n\u001b[0;32m      2\u001b[0m \u001b[38;5;28;01mfrom\u001b[39;00m \u001b[38;5;21;01mphi\u001b[39;00m\u001b[38;5;21;01m.\u001b[39;00m\u001b[38;5;21;01mknowledge\u001b[39;00m\u001b[38;5;21;01m.\u001b[39;00m\u001b[38;5;21;01mpdf\u001b[39;00m \u001b[38;5;28;01mimport\u001b[39;00m PDFUrlKnowledgeBase\n\u001b[1;32m----> 3\u001b[0m \u001b[38;5;28;01mfrom\u001b[39;00m \u001b[38;5;21;01mphi\u001b[39;00m\u001b[38;5;21;01m.\u001b[39;00m\u001b[38;5;21;01mvectordb\u001b[39;00m\u001b[38;5;21;01m.\u001b[39;00m\u001b[38;5;21;01mpgvector\u001b[39;00m \u001b[38;5;28;01mimport\u001b[39;00m PgVector, SearchType\n\u001b[0;32m      5\u001b[0m db_url \u001b[38;5;241m=\u001b[39m \u001b[38;5;124m\"\u001b[39m\u001b[38;5;124mpostgresql+psycopg://ai:ai@localhost:5532/ai\u001b[39m\u001b[38;5;124m\"\u001b[39m\n\u001b[0;32m      6\u001b[0m knowledge_base \u001b[38;5;241m=\u001b[39m PDFUrlKnowledgeBase(\n\u001b[0;32m      7\u001b[0m     urls\u001b[38;5;241m=\u001b[39m[\u001b[38;5;124m\"\u001b[39m\u001b[38;5;124mhttps://phi-public.s3.amazonaws.com/recipes/ThaiRecipes.pdf\u001b[39m\u001b[38;5;124m\"\u001b[39m],\n\u001b[0;32m      8\u001b[0m     vector_db\u001b[38;5;241m=\u001b[39mPgVector(table_name\u001b[38;5;241m=\u001b[39m\u001b[38;5;124m\"\u001b[39m\u001b[38;5;124mrecipes\u001b[39m\u001b[38;5;124m\"\u001b[39m, db_url\u001b[38;5;241m=\u001b[39mdb_url, search_type\u001b[38;5;241m=\u001b[39mSearchType\u001b[38;5;241m.\u001b[39mhybrid),\n\u001b[0;32m      9\u001b[0m )\n",
      "File \u001b[1;32mc:\\Users\\godfr\\AppData\\Local\\Programs\\Python\\Python312\\Lib\\site-packages\\phi\\vectordb\\pgvector\\__init__.py:4\u001b[0m\n\u001b[0;32m      2\u001b[0m \u001b[38;5;28;01mfrom\u001b[39;00m \u001b[38;5;21;01mphi\u001b[39;00m\u001b[38;5;21;01m.\u001b[39;00m\u001b[38;5;21;01mvectordb\u001b[39;00m\u001b[38;5;21;01m.\u001b[39;00m\u001b[38;5;21;01msearch\u001b[39;00m \u001b[38;5;28;01mimport\u001b[39;00m SearchType\n\u001b[0;32m      3\u001b[0m \u001b[38;5;28;01mfrom\u001b[39;00m \u001b[38;5;21;01mphi\u001b[39;00m\u001b[38;5;21;01m.\u001b[39;00m\u001b[38;5;21;01mvectordb\u001b[39;00m\u001b[38;5;21;01m.\u001b[39;00m\u001b[38;5;21;01mpgvector\u001b[39;00m\u001b[38;5;21;01m.\u001b[39;00m\u001b[38;5;21;01mindex\u001b[39;00m \u001b[38;5;28;01mimport\u001b[39;00m Ivfflat, HNSW\n\u001b[1;32m----> 4\u001b[0m \u001b[38;5;28;01mfrom\u001b[39;00m \u001b[38;5;21;01mphi\u001b[39;00m\u001b[38;5;21;01m.\u001b[39;00m\u001b[38;5;21;01mvectordb\u001b[39;00m\u001b[38;5;21;01m.\u001b[39;00m\u001b[38;5;21;01mpgvector\u001b[39;00m\u001b[38;5;21;01m.\u001b[39;00m\u001b[38;5;21;01mpgvector\u001b[39;00m \u001b[38;5;28;01mimport\u001b[39;00m PgVector\n\u001b[0;32m      5\u001b[0m \u001b[38;5;28;01mfrom\u001b[39;00m \u001b[38;5;21;01mphi\u001b[39;00m\u001b[38;5;21;01m.\u001b[39;00m\u001b[38;5;21;01mvectordb\u001b[39;00m\u001b[38;5;21;01m.\u001b[39;00m\u001b[38;5;21;01mpgvector\u001b[39;00m\u001b[38;5;21;01m.\u001b[39;00m\u001b[38;5;21;01mpgvector2\u001b[39;00m \u001b[38;5;28;01mimport\u001b[39;00m PgVector2\n",
      "File \u001b[1;32mc:\\Users\\godfr\\AppData\\Local\\Programs\\Python\\Python312\\Lib\\site-packages\\phi\\vectordb\\pgvector\\pgvector.py:19\u001b[0m\n\u001b[0;32m     17\u001b[0m     \u001b[38;5;28;01mfrom\u001b[39;00m \u001b[38;5;21;01mpgvector\u001b[39;00m\u001b[38;5;21;01m.\u001b[39;00m\u001b[38;5;21;01msqlalchemy\u001b[39;00m \u001b[38;5;28;01mimport\u001b[39;00m Vector\n\u001b[0;32m     18\u001b[0m \u001b[38;5;28;01mexcept\u001b[39;00m \u001b[38;5;167;01mImportError\u001b[39;00m:\n\u001b[1;32m---> 19\u001b[0m     \u001b[38;5;28;01mraise\u001b[39;00m \u001b[38;5;167;01mImportError\u001b[39;00m(\u001b[38;5;124m\"\u001b[39m\u001b[38;5;124m`pgvector` not installed\u001b[39m\u001b[38;5;124m\"\u001b[39m)\n\u001b[0;32m     21\u001b[0m \u001b[38;5;28;01mfrom\u001b[39;00m \u001b[38;5;21;01mphi\u001b[39;00m\u001b[38;5;21;01m.\u001b[39;00m\u001b[38;5;21;01mdocument\u001b[39;00m \u001b[38;5;28;01mimport\u001b[39;00m Document\n\u001b[0;32m     22\u001b[0m \u001b[38;5;28;01mfrom\u001b[39;00m \u001b[38;5;21;01mphi\u001b[39;00m\u001b[38;5;21;01m.\u001b[39;00m\u001b[38;5;21;01membedder\u001b[39;00m \u001b[38;5;28;01mimport\u001b[39;00m Embedder\n",
      "\u001b[1;31mImportError\u001b[0m: `pgvector` not installed"
     ]
    }
   ],
   "source": [
    "from phi.agent import Agent\n",
    "from phi.knowledge.pdf import PDFUrlKnowledgeBase\n",
    "from phi.vectordb.pgvector import PgVector, SearchType\n",
    "\n",
    "db_url = \"postgresql+psycopg://ai:ai@localhost:5532/ai\"\n",
    "knowledge_base = PDFUrlKnowledgeBase(\n",
    "    urls=[\"https://phi-public.s3.amazonaws.com/recipes/ThaiRecipes.pdf\"],\n",
    "    vector_db=PgVector(table_name=\"recipes\", db_url=db_url, search_type=SearchType.hybrid),\n",
    ")\n",
    "# Load the knowledge base: Comment out after first run\n",
    "knowledge_base.load(recreate=True, upsert=True)\n",
    "\n",
    "agent = Agent(\n",
    "    model=Ollama(id=\"llama3.2:latest\"),\n",
    "    knowledge=knowledge_base,\n",
    "    # Add a tool to read chat history.\n",
    "    read_chat_history=True,\n",
    "    show_tool_calls=True,\n",
    "    markdown=True,\n",
    "    # debug_mode=True,\n",
    ")\n",
    "agent.print_response(\"How do I make chicken and galangal in coconut milk soup\", stream=True)\n",
    "agent.print_response(\"What was my last question?\", stream=True)\n",
    "\n"
   ]
  },
  {
   "cell_type": "code",
   "execution_count": null,
   "metadata": {},
   "outputs": [],
   "source": [
    "# spare code\n",
    "# get structured output of occupation list\n",
    "def getjobs(question):\n",
    "    class OccuList(BaseModel):\n",
    "        first_job: str = Field(...,job_one =\"put your first occupation picks here\")\n",
    "        second_job: str = Field(...,job_two =\"put your second occupation picks here\")\n",
    "        third_job: str = Field(...,job_three=\"put your third occupation picks here\")\n",
    "\n",
    "    structured_output_agent = Agent(\n",
    "        model=Ollama(id=\"llama3.2:latest\"),\n",
    "        description=\"youre a helpful assistant and always try your best to follow the instructions. think carefully, and when you structure your output, dont put new line.\",\n",
    "        output_model=OccuList\n",
    "    )\n",
    "    structured_output_response: RunResponse = structured_output_agent.run(\"generate 3 occupation titles representing the people who are the most fitting in answering the input question. Here is the question:\" + question +  \"structure your output. job title and job title only. json format. provide your answer in this way:first_job= Art Director\")\n",
    "    return structured_output_response.content\n",
    "# i can add a \"json.loads\" function and if there is error i can rerun the thing"
   ]
  }
 ],
 "metadata": {
  "kernelspec": {
   "display_name": "Python 3",
   "language": "python",
   "name": "python3"
  },
  "language_info": {
   "codemirror_mode": {
    "name": "ipython",
    "version": 3
   },
   "file_extension": ".py",
   "mimetype": "text/x-python",
   "name": "python",
   "nbconvert_exporter": "python",
   "pygments_lexer": "ipython3",
   "version": "3.12.4"
  }
 },
 "nbformat": 4,
 "nbformat_minor": 2
}
